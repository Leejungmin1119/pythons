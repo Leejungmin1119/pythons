{
 "cells": [
  {
   "cell_type": "code",
   "execution_count": 15,
   "metadata": {},
   "outputs": [
    {
     "name": "stdout",
     "output_type": "stream",
     "text": [
      "[1, 2, 3, 4, 10]\n"
     ]
    }
   ],
   "source": [
    "import sys\n",
    "input = sys.stdin.readline\n",
    "a= int(input())\n",
    "arr = [int(input()) for i in range(a)]#arr = [4, 7, 9, 1, 3, 5, 2, 3, 4]\n",
    "\n",
    "\n",
    "count = [0] * (max(arr) + 1)#arr 보다 1큰 리스트인 count 생성\n",
    "\n",
    "for num in arr:#각 자리에 숫자가 세어진다. # [0, 1, 1, 2, 2, 1, 0, 1, 0, 1]\n",
    "    count[num] += 1\n",
    "    \n",
    "\n",
    "\n",
    "for i in range(1, len(count)):\n",
    "    count[i] += count[i-1] #각자리수마다 값을 누적시칸다. # [0, 1, 2, 4, 6, 7, 7, 8, 8, 9]\n",
    "\n",
    "\n",
    "result = [0] * (len(arr)) #arr랑 같은 크기인 리스트 result 생성\n",
    "\n",
    "for num in arr:# [4,7,9,1,3,5,2,3,4]\n",
    "    idx = count[num]#count[4] = 6  ,8\n",
    "    result[idx - 1] = num #result 리스트에 값을 정렬하여 넣는다.\n",
    "    count[num] -= 1 #똑같은 곳에 또 들어가는 것을 방지함\n",
    "\n",
    "print(result)\n",
    "    "
   ]
  }
 ],
 "metadata": {
  "kernelspec": {
   "display_name": "Python 3",
   "language": "python",
   "name": "python3"
  },
  "language_info": {
   "codemirror_mode": {
    "name": "ipython",
    "version": 3
   },
   "file_extension": ".py",
   "mimetype": "text/x-python",
   "name": "python",
   "nbconvert_exporter": "python",
   "pygments_lexer": "ipython3",
   "version": "3.10.1 (tags/v3.10.1:2cd268a, Dec  6 2021, 19:10:37) [MSC v.1929 64 bit (AMD64)]"
  },
  "orig_nbformat": 4,
  "vscode": {
   "interpreter": {
    "hash": "df95319d8ce4e1d89f5365ae10992bc1f65da593082b1d264e8f529830ec2f02"
   }
  }
 },
 "nbformat": 4,
 "nbformat_minor": 2
}
