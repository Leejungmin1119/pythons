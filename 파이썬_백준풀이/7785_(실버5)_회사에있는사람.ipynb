{
 "cells": [
  {
   "attachments": {},
   "cell_type": "markdown",
   "metadata": {},
   "source": [
    "상근이는 세계적인 소프트웨어 회사 기글에서 일한다. 이 회사의 가장 큰 특징은 자유로운 출퇴근 시간이다. 따라서, 직원들은 반드시 9시부터 6시까지 회사에 있지 않아도 된다.\n",
    "\n",
    "각 직원은 자기가 원할 때 출근할 수 있고, 아무때나 퇴근할 수 있다.\n",
    "\n",
    "상근이는 모든 사람의 출입카드 시스템의 로그를 가지고 있다. 이 로그는 어떤 사람이 회사에 들어왔는지, 나갔는지가 기록되어져 있다. 로그가 주어졌을 때, 현재 회사에 있는 모든 사람을 구하는 프로그램을 작성하시오."
   ]
  },
  {
   "cell_type": "code",
   "execution_count": 19,
   "metadata": {},
   "outputs": [
    {
     "name": "stdout",
     "output_type": "stream",
     "text": [
      "Askar\n",
      "Artem\n"
     ]
    }
   ],
   "source": [
    "from sys import stdin\n",
    "\n",
    "\n",
    "number = int(stdin.readline())\n",
    "\n",
    "lists_enter = set()\n",
    "\n",
    "for i in range(number):\n",
    "    #리스트 입력\n",
    "    name,state =stdin.readline().split()\n",
    "\n",
    "    #출근인지 퇴근인지 확인\n",
    "    if(state == \"enter\"):\n",
    "        lists_enter.add(name)\n",
    "\n",
    "    elif(state == \"leave\"):\n",
    "        lists_enter.remove(name)\n",
    "\n",
    "\n",
    "\n",
    "lists = list(lists_enter)\n",
    "lists.sort(reverse=True)\n",
    "#출력\n",
    "for i in range(len(lists)):\n",
    "\n",
    "    print(lists[i])        "
   ]
  }
 ],
 "metadata": {
  "kernelspec": {
   "display_name": "Python 3",
   "language": "python",
   "name": "python3"
  },
  "language_info": {
   "codemirror_mode": {
    "name": "ipython",
    "version": 3
   },
   "file_extension": ".py",
   "mimetype": "text/x-python",
   "name": "python",
   "nbconvert_exporter": "python",
   "pygments_lexer": "ipython3",
   "version": "3.10.1"
  },
  "orig_nbformat": 4
 },
 "nbformat": 4,
 "nbformat_minor": 2
}
