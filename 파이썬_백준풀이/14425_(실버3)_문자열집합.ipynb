{
 "cells": [
  {
   "attachments": {},
   "cell_type": "markdown",
   "metadata": {},
   "source": [
    "총 N개의 문자열로 이루어진 집합 S가 주어진다.\n",
    "\n",
    "입력으로 주어지는 M개의 문자열 중에서 집합 S에 포함되어 있는 것이 총 몇 개인지 구하는 프로그램을 작성하시오.\n",
    "\n",
    "입력:\n",
    "\n",
    "첫째 줄에 문자열의 개수 N과 M (1 ≤ N ≤ 10,000, 1 ≤ M ≤ 10,000)이 주어진다. \n",
    "\n",
    "다음 N개의 줄에는 집합 S에 포함되어 있는 문자열들이 주어진다.\n",
    "\n",
    "다음 M개의 줄에는 검사해야 하는 문자열들이 주어진다.\n",
    "\n",
    "입력으로 주어지는 문자열은 알파벳 소문자로만 이루어져 있으며, 길이는 500을 넘지 않는다. 집합 S에 같은 문자열이 여러 번 주어지는 경우는 없다."
   ]
  },
  {
   "cell_type": "code",
   "execution_count": null,
   "metadata": {},
   "outputs": [],
   "source": [
    "N,M = map(int,input().split())#집합 N과 M의 문자열 갯수\n",
    "\n",
    "lists,check_lists = list(),list()\n",
    "\n",
    "#문자열 입력\n",
    "for i in range(N):\n",
    "    lists.append(input())\n",
    "\n",
    "for i in range(M):\n",
    "    check_lists.append(input())\n",
    "\n",
    "#중복된 갯수 찾기\n",
    "\n",
    "lists,check_lists = set(lists),set(check_lists)#집합으로 변경\n",
    "\n",
    "#두 집합을 교집합하여 중복된 문자열의 갯수 출력\n",
    "\n",
    "print(lists | check_lists)\n",
    "\n",
    "    \n",
    "\n",
    "\n",
    "\n"
   ]
  }
 ],
 "metadata": {
  "language_info": {
   "name": "python"
  },
  "orig_nbformat": 4
 },
 "nbformat": 4,
 "nbformat_minor": 2
}
