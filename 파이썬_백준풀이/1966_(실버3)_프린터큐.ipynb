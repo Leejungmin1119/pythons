{
 "cells": [
  {
   "attachments": {},
   "cell_type": "markdown",
   "metadata": {},
   "source": [
    "여러분도 알다시피 여러분의 프린터 기기는 여러분이 인쇄하고자 하는 문서를 인쇄 명령을 받은 ‘순서대로’, 즉 먼저 요청된 것을 먼저 인쇄한다. 여러 개의 문서가 쌓인다면 Queue 자료구조에 쌓여서 FIFO - First In First Out - 에 따라 인쇄가 되게 된다. 하지만 상근이는 새로운 프린터기 내부 소프트웨어를 개발하였는데, 이 프린터기는 다음과 같은 조건에 따라 인쇄를 하게 된다.\n",
    "\n",
    "현재 Queue의 가장 앞에 있는 문서의 ‘중요도’를 확인한다.\n",
    "나머지 문서들 중 현재 문서보다 중요도가 높은 문서가 하나라도 있다면, 이 문서를 인쇄하지 않고 Queue의 가장 뒤에 재배치 한다. 그렇지 않다면 바로 인쇄를 한다.\n",
    "예를 들어 Queue에 4개의 문서(A B C D)가 있고, 중요도가 2 1 4 3 라면 C를 인쇄하고, 다음으로 D를 인쇄하고 A, B를 인쇄하게 된다.\n",
    "\n",
    "여러분이 할 일은, 현재 Queue에 있는 문서의 수와 중요도가 주어졌을 때, 어떤 한 문서가 몇 번째로 인쇄되는지 알아내는 것이다. 예를 들어 위의 예에서 C문서는 1번째로, A문서는 3번째로 인쇄되게 된다.\n",
    "\n",
    "입력:\n",
    "\n",
    "첫 줄에 테스트케이스의 수가 주어진다. 각 테스트케이스는 두 줄로 이루어져 있다.\n",
    "\n",
    "테스트케이스의 첫 번째 줄에는 문서의 개수 N(1 ≤ N ≤ 100)과, 몇 번째로 인쇄되었는지 궁금한 문서가 현재 Queue에서 몇 번째에 놓여 있는지를 나타내는 정수 M(0 ≤ M < N)이 주어진다. 이때 맨 왼쪽은 0번째라고 하자. 두 번째 줄에는 N개 문서의 중요도가 차례대로 주어진다. 중요도는 1 이상 9 이하의 정수이고, 중요도가 같은 문서가 여러 개 있을 수도 있다."
   ]
  },
  {
   "cell_type": "code",
   "execution_count": 1,
   "metadata": {},
   "outputs": [
    {
     "name": "stdout",
     "output_type": "stream",
     "text": [
      "1\n",
      "4\n"
     ]
    },
    {
     "ename": "ValueError",
     "evalue": "not enough values to unpack (expected 2, got 0)",
     "output_type": "error",
     "traceback": [
      "\u001b[1;31m---------------------------------------------------------------------------\u001b[0m",
      "\u001b[1;31mValueError\u001b[0m                                Traceback (most recent call last)",
      "\u001b[1;32mc:\\Users\\USER\\OneDrive\\바탕 화면\\python\\pythons\\파이썬_백준풀이\\1966_(실버3)_프린터큐.ipynb 셀 2\u001b[0m in \u001b[0;36m3\n\u001b[0;32m     <a href='vscode-notebook-cell:/c%3A/Users/USER/OneDrive/%EB%B0%94%ED%83%95%20%ED%99%94%EB%A9%B4/python/pythons/%ED%8C%8C%EC%9D%B4%EC%8D%AC_%EB%B0%B1%EC%A4%80%ED%92%80%EC%9D%B4/1966_%28%EC%8B%A4%EB%B2%843%29_%ED%94%84%EB%A6%B0%ED%84%B0%ED%81%90.ipynb#W1sZmlsZQ%3D%3D?line=28'>29</a>\u001b[0m \u001b[39mfor\u001b[39;00m i \u001b[39min\u001b[39;00m \u001b[39mrange\u001b[39m(testcase):\n\u001b[0;32m     <a href='vscode-notebook-cell:/c%3A/Users/USER/OneDrive/%EB%B0%94%ED%83%95%20%ED%99%94%EB%A9%B4/python/pythons/%ED%8C%8C%EC%9D%B4%EC%8D%AC_%EB%B0%B1%EC%A4%80%ED%92%80%EC%9D%B4/1966_%28%EC%8B%A4%EB%B2%843%29_%ED%94%84%EB%A6%B0%ED%84%B0%ED%81%90.ipynb#W1sZmlsZQ%3D%3D?line=30'>31</a>\u001b[0m     count \u001b[39m=\u001b[39m\u001b[39m0\u001b[39m\n\u001b[1;32m---> <a href='vscode-notebook-cell:/c%3A/Users/USER/OneDrive/%EB%B0%94%ED%83%95%20%ED%99%94%EB%A9%B4/python/pythons/%ED%8C%8C%EC%9D%B4%EC%8D%AC_%EB%B0%B1%EC%A4%80%ED%92%80%EC%9D%B4/1966_%28%EC%8B%A4%EB%B2%843%29_%ED%94%84%EB%A6%B0%ED%84%B0%ED%81%90.ipynb#W1sZmlsZQ%3D%3D?line=31'>32</a>\u001b[0m     number,find_index \u001b[39m=\u001b[39m \u001b[39mmap\u001b[39m(\u001b[39mint\u001b[39m,\u001b[39minput\u001b[39m()\u001b[39m.\u001b[39msplit())\n\u001b[0;32m     <a href='vscode-notebook-cell:/c%3A/Users/USER/OneDrive/%EB%B0%94%ED%83%95%20%ED%99%94%EB%A9%B4/python/pythons/%ED%8C%8C%EC%9D%B4%EC%8D%AC_%EB%B0%B1%EC%A4%80%ED%92%80%EC%9D%B4/1966_%28%EC%8B%A4%EB%B2%843%29_%ED%94%84%EB%A6%B0%ED%84%B0%ED%81%90.ipynb#W1sZmlsZQ%3D%3D?line=33'>34</a>\u001b[0m     deques \u001b[39m=\u001b[39m deque(\u001b[39mmap\u001b[39m(\u001b[39mint\u001b[39m,\u001b[39minput\u001b[39m()\u001b[39m.\u001b[39msplit()))\n\u001b[0;32m     <a href='vscode-notebook-cell:/c%3A/Users/USER/OneDrive/%EB%B0%94%ED%83%95%20%ED%99%94%EB%A9%B4/python/pythons/%ED%8C%8C%EC%9D%B4%EC%8D%AC_%EB%B0%B1%EC%A4%80%ED%92%80%EC%9D%B4/1966_%28%EC%8B%A4%EB%B2%843%29_%ED%94%84%EB%A6%B0%ED%84%B0%ED%81%90.ipynb#W1sZmlsZQ%3D%3D?line=35'>36</a>\u001b[0m     \u001b[39mwhile\u001b[39;00m(find_importfile() \u001b[39m!=\u001b[39m \u001b[39mTrue\u001b[39;00m):\n",
      "\u001b[1;31mValueError\u001b[0m: not enough values to unpack (expected 2, got 0)"
     ]
    }
   ],
   "source": [
    "from collections import deque\n",
    "from sys import stdin\n",
    "\n",
    "def find_importfile():\n",
    "\n",
    "    global find_index,count\n",
    "\n",
    "    for i in range(len(deques)):\n",
    "\n",
    "        if(deques[0] < deques[i]):#중요도가 낮다면?\n",
    "\n",
    "            deques.rotate(-1)\n",
    "            \n",
    "            if(find_index == 0):\n",
    "                find_index = len(deques)-1\n",
    "            else:\n",
    "                find_index -= 1\n",
    "\n",
    "            return 0\n",
    "        \n",
    "    \n",
    "    deques.popleft()#중요도가 제일 높다면 제거\n",
    "    count+=1\n",
    "    if(find_index == 0):\n",
    "        print(count)\n",
    "        return True\n",
    "    find_index -= 1    \n",
    "    return 0    \n",
    "    \n",
    "deques = deque()\n",
    "#입력\n",
    "testcase = int(stdin.readline())\n",
    "\n",
    "\n",
    "for i in range(testcase):\n",
    "\n",
    "    count =0\n",
    "    number,find_index = map(int,stdin.readline().split())\n",
    "\n",
    "    deques = deque(map(int,stdin.readline().split()))\n",
    "    \n",
    "    while(deques != deque()):\n",
    "\n",
    "       if(find_importfile() == True):#함수 실행\n",
    "           \n",
    "           break\n"
   ]
  }
 ],
 "metadata": {
  "kernelspec": {
   "display_name": "Python 3",
   "language": "python",
   "name": "python3"
  },
  "language_info": {
   "codemirror_mode": {
    "name": "ipython",
    "version": 3
   },
   "file_extension": ".py",
   "mimetype": "text/x-python",
   "name": "python",
   "nbconvert_exporter": "python",
   "pygments_lexer": "ipython3",
   "version": "3.10.1"
  },
  "orig_nbformat": 4
 },
 "nbformat": 4,
 "nbformat_minor": 2
}
