{
 "cells": [
  {
   "attachments": {},
   "cell_type": "markdown",
   "metadata": {},
   "source": [
    "N개의 정수 A[1], A[2], …, A[N]이 주어져 있을 때, 이 안에 X라는 정수가 존재하는지 알아내는 프로그램을 작성하시오.\n",
    "\n",
    "입력:\n",
    "첫째 줄에 자연수 N(1 ≤ N ≤ 100,000)이 주어진다. 다음 줄에는 N개의 정수 A[1], A[2], …, A[N]이 주어진다. 다음 줄에는 M(1 ≤ M ≤ 100,000)이 주어진다. 다음 줄에는 M개의 수들이 주어지는데, 이 수들이 A안에 존재하는지 알아내면 된다. 모든 정수의 범위는 -231 보다 크거나 같고 231보다 작다."
   ]
  },
  {
   "cell_type": "code",
   "execution_count": 6,
   "metadata": {},
   "outputs": [
    {
     "name": "stdout",
     "output_type": "stream",
     "text": [
      "0\n",
      "0\n",
      "0\n",
      "1\n",
      "0\n"
     ]
    }
   ],
   "source": [
    "import sys\n",
    "\n",
    "def check_number(low,high,target):#이중 탐색 함수\n",
    "\n",
    "    while low <= high:\n",
    "\n",
    "        mid = int((high+low)/2)#중앙값\n",
    "\n",
    "        if  lists[mid] == target:#만약 찾으려고 하는 값이 같다면\n",
    "            return print(1)\n",
    "        elif  lists[mid] > target:#중앙값이 찾으려고 하는 값보다 크다면\n",
    "            high = mid-1\n",
    "        elif  lists[mid] < target:#중앙값이 찾으려고 하는 값보다 작다면\n",
    "            low = mid+1\n",
    "\n",
    "    print(0)\n",
    "\n",
    "#입력\n",
    "\n",
    "a = int(sys.stdin.readline())#a[n]의 갯수 입력\n",
    "\n",
    "lists = list(map(int,sys.stdin.readline().split()))\n",
    "lists.sort()#정렬\n",
    "\n",
    "b = int(sys.stdin.readline())\n",
    "\n",
    "lists_target = list(map(int,sys.stdin.readline().split()))\n",
    "\n",
    "for i in range(b):\n",
    "    if(lists_target[i] == lists[0]) or (lists_target[i] == lists[a-1]):\n",
    "        print(1)\n",
    "\n",
    "    else:\n",
    "        check_number(0,a-1,lists_target[i])#이중탐색 함수\n"
   ]
  },
  {
   "cell_type": "code",
   "execution_count": null,
   "metadata": {},
   "outputs": [],
   "source": []
  }
 ],
 "metadata": {
  "kernelspec": {
   "display_name": "Python 3",
   "language": "python",
   "name": "python3"
  },
  "language_info": {
   "codemirror_mode": {
    "name": "ipython",
    "version": 3
   },
   "file_extension": ".py",
   "mimetype": "text/x-python",
   "name": "python",
   "nbconvert_exporter": "python",
   "pygments_lexer": "ipython3",
   "version": "3.10.1"
  },
  "orig_nbformat": 4,
  "vscode": {
   "interpreter": {
    "hash": "df95319d8ce4e1d89f5365ae10992bc1f65da593082b1d264e8f529830ec2f02"
   }
  }
 },
 "nbformat": 4,
 "nbformat_minor": 2
}
