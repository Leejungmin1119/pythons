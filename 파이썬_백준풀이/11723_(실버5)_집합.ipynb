{
 "cells": [
  {
   "attachments": {},
   "cell_type": "markdown",
   "metadata": {},
   "source": [
    "11723번 집합\n",
    "\n",
    "add x: S에 x를 추가한다. (1 ≤ x ≤ 20) S에 x가 이미 있는 경우에는 연산을 무시한다.\n",
    "remove x: S에서 x를 제거한다. (1 ≤ x ≤ 20) S에 x가 없는 경우에는 연산을 무시한다.\n",
    "check x: S에 x가 있으면 1을, 없으면 0을 출력한다. (1 ≤ x ≤ 20)\n",
    "toggle x: S에 x가 있으면 x를 제거하고, 없으면 x를 추가한다. (1 ≤ x ≤ 20)\n",
    "all: S를 {1, 2, ..., 20} 으로 바꾼다.\n",
    "empty: S를 공집합으로 바꾼다. "
   ]
  },
  {
   "cell_type": "code",
   "execution_count": null,
   "metadata": {},
   "outputs": [],
   "source": []
  },
  {
   "cell_type": "code",
   "execution_count": 17,
   "metadata": {},
   "outputs": [
    {
     "name": "stdout",
     "output_type": "stream",
     "text": [
      "1\n",
      "1\n",
      "0\n",
      "1\n",
      "0\n",
      "1\n",
      "0\n",
      "1\n",
      "0\n",
      "1\n",
      "1\n",
      "0\n",
      "0\n",
      "0\n",
      "1\n",
      "0\n"
     ]
    }
   ],
   "source": [
    "import sys\n",
    "s = set()#공집합 생성\n",
    "check = int(sys.stdin.readline())\n",
    "for a in range(check):\n",
    "    lists = list(sys.stdin.readline().split())\n",
    "    if len(lists) > 1:\n",
    "        number = lists[1] \n",
    "\n",
    "    if lists[0] ==\"add\":\n",
    "\n",
    "        s.add(int(lists[1]))\n",
    "\n",
    "    elif lists[0] == \"remove\" and int(number) in s:\n",
    "\n",
    "        s.remove(int(number))\n",
    "\n",
    "    elif lists[0] == \"check\":\n",
    "\n",
    "        print(int(int(number) in s))\n",
    "\n",
    "    elif lists[0] == \"toggle\":\n",
    "\n",
    "        if int(number) in s:\n",
    "\n",
    "            s.remove(int(number))\n",
    "\n",
    "        else:\n",
    "\n",
    "            s.add(int(number))\n",
    "\n",
    "    elif lists[0] == \"all\":\n",
    "\n",
    "        s = [i for i in range(21)]\n",
    "\n",
    "    elif lists[0] == \"empty\":\n",
    "\n",
    "        s = set()\n",
    "\n",
    "    \n",
    "    \n",
    "    "
   ]
  }
 ],
 "metadata": {
  "kernelspec": {
   "display_name": "Python 3",
   "language": "python",
   "name": "python3"
  },
  "language_info": {
   "codemirror_mode": {
    "name": "ipython",
    "version": 3
   },
   "file_extension": ".py",
   "mimetype": "text/x-python",
   "name": "python",
   "nbconvert_exporter": "python",
   "pygments_lexer": "ipython3",
   "version": "3.10.1 (tags/v3.10.1:2cd268a, Dec  6 2021, 19:10:37) [MSC v.1929 64 bit (AMD64)]"
  },
  "orig_nbformat": 4,
  "vscode": {
   "interpreter": {
    "hash": "df95319d8ce4e1d89f5365ae10992bc1f65da593082b1d264e8f529830ec2f02"
   }
  }
 },
 "nbformat": 4,
 "nbformat_minor": 2
}
