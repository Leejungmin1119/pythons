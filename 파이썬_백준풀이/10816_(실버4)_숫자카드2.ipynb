{
 "cells": [
  {
   "attachments": {},
   "cell_type": "markdown",
   "metadata": {},
   "source": [
    "숫자 카드는 정수 하나가 적혀져 있는 카드이다. 상근이는 숫자 카드 N개를 가지고 있다. 정수 M개가 주어졌을 때, 이 수가 적혀있는 숫자 카드를 상근이가 몇 개 가지고 있는지 구하는 프로그램을 작성하시오.\n",
    "\n",
    "입력:\n",
    "\n",
    "첫째 줄에 상근이가 가지고 있는 숫자 카드의 개수 N(1 ≤ N ≤ 500,000)이 주어진다. 둘째 줄에는 숫자 카드에 적혀있는 정수가 주어진다. 숫자 카드에 적혀있는 수는 -10,000,000보다 크거나 같고, 10,000,000보다 작거나 같다.\n",
    "\n",
    "셋째 줄에는 M(1 ≤ M ≤ 500,000)이 주어진다. 넷째 줄에는 상근이가 몇 개 가지고 있는 숫자 카드인지 구해야 할 M개의 정수가 주어지며, 이 수는 공백으로 구분되어져 있다. 이 수도 -10,000,000보다 크거나 같고, 10,000,000보다 작거나 같다."
   ]
  },
  {
   "cell_type": "code",
   "execution_count": 7,
   "metadata": {},
   "outputs": [
    {
     "ename": "TypeError",
     "evalue": "list indices must be integers or slices, not float",
     "output_type": "error",
     "traceback": [
      "\u001b[1;31m---------------------------------------------------------------------------\u001b[0m",
      "\u001b[1;31mTypeError\u001b[0m                                 Traceback (most recent call last)",
      "Cell \u001b[1;32mIn [7], line 39\u001b[0m\n\u001b[0;32m     36\u001b[0m         dicts[inputs[i]] \u001b[39m=\u001b[39m \u001b[39m1\u001b[39m    \n\u001b[0;32m     38\u001b[0m \u001b[39mfor\u001b[39;00m i \u001b[39min\u001b[39;00m \u001b[39mrange\u001b[39m(b):\n\u001b[1;32m---> 39\u001b[0m     find_funtion(\u001b[39m0\u001b[39;49m,\u001b[39mlen\u001b[39;49m(inputs),finds[i])\n",
      "Cell \u001b[1;32mIn [7], line 6\u001b[0m, in \u001b[0;36mfind_funtion\u001b[1;34m(low, high, check)\u001b[0m\n\u001b[0;32m      2\u001b[0m mid \u001b[39m=\u001b[39m ((low\u001b[39m+\u001b[39mhigh)\u001b[39m/\u001b[39m\u001b[39m2\u001b[39m)\n\u001b[0;32m      4\u001b[0m \u001b[39mwhile\u001b[39;00m low \u001b[39m<\u001b[39m\u001b[39m=\u001b[39m high:\n\u001b[1;32m----> 6\u001b[0m     \u001b[39mif\u001b[39;00m inputs[mid] \u001b[39m==\u001b[39m check:\n\u001b[0;32m      8\u001b[0m         \u001b[39mreturn\u001b[39;00m \u001b[39mprint\u001b[39m(dicts[check])\n\u001b[0;32m     10\u001b[0m     \u001b[39melif\u001b[39;00m inputs[mid] \u001b[39m>\u001b[39m check:\u001b[39m#중앙값이 찾고자 하는 값보다 클 경우\u001b[39;00m\n",
      "\u001b[1;31mTypeError\u001b[0m: list indices must be integers or slices, not float"
     ]
    }
   ],
   "source": [
    "def find_funtion(low,high,check):\n",
    "    mid = ((low+high)/2)\n",
    "\n",
    "    while low <= high:\n",
    "\n",
    "        if inputs[mid] == check:\n",
    "\n",
    "            return print(dicts[check])\n",
    "\n",
    "        elif inputs[mid] > check:#중앙값이 찾고자 하는 값보다 클 경우\n",
    "\n",
    "            high = mid\n",
    "\n",
    "        elif inputs[mid] < check:#중앙값이 찾고자 하는 값도다 작을 경우\n",
    "\n",
    "            low = mid\n",
    "\n",
    "    return print(0)            \n",
    "        \n",
    "a = int(input())\n",
    "\n",
    "inputs = list(map(int,input().split()))\n",
    "\n",
    "b = int(input())\n",
    "\n",
    "finds = list(map(int,input().split()))\n",
    "\n",
    "dicts = {}\n",
    "\n",
    "for i in range(a):\n",
    "    if inputs[i] in dicts:\n",
    "\n",
    "        dicts[inputs[i]] +=1\n",
    "\n",
    "    else:\n",
    "        dicts[inputs[i]] = 1    \n",
    "\n",
    "for i in range(b):\n",
    "    find_funtion(0,len(inputs),finds[i])\n"
   ]
  }
 ],
 "metadata": {
  "kernelspec": {
   "display_name": "Python 3",
   "language": "python",
   "name": "python3"
  },
  "language_info": {
   "codemirror_mode": {
    "name": "ipython",
    "version": 3
   },
   "file_extension": ".py",
   "mimetype": "text/x-python",
   "name": "python",
   "nbconvert_exporter": "python",
   "pygments_lexer": "ipython3",
   "version": "3.10.1"
  },
  "orig_nbformat": 4,
  "vscode": {
   "interpreter": {
    "hash": "df95319d8ce4e1d89f5365ae10992bc1f65da593082b1d264e8f529830ec2f02"
   }
  }
 },
 "nbformat": 4,
 "nbformat_minor": 2
}
