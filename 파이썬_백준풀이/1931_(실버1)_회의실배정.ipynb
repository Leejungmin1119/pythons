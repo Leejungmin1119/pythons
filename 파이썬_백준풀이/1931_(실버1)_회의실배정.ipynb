{
 "cells": [
  {
   "attachments": {},
   "cell_type": "markdown",
   "metadata": {},
   "source": [
    "한 개의 회의실이 있는데 이를 사용하고자 하는 N개의 회의에 대하여 회의실 사용표를 만들려고 한다. 각 회의 I에 대해 시작시간과 끝나는 시간이 주어져 있고, 각 회의가 겹치지 않게 하면서 회의실을 사용할 수 있는 회의의 최대 개수를 찾아보자. 단, 회의는 한번 시작하면 중간에 중단될 수 없으며 한 회의가 끝나는 것과 동시에 다음 회의가 시작될 수 있다. 회의의 시작시간과 끝나는 시간이 같을 수도 있다. 이 경우에는 시작하자마자 끝나는 것으로 생각하면 된다.\n",
    "\n",
    "입력:\n",
    "\n",
    "첫째 줄에 회의의 수 N(1 ≤ N ≤ 100,000)이 주어진다. 둘째 줄부터 N+1 줄까지 각 회의의 정보가 주어지는데 이것은 공백을 사이에 두고 회의의 시작시간과 끝나는 시간이 주어진다. 시작 시간과 끝나는 시간은 2^31-1보다 작거나 같은 자연수 또는 0이다."
   ]
  },
  {
   "cell_type": "code",
   "execution_count": 6,
   "metadata": {},
   "outputs": [
    {
     "ename": "KeyboardInterrupt",
     "evalue": "",
     "output_type": "error",
     "traceback": [
      "\u001b[1;31m---------------------------------------------------------------------------\u001b[0m",
      "\u001b[1;31mKeyboardInterrupt\u001b[0m                         Traceback (most recent call last)",
      "Cell \u001b[1;32mIn [6], line 16\u001b[0m\n\u001b[0;32m     13\u001b[0m lists \u001b[39m=\u001b[39m \u001b[39mlist\u001b[39m()\n\u001b[0;32m     14\u001b[0m index,result,count \u001b[39m=\u001b[39m\u001b[39m0\u001b[39m,\u001b[39m0\u001b[39m,\u001b[39m0\u001b[39m\n\u001b[1;32m---> 16\u001b[0m \u001b[39mfor\u001b[39;00m i \u001b[39min\u001b[39;00m \u001b[39mrange\u001b[39m(number):\n\u001b[0;32m     18\u001b[0m     lists\u001b[39m.\u001b[39mappend(\u001b[39mlist\u001b[39m(\u001b[39mmap\u001b[39m(\u001b[39mint\u001b[39m,\u001b[39minput\u001b[39m()\u001b[39m.\u001b[39msplit())))\u001b[39m#회의실의 시작시간 끝나는 시간 입력\u001b[39;00m\n\u001b[0;32m     20\u001b[0m     \u001b[39msum\u001b[39m \u001b[39m=\u001b[39m (lists[i][\u001b[39m1\u001b[39m]\u001b[39m-\u001b[39mlists[i][\u001b[39m0\u001b[39m]\u001b[39m+\u001b[39m(lists[i][\u001b[39m0\u001b[39m]\u001b[39m-\u001b[39mresult))\n",
      "Cell \u001b[1;32mIn [6], line 16\u001b[0m\n\u001b[0;32m     13\u001b[0m lists \u001b[39m=\u001b[39m \u001b[39mlist\u001b[39m()\n\u001b[0;32m     14\u001b[0m index,result,count \u001b[39m=\u001b[39m\u001b[39m0\u001b[39m,\u001b[39m0\u001b[39m,\u001b[39m0\u001b[39m\n\u001b[1;32m---> 16\u001b[0m \u001b[39mfor\u001b[39;00m i \u001b[39min\u001b[39;00m \u001b[39mrange\u001b[39m(number):\n\u001b[0;32m     18\u001b[0m     lists\u001b[39m.\u001b[39mappend(\u001b[39mlist\u001b[39m(\u001b[39mmap\u001b[39m(\u001b[39mint\u001b[39m,\u001b[39minput\u001b[39m()\u001b[39m.\u001b[39msplit())))\u001b[39m#회의실의 시작시간 끝나는 시간 입력\u001b[39;00m\n\u001b[0;32m     20\u001b[0m     \u001b[39msum\u001b[39m \u001b[39m=\u001b[39m (lists[i][\u001b[39m1\u001b[39m]\u001b[39m-\u001b[39mlists[i][\u001b[39m0\u001b[39m]\u001b[39m+\u001b[39m(lists[i][\u001b[39m0\u001b[39m]\u001b[39m-\u001b[39mresult))\n",
      "File \u001b[1;32m_pydevd_bundle/pydevd_cython.pyx:1443\u001b[0m, in \u001b[0;36m_pydevd_bundle.pydevd_cython.SafeCallWrapper.__call__\u001b[1;34m()\u001b[0m\n",
      "File \u001b[1;32m_pydevd_bundle/pydevd_cython.pyx:700\u001b[0m, in \u001b[0;36m_pydevd_bundle.pydevd_cython.PyDBFrame.trace_dispatch\u001b[1;34m()\u001b[0m\n",
      "File \u001b[1;32m_pydevd_bundle/pydevd_cython.pyx:1368\u001b[0m, in \u001b[0;36m_pydevd_bundle.pydevd_cython.PyDBFrame.trace_dispatch\u001b[1;34m()\u001b[0m\n",
      "File \u001b[1;32m_pydevd_bundle/pydevd_cython.pyx:1330\u001b[0m, in \u001b[0;36m_pydevd_bundle.pydevd_cython.PyDBFrame.trace_dispatch\u001b[1;34m()\u001b[0m\n",
      "File \u001b[1;32m_pydevd_bundle/pydevd_cython.pyx:311\u001b[0m, in \u001b[0;36m_pydevd_bundle.pydevd_cython.PyDBFrame.do_wait_suspend\u001b[1;34m()\u001b[0m\n",
      "File \u001b[1;32m~\\AppData\\Roaming\\Python\\Python310\\site-packages\\debugpy\\_vendored\\pydevd\\pydevd.py:2062\u001b[0m, in \u001b[0;36mPyDB.do_wait_suspend\u001b[1;34m(self, thread, frame, event, arg, exception_type)\u001b[0m\n\u001b[0;32m   2059\u001b[0m             from_this_thread\u001b[39m.\u001b[39mappend(frame_custom_thread_id)\n\u001b[0;32m   2061\u001b[0m     \u001b[39mwith\u001b[39;00m \u001b[39mself\u001b[39m\u001b[39m.\u001b[39m_threads_suspended_single_notification\u001b[39m.\u001b[39mnotify_thread_suspended(thread_id, stop_reason):\n\u001b[1;32m-> 2062\u001b[0m         keep_suspended \u001b[39m=\u001b[39m \u001b[39mself\u001b[39;49m\u001b[39m.\u001b[39;49m_do_wait_suspend(thread, frame, event, arg, suspend_type, from_this_thread, frames_tracker)\n\u001b[0;32m   2064\u001b[0m frames_list \u001b[39m=\u001b[39m \u001b[39mNone\u001b[39;00m\n\u001b[0;32m   2066\u001b[0m \u001b[39mif\u001b[39;00m keep_suspended:\n\u001b[0;32m   2067\u001b[0m     \u001b[39m# This means that we should pause again after a set next statement.\u001b[39;00m\n",
      "File \u001b[1;32m~\\AppData\\Roaming\\Python\\Python310\\site-packages\\debugpy\\_vendored\\pydevd\\pydevd.py:2098\u001b[0m, in \u001b[0;36mPyDB._do_wait_suspend\u001b[1;34m(self, thread, frame, event, arg, suspend_type, from_this_thread, frames_tracker)\u001b[0m\n\u001b[0;32m   2095\u001b[0m         \u001b[39mself\u001b[39m\u001b[39m.\u001b[39m_call_input_hook()\n\u001b[0;32m   2097\u001b[0m     \u001b[39mself\u001b[39m\u001b[39m.\u001b[39mprocess_internal_commands()\n\u001b[1;32m-> 2098\u001b[0m     time\u001b[39m.\u001b[39;49msleep(\u001b[39m0.01\u001b[39;49m)\n\u001b[0;32m   2100\u001b[0m \u001b[39mself\u001b[39m\u001b[39m.\u001b[39mcancel_async_evaluation(get_current_thread_id(thread), \u001b[39mstr\u001b[39m(\u001b[39mid\u001b[39m(frame)))\n\u001b[0;32m   2102\u001b[0m \u001b[39m# process any stepping instructions\u001b[39;00m\n",
      "\u001b[1;31mKeyboardInterrupt\u001b[0m: "
     ]
    }
   ],
   "source": [
    "\n",
    "def find_index(index,end_time):\n",
    "    global number\n",
    "    while index < number:\n",
    "        if lists[index+1][0] < end_time:\n",
    "            index+=1\n",
    "        else:\n",
    "            return index\n",
    "\n",
    "    \n",
    "\n",
    "number = int(input())#회의실의 갯수 입력\n",
    "\n",
    "lists = list()\n",
    "index,result,count =0,0,0\n",
    "\n",
    "for i in range(number):\n",
    "\n",
    "    lists.append(list(map(int,input().split())))#회의실의 시작시간 끝나는 시간 입력\n",
    "\n",
    "    sum = (lists[i][1]-lists[i][0]+(lists[i][0]-result))\n",
    "    lists.insert([i][0],[sum])#현재 시간을 반영하여 최적의 회의를 찾는다.\n",
    "        \n",
    "lists.sort()#정렬\n",
    "count+=1\n",
    "\n",
    "\n",
    "\n",
    "result =lists[index][2]\n",
    "index = find_index(index,result)#인덱스 위치 저장    \n",
    "while index < number:\n",
    "\n",
    "    for i in range(index,number):#겹치지 않는 회의의 순서부터 다시 진행한다.\n",
    "\n",
    "        sum = (lists[i][1]-lists[i][0]+(lists[i][0]-result))\n",
    "        lists.insert(sum,lists[i][3])\n",
    "\n",
    "    lists.sort[index:]()\n",
    "    count+=1\n",
    "\n",
    "    result = lists[index][2]#끝나는 시간 저장\n",
    "    index = find_index(index,result)#인덱스 위치 저장\n",
    "\n",
    "print(count)\n",
    "\n"
   ]
  }
 ],
 "metadata": {
  "kernelspec": {
   "display_name": "Python 3",
   "language": "python",
   "name": "python3"
  },
  "language_info": {
   "codemirror_mode": {
    "name": "ipython",
    "version": 3
   },
   "file_extension": ".py",
   "mimetype": "text/x-python",
   "name": "python",
   "nbconvert_exporter": "python",
   "pygments_lexer": "ipython3",
   "version": "3.10.1"
  },
  "orig_nbformat": 4,
  "vscode": {
   "interpreter": {
    "hash": "df95319d8ce4e1d89f5365ae10992bc1f65da593082b1d264e8f529830ec2f02"
   }
  }
 },
 "nbformat": 4,
 "nbformat_minor": 2
}
