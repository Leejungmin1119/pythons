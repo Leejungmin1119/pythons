{
 "cells": [
  {
   "attachments": {},
   "cell_type": "markdown",
   "metadata": {},
   "source": [
    "위대한 해커 창영이는 모든 암호를 깨는 방법을 발견했다. 그 방법은 빈도를 조사하는 것이다.\n",
    "\n",
    "창영이는 말할 수 없는 방법을 이용해서 현우가 강산이에게 보내는 메시지를 획득했다. 이 메시지는 숫자 N개로 이루어진 수열이고, 숫자는 모두 C보다 작거나 같다. 창영이는 이 숫자를 자주 등장하는 빈도순대로 정렬하려고 한다.\n",
    "\n",
    "만약, 수열의 두 수 X와 Y가 있을 때, X가 Y보다 수열에서 많이 등장하는 경우에는 X가 Y보다 앞에 있어야 한다. 만약, 등장하는 횟수가 같다면, 먼저 나온 것이 앞에 있어야 한다.\n",
    "\n",
    "이렇게 정렬하는 방법을 빈도 정렬이라고 한다.\n",
    "\n",
    "수열이 주어졌을 때, 빈도 정렬을 하는 프로그램을 작성하시오.\n",
    "\n",
    "입력:\n",
    "\n",
    "첫째 줄에 메시지의 길이 N과 C가 주어진다. (1 ≤ N ≤ 1,000, 1 ≤ C ≤ 1,000,000,000)\n",
    "\n",
    "둘째 줄에 메시지 수열이 주어진다."
   ]
  },
  {
   "cell_type": "code",
   "execution_count": 35,
   "metadata": {},
   "outputs": [],
   "source": [
    "from sys import stdin\n",
    "\n",
    "\n",
    "number,big = map(int,stdin.readline().split()) #숫자와 최댓값 설정\n",
    "\n",
    "#입력\n",
    "lists = list(map(int,stdin.readline().split()))\n",
    "\n",
    "dic = dict()\n",
    "\n",
    "#딕셔너리에 {해당 변수: 갯수}로 저장됨\n",
    "for i in range(number):\n",
    "    if lists[i] in dic:\n",
    "\n",
    "        dic[lists[i]] += 1\n",
    "    else:\n",
    "\n",
    "        dic[lists[i]] = 1\n",
    "\n",
    "\n",
    "dic = list(zip(dic.values(),range(len(dic),0,-1),dic.keys()))#리스트로 바꿔서 #[갯수,순서,변수] 과 같이 리스트에 저장 \n",
    "\n",
    "dic.sort(reverse = True)\n",
    "\n",
    "\n",
    "for i in range(len(dic)):\n",
    "    for a in range(dic[i][0]):\n",
    "        print(dic[i][2],end =\" \")\n"
   ]
  }
 ],
 "metadata": {
  "kernelspec": {
   "display_name": "Python 3",
   "language": "python",
   "name": "python3"
  },
  "language_info": {
   "codemirror_mode": {
    "name": "ipython",
    "version": 3
   },
   "file_extension": ".py",
   "mimetype": "text/x-python",
   "name": "python",
   "nbconvert_exporter": "python",
   "pygments_lexer": "ipython3",
   "version": "3.10.1"
  },
  "orig_nbformat": 4,
  "vscode": {
   "interpreter": {
    "hash": "df95319d8ce4e1d89f5365ae10992bc1f65da593082b1d264e8f529830ec2f02"
   }
  }
 },
 "nbformat": 4,
 "nbformat_minor": 2
}
