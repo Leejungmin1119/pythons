{
 "cells": [
  {
   "attachments": {},
   "cell_type": "markdown",
   "metadata": {},
   "source": [
    "세계는 균형이 잘 잡혀있어야 한다. 양과 음, 빛과 어둠 그리고 왼쪽 괄호와 오른쪽 괄호처럼 말이다.\n",
    "\n",
    "정민이의 임무는 어떤 문자열이 주어졌을 때, 괄호들의 균형이 잘 맞춰져 있는지 판단하는 프로그램을 짜는 것이다.\n",
    "\n",
    "문자열에 포함되는 괄호는 소괄호(\"()\") 와 대괄호(\"[]\")로 2종류이고, 문자열이 균형을 이루는 조건은 아래와 같다.\n",
    "\n",
    "모든 왼쪽 소괄호(\"(\")는 오른쪽 소괄호(\")\")와만 짝을 이뤄야 한다.\n",
    "모든 왼쪽 대괄호(\"[\")는 오른쪽 대괄호(\"]\")와만 짝을 이뤄야 한다.\n",
    "모든 오른쪽 괄호들은 자신과 짝을 이룰 수 있는 왼쪽 괄호가 존재한다.\n",
    "모든 괄호들의 짝은 1:1 매칭만 가능하다. 즉, 괄호 하나가 둘 이상의 괄호와 짝지어지지 않는다.\n",
    "짝을 이루는 두 괄호가 있을 때, 그 사이에 있는 문자열도 균형이 잡혀야 한다.\n",
    "정민이를 도와 문자열이 주어졌을 때 균형잡힌 문자열인지 아닌지를 판단해보자.\n",
    "\n",
    "입력:\n",
    "\n",
    "각 문자열은 마지막 글자를 제외하고 영문 알파벳, 공백, 소괄호(\"( )\"), 대괄호(\"[ ]\")로 이루어져 있으며, 온점(\".\")으로 끝나고, 길이는 100글자보다 작거나 같다.\n",
    "\n",
    "입력의 종료조건으로 맨 마지막에 온점 하나(\".\")가 들어온다."
   ]
  },
  {
   "cell_type": "code",
   "execution_count": 28,
   "metadata": {},
   "outputs": [
    {
     "name": "stdout",
     "output_type": "stream",
     "text": [
      "yes\n",
      "yes\n",
      "no\n",
      "no\n"
     ]
    }
   ],
   "source": [
    "from sys import stdin\n",
    "\n",
    "#테스트 케이스 실행\n",
    "while(1):\n",
    "\n",
    "    stacks = []\n",
    "    strings = list(input()) \n",
    "\n",
    "    #입력된 값이 만약 .이라면 종료\n",
    "    if(strings[0] == \".\"):\n",
    "        break\n",
    "    \n",
    "    else:\n",
    "\n",
    "        for i in range(len(strings)):\n",
    "\n",
    "            #먄약 괄호라면 스택에 저장\n",
    "            if(strings[i] == '(' or strings[i] == '[' ):\n",
    "                \n",
    "                stacks.append(strings[i])\n",
    "            #닫는 괄호일 시\n",
    "\n",
    "            elif(strings[i] == ')' or strings[i] == ']'):\n",
    "\n",
    "                if(len(stacks) > 0 and stacks[-1] == '(' and strings[i] == ')'):\n",
    "\n",
    "                    stacks.pop()\n",
    "                elif(len(stacks) > 0 and stacks[-1] == '[' and strings[i] == ']'):\n",
    "\n",
    "                    stacks.pop()\n",
    "                else:\n",
    "                    stacks.append(\"no\")\n",
    "                    break    \n",
    "       \n",
    "        if(stacks ==[]):         \n",
    "            print(\"yes\")\n",
    "        else:\n",
    "            print(\"no\")\n",
    "                    "
   ]
  }
 ],
 "metadata": {
  "kernelspec": {
   "display_name": "Python 3",
   "language": "python",
   "name": "python3"
  },
  "language_info": {
   "codemirror_mode": {
    "name": "ipython",
    "version": 3
   },
   "file_extension": ".py",
   "mimetype": "text/x-python",
   "name": "python",
   "nbconvert_exporter": "python",
   "pygments_lexer": "ipython3",
   "version": "3.10.1"
  },
  "orig_nbformat": 4
 },
 "nbformat": 4,
 "nbformat_minor": 2
}
