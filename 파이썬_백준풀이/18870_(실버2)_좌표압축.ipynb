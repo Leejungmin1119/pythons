{
 "cells": [
  {
   "attachments": {},
   "cell_type": "markdown",
   "metadata": {},
   "source": [
    "수직선 위에 N개의 좌표 X1, X2, ..., XN이 있다. 이 좌표에 좌표 압축을 적용하려고 한다.\n",
    "\n",
    "Xi를 좌표 압축한 결과 X'i의 값은 Xi > Xj를 만족하는 서로 다른 좌표의 개수와 같아야 한다.\n",
    "\n",
    "X1, X2, ..., XN에 좌표 압축을 적용한 결과 X'1, X'2, ..., X'N를 출력해보자."
   ]
  },
  {
   "cell_type": "code",
   "execution_count": 11,
   "metadata": {},
   "outputs": [
    {
     "name": "stdout",
     "output_type": "stream",
     "text": [
      "2 3 0 3 1 "
     ]
    }
   ],
   "source": [
    "import sys\n",
    "number = int(sys.stdin.readline())\n",
    "\n",
    "lists = list(map(int,sys.stdin.readline().split()))\n",
    "\n",
    "#중복제거\n",
    "sort_lists = list(lists)#새로운 리스트생성\n",
    "sort_lists = set(sort_lists)\n",
    "sort_lists = list(sort_lists)\n",
    "#정렬\n",
    "sort_lists.sort()\n",
    "\n",
    "sort_lists = dict(zip(sort_lists,range(len(sort_lists))))#zip = 2개의 자료형을 하나로 묶어줌,딕셔너리형태로 저장\n",
    "#저장시 키를 입력값으로 값을 위치로 하여 저장한다.\n",
    "\n",
    "#출력\n",
    "for i in range(number):\n",
    "\n",
    "    print(sort_lists[lists[i]],end =\" \")#딕셔너리를 이용하여 해당 키에 해당하는 값을 출력한다.\n",
    "\n",
    "\n",
    "\n"
   ]
  }
 ],
 "metadata": {
  "kernelspec": {
   "display_name": "Python 3",
   "language": "python",
   "name": "python3"
  },
  "language_info": {
   "codemirror_mode": {
    "name": "ipython",
    "version": 3
   },
   "file_extension": ".py",
   "mimetype": "text/x-python",
   "name": "python",
   "nbconvert_exporter": "python",
   "pygments_lexer": "ipython3",
   "version": "3.10.1"
  },
  "orig_nbformat": 4,
  "vscode": {
   "interpreter": {
    "hash": "df95319d8ce4e1d89f5365ae10992bc1f65da593082b1d264e8f529830ec2f02"
   }
  }
 },
 "nbformat": 4,
 "nbformat_minor": 2
}
