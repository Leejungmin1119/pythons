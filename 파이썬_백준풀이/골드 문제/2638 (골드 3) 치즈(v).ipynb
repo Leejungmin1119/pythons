{
 "cells": [
  {
   "cell_type": "code",
   "execution_count": 1,
   "metadata": {},
   "outputs": [
    {
     "ename": "ValueError",
     "evalue": "not enough values to unpack (expected 2, got 0)",
     "output_type": "error",
     "traceback": [
      "\u001b[1;31m---------------------------------------------------------------------------\u001b[0m",
      "\u001b[1;31mValueError\u001b[0m                                Traceback (most recent call last)",
      "Cell \u001b[1;32mIn[1], line 48\u001b[0m\n\u001b[0;32m     46\u001b[0m \u001b[38;5;66;03m# main funtion\u001b[39;00m\n\u001b[0;32m     47\u001b[0m ans \u001b[38;5;241m=\u001b[39m \u001b[38;5;241m0\u001b[39m\n\u001b[1;32m---> 48\u001b[0m y,x \u001b[38;5;241m=\u001b[39m \u001b[38;5;28mmap\u001b[39m(\u001b[38;5;28mint\u001b[39m,\u001b[38;5;28minput\u001b[39m()\u001b[38;5;241m.\u001b[39msplit())\n\u001b[0;32m     50\u001b[0m lists \u001b[38;5;241m=\u001b[39m [\u001b[38;5;28mlist\u001b[39m(\u001b[38;5;28mmap\u001b[39m(\u001b[38;5;28mint\u001b[39m,\u001b[38;5;28minput\u001b[39m()\u001b[38;5;241m.\u001b[39msplit())) \u001b[38;5;28;01mfor\u001b[39;00m i \u001b[38;5;129;01min\u001b[39;00m \u001b[38;5;28mrange\u001b[39m(y)]\u001b[38;5;66;03m# 내부공간 입력\u001b[39;00m\n\u001b[0;32m     52\u001b[0m index \u001b[38;5;241m=\u001b[39m [[\u001b[38;5;241m0\u001b[39m,\u001b[38;5;241m1\u001b[39m],[\u001b[38;5;241m0\u001b[39m,\u001b[38;5;241m-\u001b[39m\u001b[38;5;241m1\u001b[39m],[\u001b[38;5;241m1\u001b[39m,\u001b[38;5;241m0\u001b[39m],[\u001b[38;5;241m-\u001b[39m\u001b[38;5;241m1\u001b[39m,\u001b[38;5;241m0\u001b[39m]]\n",
      "\u001b[1;31mValueError\u001b[0m: not enough values to unpack (expected 2, got 0)"
     ]
    }
   ],
   "source": [
    "#https://www.acmicpc.net/problem/2638\n",
    "\n",
    "from collections import deque\n",
    "# BFS\n",
    "def BFS():\n",
    "    global y,x,ans\n",
    "    deques = deque([[0,0]])# [0,0] = 초기 y값,초기 x값\n",
    "    \n",
    "    while deques:\n",
    "        \n",
    "        check = deques.popleft()\n",
    "        \n",
    "        for i in range(4):\n",
    "            ch_y,ch_x = check[0]+index[i][0],check[1],index[i][1]\n",
    "            \n",
    "            # 인덱스에 벗어나지 않는지?\n",
    "            if 0<=ch_y < y and 0<=ch_x < x:\n",
    "                # 현재 가는 곳이 치즈인가? 아닌가에 따라 얻는값이 달라야 한다.(check)\n",
    "                \n",
    "                # 치즈이면? \n",
    "                if lists[ch_y][ch_x] == 1:\n",
    "                    \n",
    "                    if time[ch_y][ch_x][0] < 2:\n",
    "                        time[ch_y][ch_x][0] +=1\n",
    "                        \n",
    "                    # 접촉회수 2회 = 치즈 녹음\n",
    "                    elif time[ch_y][ch_x][0] == 2:\n",
    "                            lists[ch_y][ch_x] == 0\n",
    "                            time[ch_y][ch_x][1] = time[check[0]][check[1]][1]+1\n",
    "                            \n",
    "                            if ans < time[ch_y][ch_x][1]:\n",
    "                                ans+=1\n",
    "                                \n",
    "                            # 데큐에 추가\n",
    "                            deques.append([ch_y][ch_x])\n",
    "                else:\n",
    "                    \n",
    "                    if time[ch_y][ch_x][0] == 0:\n",
    "                        \n",
    "                        deques.append([ch_y][ch_x])\n",
    "                     \n",
    "                \n",
    "                \n",
    "        \n",
    "    \n",
    "# main funtion\n",
    "ans = 0\n",
    "y,x = map(int,input().split())\n",
    "\n",
    "lists = [list(map(int,input().split())) for i in range(y)]# 내부공간 입력\n",
    "\n",
    "index = [[0,1],[0,-1],[1,0],[-1,0]]\n",
    "\n",
    "time = [[[0,0] for j in range(x)] for i in range(y)]# [0,0] = 방문횟수, 시간 \n",
    "\n",
    "BFS()\n",
    "\n",
    "print(ans)"
   ]
  }
 ],
 "metadata": {
  "kernelspec": {
   "display_name": "Python 3",
   "language": "python",
   "name": "python3"
  },
  "language_info": {
   "codemirror_mode": {
    "name": "ipython",
    "version": 3
   },
   "file_extension": ".py",
   "mimetype": "text/x-python",
   "name": "python",
   "nbconvert_exporter": "python",
   "pygments_lexer": "ipython3",
   "version": "3.11.9"
  }
 },
 "nbformat": 4,
 "nbformat_minor": 2
}
