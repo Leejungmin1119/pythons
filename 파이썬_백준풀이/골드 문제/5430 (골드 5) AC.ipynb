{
 "cells": [
  {
   "cell_type": "code",
   "execution_count": null,
   "metadata": {},
   "outputs": [],
   "source": [
    "#https://www.acmicpc.net/problem/5430\n",
    "\n",
    "import re\n",
    "from collections import deque\n",
    "import sys\n",
    "#메인함수\n",
    "\n",
    "# 뒤집어져 있는지 확인\n",
    "T = True\n",
    "\n",
    "testcase = int(sys.stdin.readline())\n",
    "\n",
    "for i in range(testcase):\n",
    "\n",
    "    functions = sys.stdin.readline()\n",
    "\n",
    "    a = int(sys.stdin.readline())\n",
    "\n",
    "    # 문자열 파싱 -> 리스트 변환\n",
    "    # findall 안에 있는 \"\\d+\"는 int 자료형 \n",
    "\n",
    "    lists = deque(map(int,re.findall(r\"\\d+\",sys.stdin.readline())))\n",
    "\n",
    "    for i in range(len(functions)):\n",
    "\n",
    "        # R = 순서 뒤집기\n",
    "\n",
    "        # 그냥 뒤집으면 시간초과 발생\n",
    "\n",
    "        if not lists:\n",
    "            break\n",
    "        if functions[i] == \"R\":\n",
    "            if T == True:\n",
    "                # 뒤집어진 상태 표시\n",
    "                T = False\n",
    "            else:\n",
    "                T = True\n",
    "        # D = 첫번째 수 버리기\n",
    "        elif functions[i] == \"D\":\n",
    "            if T == True:\n",
    "                lists.popleft()\n",
    "            else:\n",
    "                lists.pop()\n",
    "        \n",
    "    if lists:\n",
    "        print(\"[\" + \",\".join(map(str,lists)) + \"]\")\n",
    "    else:\n",
    "        print(\"error\")\n"
   ]
  }
 ],
 "metadata": {
  "kernelspec": {
   "display_name": "Python 3",
   "language": "python",
   "name": "python3"
  },
  "language_info": {
   "codemirror_mode": {
    "name": "ipython",
    "version": 3
   },
   "file_extension": ".py",
   "mimetype": "text/x-python",
   "name": "python",
   "nbconvert_exporter": "python",
   "pygments_lexer": "ipython3",
   "version": "3.10.1"
  }
 },
 "nbformat": 4,
 "nbformat_minor": 2
}
