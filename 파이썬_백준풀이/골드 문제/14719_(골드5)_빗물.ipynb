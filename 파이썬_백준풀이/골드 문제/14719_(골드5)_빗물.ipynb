{
 "cells": [
  {
   "attachments": {},
   "cell_type": "markdown",
   "metadata": {},
   "source": [
    "2차원 세계에 블록이 쌓여있다. 비가 오면 블록 사이에 빗물이 고인다.\n",
    "\n",
    "\n",
    "\n",
    "비는 충분히 많이 온다. 고이는 빗물의 총량은 얼마일까?\n",
    "\n",
    "입력:\n",
    "\n",
    "첫 번째 줄에는 2차원 세계의 세로 길이 H과 2차원 세계의 가로 길이 W가 주어진다. (1 ≤ H, W ≤ 500)\n",
    "\n",
    "두 번째 줄에는 블록이 쌓인 높이를 의미하는 0이상 H이하의 정수가 2차원 세계의 맨 왼쪽 위치부터 차례대로 W개 주어진다.\n",
    "\n",
    "따라서 블록 내부의 빈 공간이 생길 수 없다. 또 2차원 세계의 바닥은 항상 막혀있다고 가정하여도 좋다."
   ]
  },
  {
   "cell_type": "code",
   "execution_count": 1,
   "metadata": {},
   "outputs": [
    {
     "name": "stdout",
     "output_type": "stream",
     "text": [
      "3\n"
     ]
    }
   ],
   "source": [
    "def find_water(start,end,t):\n",
    "\n",
    "    global water,check,check_index,real_water\n",
    "    \n",
    "    for i in range(start,end,t):                                                                              \n",
    "\n",
    "        if(check > lenght_deep[i]):#다른 땅과 비교해서 낮으면 파인 땅으로 간주한다.\n",
    "                                                            \n",
    "            water += (check - lenght_deep[i])\n",
    "\n",
    "        elif(check <= lenght_deep[i]):#만약 높다면 그 땅을 기준점으로 잡는다.\n",
    "            \n",
    "            real_water +=water\n",
    "\n",
    "            check = lenght_deep[i]\n",
    "            check_index = i\n",
    "\n",
    "            water = 0\n",
    "\n",
    "#입력\n",
    "\n",
    "lenght,horizontal =map(int,input().split())\n",
    "\n",
    "lenght_deep = list(map(int,input().split()))\n",
    "\n",
    "#반복문 실행\n",
    "\n",
    "check = lenght_deep[0]\n",
    "water,real_water = 0,0\n",
    "types = 1 \n",
    "\n",
    "find_water(1,horizontal,types)\n",
    " \n",
    "check = lenght_deep[-1]#초기화\n",
    "water,types = 0,-1\n",
    "\n",
    "#4 1 1 2 와 유사한 방식을 막기 위해 방향을 바꿔서 실행한다.\n",
    "find_water(horizontal-1,check_index-1,-1)#반대쪽 ~ 기준점\n",
    "\n",
    "print(real_water)\n",
    "\n",
    "\n"
   ]
  }
 ],
 "metadata": {
  "kernelspec": {
   "display_name": "Python 3",
   "language": "python",
   "name": "python3"
  },
  "language_info": {
   "codemirror_mode": {
    "name": "ipython",
    "version": 3
   },
   "file_extension": ".py",
   "mimetype": "text/x-python",
   "name": "python",
   "nbconvert_exporter": "python",
   "pygments_lexer": "ipython3",
   "version": "3.10.1"
  },
  "orig_nbformat": 4
 },
 "nbformat": 4,
 "nbformat_minor": 2
}
