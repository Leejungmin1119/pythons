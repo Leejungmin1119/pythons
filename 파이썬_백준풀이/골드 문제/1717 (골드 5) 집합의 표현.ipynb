{
 "cells": [
  {
   "cell_type": "code",
   "execution_count": null,
   "metadata": {},
   "outputs": [],
   "source": [
    "num,play = map(int,input().split())\n",
    "\n",
    "lists = [0]*(num+1)\n",
    "\n",
    "for i in range(play):\n",
    "    \n",
    "    ch,a,b = map(int,input().split())\n",
    "        \n",
    "    # 만약 합집합을 해야 한다면\n",
    "    if ch == 0:\n",
    "        if lists[a] == 0:\n",
    "            lists[a] == a\n",
    "        "
   ]
  }
 ],
 "metadata": {
  "kernelspec": {
   "display_name": "Python 3",
   "language": "python",
   "name": "python3"
  },
  "language_info": {
   "name": "python",
   "version": "3.11.9"
  }
 },
 "nbformat": 4,
 "nbformat_minor": 2
}
