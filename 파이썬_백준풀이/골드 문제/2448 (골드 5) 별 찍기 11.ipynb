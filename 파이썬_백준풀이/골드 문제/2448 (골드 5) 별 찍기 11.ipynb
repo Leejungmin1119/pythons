{
 "cells": [
  {
   "cell_type": "code",
   "execution_count": null,
   "metadata": {},
   "outputs": [
    {
     "ename": "ValueError",
     "evalue": "invalid literal for int() with base 10: ''",
     "output_type": "error",
     "traceback": [
      "\u001b[1;31m---------------------------------------------------------------------------\u001b[0m",
      "\u001b[1;31mValueError\u001b[0m                                Traceback (most recent call last)",
      "Cell \u001b[1;32mIn [1], line 25\u001b[0m\n\u001b[0;32m     22\u001b[0m         lists[\u001b[38;5;241m1\u001b[39m][n\u001b[38;5;241m-\u001b[39m\u001b[38;5;241m2\u001b[39m:n] \u001b[38;5;241m=\u001b[39m[\u001b[38;5;124m\"\u001b[39m\u001b[38;5;124m*\u001b[39m\u001b[38;5;124m\"\u001b[39m,\u001b[38;5;124m\"\u001b[39m\u001b[38;5;124m \u001b[39m\u001b[38;5;124m\"\u001b[39m,\u001b[38;5;124m\"\u001b[39m\u001b[38;5;124m*\u001b[39m\u001b[38;5;124m\"\u001b[39m]\n\u001b[0;32m     23\u001b[0m         lists[\u001b[38;5;241m2\u001b[39m][n\u001b[38;5;241m-\u001b[39m\u001b[38;5;241m3\u001b[39m:n\u001b[38;5;241m+\u001b[39m\u001b[38;5;241m1\u001b[39m] \u001b[38;5;241m=\u001b[39m [\u001b[38;5;124m\"\u001b[39m\u001b[38;5;124m*\u001b[39m\u001b[38;5;124m\"\u001b[39m,\u001b[38;5;124m\"\u001b[39m\u001b[38;5;124m*\u001b[39m\u001b[38;5;124m\"\u001b[39m,]\n\u001b[1;32m---> 25\u001b[0m num \u001b[38;5;241m=\u001b[39m \u001b[38;5;28;43mint\u001b[39;49m\u001b[43m(\u001b[49m\u001b[38;5;28;43minput\u001b[39;49m\u001b[43m(\u001b[49m\u001b[43m)\u001b[49m\u001b[43m)\u001b[49m\n\u001b[0;32m     27\u001b[0m \u001b[38;5;66;03m#별을 저장할 리스트 생성\u001b[39;00m\n\u001b[0;32m     29\u001b[0m lists \u001b[38;5;241m=\u001b[39m [[\u001b[38;5;124m\"\u001b[39m\u001b[38;5;124m\"\u001b[39m]\u001b[38;5;241m*\u001b[39m(num\u001b[38;5;241m*\u001b[39m\u001b[38;5;241m2\u001b[39m) \u001b[38;5;28;01mfor\u001b[39;00m i \u001b[38;5;129;01min\u001b[39;00m \u001b[38;5;28mrange\u001b[39m(num)]\n",
      "\u001b[1;31mValueError\u001b[0m: invalid literal for int() with base 10: ''"
     ]
    }
   ],
   "source": [
    "\"\"\"\n",
    "\n",
    "이 별찍기는 3개의 삼각형이 합쳐서 또다른 삼각형이 만들어진 구조이다.\n",
    "\n",
    "부분은 총 3개로 나뉘어져 있으며 따라서 n = 3일때의 부분을 복사한뒤 점차 늘려가면서 붙여넣기 하면 된다.\n",
    "\n",
    "n = 24 일때\n",
    "\n",
    "위 두변의 길이는 24이며, 아랫변 길이는 총 47이 나온다.\n",
    "\n",
    "가장 윗 변의 공백의 길이는 총 23 즉 n-1이다.\n",
    "\"\"\"\n",
    "def roop(n):\n",
    "\n",
    "    global num\n",
    "    # n == 3 이 아니면 재귀함수를 실행시켜준다.\n",
    "    if n != 3:\n",
    "        roop(n//2)\n",
    "    elif n == 3:\n",
    "        #n = 3인 삼각형 생성\n",
    "        lists[0][num-1] =\"*\"\n",
    "        lists[1][num-2:num] =[\"*\",\" \",\"*\"]\n",
    "        lists[2][num-3:num+1] = [\"*\",\"*\",\"*\",\"*\",\"*\"]\n",
    "\n",
    "    # 삼각형 2개 복사하기\n",
    "    # 복사할 위치의 x좌표\n",
    "    for i in range(num-n-1,num+n,n*2):\n",
    "        for j in range(n):\n",
    "            #리스트 복사\n",
    "            lists[j+n][num-j-1-n:num+j-n]=lists[j][num-j-1:num+j]  \n",
    "\n",
    "\n",
    "\n",
    "\n",
    "num = int(input())\n",
    "\n",
    "#별을 저장할 리스트 생성\n",
    "\n",
    "lists = [[\" \"]*(num*2) for i in range(num)]\n",
    "\n",
    "roop(num)\n",
    "\n",
    "#출력\n",
    "\n",
    "for i in range(num):\n",
    "    for j in range(num-1,((num*2)-1)):\n",
    "        \n",
    "        print(lists[i][j])"
   ]
  }
 ],
 "metadata": {
  "kernelspec": {
   "display_name": "Python 3",
   "language": "python",
   "name": "python3"
  },
  "language_info": {
   "codemirror_mode": {
    "name": "ipython",
    "version": 3
   },
   "file_extension": ".py",
   "mimetype": "text/x-python",
   "name": "python",
   "nbconvert_exporter": "python",
   "pygments_lexer": "ipython3",
   "version": "3.10.1"
  }
 },
 "nbformat": 4,
 "nbformat_minor": 2
}
