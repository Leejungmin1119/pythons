{
 "cells": [
  {
   "cell_type": "code",
   "execution_count": null,
   "metadata": {},
   "outputs": [
    {
     "ename": "ValueError",
     "evalue": "invalid literal for int() with base 10: ''",
     "output_type": "error",
     "traceback": [
      "\u001b[1;31m---------------------------------------------------------------------------\u001b[0m",
      "\u001b[1;31mValueError\u001b[0m                                Traceback (most recent call last)",
      "Cell \u001b[1;32mIn [1], line 25\u001b[0m\n\u001b[0;32m     22\u001b[0m         lists[\u001b[38;5;241m1\u001b[39m][n\u001b[38;5;241m-\u001b[39m\u001b[38;5;241m2\u001b[39m:n] \u001b[38;5;241m=\u001b[39m[\u001b[38;5;124m\"\u001b[39m\u001b[38;5;124m*\u001b[39m\u001b[38;5;124m\"\u001b[39m,\u001b[38;5;124m\"\u001b[39m\u001b[38;5;124m \u001b[39m\u001b[38;5;124m\"\u001b[39m,\u001b[38;5;124m\"\u001b[39m\u001b[38;5;124m*\u001b[39m\u001b[38;5;124m\"\u001b[39m]\n\u001b[0;32m     23\u001b[0m         lists[\u001b[38;5;241m2\u001b[39m][n\u001b[38;5;241m-\u001b[39m\u001b[38;5;241m3\u001b[39m:n\u001b[38;5;241m+\u001b[39m\u001b[38;5;241m1\u001b[39m] \u001b[38;5;241m=\u001b[39m [\u001b[38;5;124m\"\u001b[39m\u001b[38;5;124m*\u001b[39m\u001b[38;5;124m\"\u001b[39m,\u001b[38;5;124m\"\u001b[39m\u001b[38;5;124m*\u001b[39m\u001b[38;5;124m\"\u001b[39m,]\n\u001b[1;32m---> 25\u001b[0m num \u001b[38;5;241m=\u001b[39m \u001b[38;5;28;43mint\u001b[39;49m\u001b[43m(\u001b[49m\u001b[38;5;28;43minput\u001b[39;49m\u001b[43m(\u001b[49m\u001b[43m)\u001b[49m\u001b[43m)\u001b[49m\n\u001b[0;32m     27\u001b[0m \u001b[38;5;66;03m#별을 저장할 리스트 생성\u001b[39;00m\n\u001b[0;32m     29\u001b[0m lists \u001b[38;5;241m=\u001b[39m [[\u001b[38;5;124m\"\u001b[39m\u001b[38;5;124m\"\u001b[39m]\u001b[38;5;241m*\u001b[39m(num\u001b[38;5;241m*\u001b[39m\u001b[38;5;241m2\u001b[39m) \u001b[38;5;28;01mfor\u001b[39;00m i \u001b[38;5;129;01min\u001b[39;00m \u001b[38;5;28mrange\u001b[39m(num)]\n",
      "\u001b[1;31mValueError\u001b[0m: invalid literal for int() with base 10: ''"
     ]
    }
   ],
   "source": [
    "\"\"\"\n",
    "\n",
    "이 별찍기는 3개의 삼각형이 합쳐서 또다른 삼각형이 만들어진 구조이다.\n",
    "\n",
    "부분은 총 3개로 나뉘어져 있으며 따라서 n = 3일때의 부분을 복사한뒤 점차 늘려가면서 붙여넣기 하면 된다.\n",
    "\"\"\"\n",
    "\n",
    "def roop(n,y,x):\n",
    "\n",
    "    if n != 3:\n",
    "        #좌측 삼각형\n",
    "        mid = n//2\n",
    "        roop(mid,y+mid,x-mid)\n",
    "        #우측 삼각형\n",
    "        roop(mid,mid+y,mid+x)\n",
    "        #중앙 삼각형\n",
    "        roop(mid,y,x)\n",
    "    \n",
    "\n",
    "    # 재귀할떄 까지 한 상태라면?\n",
    "    if n == 3:\n",
    "\n",
    "        for i in range(3):\n",
    "            # 별 입력\n",
    "            lists[y+i][x-i:x+i+1] = index[i]\n",
    "\n",
    "#메인함수\n",
    "num = int(input())\n",
    "\n",
    "# n = 3일때의 별\n",
    "index = [[\"*\"],[\"*\",\" \",\"*\"],[\"*\",\"*\",\"*\",\"*\",\"*\"]]\n",
    "\n",
    "lists = [[\" \"] *((2*num)-1) for i in range(num)]\n",
    "\n",
    "# 재귀함수 실행\n",
    "roop(num,0,num-1)\n",
    "\n",
    "for i in range(0,num):\n",
    "    \n",
    "    print(\"\".join(lists[i]))\n"
   ]
  }
 ],
 "metadata": {
  "kernelspec": {
   "display_name": "Python 3",
   "language": "python",
   "name": "python3"
  },
  "language_info": {
   "codemirror_mode": {
    "name": "ipython",
    "version": 3
   },
   "file_extension": ".py",
   "mimetype": "text/x-python",
   "name": "python",
   "nbconvert_exporter": "python",
   "pygments_lexer": "ipython3",
   "version": "3.10.1"
  }
 },
 "nbformat": 4,
 "nbformat_minor": 2
}
