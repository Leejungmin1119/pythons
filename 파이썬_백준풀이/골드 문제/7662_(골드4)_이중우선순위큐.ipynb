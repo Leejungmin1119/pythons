{
 "cells": [
  {
   "attachments": {},
   "cell_type": "markdown",
   "metadata": {},
   "source": [
    "이중 우선순위 큐(dual priority queue)는 전형적인 우선순위 큐처럼 데이터를 삽입, 삭제할 수 있는 자료 구조이다. 전형적인 큐와의 차이점은 데이터를 삭제할 때 연산(operation) 명령에 따라 우선순위가 가장 높은 데이터 또는 가장 낮은 데이터 중 하나를 삭제하는 점이다. 이중 우선순위 큐를 위해선 두 가지 연산이 사용되는데, 하나는 데이터를 삽입하는 연산이고 다른 하나는 데이터를 삭제하는 연산이다. 데이터를 삭제하는 연산은 또 두 가지로 구분되는데 하나는 우선순위가 가장 높은 것을 삭제하기 위한 것이고 다른 하나는 우선순위가 가장 낮은 것을 삭제하기 위한 것이다. \n",
    "\n",
    "정수만 저장하는 이중 우선순위 큐 Q가 있다고 가정하자. Q에 저장된 각 정수의 값 자체를 우선순위라고 간주하자. \n",
    "\n",
    "Q에 적용될 일련의 연산이 주어질 때 이를 처리한 후 최종적으로 Q에 저장된 데이터 중 최댓값과 최솟값을 출력하는 프로그램을 작성하라.\n",
    "\n",
    "입력:\n",
    "\n",
    "\n",
    "입력 데이터는 표준입력을 사용한다. 입력은 T개의 테스트 데이터로 구성된다. 입력의 첫 번째 줄에는 입력 데이터의 수를 나타내는 정수 T가 주어진다. 각 테스트 데이터의 첫째 줄에는 Q에 적용할 연산의 개수를 나타내는 정수 k (k ≤ 1,000,000)가 주어진다. 이어지는 k 줄 각각엔 연산을 나타내는 문자(‘D’ 또는 ‘I’)와 정수 n이 주어진다. ‘I n’은 정수 n을 Q에 삽입하는 연산을 의미한다. 동일한 정수가 삽입될 수 있음을 참고하기 바란다. ‘D 1’는 Q에서 최댓값을 삭제하는 연산을 의미하며, ‘D -1’는 Q 에서 최솟값을 삭제하는 연산을 의미한다. 최댓값(최솟값)을 삭제하는 연산에서 최댓값(최솟값)이 둘 이상인 경우, 하나만 삭제됨을 유념하기 바란다.\n",
    "\n",
    "만약 Q가 비어있는데 적용할 연산이 ‘D’라면 이 연산은 무시해도 좋다. Q에 저장될 모든 정수는 32-비트 정수이다. "
   ]
  },
  {
   "cell_type": "code",
   "execution_count": 44,
   "metadata": {},
   "outputs": [],
   "source": [
    "import heapq\n",
    "from sys import stdin\n",
    "\n",
    "for i in range(int(stdin.readline())):#testcase\n",
    "\n",
    "    heap = []#힙 생성\n",
    "    max_heap = []\n",
    "    for j in range(int(stdin.readline())):\n",
    "\n",
    "        kind,num = stdin.readline().split()\n",
    "        num = int(num)\n",
    "\n",
    "        if(kind == 'I'):# I : 삽입\n",
    "\n",
    "            heapq.heappush(heap,num)#힙에 삽입\n",
    "            heapq.heappush(max_heap,-num)\n",
    "\n",
    "        elif(kind == 'D'):# D : 최대,최소 출력\n",
    "\n",
    "            if(heap == []):\n",
    "\n",
    "                continue\n",
    "\n",
    "            elif(num == -1):#최소값 출력\n",
    "\n",
    "                heapq.heappop(heap)\n",
    "\n",
    "                max_heap = []\n",
    "\n",
    "                for h in heap:\n",
    "                    heapq.heappush(max_heap,-h) \n",
    "\n",
    "            elif(num == 1):#최댓값 출력\n",
    "\n",
    "                heapq.heappop(max_heap)\n",
    "\n",
    "                heap = []#초기화\n",
    "\n",
    "                for h in max_heap:\n",
    "                    heapq.heappush(heap,-h)\n",
    "  \n",
    "    if(heap == []):\n",
    "        print(\"EMPTY\")\n",
    "    else:\n",
    "\n",
    "        print(\"{} {}\".format(heap[-1],heap[0]))                \n",
    "\n",
    "\n",
    "\n",
    "#!! 우선순위 큐: 일반 적인 큐와 다르게 우선순위를 적용하는 큐를 말함.\n",
    "\n",
    "#우선순위 큐는 최솟값 출력은 되지만 최댓값 출력은 없음으로 힙 구현을 통해 문제를 풀어나간다.\n",
    "\n",
    "\n",
    "            \n",
    "\n"
   ]
  }
 ],
 "metadata": {
  "kernelspec": {
   "display_name": "Python 3",
   "language": "python",
   "name": "python3"
  },
  "language_info": {
   "codemirror_mode": {
    "name": "ipython",
    "version": 3
   },
   "file_extension": ".py",
   "mimetype": "text/x-python",
   "name": "python",
   "nbconvert_exporter": "python",
   "pygments_lexer": "ipython3",
   "version": "3.10.1"
  },
  "orig_nbformat": 4
 },
 "nbformat": 4,
 "nbformat_minor": 2
}
