{
 "cells": [
  {
   "cell_type": "code",
   "execution_count": 1,
   "metadata": {},
   "outputs": [
    {
     "ename": "ValueError",
     "evalue": "invalid literal for int() with base 10: ''",
     "output_type": "error",
     "traceback": [
      "\u001b[31m---------------------------------------------------------------------------\u001b[39m",
      "\u001b[31mValueError\u001b[39m                                Traceback (most recent call last)",
      "\u001b[36mCell\u001b[39m\u001b[36m \u001b[39m\u001b[32mIn[1]\u001b[39m\u001b[32m, line 33\u001b[39m\n\u001b[32m      1\u001b[39m \u001b[33;03m\"\"\"\u001b[39;00m\n\u001b[32m      2\u001b[39m \u001b[33;03m기존 배열 a는 2차원 배열로 a[i][j] = i*j의 값을 가짐 즉 a[2][3] = 6이다.\u001b[39;00m\n\u001b[32m      3\u001b[39m \n\u001b[32m   (...)\u001b[39m\u001b[32m     30\u001b[39m \n\u001b[32m     31\u001b[39m \u001b[33;03m\"\"\"\u001b[39;00m\n\u001b[32m---> \u001b[39m\u001b[32m33\u001b[39m num = \u001b[38;5;28;43mint\u001b[39;49m\u001b[43m(\u001b[49m\u001b[38;5;28;43minput\u001b[39;49m\u001b[43m(\u001b[49m\u001b[43m)\u001b[49m\u001b[43m)\u001b[49m\n\u001b[32m     34\u001b[39m k = \u001b[38;5;28mint\u001b[39m(\u001b[38;5;28minput\u001b[39m())\n\u001b[32m     36\u001b[39m arr = [[i*j \u001b[38;5;28;01mfor\u001b[39;00m j \u001b[38;5;129;01min\u001b[39;00m \u001b[38;5;28mrange\u001b[39m(num)] \u001b[38;5;28;01mfor\u001b[39;00m i \u001b[38;5;129;01min\u001b[39;00m \u001b[38;5;28mrange\u001b[39m(num)]\n",
      "\u001b[31mValueError\u001b[39m: invalid literal for int() with base 10: ''"
     ]
    }
   ],
   "source": [
    "\"\"\"\n",
    "기존 배열 a는 2차원 배열로 a[i][j] = i*j의 값을 가짐 즉 a[2][3] = 6이다.\n",
    "\n",
    "2. 배열 b는 1차원 배열이고, 크기는 a와 같은 크기를 가진다.\n",
    "\n",
    "3. 따라서 배열의 크기 n이 3이고 k가 7이 주어지면 b[k]의 값은\n",
    "\n",
    "1~ 9까지 있고\n",
    "\n",
    "a[1][1]  = 1\n",
    "a[1][2]  = 2\n",
    "a[1][3]  = 3 \n",
    "a[2][1]  = 2\n",
    "a[2][2]  = 4 \n",
    "a[2][3]  = 6\n",
    "a[3][1]  = 3\n",
    "a[3][2]  = 6\n",
    "a[3][3]  = 9\n",
    "\n",
    "7 =[3][2],[2][3]\n",
    "5 = [3][1],[1][3]\n",
    "  \n",
    "b[1] = 1이다\n",
    "b[2],b[3] = 2\n",
    "n의 값도 최대 10억까지 주어질 수 있음.\n",
    "1이 몇개들어가는지, 2는 몇개들어가는지 3은 몇개들어가는지,10000번째까지 \n",
    "2는 최대 2개, 3은? 4는? 5는?\n",
    "\n",
    "그리고 그 찾는 것을 이분탐색으로 찾기\n",
    "\n",
    "\"\"\"\n",
    "\n",
    "num = int(input())\n",
    "k = int(input())\n",
    "\n",
    "arr = [[i*j for j in range(num)] for i in range(num)]\n",
    "\n",
    "print(arr)\n",
    "\n",
    "index = 0\n"
   ]
  },
  {
   "cell_type": "code",
   "execution_count": null,
   "metadata": {},
   "outputs": [],
   "source": []
  }
 ],
 "metadata": {
  "kernelspec": {
   "display_name": "Python 3",
   "language": "python",
   "name": "python3"
  },
  "language_info": {
   "name": "python",
   "version": "3.13.2"
  }
 },
 "nbformat": 4,
 "nbformat_minor": 2
}
