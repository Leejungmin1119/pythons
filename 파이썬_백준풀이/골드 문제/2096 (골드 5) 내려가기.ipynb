{
 "cells": [
  {
   "cell_type": "code",
   "execution_count": null,
   "metadata": {},
   "outputs": [
    {
     "name": "stdout",
     "output_type": "stream",
     "text": [
      "18 6\n"
     ]
    }
   ],
   "source": [
    "import sys\n",
    "num = int(sys.stdin.readline())\n",
    "dp_min = [0] * 3\n",
    "dp_max = [0] * 3\n",
    "\n",
    "for i in range(num):\n",
    "    lists = list(map(int,input().split()))\n",
    "\n",
    "    dp_max = [max(dp_max[0],dp_max[1])+lists[0],max(dp_max[0],dp_max[1],dp_max[2])+lists[1],max(dp_max[1],dp_max[2])+lists[2]]\n",
    "    dp_min = [min(dp_min[0],dp_min[1])+lists[0],min(dp_min[0],dp_min[1],dp_min[2])+lists[1],min(dp_min[1],dp_min[2])+lists[2]]\n",
    "\n",
    "print(max(dp_max),min(dp_min),sep=\" \")"
   ]
  }
 ],
 "metadata": {
  "kernelspec": {
   "display_name": "Python 3",
   "language": "python",
   "name": "python3"
  },
  "language_info": {
   "codemirror_mode": {
    "name": "ipython",
    "version": 3
   },
   "file_extension": ".py",
   "mimetype": "text/x-python",
   "name": "python",
   "nbconvert_exporter": "python",
   "pygments_lexer": "ipython3",
   "version": "3.10.1"
  }
 },
 "nbformat": 4,
 "nbformat_minor": 2
}
