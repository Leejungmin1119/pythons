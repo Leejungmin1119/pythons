{
 "cells": [
  {
   "cell_type": "code",
   "execution_count": 1,
   "metadata": {},
   "outputs": [
    {
     "ename": "ValueError",
     "evalue": "not enough values to unpack (expected 2, got 0)",
     "output_type": "error",
     "traceback": [
      "\u001b[1;31m---------------------------------------------------------------------------\u001b[0m",
      "\u001b[1;31mValueError\u001b[0m                                Traceback (most recent call last)",
      "Cell \u001b[1;32mIn[1], line 3\u001b[0m\n\u001b[0;32m      1\u001b[0m \u001b[38;5;66;03m#메인함수\u001b[39;00m\n\u001b[1;32m----> 3\u001b[0m N,M \u001b[38;5;241m=\u001b[39m \u001b[38;5;28mmap\u001b[39m(\u001b[38;5;28mint\u001b[39m,\u001b[38;5;28minput\u001b[39m()\u001b[38;5;241m.\u001b[39msplit())\u001b[38;5;66;03m# 지점 갯수, 버스 위치\u001b[39;00m\n\u001b[0;32m      4\u001b[0m bus \u001b[38;5;241m=\u001b[39m {i : [] \u001b[38;5;28;01mfor\u001b[39;00m i \u001b[38;5;129;01min\u001b[39;00m \u001b[38;5;28mrange\u001b[39m(N)}\n\u001b[0;32m      5\u001b[0m value_list \u001b[38;5;241m=\u001b[39m [[\u001b[38;5;28mfloat\u001b[39m(\u001b[38;5;124m'\u001b[39m\u001b[38;5;124minf\u001b[39m\u001b[38;5;124m'\u001b[39m)] \u001b[38;5;241m*\u001b[39m N \u001b[38;5;28;01mfor\u001b[39;00m i \u001b[38;5;129;01min\u001b[39;00m \u001b[38;5;28mrange\u001b[39m(N)]\n",
      "\u001b[1;31mValueError\u001b[0m: not enough values to unpack (expected 2, got 0)"
     ]
    }
   ],
   "source": [
    "#메인함수\n",
    "\n",
    "N,M = map(int,input().split())# 지점 갯수, 버스 위치\n",
    "bus = {i : [] for i in range(N)}\n",
    "value_list = [[float('inf')] * N for i in range(N)]\n",
    "for i in range(M):\n",
    "    start,end,value = map(int,input().split())\n",
    "    \n",
    "    \n",
    "    value_list[start][end] = value# 비용 입력\n",
    "    \n",
    "    bus[start].append(end)\n",
    "    \n",
    "print(bus)\n",
    "    "
   ]
  }
 ],
 "metadata": {
  "kernelspec": {
   "display_name": "Python 3",
   "language": "python",
   "name": "python3"
  },
  "language_info": {
   "codemirror_mode": {
    "name": "ipython",
    "version": 3
   },
   "file_extension": ".py",
   "mimetype": "text/x-python",
   "name": "python",
   "nbconvert_exporter": "python",
   "pygments_lexer": "ipython3",
   "version": "3.11.9"
  }
 },
 "nbformat": 4,
 "nbformat_minor": 2
}
