{
 "cells": [
  {
   "cell_type": "code",
   "execution_count": null,
   "metadata": {},
   "outputs": [],
   "source": [
    "\"\"\"\n",
    "\n",
    "분리 집합 알고리즘\n",
    "\n",
    "서로 같은 그룹인지 확인하는 알고리즘\n",
    "\n",
    "총 3가지 \n",
    "\n",
    "find, union, path Compression 이 총 3가지의 기법으로 분리 집합 알고리즘을 이용한다.\n",
    "\n",
    "지금 이문제는 진실을 아는 사람을 기반으로 거짓말을 할 수 있는 파티를 구하는 문제이며 \n",
    "\n",
    "이 문제에서 활용되는 함수는 union 이 사용되며  빠른 find 와 Compression을 사용하여 문제를 풀어도 되지만 그렇기에는 man 과 party가 50이라 시간복잡도가 크지 않아 사용할 필요가 딱히 없다.\n",
    "\n",
    "\"\"\"\n",
    "# 부모 노드를 찾는 함수 (경로 압축 적용)\n",
    "man, party = map(int, input().split())\n",
    "\n",
    "# 진실을 아는 사람의 정보 입력\n",
    "a, *real = map(int, input().split())\n",
    "real = set(real)\n",
    "lists = []\n",
    "ans = party\n",
    "# 파티 인원수 입력\n",
    "for i in range(party):\n",
    "    \n",
    "    lists.append(set(map(int,input().split()[1:])))\n",
    "\n",
    "#진실을 아는 사람들이랑 같이 들은 사람들 입력\n",
    "\n",
    "for i in range(man):\n",
    "    for j in range(party):\n",
    "        \n",
    "        # 교집합의 값이 존재하는지 확인(있으면 이 파티는 진실을 말해줘야 된다..)\n",
    "        if lists[j] & real:\n",
    "            real = real.union(lists[j])  \n",
    "            \n",
    "for i in range(party):\n",
    "    \n",
    "    # 최종적으로 과장되어 말할 수 있는 파티의 갯수를 확인한다.\n",
    "    if lists[i] & real:\n",
    "        ans -=1\n",
    "\n",
    "#출력\n",
    "print(ans)"
   ]
  }
 ],
 "metadata": {
  "kernelspec": {
   "display_name": "Python 3",
   "language": "python",
   "name": "python3"
  },
  "language_info": {
   "name": "python",
   "version": "3.11.9"
  }
 },
 "nbformat": 4,
 "nbformat_minor": 2
}
