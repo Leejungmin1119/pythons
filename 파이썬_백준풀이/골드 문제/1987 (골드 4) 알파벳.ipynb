{
 "cells": [
  {
   "cell_type": "code",
   "execution_count": null,
   "metadata": {},
   "outputs": [
    {
     "name": "stdout",
     "output_type": "stream",
     "text": [
      "6\n"
     ]
    }
   ],
   "source": [
    "import sys\n",
    "\n",
    "# DFS 함수\n",
    "def DFS(Y, X, ch_gone):\n",
    "    global high\n",
    "\n",
    "    # 최대 길이 갱신\n",
    "    high = max(high, len(ch_gone))\n",
    "\n",
    "    # 4방향 탐색\n",
    "    for i in range(4):\n",
    "        ch_Y, ch_X = Y + p[i][0], X + p[i][1]\n",
    "\n",
    "        if 0 <= ch_Y < y and 0 <= ch_X < x:\n",
    "            # 방문하지 않은 알파벳이면 탐색\n",
    "            if strings[ch_Y][ch_X] not in ch_gone:\n",
    "                ch_gone.add(strings[ch_Y][ch_X])  # 추가\n",
    "                DFS(ch_Y, ch_X, ch_gone)  # 탐색\n",
    "                ch_gone.remove(strings[ch_Y][ch_X])  # 원상복구 (백트래킹)\n",
    "\n",
    "# 입력 처리\n",
    "y, x = map(int, sys.stdin.readline().split())\n",
    "strings = [list(sys.stdin.readline().strip()) for _ in range(y)]\n",
    "\n",
    "# 이동 방향 (우, 좌, 하, 상)\n",
    "p = [[0, 1], [0, -1], [1, 0], [-1, 0]]\n",
    "\n",
    "# 최고 점수 초기화\n",
    "high = 0\n",
    "\n",
    "# DFS 탐색 시작\n",
    "DFS(0, 0, set(strings[0][0]))\n",
    "\n",
    "# 결과 출력\n",
    "print(high)\n"
   ]
  }
 ],
 "metadata": {
  "kernelspec": {
   "display_name": "Python 3",
   "language": "python",
   "name": "python3"
  },
  "language_info": {
   "codemirror_mode": {
    "name": "ipython",
    "version": 3
   },
   "file_extension": ".py",
   "mimetype": "text/x-python",
   "name": "python",
   "nbconvert_exporter": "python",
   "pygments_lexer": "ipython3",
   "version": "3.11.9"
  }
 },
 "nbformat": 4,
 "nbformat_minor": 2
}
