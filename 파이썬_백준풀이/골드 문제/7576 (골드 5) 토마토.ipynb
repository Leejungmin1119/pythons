{
 "cells": [
  {
   "cell_type": "code",
   "execution_count": null,
   "metadata": {},
   "outputs": [
    {
     "ename": "ValueError",
     "evalue": "not enough values to unpack (expected 2, got 0)",
     "output_type": "error",
     "traceback": [
      "\u001b[1;31m---------------------------------------------------------------------------\u001b[0m",
      "\u001b[1;31mValueError\u001b[0m                                Traceback (most recent call last)",
      "Cell \u001b[1;32mIn [4], line 40\u001b[0m\n\u001b[0;32m     36\u001b[0m \u001b[38;5;66;03m#메인함수\u001b[39;00m\n\u001b[0;32m     37\u001b[0m \n\u001b[0;32m     38\u001b[0m \u001b[38;5;66;03m# 이동할 좌표가 index 초과가 안나는지 확인하기위해 변수 생성\u001b[39;00m\n\u001b[0;32m     39\u001b[0m position \u001b[38;5;241m=\u001b[39m [[\u001b[38;5;241m0\u001b[39m,\u001b[38;5;241m1\u001b[39m],[\u001b[38;5;241m0\u001b[39m,\u001b[38;5;241m-\u001b[39m\u001b[38;5;241m1\u001b[39m],[\u001b[38;5;241m1\u001b[39m,\u001b[38;5;241m0\u001b[39m],[\u001b[38;5;241m-\u001b[39m\u001b[38;5;241m1\u001b[39m,\u001b[38;5;241m0\u001b[39m]]\n\u001b[1;32m---> 40\u001b[0m M,N \u001b[38;5;241m=\u001b[39m \u001b[38;5;28mmap\u001b[39m(\u001b[38;5;28mint\u001b[39m,\u001b[38;5;28minput\u001b[39m()\u001b[38;5;241m.\u001b[39msplit()) \u001b[38;5;66;03m# x,y\u001b[39;00m\n\u001b[0;32m     42\u001b[0m \u001b[38;5;66;03m# 좌표생성\u001b[39;00m\n\u001b[0;32m     43\u001b[0m lists \u001b[38;5;241m=\u001b[39m [\u001b[38;5;28mlist\u001b[39m(\u001b[38;5;28mmap\u001b[39m(\u001b[38;5;28mint\u001b[39m,\u001b[38;5;28minput\u001b[39m()\u001b[38;5;241m.\u001b[39msplit())) \u001b[38;5;28;01mfor\u001b[39;00m i \u001b[38;5;129;01min\u001b[39;00m \u001b[38;5;28mrange\u001b[39m(N)]\n",
      "\u001b[1;31mValueError\u001b[0m: not enough values to unpack (expected 2, got 0)"
     ]
    }
   ],
   "source": [
    "from collections import deque\n",
    "import sys\n",
    "\n",
    "#BFS\n",
    "def BFS():\n",
    "\n",
    "    global M,N\n",
    "    \n",
    "    deques = deque((index))\n",
    "\n",
    "    roop_depend = []\n",
    "\n",
    "    while deques:\n",
    "        \n",
    "        ch = deques.popleft()\n",
    "\n",
    "        for i in range(4):\n",
    "                \n",
    "            value = ch_list[ch[0]][ch[1]]\n",
    "            ch_x,ch_y = position[i][1]+ch[1],position[i][0] + ch[0]\n",
    "            \n",
    "            if (0 <= ch_x < M )and (0 <= ch_y < N):\n",
    "\n",
    "\n",
    "                if (ch_list[ch_y][ch_x]) == 0 or (value +1 < ch_list[ch_y][ch_x]):\n",
    "\n",
    "                    deques.append((ch_y,ch_x))  \n",
    "\n",
    "                    ch_list[ch_y][ch_x] = value + 1\n",
    "                        \n",
    "\n",
    "position = [[0,1],[0,-1],[1,0],[-1,0]]\n",
    "M,N = map(int,sys.stdin.readline().split()) # x,y\n",
    "\n",
    "lists = [list(map(int,sys.stdin.readline().split())) for i in range(N)]\n",
    "\n",
    "ch_list = lists\n",
    "\n",
    "index = []\n",
    "for i in range(N):\n",
    "    for j in range(M):\n",
    "\n",
    "        if lists[i][j] == 1:\n",
    "\n",
    "            index.append([i,j])\n",
    "\n",
    "BFS()\n",
    "\n",
    "for i in ch_list:\n",
    "\n",
    "    if 0 in i:\n",
    "        print(-1)\n",
    "        break\n",
    "\n",
    "else:\n",
    "    print(max( max(i) for i in ch_list) -1)\n"
   ]
  }
 ],
 "metadata": {
  "kernelspec": {
   "display_name": "Python 3",
   "language": "python",
   "name": "python3"
  },
  "language_info": {
   "codemirror_mode": {
    "name": "ipython",
    "version": 3
   },
   "file_extension": ".py",
   "mimetype": "text/x-python",
   "name": "python",
   "nbconvert_exporter": "python",
   "pygments_lexer": "ipython3",
   "version": "3.10.1"
  }
 },
 "nbformat": 4,
 "nbformat_minor": 2
}
