{
 "cells": [
  {
   "cell_type": "code",
   "execution_count": 7,
   "metadata": {},
   "outputs": [
    {
     "name": "stdout",
     "output_type": "stream",
     "text": [
      "29\n"
     ]
    }
   ],
   "source": [
    "\"\"\"\n",
    "\n",
    "매개 변수 탐색 알고리즘\n",
    "\n",
    "이분 탐색을 이용한 알고리즘이며, 최댓값 과 최솟값을 알기위해서 매개변수를 이분탐색을 이용하여 탐색한다.\n",
    "\n",
    "매개 변수를 탐색할때에는 이전 이분탐색과는 다르게 값이 나와도 멈추는 것이 아니라\n",
    "\n",
    "더이상 탐색을 할 수 없을때 까지해야하고 그로 인하여 최댓값과 최솟값을 얻게 된다.\n",
    "\n",
    "\"\"\"\n",
    "import sys\n",
    "# 이분탐색\n",
    "def binary_search():\n",
    "    global share\n",
    "    start,end = 1,lists[-1]-lists[0]\n",
    "    share_r = 0\n",
    "    #시작 거리가 끝 거리보다 크게 되면 종료\n",
    "    while start <= end:\n",
    "        # 중간거리 설정\n",
    "        mid = (start+end)//2\n",
    "\n",
    "        # 첫쨰집 부터 공유기를 설치\n",
    "        num = lists[0]\n",
    "        count = 1\n",
    "\n",
    "        #둘째집부터 돌아가면서 중앙값 거리보다 더 큰 값이 나오면?\n",
    "        for i in range(1,len(lists)):\n",
    "            if mid <= lists[i] - num:\n",
    "                # 공유기 설치\n",
    "                count+=1\n",
    "                # 현재 위치 갱신\n",
    "                num = lists[i]\n",
    "\n",
    "        # 만약 나오게 된 공유기 갯수가 원하고자 한 갯수보다 더 나오게 되면 \n",
    "        if count >= share:\n",
    "            start = mid+1\n",
    "            share_r = mid        \n",
    "        else:\n",
    "            end = mid-1\n",
    "\n",
    "    return share_r\n",
    "# 메인함수\n",
    "\n",
    "house,share = map(int,sys.stdin.readline().split())\n",
    "\n",
    "lists = [int(sys.stdin.readline()) for i in range(house)]\n",
    "\n",
    "lists.sort()\n",
    "\n",
    "print(binary_search())\n",
    "\n",
    "\n"
   ]
  }
 ],
 "metadata": {
  "kernelspec": {
   "display_name": "Python 3",
   "language": "python",
   "name": "python3"
  },
  "language_info": {
   "codemirror_mode": {
    "name": "ipython",
    "version": 3
   },
   "file_extension": ".py",
   "mimetype": "text/x-python",
   "name": "python",
   "nbconvert_exporter": "python",
   "pygments_lexer": "ipython3",
   "version": "3.10.1"
  }
 },
 "nbformat": 4,
 "nbformat_minor": 2
}
