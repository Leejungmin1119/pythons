{
 "cells": [
  {
   "cell_type": "code",
   "execution_count": null,
   "metadata": {},
   "outputs": [],
   "source": [
    "\"\"\"\n",
    "\n",
    "뱀과 사다리 게임\n",
    "\n",
    "갈수 있는 건 총 3가지\n",
    "\n",
    "1.그냥 주사위 (100번쨰 도달하지 않는 이상 6)\n",
    "\n",
    "2. 사다리 (있으면 무조건 가기)\n",
    "\n",
    "3. 뱀 이용 (있으면 무조건 가기)\n",
    "\n",
    "\"\"\"\n",
    "\n",
    "lader,snake = map(int,input().split())\n",
    "\n",
    "\n",
    "lists_lader = [list(map(int,input().split())) for i in range(lader)]\n",
    "\n",
    "lists_snake = [list(map(int,input().split())) for i in range(lader)]\n",
    "\n",
    "lists_lader = dict(lists_lader)\n",
    "\n",
    "print(lists_lader)"
   ]
  }
 ],
 "metadata": {
  "language_info": {
   "name": "python"
  }
 },
 "nbformat": 4,
 "nbformat_minor": 2
}
