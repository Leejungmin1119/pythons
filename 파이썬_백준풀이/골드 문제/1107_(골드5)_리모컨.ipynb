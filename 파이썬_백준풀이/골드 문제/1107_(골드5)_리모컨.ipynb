{
 "cells": [
  {
   "attachments": {},
   "cell_type": "markdown",
   "metadata": {},
   "source": [
    "수빈이는 TV를 보고 있다. 수빈이는 채널을 돌리려고 했지만, 버튼을 너무 세게 누르는 바람에, 일부 숫자 버튼이 고장났다.\n",
    "\n",
    "리모컨에는 버튼이 0부터 9까지 숫자, +와 -가 있다. +를 누르면 현재 보고있는 채널에서 +1된 채널로 이동하고, -를 누르면 -1된 채널로 이동한다. 채널 0에서 -를 누른 경우에는 채널이 변하지 않고, 채널은 무한대 만큼 있다.\n",
    "\n",
    "수빈이가 지금 이동하려고 하는 채널은 N이다. 어떤 버튼이 고장났는지 주어졌을 때, 채널 N으로 이동하기 위해서 버튼을 최소 몇 번 눌러야하는지 구하는 프로그램을 작성하시오. \n",
    "\n",
    "수빈이가 지금 보고 있는 채널은 100번이다.\n",
    "\n",
    "첫째 줄에 수빈이가 이동하려고 하는 채널 N (0 ≤ N ≤ 500,000)이 주어진다.  둘째 줄에는 고장난 버튼의 개수 M (0 ≤ M ≤ 10)이 주어진다. 고장난 버튼이 있는 경우에는 셋째 줄에는 고장난 버튼이 주어지며, 같은 버튼이 여러 번 주어지는 경우는 없다.\n"
   ]
  },
  {
   "cell_type": "code",
   "execution_count": 17,
   "metadata": {},
   "outputs": [
    {
     "name": "stdout",
     "output_type": "stream",
     "text": [
      "2228\n"
     ]
    }
   ],
   "source": [
    "#부르트 포스 알고리즘  = 모든 경우의 수를 조사하여 구하는 알고리즘\n",
    "\n",
    "\n",
    "#입력\n",
    "channel = int(input())\n",
    "\n",
    "number = int(input())\n",
    "\n",
    "if(number != 0):\n",
    "    #망가진 버튼 입력\n",
    "    break_channel = list(map(str,input().split()))\n",
    "else:\n",
    "\n",
    "    break_channel = []\n",
    "\n",
    "save = abs(channel - 100)\n",
    "\n",
    "for push_channel in range(1000001):\n",
    "\n",
    "    in_break = True\n",
    "    str_number = str(push_channel)\n",
    "\n",
    "    for check in str_number:\n",
    "\n",
    "        if(check in break_channel):#현재 입력한 채널이 부서진 버튼을 포함하여 입력을 해야 한다면 반복문을 중단시킨다.\n",
    "            in_break = False\n",
    "            break\n",
    "\n",
    "    if(in_break == True and save > abs(channel - push_channel)+len(str_number)):\n",
    "\n",
    "       #만약 현재 입력한 채널이 부서진 버튼 없이 작동이된다면?\n",
    "        save =(abs(push_channel -channel)+len(str_number))\n",
    "\n",
    "\n",
    "print(save)\n",
    "\n",
    "\n",
    "\n",
    "\n",
    "\n",
    "\n"
   ]
  }
 ],
 "metadata": {
  "kernelspec": {
   "display_name": "Python 3",
   "language": "python",
   "name": "python3"
  },
  "language_info": {
   "codemirror_mode": {
    "name": "ipython",
    "version": 3
   },
   "file_extension": ".py",
   "mimetype": "text/x-python",
   "name": "python",
   "nbconvert_exporter": "python",
   "pygments_lexer": "ipython3",
   "version": "3.10.1"
  },
  "orig_nbformat": 4
 },
 "nbformat": 4,
 "nbformat_minor": 2
}
