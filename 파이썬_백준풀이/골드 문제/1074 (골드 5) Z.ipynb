{
 "cells": [
  {
   "cell_type": "code",
   "execution_count": null,
   "metadata": {},
   "outputs": [
    {
     "name": "stdout",
     "output_type": "stream",
     "text": [
      "63\n"
     ]
    }
   ],
   "source": [
    "#https://www.acmicpc.net/problem/1074\n",
    "\n",
    "\"\"\"\n",
    "z방식으로 탐방을 한다해도 대략적인 수 예측은 가능함\n",
    "\n",
    "1. 4분면으로 나눴을때 1분면은 0, 2분면 시작점은 끝 번호의 4/1 3분면은 4/2 4분면은 4/3이다.\n",
    "이걸로 대략적인 숫자를 파악 한뒤\n",
    "\n",
    "그리고 나눌때로 나누면 이제부터 분할정복을 사용하여 최종 숫자를 입력을 하면 된다. \n",
    "\n",
    "\n",
    "\"\"\"\n",
    "def roop(n,start,point_y,point_x):\n",
    "    global y,x,ans\n",
    "    # 한변의 길이는 2^number \n",
    "    # 입력된 y의 길이와 x의 위치를 토대로 대략적인 숫자값을 얻는다.\n",
    "\n",
    "    if n == 0:\n",
    "        ans = start\n",
    "        return 0\n",
    "    \n",
    "    else:\n",
    "        # 1구역\n",
    "        if y < point_y + (2**(n-1)) and x < point_x + (2**(n-1)):\n",
    "            \n",
    "            roop(n-1,start,point_y,point_x)\n",
    "        #2구역\n",
    "        elif y < point_y + (2**(n-1)) and x >= point_x + (2**(n-1)):\n",
    "\n",
    "            roop( n-1,start + (4**(n-1)),point_y,point_x + (2**(n-1)))\n",
    "        #3구역    \n",
    "        elif y >= point_y + (2**(n-1)) and x < point_x + (2**(n-1)):\n",
    "            \n",
    "            roop( n-1,start + (2*(4**(n-1))),point_y + (2**(n-1)),point_x)\n",
    "        #4구역\n",
    "        elif y >= point_y + (2**(n-1)) and x >= point_x + (2**(n-1)):\n",
    "\n",
    "            roop( n-1,start + (3*(4**(n-1))),point_y+ (2**(n-1)),point_x + (2**(n-1)))\n",
    "\n",
    "\n",
    "# 메인함수\n",
    "number,y,x = map(int,input().split())\n",
    "\n",
    "ans = 0\n",
    "# 0으로 구성되어 있는 리스트 생성 \n",
    "\n",
    "# roop(N,시작숫자,시작 y좌표,시작 x좌표)\n",
    "roop(number,0,0,0)\n",
    "print(ans)\n",
    "\n"
   ]
  }
 ],
 "metadata": {
  "kernelspec": {
   "display_name": "Python 3",
   "language": "python",
   "name": "python3"
  },
  "language_info": {
   "codemirror_mode": {
    "name": "ipython",
    "version": 3
   },
   "file_extension": ".py",
   "mimetype": "text/x-python",
   "name": "python",
   "nbconvert_exporter": "python",
   "pygments_lexer": "ipython3",
   "version": "3.10.1"
  }
 },
 "nbformat": 4,
 "nbformat_minor": 2
}
