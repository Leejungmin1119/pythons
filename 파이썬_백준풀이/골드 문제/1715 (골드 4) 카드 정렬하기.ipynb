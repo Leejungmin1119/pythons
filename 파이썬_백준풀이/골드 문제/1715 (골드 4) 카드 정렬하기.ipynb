{
 "cells": [
  {
   "cell_type": "code",
   "execution_count": 2,
   "metadata": {},
   "outputs": [
    {
     "ename": "ValueError",
     "evalue": "invalid literal for int() with base 10: ''",
     "output_type": "error",
     "traceback": [
      "\u001b[31m---------------------------------------------------------------------------\u001b[39m",
      "\u001b[31mValueError\u001b[39m                                Traceback (most recent call last)",
      "\u001b[36mCell\u001b[39m\u001b[36m \u001b[39m\u001b[32mIn[2]\u001b[39m\u001b[32m, line 44\u001b[39m\n\u001b[32m     41\u001b[39m \u001b[38;5;66;03m# 메인함수\u001b[39;00m\n\u001b[32m     42\u001b[39m \u001b[38;5;28;01mimport\u001b[39;00m\u001b[38;5;250m \u001b[39m\u001b[34;01mheapq\u001b[39;00m\n\u001b[32m---> \u001b[39m\u001b[32m44\u001b[39m n = \u001b[38;5;28;43mint\u001b[39;49m\u001b[43m(\u001b[49m\u001b[38;5;28;43minput\u001b[39;49m\u001b[43m(\u001b[49m\u001b[43m)\u001b[49m\u001b[43m)\u001b[49m\n\u001b[32m     45\u001b[39m a = \u001b[32m0\u001b[39m\n\u001b[32m     46\u001b[39m lists = []\n",
      "\u001b[31mValueError\u001b[39m: invalid literal for int() with base 10: ''"
     ]
    }
   ],
   "source": [
    "#https://www.acmicpc.net/problem/1715\n",
    "\"\"\"\n",
    "10 + 20 + 40 = 100\n",
    "\n",
    "10 + 40 + 20 \n",
    "\n",
    "50 + 20 (현 연산횟수 50)\n",
    "\n",
    "70번\n",
    "\n",
    "합칠때 최대한 작은 값부터 먼저 합쳐야지 최소 연산횟수가 나온다. \n",
    "\n",
    "그이유는 카드를 합친걸 또 합쳐야 하기 때문에 초반에 작은 값들을 먼저 더한 후 큰값을 나중에 해야지 \n",
    "\n",
    "큰값을 먼저 하면 초반 합이 엄청 커져서 최종 연산횟수가 커질 수 밖에 없다.\n",
    "\n",
    "ex)\n",
    "\n",
    "4\n",
    "30\n",
    "20\n",
    "50\n",
    "40\n",
    "\n",
    "1. 이걸 우선 순위 힙에 넣기 (정렬하기)\n",
    "[20,30,40,50]\n",
    "\n",
    "2.가장 작은값 20과 30 을 뺴서 합치기\n",
    "= 50 , result = 50\n",
    "\n",
    "3. 합친 값을 다시 넣기 \n",
    "[40,50,50]\n",
    "\n",
    "4. 다시 가장 작은값 40과 50이랑 합치기\n",
    "= 90 , result = 140\n",
    "\n",
    "5.하나 남을때 까지 반복\n",
    "140, result = 280\n",
    "\n",
    "\"\"\"\n",
    "# 메인함수\n",
    "import heapq\n",
    "\n",
    "n = int(input())\n",
    "a = 0\n",
    "lists = []\n",
    "result = 0\n",
    "\n",
    "# 힙에다가 넣기\n",
    "for i in range(n):\n",
    "\n",
    "    heapq.heappush(lists,int(input()))\n",
    "\n",
    "# n >= 2일 경우\n",
    "while len(lists) >= 2:\n",
    "        #두개의 최솟값들을 빼내어 더하기\n",
    "    a = heapq.heappop(lists) + heapq.heappop(lists)\n",
    "    result += a\n",
    "    #다시 저장\n",
    "    heapq.heappush(lists,a)\n",
    "    \n",
    "print(result)\n",
    "\n"
   ]
  }
 ],
 "metadata": {
  "kernelspec": {
   "display_name": "Python 3",
   "language": "python",
   "name": "python3"
  },
  "language_info": {
   "codemirror_mode": {
    "name": "ipython",
    "version": 3
   },
   "file_extension": ".py",
   "mimetype": "text/x-python",
   "name": "python",
   "nbconvert_exporter": "python",
   "pygments_lexer": "ipython3",
   "version": "3.13.2"
  }
 },
 "nbformat": 4,
 "nbformat_minor": 2
}
