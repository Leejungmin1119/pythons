{
 "cells": [
  {
   "cell_type": "code",
   "execution_count": null,
   "metadata": {},
   "outputs": [],
   "source": [
    "import sys\n",
    "import heapq\n",
    "#dijkstra 다익스트라\n",
    "def dijkstra(start_node):\n",
    "    \n",
    "    lists = []       \n",
    "\n",
    "    # 힙의 초기정보를 저장하기 (시작지점으로 가는데까지의 가중치,시작지점)\n",
    "    heapq.heappush(lists,[0,start_node])\n",
    "    \n",
    "    while lists:\n",
    "        check = heapq.heappop(lists)\n",
    "        \n",
    "        if  values[check[1]] < check[0]:\n",
    "            continue\n",
    "        \n",
    "        # 목적지를 for문을 돌려서 현재 저장되어 있는 값도다 작은지 체크\n",
    "        for i in node[check[1]]:\n",
    "            \n",
    "            if values[i[1]] <= check[0] + i[0]:\n",
    "                continue\n",
    "            \n",
    "            heapq.heappush(lists,[i[0],i[1]])\n",
    "            values[i[1]] = check[0] + i[0]\n",
    "#메인함수\n",
    "V,E = map(int,input().split())\n",
    "\n",
    "start = int(input())\n",
    "# 노드를 저장하는 딕셔너리 변수\n",
    "node = {i : [] for i in range(V+1)}\n",
    "\n",
    "values = [float('inf') for i in range(V+1)]\n",
    "for i in range(E):\n",
    "    \n",
    "    node1,node2,value = map(int,input().split())\n",
    "    \n",
    "    #노드에 저장\n",
    "    node[node1] = [value,node2]\n",
    "    node[node2] = [value,node2]\n",
    "\n",
    "values[start] = 0\n",
    "\n",
    "dijkstra(start)\n",
    "\n",
    "for i in range(V):\n",
    "    if values[i] == float('inf'):\n",
    "        print(\"INF\")\n",
    "    else:\n",
    "        print(values[i])\n",
    "# 제일 처음 비교할때 그 처음\n",
    "# start node에서 i 까지의 거리를 구하면됨!    "
   ]
  }
 ],
 "metadata": {
  "kernelspec": {
   "display_name": "Python 3",
   "language": "python",
   "name": "python3"
  },
  "language_info": {
   "name": "python",
   "version": "3.11.9"
  }
 },
 "nbformat": 4,
 "nbformat_minor": 2
}
