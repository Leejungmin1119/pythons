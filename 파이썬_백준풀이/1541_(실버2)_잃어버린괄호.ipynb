{
 "cells": [
  {
   "attachments": {},
   "cell_type": "markdown",
   "metadata": {},
   "source": [
    "세준이는 양수와 +, -, 그리고 괄호를 가지고 식을 만들었다. 그리고 나서 세준이는 괄호를 모두 지웠다.\n",
    "\n",
    "그리고 나서 세준이는 괄호를 적절히 쳐서 이 식의 값을 최소로 만들려고 한다.\n",
    "\n",
    "괄호를 적절히 쳐서 이 식의 값을 최소로 만드는 프로그램을 작성하시오.\n",
    "\n",
    "입력 : \n",
    "\n",
    "첫째 줄에 식이 주어진다. 식은 ‘0’~‘9’, ‘+’, 그리고 ‘-’만으로 이루어져 있고, 가장 처음과 마지막 문자는 숫자이다. 그리고 연속해서 두 개 이상의 연산자가 나타나지 않고, 5자리보다 많이 연속되는 숫자는 없다. 수는 0으로 시작할 수 있다. 입력으로 주어지는 식의 길이는 50보다 작거나 같다."
   ]
  },
  {
   "cell_type": "code",
   "execution_count": 25,
   "metadata": {},
   "outputs": [
    {
     "name": "stdout",
     "output_type": "stream",
     "text": [
      "-444\n"
     ]
    }
   ],
   "source": [
    "index,check,plus,sum = 0,0,0,0\n",
    "\n",
    "check_bool = False\n",
    "#입력\n",
    "string = input()\n",
    "#마이너스 찾기\n",
    "index = string.find(\"-\")\n",
    "\n",
    "if(index == -1 and string.find(\"+\") == -1):\n",
    "\n",
    "    print(int(string))\n",
    "else:\n",
    "    index = 0\n",
    "    while(1):\n",
    "\n",
    "        index_plus = string.find(\"+\",index+1)#+위치\n",
    "        index_minus =string.find(\"-\",index+1)#-위치\n",
    "\n",
    "        if index_plus == -1 and index_minus == -1:#마지막\n",
    "            sum += int(string[check:len(string)])\n",
    "            break\n",
    "\n",
    "        elif ((index_plus > index_minus) \\\n",
    "            and index_minus != -1) or index_plus == -1:#+위치가 -위치보다 큰가?\n",
    "         \n",
    "            index = index_minus\n",
    "            sum += int(string[check:index])\n",
    "            check = index+1\n",
    "\n",
    "            if(check_bool == False):\n",
    "                check = index+1 \n",
    "                plus = sum\n",
    "                sum = 0\n",
    "                check_bool = True\n",
    "\n",
    "        else:\n",
    "            index = index_plus\n",
    "            sum += int(string[check:index])\n",
    "            check = index+1 \n",
    "\n",
    "    if(plus == 0):\n",
    "        print(sum)\n",
    "    else:\n",
    "        print(plus-sum)    \n"
   ]
  }
 ],
 "metadata": {
  "kernelspec": {
   "display_name": "Python 3",
   "language": "python",
   "name": "python3"
  },
  "language_info": {
   "name": "python",
   "version": "3.10.1"
  },
  "orig_nbformat": 4
 },
 "nbformat": 4,
 "nbformat_minor": 2
}
