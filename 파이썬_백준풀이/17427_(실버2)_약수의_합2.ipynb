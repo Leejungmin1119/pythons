{
 "cells": [
  {
   "attachments": {},
   "cell_type": "markdown",
   "metadata": {},
   "source": [
    "백준 17427번 약수의 합2"
   ]
  },
  {
   "cell_type": "code",
   "execution_count": 5,
   "metadata": {},
   "outputs": [],
   "source": [
    "\"\"\"\n",
    "x = 3\n",
    "\n",
    "x보다 같거나 작은 자연수 1,2,3 의 모든 약수의 합 = f(g)\n",
    "\n",
    "1 = 1\n",
    "2 = 1,2 = 3\n",
    "3 = 1,3 = 4\n",
    "\n",
    "g(1) = 1\n",
    "g(2) = 3 + 1 = 4\n",
    "g(3) = 4 + 4 = 8\n",
    "g(4) = 7 + 8 = 15\n",
    "g(5) = 6 + 15 = 21 = 1,3,7,21\n",
    "g(6) = 33 = 1,3,11,33\n",
    "\n",
    "g(10) = ? \n",
    "i) x에서 1까지 무조건 1번은 수가 쓰임\n",
    "ii) 1은 무조건 약수.\n",
    "iii)\n",
    "f(6) = {1,2,3,6} = {1,6} = {2,3}\n",
    "f(8) = {1,2,4,8}\n",
    "f(12) = {1,2,3,4,6,12}\n",
    "\n",
    "2,4,6,8,9,10\n",
    "\n",
    "\"\"\"\n",
    "import sys\n",
    "input=sys.stdin.readline\n",
    "\n",
    "n = int(input())\n",
    "\n",
    "sum_ = 0\n",
    "for i in range(1, n+1):\n",
    "\t# i의 배수의 개수 = i를 약수로 갖는 수\n",
    "    sum_ += (n//i)*i\n",
    "\n",
    "print(sum_)\n"
   ]
  }
 ],
 "metadata": {
  "kernelspec": {
   "display_name": "Python 3",
   "language": "python",
   "name": "python3"
  },
  "language_info": {
   "codemirror_mode": {
    "name": "ipython",
    "version": 3
   },
   "file_extension": ".py",
   "mimetype": "text/x-python",
   "name": "python",
   "nbconvert_exporter": "python",
   "pygments_lexer": "ipython3",
   "version": "3.10.1"
  },
  "orig_nbformat": 4,
  "vscode": {
   "interpreter": {
    "hash": "df95319d8ce4e1d89f5365ae10992bc1f65da593082b1d264e8f529830ec2f02"
   }
  }
 },
 "nbformat": 4,
 "nbformat_minor": 2
}
