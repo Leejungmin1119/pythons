{
 "cells": [
  {
   "cell_type": "code",
   "execution_count": null,
   "metadata": {},
   "outputs": [
    {
     "name": "stdout",
     "output_type": "stream",
     "text": [
      "1 2 4 3 "
     ]
    }
   ],
   "source": [
    "#https://www.acmicpc.net/problem/2346\n",
    "# 풍선 터뜨리기\n",
    "\"\"\"\n",
    "3, 2, 1, -3, -1이 적혀 있었다고 하자. 이 경우 3이 적혀 있는 1번 풍선, -3이 적혀 있는 4번 풍선, -1이 적혀 있는 5번 풍선, 1이 적혀 있는 3번 풍선, 2가 적혀 있는 2번 풍선의 순서대로 터지게 된다.\n",
    "\n",
    "3,2,1,-3,-1 (3 제거)\n",
    "\n",
    "2,1,-3,1 (2칸 이동)\n",
    "\n",
    "-3,1,2,1 (-3 제거)\n",
    "\n",
    "\"\"\"\n",
    "from collections import deque\n",
    "\n",
    "count = 1\n",
    "num = int(input())\n",
    "\n",
    "deques = deque(map(int,input().split()))\n",
    "deques_result = deque()\n",
    "\n",
    "for i in range(num):\n",
    "    deques_result.append([deques[i],i+1])\n",
    "while deques_result != deque():\n",
    "    # 풍선에 있는 값 출력하기\n",
    "\n",
    "    print(deques_result[0][1],end=\" \")\n",
    "    count = deques_result[0][0]\n",
    "    deques_result.popleft()\n",
    "\n",
    "    if count >= 1:\n",
    "\n",
    "        deques_result.rotate(-(count-1))\n",
    "\n",
    "    elif count <= -1:\n",
    "        deques_result.rotate(-(count))\n"
   ]
  }
 ],
 "metadata": {
  "kernelspec": {
   "display_name": "Python 3",
   "language": "python",
   "name": "python3"
  },
  "language_info": {
   "codemirror_mode": {
    "name": "ipython",
    "version": 3
   },
   "file_extension": ".py",
   "mimetype": "text/x-python",
   "name": "python",
   "nbconvert_exporter": "python",
   "pygments_lexer": "ipython3",
   "version": "3.10.1"
  }
 },
 "nbformat": 4,
 "nbformat_minor": 2
}
