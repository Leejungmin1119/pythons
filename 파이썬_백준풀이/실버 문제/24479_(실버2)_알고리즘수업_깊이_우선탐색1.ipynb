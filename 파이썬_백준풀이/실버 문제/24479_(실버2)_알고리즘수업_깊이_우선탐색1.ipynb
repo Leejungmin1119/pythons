{
 "cells": [
  {
   "cell_type": "code",
   "execution_count": 13,
   "metadata": {},
   "outputs": [
    {
     "name": "stdout",
     "output_type": "stream",
     "text": [
      "1\n",
      "0\n",
      "0\n",
      "0\n",
      "0\n"
     ]
    }
   ],
   "source": [
    "#https://www.acmicpc.net/problem/24479\n",
    "# 24479 알고리즘 수업 깊이 우선탐색1 (실버 2)\n",
    "\n",
    "\"\"\"\n",
    "DFS\n",
    "1. 가장 깊은 노드로 들어가기\n",
    "2. 다 들어갔으면 다시 나가면서 모든 경우의 루트를 다 돌기\n",
    "3. 순서 출력\n",
    "\n",
    "\"\"\"\n",
    "import sys\n",
    "\n",
    "#재귀 반복 횟수 늘리기\n",
    "sys.setrecursionlimit(10**6)\n",
    "\n",
    "#DFS 함수\n",
    "def DFS(ch_dic,dic,start):\n",
    "    global count\n",
    "\n",
    "    # 리스트에 저장\n",
    "    ch_dic[start] = count\n",
    "    count+=1\n",
    "    if start in dic:\n",
    "        for i in dic[start]:\n",
    "            #만약 이미 갔던 곳이라면 스킵 아니면 재귀 실행\n",
    "            if i not in ch_dic:\n",
    "                DFS(ch_dic,dic,i)\n",
    "\n",
    "#메인 함수\n",
    "count = 1\n",
    "dot,line,num = map(int,input().split())\n",
    "\n",
    "lists,dic = [],{}\n",
    "\n",
    "for i in range(line):\n",
    "    lists.append(list(map(int,input().split())))\n",
    "\n",
    "    if lists[i][0] in dic.keys():\n",
    "\n",
    "        dic[lists[i][0]].append(lists[i][1])\n",
    "\n",
    "    else:\n",
    "        # 딕셔너리에 집어넣을때 해당 자료형이 리스트여야만 한개의 key에 여러 value를 넣을 수있다\n",
    "        dic[lists[i][0]] = [lists[i][1]]\n",
    "\n",
    "    if lists[i][1] in dic.keys():\n",
    "\n",
    "        dic[lists[i][1]].append(lists[i][0])\n",
    "    else:\n",
    "        dic[lists[i][1]] = [lists[i][0]]\n",
    "\n",
    "\n",
    "for i in dic.keys():\n",
    "    dic[i].sort()\n",
    "\n",
    "ch_dic = {}\n",
    "DFS(ch_dic,dic,num)\n",
    "\n",
    "for i in range(1,dot+1):\n",
    "    if i in ch_dic:\n",
    "        print(ch_dic[i])\n",
    "    else:\n",
    "        print(0)\n"
   ]
  }
 ],
 "metadata": {
  "kernelspec": {
   "display_name": "Python 3",
   "language": "python",
   "name": "python3"
  },
  "language_info": {
   "codemirror_mode": {
    "name": "ipython",
    "version": 3
   },
   "file_extension": ".py",
   "mimetype": "text/x-python",
   "name": "python",
   "nbconvert_exporter": "python",
   "pygments_lexer": "ipython3",
   "version": "3.10.1"
  }
 },
 "nbformat": 4,
 "nbformat_minor": 2
}
