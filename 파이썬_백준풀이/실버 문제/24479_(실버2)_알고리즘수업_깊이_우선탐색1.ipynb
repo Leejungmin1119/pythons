{
 "cells": [
  {
   "cell_type": "code",
   "execution_count": null,
   "metadata": {},
   "outputs": [
    {
     "ename": "KeyError",
     "evalue": "4",
     "output_type": "error",
     "traceback": [
      "\u001b[1;31m---------------------------------------------------------------------------\u001b[0m",
      "\u001b[1;31mKeyError\u001b[0m                                  Traceback (most recent call last)",
      "Cell \u001b[1;32mIn [4], line 39\u001b[0m\n\u001b[0;32m     37\u001b[0m     dic[lists[i][\u001b[38;5;241m0\u001b[39m]]\u001b[38;5;241m.\u001b[39msort()\n\u001b[0;32m     38\u001b[0m lists \u001b[38;5;241m=\u001b[39m [\u001b[38;5;241m0\u001b[39m]\u001b[38;5;241m*\u001b[39mdot\n\u001b[1;32m---> 39\u001b[0m \u001b[43mDFS\u001b[49m\u001b[43m(\u001b[49m\u001b[43mlists\u001b[49m\u001b[43m,\u001b[49m\u001b[43mdic\u001b[49m\u001b[43m,\u001b[49m\u001b[43mnum\u001b[49m\u001b[43m)\u001b[49m\n\u001b[0;32m     41\u001b[0m \u001b[38;5;28;01mfor\u001b[39;00m i \u001b[38;5;129;01min\u001b[39;00m lists:\n\u001b[0;32m     42\u001b[0m     \u001b[38;5;28mprint\u001b[39m(i)\n",
      "Cell \u001b[1;32mIn [4], line 19\u001b[0m, in \u001b[0;36mDFS\u001b[1;34m(lists, dic, start)\u001b[0m\n\u001b[0;32m     17\u001b[0m \u001b[38;5;28;01mfor\u001b[39;00m i \u001b[38;5;129;01min\u001b[39;00m dic[start]:\n\u001b[0;32m     18\u001b[0m     \u001b[38;5;28;01mif\u001b[39;00m i \u001b[38;5;129;01mnot\u001b[39;00m \u001b[38;5;129;01min\u001b[39;00m lists:\n\u001b[1;32m---> 19\u001b[0m         \u001b[43mDFS\u001b[49m\u001b[43m(\u001b[49m\u001b[43mlists\u001b[49m\u001b[43m,\u001b[49m\u001b[43mdic\u001b[49m\u001b[43m,\u001b[49m\u001b[43mi\u001b[49m\u001b[43m)\u001b[49m\n",
      "Cell \u001b[1;32mIn [4], line 19\u001b[0m, in \u001b[0;36mDFS\u001b[1;34m(lists, dic, start)\u001b[0m\n\u001b[0;32m     17\u001b[0m \u001b[38;5;28;01mfor\u001b[39;00m i \u001b[38;5;129;01min\u001b[39;00m dic[start]:\n\u001b[0;32m     18\u001b[0m     \u001b[38;5;28;01mif\u001b[39;00m i \u001b[38;5;129;01mnot\u001b[39;00m \u001b[38;5;129;01min\u001b[39;00m lists:\n\u001b[1;32m---> 19\u001b[0m         \u001b[43mDFS\u001b[49m\u001b[43m(\u001b[49m\u001b[43mlists\u001b[49m\u001b[43m,\u001b[49m\u001b[43mdic\u001b[49m\u001b[43m,\u001b[49m\u001b[43mi\u001b[49m\u001b[43m)\u001b[49m\n",
      "Cell \u001b[1;32mIn [4], line 19\u001b[0m, in \u001b[0;36mDFS\u001b[1;34m(lists, dic, start)\u001b[0m\n\u001b[0;32m     17\u001b[0m \u001b[38;5;28;01mfor\u001b[39;00m i \u001b[38;5;129;01min\u001b[39;00m dic[start]:\n\u001b[0;32m     18\u001b[0m     \u001b[38;5;28;01mif\u001b[39;00m i \u001b[38;5;129;01mnot\u001b[39;00m \u001b[38;5;129;01min\u001b[39;00m lists:\n\u001b[1;32m---> 19\u001b[0m         \u001b[43mDFS\u001b[49m\u001b[43m(\u001b[49m\u001b[43mlists\u001b[49m\u001b[43m,\u001b[49m\u001b[43mdic\u001b[49m\u001b[43m,\u001b[49m\u001b[43mi\u001b[49m\u001b[43m)\u001b[49m\n",
      "Cell \u001b[1;32mIn [4], line 17\u001b[0m, in \u001b[0;36mDFS\u001b[1;34m(lists, dic, start)\u001b[0m\n\u001b[0;32m     14\u001b[0m     lists[start\u001b[38;5;241m-\u001b[39m\u001b[38;5;241m1\u001b[39m] \u001b[38;5;241m=\u001b[39m count\n\u001b[0;32m     15\u001b[0m     count\u001b[38;5;241m+\u001b[39m\u001b[38;5;241m=\u001b[39m\u001b[38;5;241m1\u001b[39m\n\u001b[1;32m---> 17\u001b[0m \u001b[38;5;28;01mfor\u001b[39;00m i \u001b[38;5;129;01min\u001b[39;00m \u001b[43mdic\u001b[49m\u001b[43m[\u001b[49m\u001b[43mstart\u001b[49m\u001b[43m]\u001b[49m:\n\u001b[0;32m     18\u001b[0m     \u001b[38;5;28;01mif\u001b[39;00m i \u001b[38;5;129;01mnot\u001b[39;00m \u001b[38;5;129;01min\u001b[39;00m lists:\n\u001b[0;32m     19\u001b[0m         DFS(lists,dic,i)\n",
      "\u001b[1;31mKeyError\u001b[0m: 4"
     ]
    }
   ],
   "source": [
    "\"\"\"\n",
    "DFS\n",
    "1. 가장 깊은 노드로 들어가기\n",
    "2. 다 들어갔으면 다시 나가면서 모든 경우의 루트를 다 돌기\n",
    "3. 순서 출력\n",
    "\n",
    "[1 : 2,3,4 | 2 : 4 | 3 : 4]\n",
    "\"\"\"\n",
    "#DFS 함수\n",
    "def DFS(lists,dic,start):\n",
    "    global count\n",
    "\n",
    "# v\n",
    "    if start not in lists:\n",
    "        lists[start-1] = count\n",
    "        count+=1\n",
    "    \n",
    "    for i in dic[start]:\n",
    "        if i not in lists:\n",
    "            DFS(lists,dic,i)\n",
    "#메인 함수\n",
    "count = 1\n",
    "\n",
    "dot,line,num = map(int,input().split())\n",
    "\n",
    "lists,dic = [],{}\n",
    "#v\n",
    "for i in range(line):\n",
    "    lists.append(list(map(int,input().split())))\n",
    "\n",
    "    if lists[i][0] in dic.keys():\n",
    "\n",
    "        dic[lists[i][0]].append(lists[i][1])\n",
    "    else:\n",
    "        # 딕셔너리에 집어넣을때 해당 자료형이 리스트여야만 한개의 key에 여러 value를 넣을 수있다\n",
    "        dic[lists[i][0]] = [lists[i][1]]\n",
    "\n",
    "#v\n",
    "for i in range(line):\n",
    "    dic[lists[i][0]].sort()\n",
    "    \n",
    "lists = [0]*dot\n",
    "DFS(lists,dic,num)\n",
    "\n",
    "for i in lists:\n",
    "    print(i)\n"
   ]
  }
 ],
 "metadata": {
  "kernelspec": {
   "display_name": "Python 3",
   "language": "python",
   "name": "python3"
  },
  "language_info": {
   "codemirror_mode": {
    "name": "ipython",
    "version": 3
   },
   "file_extension": ".py",
   "mimetype": "text/x-python",
   "name": "python",
   "nbconvert_exporter": "python",
   "pygments_lexer": "ipython3",
   "version": "3.10.1"
  }
 },
 "nbformat": 4,
 "nbformat_minor": 2
}
