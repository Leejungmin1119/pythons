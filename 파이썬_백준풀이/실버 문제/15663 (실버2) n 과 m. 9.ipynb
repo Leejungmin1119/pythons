{
 "cells": [
  {
   "cell_type": "code",
   "execution_count": null,
   "metadata": {},
   "outputs": [],
   "source": [
    "\n",
    "def DFS(num,ch,index):\n",
    "\n",
    "    global value,number\n",
    "    if num > number:\n",
    "        check = tuple(ch)\n",
    "        if check not in ch_lists:\n",
    "            ch_lists.add(check)\n",
    "            print(\" \".join(map(str,ch)))\n",
    "            \n",
    "        return 0\n",
    "    \n",
    "    else:\n",
    "        \n",
    "        for j in range(value):\n",
    "\n",
    "            \n",
    "            if j not in index:\n",
    "\n",
    "                DFS(num+1,ch+[lists[j]],index | {j})\n",
    "\n",
    "# 메인 함수\n",
    "value,number =map(int,input().split())\n",
    "lists = list(map(int,input().split()))\n",
    "ch_lists = set()\n",
    "\n",
    "lists.sort()\n",
    "\n",
    "DFS(1,[],set())"
   ]
  }
 ],
 "metadata": {
  "kernelspec": {
   "display_name": "Python 3",
   "language": "python",
   "name": "python3"
  },
  "language_info": {
   "name": "python",
   "version": "3.11.9"
  }
 },
 "nbformat": 4,
 "nbformat_minor": 2
}
