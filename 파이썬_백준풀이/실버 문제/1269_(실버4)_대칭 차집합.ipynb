{
 "cells": [
  {
   "cell_type": "code",
   "execution_count": 3,
   "metadata": {},
   "outputs": [
    {
     "name": "stdout",
     "output_type": "stream",
     "text": [
      "[1, 2, 4] [2, 3, 4, 5, 6]\n"
     ]
    }
   ],
   "source": [
    "#https://www.acmicpc.net/problem/1269\n",
    "# 1269번 대칭 차집합(실버4)\n",
    "\n",
    "# +이분탐색 알고리즘 이용\n",
    "\n",
    "def binary_search(min,max)\n",
    "\n",
    "\n",
    "A,B = map(int,input().split())\n",
    "\n",
    "list_A = list(map(int,input().split()))\n",
    "\n",
    "lists_B = list(map(int,input().split()))\n",
    "\n",
    "print(f\"{list_A} {lists_B}\")\n",
    "\n",
    "binary_search()\n"
   ]
  }
 ],
 "metadata": {
  "kernelspec": {
   "display_name": "Python 3",
   "language": "python",
   "name": "python3"
  },
  "language_info": {
   "codemirror_mode": {
    "name": "ipython",
    "version": 3
   },
   "file_extension": ".py",
   "mimetype": "text/x-python",
   "name": "python",
   "nbconvert_exporter": "python",
   "pygments_lexer": "ipython3",
   "version": "3.10.1"
  }
 },
 "nbformat": 4,
 "nbformat_minor": 2
}
