{
 "cells": [
  {
   "cell_type": "code",
   "execution_count": 3,
   "metadata": {},
   "outputs": [
    {
     "name": "stdout",
     "output_type": "stream",
     "text": [
      "4\n"
     ]
    }
   ],
   "source": [
    "#https://www.acmicpc.net/problem/1269\n",
    "# 1269번 대칭 차집합(실버4)\n",
    "\n",
    "# 내장 함수 이용(차집합, 교집합) \n",
    "\n",
    "A,B = map(int,input().split())\n",
    "\n",
    "list_A = set(map(int,input().split())) #A 집합 선언 및 입력\n",
    "\n",
    "list_B = set(map(int,input().split()))# B 집합 선언 및 입력\n",
    "\n",
    "# 식 구하기 = 차집합(B-A) + 차집합(A-B) \n",
    "print(len((list_B - list_A) | (list_A - list_B)))\n",
    "\n",
    "\n",
    "\n"
   ]
  }
 ],
 "metadata": {
  "kernelspec": {
   "display_name": "Python 3",
   "language": "python",
   "name": "python3"
  },
  "language_info": {
   "codemirror_mode": {
    "name": "ipython",
    "version": 3
   },
   "file_extension": ".py",
   "mimetype": "text/x-python",
   "name": "python",
   "nbconvert_exporter": "python",
   "pygments_lexer": "ipython3",
   "version": "3.10.1"
  }
 },
 "nbformat": 4,
 "nbformat_minor": 2
}
