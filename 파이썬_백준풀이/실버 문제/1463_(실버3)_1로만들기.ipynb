{
 "cells": [
  {
   "attachments": {},
   "cell_type": "markdown",
   "metadata": {},
   "source": [
    "정수 X에 사용할 수 있는 연산은 다음과 같이 세 가지 이다.\n",
    "\n",
    "1. X가 3으로 나누어 떨어지면, 3으로 나눈다.\n",
    "\n",
    "2. X가 2로 나누어 떨어지면, 2로 나눈다.\n",
    "\n",
    "3. 1을 뺀다.\n",
    "\n",
    "정수 N이 주어졌을 때, 위와 같은 연산 세 개를 적절히 사용해서 1을 만들려고 한다. 연산을 사용하는 횟수의 최솟값을 출력하시오.\n",
    "\n",
    "입력:\n",
    "첫째 줄에 1보다 크거나 같고, 10^6보다 작거나 같은 정수 N이 주어진다."
   ]
  },
  {
   "cell_type": "code",
   "execution_count": 7,
   "metadata": {},
   "outputs": [
    {
     "name": "stdout",
     "output_type": "stream",
     "text": [
      "3\n"
     ]
    }
   ],
   "source": [
    "#dp : buttom - up(상향식) 방식 낮은 수부터 목표값까지 가는 방식\n",
    "\"\"\"\n",
    "#입력\n",
    "x = int(input())\n",
    "\n",
    "#배열 생성\n",
    "DP = [0]*(x+1)# \n",
    "\n",
    "# i =숫자이다. 2부터 ~x+1까지 실행한다. \n",
    "for i in rane(2,x+1):\n",
    "\n",
    "\n",
    "    #!! : 배열의 값은 횟수로 저장된다 ex) DP[2] = 1로, DP[3] = 3\n",
    "    DP[i]=DP[i-1]+1\n",
    "\n",
    "    if i%2==0:#만약에 2로 나눈어지면?\n",
    "\n",
    "        DP[i]=min(DP[i],DP[i//2]+1)#아까전에 -1로 햇던 방식이랑 비교하여 최솟값을 찾아 DP[i]에 저장한다.\n",
    "    if i%3==0:\n",
    "        DP[i]=min(DP[i],DP[i//3]+1)\n",
    "\n",
    "    print(DP[x])#결과값 출력\n",
    "\"\"\"\n",
    "\n",
    "\n"
   ]
  }
 ],
 "metadata": {
  "kernelspec": {
   "display_name": "Python 3",
   "language": "python",
   "name": "python3"
  },
  "language_info": {
   "codemirror_mode": {
    "name": "ipython",
    "version": 3
   },
   "file_extension": ".py",
   "mimetype": "text/x-python",
   "name": "python",
   "nbconvert_exporter": "python",
   "pygments_lexer": "ipython3",
   "version": "3.10.1"
  },
  "orig_nbformat": 4
 },
 "nbformat": 4,
 "nbformat_minor": 2
}
