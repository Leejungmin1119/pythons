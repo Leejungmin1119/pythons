{
 "cells": [
  {
   "cell_type": "code",
   "execution_count": null,
   "metadata": {},
   "outputs": [
    {
     "name": "stdout",
     "output_type": "stream",
     "text": [
      "1 1 1 1\n",
      "1 1 1 2\n",
      "1 1 2 2\n",
      "1 2 2 2\n",
      "2 2 2 2\n"
     ]
    }
   ],
   "source": [
    "\"\"\"\n",
    "N개의 자연수 중에서 M개를 고른 수열\n",
    "같은 수를 여러 번 골라도 된다.\n",
    "고른 수열은 비내림차순이어야 한다.\n",
    "길이가 K인 수열 A가 A1 ≤ A2 ≤ ... ≤ AK-1 ≤ AK를 만족하면, 비내림차순이라고 한다.\n",
    "\n",
    "\"\"\"\n",
    "\n",
    "import sys\n",
    "def DFS(num,ch):\n",
    "\n",
    "    global value,number\n",
    "    if num > number:\n",
    "        check = tuple(ch)   \n",
    "        if check not in ch_lists:\n",
    "            ch_lists.add(check)\n",
    "            # 출력\n",
    "            print(\" \".join(map(str,ch)))\n",
    "            \n",
    "        return 0\n",
    "    \n",
    "    else:\n",
    "        \n",
    "        for j in range(value):\n",
    "\n",
    "            \n",
    "            # 만약 인덱스에 아무것도 안들어가 있으면 비교 x\n",
    "            if ch == []:\n",
    "                DFS(num+1,ch+[lists[j]])\n",
    "            # 들어가 있으면 한번 확인해본다.\n",
    "            elif ch[-1] <= lists[j]:\n",
    "                DFS(num+1,ch+[lists[j]])\n",
    "# 메인 함수\n",
    "value,number =map(int,input().split())\n",
    "lists = list(map(int,input().split()))\n",
    "ch_lists = set()\n",
    "\n",
    "lists.sort()\n",
    "\n",
    "DFS(1,[])\n",
    "\n"
   ]
  }
 ],
 "metadata": {
  "kernelspec": {
   "display_name": "Python 3",
   "language": "python",
   "name": "python3"
  },
  "language_info": {
   "codemirror_mode": {
    "name": "ipython",
    "version": 3
   },
   "file_extension": ".py",
   "mimetype": "text/x-python",
   "name": "python",
   "nbconvert_exporter": "python",
   "pygments_lexer": "ipython3",
   "version": "3.11.9"
  }
 },
 "nbformat": 4,
 "nbformat_minor": 2
}
