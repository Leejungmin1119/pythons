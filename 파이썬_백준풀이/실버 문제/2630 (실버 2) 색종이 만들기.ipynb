{
 "cells": [
  {
   "cell_type": "code",
   "execution_count": 4,
   "metadata": {},
   "outputs": [
    {
     "ename": "ValueError",
     "evalue": "invalid literal for int() with base 10: ''",
     "output_type": "error",
     "traceback": [
      "\u001b[1;31m---------------------------------------------------------------------------\u001b[0m",
      "\u001b[1;31mValueError\u001b[0m                                Traceback (most recent call last)",
      "Cell \u001b[1;32mIn [4], line 35\u001b[0m\n\u001b[0;32m     33\u001b[0m     \u001b[38;5;28;01mreturn\u001b[39;00m \u001b[38;5;241m0\u001b[39m \n\u001b[0;32m     34\u001b[0m \u001b[38;5;66;03m# 메인함수\u001b[39;00m\n\u001b[1;32m---> 35\u001b[0m length \u001b[38;5;241m=\u001b[39m \u001b[38;5;28;43mint\u001b[39;49m\u001b[43m(\u001b[49m\u001b[38;5;28;43minput\u001b[39;49m\u001b[43m(\u001b[49m\u001b[43m)\u001b[49m\u001b[43m)\u001b[49m\n\u001b[0;32m     36\u001b[0m bule,white \u001b[38;5;241m=\u001b[39m \u001b[38;5;241m0\u001b[39m,\u001b[38;5;241m0\u001b[39m\n\u001b[0;32m     37\u001b[0m \u001b[38;5;66;03m# 1 = 파란색 , 0 = 흰색\u001b[39;00m\n",
      "\u001b[1;31mValueError\u001b[0m: invalid literal for int() with base 10: ''"
     ]
    }
   ],
   "source": [
    "#https://www.acmicpc.net/problem/2630\n",
    "\n",
    "#재귀함수\n",
    "\n",
    "def roop(length,y,x):\n",
    "\n",
    "    global bule,white\n",
    "\n",
    "    end_x = x+length \n",
    "    end_y = y+length\n",
    "\n",
    "    # 정사각형 안에 지금 파란색 또는 흰색으로만 구성되어 있는지 확인\n",
    "    if lists[y:end_y][x:end_x] not in 1:\n",
    "        bule+=1    \n",
    "    elif lists[y:end_y][x:end_x] not in 0:\n",
    "        white+=1\n",
    "\n",
    "    # 위조건에 안맞으면 완벽한 색종이가 아님 따라서 4분면으로 나눠서 재귀함수를 실행해준다.\n",
    "    elif length != 1:\n",
    "        \n",
    "        # 2사분면으로 이동\n",
    "        roop((length//2),y,x)\n",
    "\n",
    "        # 1사분면으로 이동\n",
    "        roop((length//2),y,(end_x//2))\n",
    "\n",
    "        # 3사분면으로 이동\n",
    "        roop((length//2),(end_y//2),x)\n",
    "\n",
    "        # 4사분면으로 이동\n",
    "        roop((length//2),(end_y//2),(end_x//2))\n",
    "\n",
    "    return 0 \n",
    "# 메인함수\n",
    "length = int(input())\n",
    "bule,white = 0,0\n",
    "# 1 = 파란색 , 0 = 흰색\n",
    "lists = [list(map(int,input().split())) for i in range(length)]\n",
    "\n",
    "roop(length,0,0)\n",
    "\n",
    "print(white)\n",
    "print(bule)\n"
   ]
  }
 ],
 "metadata": {
  "kernelspec": {
   "display_name": "Python 3",
   "language": "python",
   "name": "python3"
  },
  "language_info": {
   "codemirror_mode": {
    "name": "ipython",
    "version": 3
   },
   "file_extension": ".py",
   "mimetype": "text/x-python",
   "name": "python",
   "nbconvert_exporter": "python",
   "pygments_lexer": "ipython3",
   "version": "3.10.1"
  }
 },
 "nbformat": 4,
 "nbformat_minor": 2
}
