{
 "cells": [
  {
   "cell_type": "code",
   "execution_count": 35,
   "metadata": {},
   "outputs": [
    {
     "name": "stdout",
     "output_type": "stream",
     "text": [
      "12\n"
     ]
    }
   ],
   "source": [
    "#https://www.acmicpc.net/problem/1697\n",
    "# 1697 (실버 1) 숨바꼭질\n",
    "\n",
    "\"\"\"\n",
    "\n",
    "이문제는 세가지의 이동 방식이 있음.\n",
    "\n",
    "1. x+1 번 간선의 정점으로 이동\n",
    "\n",
    "2. x-1 번 간선의 정점으로 이동\n",
    "\n",
    "3. x*2 번 간선의 정점으로 이동이니\n",
    "\n",
    "이걸 다르게 표현하면\n",
    "\n",
    "x = [x+1,x-1,x*2] 이다 즉\n",
    "\n",
    "BFS을 실행한 후 저 3가지의 방식을 다 돌려서 목적지에 도달하면 된다.\n",
    "\n",
    "그리고 실행할떄의 조건들.\n",
    "\n",
    "1. 한번 간 정점은 다시 가지 않는다. \n",
    "\n",
    "2. 분기점을 최대한 만들지 않는다. 많이 만들면 시간초과\n",
    "\n",
    "\"\"\"\n",
    "\n",
    "import sys\n",
    "from collections import deque\n",
    "\n",
    "#BFS\n",
    "def BFS(start,end):\n",
    "\n",
    "    deques = deque([start])\n",
    "    # deques에 값이 다 빌 때까지 반복\n",
    "    while deques:\n",
    "        num = deques.popleft()\n",
    "\n",
    "        # 현 지점이 목적지의 위치보다 크면 [x*2] or [x+1] 를 할 이유가 없음\n",
    "        if num > end:\n",
    "            node = [num-1]\n",
    "        # 간선 선언\n",
    "        else:\n",
    "            node = [num+1,num-1,num*2]\n",
    "\n",
    "        # 위치를 찾으면 return\n",
    "        if end == num:\n",
    "            return lists[end]\n",
    "\n",
    "        # 이미 간 위치인지 확인 및 안 가본 위치 저장\n",
    "        for i in node:\n",
    "            if 0 <= i <=100000 and not lists[i]:\n",
    "                deques.append(i)\n",
    "                lists[i] = lists[num] + 1\n",
    "\n",
    "#메인함수\n",
    "start,end = map(int,input().split())\n",
    "\n",
    "#거리를 저장 하기위해 리스트 선언\n",
    "lists = [0]*100001\n",
    "print(BFS(start,end))"
   ]
  }
 ],
 "metadata": {
  "kernelspec": {
   "display_name": "Python 3",
   "language": "python",
   "name": "python3"
  },
  "language_info": {
   "codemirror_mode": {
    "name": "ipython",
    "version": 3
   },
   "file_extension": ".py",
   "mimetype": "text/x-python",
   "name": "python",
   "nbconvert_exporter": "python",
   "pygments_lexer": "ipython3",
   "version": "3.10.1"
  }
 },
 "nbformat": 4,
 "nbformat_minor": 2
}
