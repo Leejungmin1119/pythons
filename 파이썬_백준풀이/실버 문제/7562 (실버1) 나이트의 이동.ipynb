{
 "cells": [
  {
   "cell_type": "code",
   "execution_count": 41,
   "metadata": {},
   "outputs": [
    {
     "name": "stdout",
     "output_type": "stream",
     "text": [
      "5\n",
      "28\n",
      "0\n"
     ]
    }
   ],
   "source": [
    "#https://www.acmicpc.net/problem/7562\n",
    "# 7562 (실버 1) 나이트의 이동\n",
    "\n",
    "\"\"\"\n",
    "나이트의 이동\n",
    "\n",
    "1. 리스트 선언. 나이트가 있는 위치를 1로 설정\n",
    "\n",
    "2. BFS 함수로 최소 거리탐색\n",
    "\n",
    "3. 출력\n",
    "\"\"\"\n",
    "import sys\n",
    "from collections import deque\n",
    "\n",
    "#BFS\n",
    "def BFS(y,x):\n",
    "    global end_y,end_x,large\n",
    "    \n",
    "    deques = deque([(y,x)])\n",
    "\n",
    "    lists[y][x] = 1\n",
    "    while deques:\n",
    "\n",
    "        num,num1 = deques.popleft()\n",
    "\n",
    "        if num == end_y and num1 == end_x:\n",
    "            return lists[end_y][end_x]\n",
    "\n",
    "        for i in ch_chessmove:\n",
    "            ch_y,ch_x = i[0]+num,i[1]+num1\n",
    "\n",
    "            if (0 <= ch_y < large) and (0 <= ch_x < large) and (lists[ch_y][ch_x] == 0):\n",
    "\n",
    "                deques.append((ch_y,ch_x))\n",
    "                lists[ch_y][ch_x] = lists[num][num1] + 1\n",
    "\n",
    "\n",
    "\n",
    "#매인함수\n",
    "testcase = int(input())\n",
    "\n",
    "ch_chessmove = [[-2,-1],[-2,1],[2,-1],[2,1],[-1,2],[-1,-2],[1,2],[1,-2]]\n",
    "for i in range(testcase):\n",
    "    #크기 설정\n",
    "    large = int(input())\n",
    "\n",
    "    lists = [[0]*(large) for i in range(large+1)]\n",
    "\n",
    "    y,x = map(int,input().split())\n",
    "\n",
    "    end_y,end_x = map(int,input().split())\n",
    "\n",
    "    print(BFS(y,x)-1)\n",
    "\n"
   ]
  }
 ],
 "metadata": {
  "kernelspec": {
   "display_name": "Python 3",
   "language": "python",
   "name": "python3"
  },
  "language_info": {
   "codemirror_mode": {
    "name": "ipython",
    "version": 3
   },
   "file_extension": ".py",
   "mimetype": "text/x-python",
   "name": "python",
   "nbconvert_exporter": "python",
   "pygments_lexer": "ipython3",
   "version": "3.10.1"
  }
 },
 "nbformat": 4,
 "nbformat_minor": 2
}
