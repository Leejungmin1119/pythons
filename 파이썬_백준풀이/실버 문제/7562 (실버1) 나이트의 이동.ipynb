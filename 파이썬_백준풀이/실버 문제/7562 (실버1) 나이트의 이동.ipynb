{
 "cells": [
  {
   "cell_type": "code",
   "execution_count": null,
   "metadata": {},
   "outputs": [
    {
     "name": "stdout",
     "output_type": "stream",
     "text": [
      "5\n"
     ]
    },
    {
     "ename": "ValueError",
     "evalue": "invalid literal for int() with base 10: ''",
     "output_type": "error",
     "traceback": [
      "\u001b[1;31m---------------------------------------------------------------------------\u001b[0m",
      "\u001b[1;31mValueError\u001b[0m                                Traceback (most recent call last)",
      "Cell \u001b[1;32mIn [4], line 46\u001b[0m\n\u001b[0;32m     43\u001b[0m ch_chessmove \u001b[38;5;241m=\u001b[39m [[\u001b[38;5;241m-\u001b[39m\u001b[38;5;241m2\u001b[39m,\u001b[38;5;241m-\u001b[39m\u001b[38;5;241m1\u001b[39m],[\u001b[38;5;241m-\u001b[39m\u001b[38;5;241m2\u001b[39m,\u001b[38;5;241m1\u001b[39m],[\u001b[38;5;241m2\u001b[39m,\u001b[38;5;241m-\u001b[39m\u001b[38;5;241m1\u001b[39m],[\u001b[38;5;241m2\u001b[39m,\u001b[38;5;241m1\u001b[39m],[\u001b[38;5;241m-\u001b[39m\u001b[38;5;241m1\u001b[39m,\u001b[38;5;241m2\u001b[39m],[\u001b[38;5;241m-\u001b[39m\u001b[38;5;241m1\u001b[39m,\u001b[38;5;241m-\u001b[39m\u001b[38;5;241m2\u001b[39m],[\u001b[38;5;241m1\u001b[39m,\u001b[38;5;241m2\u001b[39m],[\u001b[38;5;241m1\u001b[39m,\u001b[38;5;241m-\u001b[39m\u001b[38;5;241m2\u001b[39m]]\n\u001b[0;32m     44\u001b[0m \u001b[38;5;28;01mfor\u001b[39;00m i \u001b[38;5;129;01min\u001b[39;00m \u001b[38;5;28mrange\u001b[39m(testcase):\n\u001b[0;32m     45\u001b[0m     \u001b[38;5;66;03m#크기 설정\u001b[39;00m\n\u001b[1;32m---> 46\u001b[0m     large \u001b[38;5;241m=\u001b[39m \u001b[38;5;28;43mint\u001b[39;49m\u001b[43m(\u001b[49m\u001b[38;5;28;43minput\u001b[39;49m\u001b[43m(\u001b[49m\u001b[43m)\u001b[49m\u001b[43m)\u001b[49m\n\u001b[0;32m     48\u001b[0m     lists \u001b[38;5;241m=\u001b[39m [[\u001b[38;5;241m0\u001b[39m]\u001b[38;5;241m*\u001b[39m(large) \u001b[38;5;28;01mfor\u001b[39;00m i \u001b[38;5;129;01min\u001b[39;00m \u001b[38;5;28mrange\u001b[39m(large\u001b[38;5;241m+\u001b[39m\u001b[38;5;241m1\u001b[39m)]\n\u001b[0;32m     50\u001b[0m     y,x \u001b[38;5;241m=\u001b[39m \u001b[38;5;28mmap\u001b[39m(\u001b[38;5;28mint\u001b[39m,\u001b[38;5;28minput\u001b[39m()\u001b[38;5;241m.\u001b[39msplit())\n",
      "\u001b[1;31mValueError\u001b[0m: invalid literal for int() with base 10: ''"
     ]
    }
   ],
   "source": [
    "#https://www.acmicpc.net/problem/7562\n",
    "# 7562 (실버 1) 나이트의 이동\n",
    "\n",
    "\"\"\"\n",
    "나이트의 이동\n",
    "\n",
    "1. 리스트 선언. 나이트가 있는 위치를 1로 설정\n",
    "\n",
    "2. BFS 함수로 최소 거리탐색\n",
    "\n",
    "3. 출력\n",
    "\"\"\"\n",
    "import sys\n",
    "from collections import deque\n",
    "\n",
    "#BFS\n",
    "def BFS(y,x):\n",
    "    global end_y,end_x,large\n",
    "    \n",
    "    deques = deque([(y,x)])\n",
    "\n",
    "    lists[y][x] = 1\n",
    "    while deques:\n",
    "\n",
    "        num,num1 = deques.popleft()\n",
    "\n",
    "        if num == end_y and num1 == end_x:\n",
    "            return lists[end_y][end_x]\n",
    "\n",
    "        for i in ch_chessmove:\n",
    "            ch_y,ch_x = i[0]+num,i[1]+num1\n",
    "\n",
    "            if (0 <= ch_y < large) and (0 <= ch_x < large) and (lists[ch_y][ch_x] == 0):\n",
    "\n",
    "                deques.append((ch_y,ch_x))\n",
    "                lists[ch_y][ch_x] = lists[num][num1] + 1\n",
    "\n",
    "\n",
    "\n",
    "#매인함수\n",
    "testcase = int(input())\n",
    "\n",
    "ch_chessmove = [[-2,-1],[-2,1],[2,-1],[2,1],[-1,2],[-1,-2],[1,2],[1,-2]]\n",
    "for i in range(testcase):\n",
    "    #크기 설정\n",
    "    large = int(input())\n",
    "\n",
    "    lists = [[0]*(large) for i in range(large+1)]\n",
    "\n",
    "    y,x = map(int,input().split())\n",
    "\n",
    "    end_y,end_x = map(int,input().split())\n",
    "\n",
    "    print(BFS(y,x)-1)\n",
    "\n"
   ]
  }
 ],
 "metadata": {
  "kernelspec": {
   "display_name": "Python 3",
   "language": "python",
   "name": "python3"
  },
  "language_info": {
   "codemirror_mode": {
    "name": "ipython",
    "version": 3
   },
   "file_extension": ".py",
   "mimetype": "text/x-python",
   "name": "python",
   "nbconvert_exporter": "python",
   "pygments_lexer": "ipython3",
   "version": "3.10.1"
  }
 },
 "nbformat": 4,
 "nbformat_minor": 2
}
