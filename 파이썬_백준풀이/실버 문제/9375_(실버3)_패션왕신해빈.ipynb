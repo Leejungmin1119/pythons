{
 "cells": [
  {
   "cell_type": "code",
   "execution_count": 6,
   "metadata": {},
   "outputs": [
    {
     "name": "stdout",
     "output_type": "stream",
     "text": [
      "5\n",
      "3\n"
     ]
    }
   ],
   "source": [
    "t = int(input())\n",
    "for i in range(t):\n",
    "\n",
    "    count=int(input())\n",
    "    closet = {}\n",
    "    result =1\n",
    "    for j in range(count):\n",
    "\n",
    "        name,kind = input().split()\n",
    "\n",
    "        if(kind in closet):\n",
    "            closet[kind]+=1\n",
    "        else:\n",
    "            closet[kind] = 2\n",
    "\n",
    "    for j in closet.values():\n",
    "        result*=j\n",
    "\n",
    "    print(result-1)    \n"
   ]
  }
 ],
 "metadata": {
  "kernelspec": {
   "display_name": "Python 3",
   "language": "python",
   "name": "python3"
  },
  "language_info": {
   "codemirror_mode": {
    "name": "ipython",
    "version": 3
   },
   "file_extension": ".py",
   "mimetype": "text/x-python",
   "name": "python",
   "nbconvert_exporter": "python",
   "pygments_lexer": "ipython3",
   "version": "3.10.1"
  },
  "orig_nbformat": 4
 },
 "nbformat": 4,
 "nbformat_minor": 2
}
