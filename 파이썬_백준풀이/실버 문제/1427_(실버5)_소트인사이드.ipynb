{
 "cells": [
  {
   "attachments": {},
   "cell_type": "markdown",
   "metadata": {},
   "source": [
    "배열을 정렬하는 것은 쉽다. 수가 주어지면, 그 수의 각 자리수를 내림차순으로 정렬해보자."
   ]
  },
  {
   "cell_type": "code",
   "execution_count": 7,
   "metadata": {},
   "outputs": [
    {
     "name": "stdout",
     "output_type": "stream",
     "text": [
      "4321"
     ]
    }
   ],
   "source": [
    "a =int(input())#수 입력\n",
    "\n",
    "lists = list()\n",
    "\n",
    "while a > 0 :#a가 0보다 클때 1의 자리수를 차레대로 리스트에 정렬 \n",
    "    lists.append(a%10)\n",
    "\n",
    "    a = int(a/10)#1의 자리수를 정렬 후 나누기 10을 하여 앞의 자리수를 바꾼다.\n",
    "\n",
    "#내림차순 정렬\n",
    "lists.sort()\n",
    "lists.reverse()\n",
    "\n",
    "#출력\n",
    "for i in range(len(lists)):\n",
    "    print(lists[i], end = \"\")\n",
    "    \n"
   ]
  },
  {
   "cell_type": "code",
   "execution_count": null,
   "metadata": {},
   "outputs": [],
   "source": []
  }
 ],
 "metadata": {
  "kernelspec": {
   "display_name": "Python 3",
   "language": "python",
   "name": "python3"
  },
  "language_info": {
   "codemirror_mode": {
    "name": "ipython",
    "version": 3
   },
   "file_extension": ".py",
   "mimetype": "text/x-python",
   "name": "python",
   "nbconvert_exporter": "python",
   "pygments_lexer": "ipython3",
   "version": "3.10.1"
  },
  "orig_nbformat": 4,
  "vscode": {
   "interpreter": {
    "hash": "df95319d8ce4e1d89f5365ae10992bc1f65da593082b1d264e8f529830ec2f02"
   }
  }
 },
 "nbformat": 4,
 "nbformat_minor": 2
}
