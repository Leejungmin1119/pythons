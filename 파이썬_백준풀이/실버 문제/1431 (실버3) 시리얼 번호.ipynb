{
 "cells": [
  {
   "cell_type": "code",
   "execution_count": null,
   "metadata": {},
   "outputs": [],
   "source": [
    "a = int(input())\n",
    "# 1. 짧은 거 구분 : 이건 그냥 sort하면 됨\n",
    "# 2. 자리수의 합 : 이건 숫자 찾아서 더한후 그걸 다시 리스트에 집어넣으면 됨\n",
    "# 3. 사전순 : 이건 리스트에 문자자체를 집어넣으면 됨\n",
    "\n",
    "#입력력\n",
    "a = int(input())\n",
    "\n",
    "lists = []\n",
    "sum = 0\n",
    "ch = {1,2,3,4,5,6,7,8,9}\n",
    "\n",
    "for i in range(a):\n",
    "    # 시리얼 넘버 입력\n",
    "    strings = input()\n",
    "    \n",
    "    for i in range(len(strings)):\n",
    "        if i in ch:\n",
    "            # 숫자면 더하기\n",
    "            sum +=int(i)\n",
    "            \n",
    "        lists.append([len(strings),sum,strings])\n",
    "\n",
    "lists.sort()\n",
    "\n",
    "for i in lists:\n",
    "    print(i[2])\n",
    "            \n"
   ]
  }
 ],
 "metadata": {
  "kernelspec": {
   "display_name": "Python 3",
   "language": "python",
   "name": "python3"
  },
  "language_info": {
   "name": "python",
   "version": "3.12.7"
  }
 },
 "nbformat": 4,
 "nbformat_minor": 2
}
