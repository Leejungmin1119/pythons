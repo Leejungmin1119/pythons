{
 "cells": [
  {
   "cell_type": "code",
   "execution_count": null,
   "metadata": {},
   "outputs": [
    {
     "ename": "TypeError",
     "evalue": "cannot unpack non-iterable int object",
     "output_type": "error",
     "traceback": [
      "\u001b[1;31m---------------------------------------------------------------------------\u001b[0m",
      "\u001b[1;31mTypeError\u001b[0m                                 Traceback (most recent call last)",
      "Cell \u001b[1;32mIn [23], line 59\u001b[0m\n\u001b[0;32m     56\u001b[0m         \u001b[38;5;28;01mfor\u001b[39;00m j \u001b[38;5;129;01min\u001b[39;00m \u001b[38;5;28mrange\u001b[39m(x):\n\u001b[0;32m     58\u001b[0m             \u001b[38;5;28;01mif\u001b[39;00m lists[i][j] \u001b[38;5;241m==\u001b[39m \u001b[38;5;241m1\u001b[39m:\n\u001b[1;32m---> 59\u001b[0m                 \u001b[43mBFS\u001b[49m\u001b[43m(\u001b[49m\u001b[43mi\u001b[49m\u001b[43m,\u001b[49m\u001b[43mj\u001b[49m\u001b[43m)\u001b[49m\n\u001b[0;32m     60\u001b[0m     \u001b[38;5;28mprint\u001b[39m(count)\n\u001b[0;32m     61\u001b[0m \u001b[38;5;124;03m\"\"\"\u001b[39;00m\n\u001b[0;32m     62\u001b[0m \u001b[38;5;124;03m        if lists[j[1]][j[0]] == 1:\u001b[39;00m\n\u001b[0;32m     63\u001b[0m \u001b[38;5;124;03m            count+=1\u001b[39;00m\n\u001b[0;32m     64\u001b[0m \u001b[38;5;124;03m            BFS(j[1],j[0])\u001b[39;00m\n\u001b[0;32m     65\u001b[0m \u001b[38;5;124;03m\"\"\"\u001b[39;00m\n",
      "Cell \u001b[1;32mIn [23], line 22\u001b[0m, in \u001b[0;36mBFS\u001b[1;34m(num1, num2)\u001b[0m\n\u001b[0;32m     19\u001b[0m quque \u001b[38;5;241m=\u001b[39m deque([(num1,num2)])\n\u001b[0;32m     20\u001b[0m \u001b[38;5;28;01mwhile\u001b[39;00m quque:\n\u001b[1;32m---> 22\u001b[0m     a,b \u001b[38;5;241m=\u001b[39m quque\u001b[38;5;241m.\u001b[39mpopleft()\n\u001b[0;32m     23\u001b[0m     lists[a][b] \u001b[38;5;241m=\u001b[39m \u001b[38;5;241m0\u001b[39m\n\u001b[0;32m     24\u001b[0m     \u001b[38;5;66;03m# 시간을 줄이기 위해서 ch_lists의 값을 없애기\u001b[39;00m\n",
      "\u001b[1;31mTypeError\u001b[0m: cannot unpack non-iterable int object"
     ]
    }
   ],
   "source": [
    "\"\"\"\n",
    "유기농 배추 \n",
    "\n",
    "배추횐지렁이는 인접한 배추에게 이동할 수 있다 지렁이는 상하좌우 4방향으로 이동가능하고 대각선은 이동이 불가하다.\n",
    "\n",
    "\n",
    "1. 테스터 케이스 생성 후 입력 입력하기 전 리스트와 기본 변수 초기화\n",
    "2. 2차원 배열로 BFS 함수로 이동 \n",
    "3. BFS 함수를 구현하는 과정에서 상하좌우 4방향이 간곳인지 확인할때 먼저 index의 위치값이 선언한 값보다 초과했는지 확인한다.\n",
    "4. 리턴후 출력한다.  \n",
    "\"\"\"\n",
    "import sys\n",
    "from collections import deque\n",
    "sys.setrecursionlimit(10**6)\n",
    "\n",
    "def BFS(num1,num2):\n",
    "\n",
    "    global x,y\n",
    "    quque = deque([(num1,num2)])\n",
    "    while quque:\n",
    "\n",
    "        a,b = quque.popleft()\n",
    "        lists[a][b] = 0\n",
    "        # 시간을 줄이기 위해서 ch_lists의 값을 없애기\n",
    "\n",
    "\n",
    "\n",
    "        for i in range(4):\n",
    "            # over_index 에 있는 값을 넣어서 index 위치가 초과되는지 확인\n",
    "            ch_x,ch_y = over_index[i][1]+b,over_index[i][0] + a\n",
    "            if 0<=ch_x<x and 0<=ch_y<y and lists[ch_y][ch_x] == 1:\n",
    "\n",
    "                quque.extend((ch_y,ch_x))\n",
    "            \n",
    "\n",
    "#메인 함수\n",
    "\n",
    "over_index = [[0,1],[0,-1],[1,0],[-1,0]]\n",
    "testcase = int(input())\n",
    "\n",
    "for i in range(testcase):\n",
    "    count = 0\n",
    "\n",
    "    lists = []\n",
    "    x,y,value = map(int,input().split())\n",
    "    \n",
    "    lists = [[0]* x for j in range(y)]\n",
    "    #배추의 위치 선언\n",
    "    for j in range(value):\n",
    "        a,b = map(int,input().split())\n",
    "        lists[b][a] = 1\n",
    "\n",
    "    # 배추 횐지렁이 찾기\n",
    "    # 이미 방문한 곳은 pass\n",
    "    for i in range(y):\n",
    "        for j in range(x):\n",
    "            \n",
    "            if lists[i][j] == 1:\n",
    "                count+=1\n",
    "                BFS(i,j)\n",
    "    print(count)\n",
    "\"\"\"\n",
    "        if lists[j[1]][j[0]] == 1:\n",
    "            count+=1\n",
    "            BFS(j[1],j[0])\n",
    "\"\"\"\n",
    "\n"
   ]
  }
 ],
 "metadata": {
  "kernelspec": {
   "display_name": "Python 3",
   "language": "python",
   "name": "python3"
  },
  "language_info": {
   "codemirror_mode": {
    "name": "ipython",
    "version": 3
   },
   "file_extension": ".py",
   "mimetype": "text/x-python",
   "name": "python",
   "nbconvert_exporter": "python",
   "pygments_lexer": "ipython3",
   "version": "3.10.1"
  }
 },
 "nbformat": 4,
 "nbformat_minor": 2
}
