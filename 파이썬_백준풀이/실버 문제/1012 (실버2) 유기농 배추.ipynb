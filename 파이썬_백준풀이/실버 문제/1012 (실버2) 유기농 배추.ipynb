{
 "cells": [
  {
   "cell_type": "code",
   "execution_count": null,
   "metadata": {},
   "outputs": [
    {
     "name": "stdout",
     "output_type": "stream",
     "text": [
      "2\n"
     ]
    }
   ],
   "source": [
    "#https://www.acmicpc.net/problem/1012\n",
    "# 1012 유기농 배추 (실버 2)\n",
    "\n",
    "\"\"\"\n",
    "배운점\n",
    "\n",
    "1. 튜플로 한꺼번에 묶기 가능\n",
    "\n",
    "2. lists[num1][num2] = 0 이걸 확실히 안 해주니 함수가 추가로 더 돌아 시간초과가 많이 남.\n",
    "\n",
    "3. append는 단일요소를 추가하고 extend 는 개별로 풀어서 추가함\n",
    "\n",
    "\"\"\"\n",
    "\n",
    "\n",
    "\n",
    "import sys\n",
    "from collections import deque\n",
    "\n",
    "def BFS(num1,num2,lists):\n",
    "\n",
    "    global x,y\n",
    "\n",
    "    quque = deque([(num1,num2)])\n",
    "    \n",
    "    lists[num1][num2] = 0\n",
    "    while quque:\n",
    "\n",
    "        a,b = quque.popleft()\n",
    "\n",
    "        for i in range(4):\n",
    "\n",
    "            ch_x,ch_y = over_index[i][1]+b,over_index[i][0] + a\n",
    "            if 0<=ch_x<x and 0<=ch_y<y and lists[ch_y][ch_x] == 1:\n",
    "\n",
    "                lists[ch_y][ch_x] = 0\n",
    "                quque.append((ch_y,ch_x))\n",
    "            \n",
    "over_index = [[0,1],[0,-1],[1,0],[-1,0]]\n",
    "testcase = int(input())\n",
    "\n",
    "for i in range(testcase):\n",
    "    count = 0\n",
    "\n",
    "    lists = []\n",
    "    \n",
    "    x,y,value = map(int,input().split())\n",
    "    \n",
    "    lists = [[0]* x for j in range(y)]\n",
    "\n",
    "    for j in range(value):\n",
    "        a,b = map(int,input().split())\n",
    "        lists[b][a] = 1\n",
    "\n",
    "\n",
    "    for i in range(y):\n",
    "        for j in range(x):\n",
    "            \n",
    "            if lists[i][j] == 1:\n",
    "                count+=1\n",
    "                BFS(i,j,lists)\n",
    "\n",
    "    print(count)\n",
    "\n",
    "    "
   ]
  }
 ],
 "metadata": {
  "kernelspec": {
   "display_name": "Python 3",
   "language": "python",
   "name": "python3"
  },
  "language_info": {
   "codemirror_mode": {
    "name": "ipython",
    "version": 3
   },
   "file_extension": ".py",
   "mimetype": "text/x-python",
   "name": "python",
   "nbconvert_exporter": "python",
   "pygments_lexer": "ipython3",
   "version": "3.10.1"
  }
 },
 "nbformat": 4,
 "nbformat_minor": 2
}
