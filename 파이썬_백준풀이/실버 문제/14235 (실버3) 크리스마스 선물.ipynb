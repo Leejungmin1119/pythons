{
 "cells": [
  {
   "cell_type": "code",
   "execution_count": null,
   "metadata": {},
   "outputs": [],
   "source": [
    "#https://www.acmicpc.net/problem/14235\n",
    "\n",
    "import heapq\n",
    "n = int(input())\n",
    "lists = []\n",
    "for i in range(n):\n",
    "\n",
    "    a,*number = map(int,input().split())\n",
    "\n",
    "    if a == 0:\n",
    "        if lists:\n",
    "            print(-heapq.heappop(lists))\n",
    "        else:\n",
    "            print(-1)\n",
    "    \n",
    "    else:\n",
    "        for i in number:\n",
    "            heapq.heappush(lists,-i)\n",
    "\n"
   ]
  }
 ],
 "metadata": {
  "kernelspec": {
   "display_name": "Python 3",
   "language": "python",
   "name": "python3"
  },
  "language_info": {
   "codemirror_mode": {
    "name": "ipython",
    "version": 3
   },
   "file_extension": ".py",
   "mimetype": "text/x-python",
   "name": "python",
   "nbconvert_exporter": "python",
   "pygments_lexer": "ipython3",
   "version": "3.10.1"
  }
 },
 "nbformat": 4,
 "nbformat_minor": 2
}
