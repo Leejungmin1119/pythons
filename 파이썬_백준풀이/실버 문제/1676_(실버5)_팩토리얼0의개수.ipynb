{
 "cells": [
  {
   "attachments": {},
   "cell_type": "markdown",
   "metadata": {},
   "source": [
    "N!에서 뒤에서부터 처음 0이 아닌 숫자가 나올 때까지 0의 개수를 구하는 프로그램을 작성하시오.\n",
    "\n",
    "입력:\n",
    "\n",
    "첫째 줄에 N이 주어진다. (0 ≤ N ≤ 500)"
   ]
  },
  {
   "cell_type": "code",
   "execution_count": 2,
   "metadata": {},
   "outputs": [
    {
     "name": "stdout",
     "output_type": "stream",
     "text": [
      "2\n"
     ]
    }
   ],
   "source": [
    "import math\n",
    "\n",
    "a = int(input())\n",
    "\n",
    "a = str(math.factorial(a))#팩토리얼 함수 이용\n",
    "\n",
    "\n",
    "index = (a.find('0',-1))\n",
    "\n",
    "if(index == -1):\n",
    "\n",
    "    print('0')\n",
    "\n",
    "while(index >=0):\n",
    "\n",
    "    if(a[index] != '0'):\n",
    "\n",
    "        print(len(a) - index-1)\n",
    "        break\n",
    "    index-=1\n",
    "\n",
    "\n",
    "\n",
    "\n",
    "        \n",
    "\n",
    "\n",
    "    \n",
    "\n",
    "        \n",
    "\n",
    "\n"
   ]
  }
 ],
 "metadata": {
  "kernelspec": {
   "display_name": "Python 3",
   "language": "python",
   "name": "python3"
  },
  "language_info": {
   "codemirror_mode": {
    "name": "ipython",
    "version": 3
   },
   "file_extension": ".py",
   "mimetype": "text/x-python",
   "name": "python",
   "nbconvert_exporter": "python",
   "pygments_lexer": "ipython3",
   "version": "3.10.1"
  },
  "orig_nbformat": 4
 },
 "nbformat": 4,
 "nbformat_minor": 2
}
