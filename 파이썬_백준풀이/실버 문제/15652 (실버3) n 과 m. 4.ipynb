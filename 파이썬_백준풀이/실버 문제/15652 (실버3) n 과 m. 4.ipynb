{
 "cells": [
  {
   "cell_type": "code",
   "execution_count": 3,
   "metadata": {},
   "outputs": [
    {
     "name": "stdout",
     "output_type": "stream",
     "text": [
      "1\n",
      "2\n",
      "3\n"
     ]
    }
   ],
   "source": [
    "#https://www.acmicpc.net/problem/15650\n",
    "# 15650 n과 m 2 (실버 3)\n",
    "def DFS(num,ch):\n",
    "    global value,number\n",
    "\n",
    "    # 1 부터 value 까지 for문을 돌려서 수열 찾기\n",
    "    if num <= number:\n",
    "        for i in range(1,value+1):\n",
    "\n",
    "            # 추가적으로 오름차순으로 되어 있는지도 확인\n",
    "            if not ch or ch[-1] <= i:\n",
    "                    DFS(num+1,ch + [i])\n",
    "    else:\n",
    "        # 안쪽까지 탐색이 끝나면 출력\n",
    "        print(\" \".join(map(str,ch)))\n",
    "        \n",
    "# 메인 함수\n",
    "value,number =map(int,input().split())\n",
    "lists = []\n",
    "\n",
    "DFS(1,[])"
   ]
  }
 ],
 "metadata": {
  "kernelspec": {
   "display_name": "Python 3",
   "language": "python",
   "name": "python3"
  },
  "language_info": {
   "codemirror_mode": {
    "name": "ipython",
    "version": 3
   },
   "file_extension": ".py",
   "mimetype": "text/x-python",
   "name": "python",
   "nbconvert_exporter": "python",
   "pygments_lexer": "ipython3",
   "version": "3.10.1"
  }
 },
 "nbformat": 4,
 "nbformat_minor": 2
}
