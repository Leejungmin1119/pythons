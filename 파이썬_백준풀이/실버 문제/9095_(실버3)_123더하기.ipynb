{
 "cells": [
  {
   "attachments": {},
   "cell_type": "markdown",
   "metadata": {},
   "source": [
    "정수 4를 1, 2, 3의 합으로 나타내는 방법은 총 7가지가 있다. 합을 나타낼 때는 수를 1개 이상 사용해야 한다.\n",
    "\n",
    "1+1+1+1\n",
    "\n",
    "1+1+2\n",
    "\n",
    "1+2+1\n",
    "\n",
    "2+1+1\n",
    "\n",
    "2+2\n",
    "\n",
    "1+3\n",
    "\n",
    "3+1\n",
    "\n",
    "정수 n이 주어졌을 때, n을 1, 2, 3의 합으로 나타내는 방법의 수를 구하는 프로그램을 작성하시오."
   ]
  },
  {
   "cell_type": "code",
   "execution_count": 22,
   "metadata": {},
   "outputs": [
    {
     "name": "stdout",
     "output_type": "stream",
     "text": [
      "1\n",
      "2\n",
      "4\n",
      "7\n",
      "13\n",
      "24\n",
      "44\n",
      "81\n",
      "149\n",
      "274\n",
      "504\n",
      "927\n"
     ]
    }
   ],
   "source": [
    "def slove(c):\n",
    "    global num,result\n",
    "    for i in range(1,4):\n",
    "        \n",
    "        lists[c] =i\n",
    "\n",
    "        if(sum(lists) < num):\n",
    "            slove(c+1)\n",
    "\n",
    "        elif(sum(lists) == num):\n",
    "            lists[c] = 0\n",
    "            c-=1\n",
    "            result+=1\n",
    "            return 0\n",
    "        \n",
    "        if(lists[c] == 3):\n",
    "            lists[c] = 0\n",
    "            c-=1\n",
    "            return 0\n",
    "\n",
    "result,ch = 0,0\n",
    "for i in range(int(input())):\n",
    "    num = int(input())  \n",
    "    lists = [0]*num\n",
    "    slove(ch)\n",
    "\n",
    "    print(result)\n",
    "    result =0    \n",
    "\n",
    "                \n",
    "\n",
    "\n",
    "\n",
    "\n",
    "\n",
    "        \n",
    "    \n",
    "               "
   ]
  }
 ],
 "metadata": {
  "kernelspec": {
   "display_name": "Python 3",
   "language": "python",
   "name": "python3"
  },
  "language_info": {
   "codemirror_mode": {
    "name": "ipython",
    "version": 3
   },
   "file_extension": ".py",
   "mimetype": "text/x-python",
   "name": "python",
   "nbconvert_exporter": "python",
   "pygments_lexer": "ipython3",
   "version": "3.10.1"
  },
  "orig_nbformat": 4
 },
 "nbformat": 4,
 "nbformat_minor": 2
}
