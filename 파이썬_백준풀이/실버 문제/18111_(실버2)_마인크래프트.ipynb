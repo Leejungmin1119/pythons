{
 "cells": [
  {
   "attachments": {},
   "cell_type": "markdown",
   "metadata": {},
   "source": [
    "팀 레드시프트는 대회 준비를 하다가 지루해져서 샌드박스 게임인 ‘마인크래프트’를 켰다. 마인크래프트는 1 × 1 × 1(세로, 가로, 높이) 크기의 블록들로 이루어진 3차원 세계에서 자유롭게 땅을 파거나 집을 지을 수 있는 게임이다.\n",
    "\n",
    "목재를 충분히 모은 lvalue는 집을 짓기로 하였다. 하지만 고르지 않은 땅에는 집을 지을 수 없기 때문에 땅의 높이를 모두 동일하게 만드는 ‘땅 고르기’ 작업을 해야 한다.\n",
    "\n",
    "lvalue는 세로 N, 가로 M 크기의 집터를 골랐다. 집터 맨 왼쪽 위의 좌표는 (0, 0)이다. 우리의 목적은 이 집터 내의 땅의 높이를 일정하게 바꾸는 것이다. 우리는 다음과 같은 두 종류의 작업을 할 수 있다.\n",
    "\n",
    "1. 좌표 (i, j)의 가장 위에 있는 블록을 제거하여 인벤토리에 넣는다.\n",
    "2. 인벤토리에서 블록 하나를 꺼내어 좌표 (i, j)의 가장 위에 있는 블록 위에 놓는다.\n",
    "\n",
    "\n",
    "1번 작업은 2초가 걸리며, 2번 작업은 1초가 걸린다. 밤에는 무서운 몬스터들이 나오기 때문에 최대한 빨리 땅 고르기 작업을 마쳐야 한다. ‘땅 고르기’ 작업에 걸리는 최소 시간과 그 경우 땅의 높이를 출력하시오.\n",
    "\n",
    "단, 집터 아래에 동굴 등 빈 공간은 존재하지 않으며, 집터 바깥에서 블록을 가져올 수 없다. 또한, 작업을 시작할 때 인벤토리에는 B개의 블록이 들어 있다. 땅의 높이는 256블록을 초과할 수 없으며, 음수가 될 수 없다.\n",
    "\n",
    "입력:\n",
    "\n",
    "첫째 줄에 N, M, B가 주어진다. (1 ≤ M, N ≤ 500, 0 ≤ B ≤ 6.4 × 107)\n",
    "\n",
    "둘째 줄부터 N개의 줄에 각각 M개의 정수로 땅의 높이가 주어진다. (i + 2)번째 줄의 (j + 1)번째 수는 좌표 (i, j)에서의 땅의 높이를 나타낸다. 땅의 높이는 256보다 작거나 같은 자연수 또는 0이다.\n"
   ]
  },
  {
   "cell_type": "code",
   "execution_count": 4,
   "metadata": {},
   "outputs": [
    {
     "name": "stdout",
     "output_type": "stream",
     "text": [
      "48 48\n"
     ]
    }
   ],
   "source": [
    "from sys import stdin\n",
    "\n",
    "def ground():#땅고르기\n",
    "    global land,check_num,time\n",
    "    for i in range(256,-1,-1):\n",
    "\n",
    "        t,l = 0,land\n",
    "\n",
    "        for j in range(lenght):\n",
    "\n",
    "            for k in range(horizontal):\n",
    "\n",
    "                if(lists[j][k] > i):#땅을 없애야 할때\n",
    "\n",
    "                    l+= lists[j][k] - i\n",
    "                    t+= ((lists[j][k] -i)*2)\n",
    "\n",
    "                elif(lists[j][k] < i):#땅을 채워야 할때\n",
    "\n",
    "                    l -=  i -lists[j][k] \n",
    "                    t+= (i - lists[j][k])\n",
    "\n",
    "        if((time > t and l >= 0)):#시간이 더 적게 들고 내가 가지고 있는 땅이 충분한가?\n",
    "            time = t\n",
    "            check_num = i\n",
    "        elif(time < t):\n",
    "            break    \n",
    "  \n",
    "lenght,horizontal,land = map(int,input().split())\n",
    "time =100000000\n",
    "lists = []\n",
    "\n",
    "check_num =0 \n",
    "\n",
    "#입력\n",
    "\n",
    "for i in range(lenght):\n",
    "\n",
    "    lists.append(list(map(int,input().split())))\n",
    "\n",
    "ground()\n",
    "\n",
    "print(time,check_num)"
   ]
  }
 ],
 "metadata": {
  "kernelspec": {
   "display_name": "Python 3",
   "language": "python",
   "name": "python3"
  },
  "language_info": {
   "codemirror_mode": {
    "name": "ipython",
    "version": 3
   },
   "file_extension": ".py",
   "mimetype": "text/x-python",
   "name": "python",
   "nbconvert_exporter": "python",
   "pygments_lexer": "ipython3",
   "version": "3.10.1"
  },
  "orig_nbformat": 4
 },
 "nbformat": 4,
 "nbformat_minor": 2
}
