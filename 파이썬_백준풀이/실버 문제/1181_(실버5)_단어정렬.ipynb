{
 "cells": [
  {
   "attachments": {},
   "cell_type": "markdown",
   "metadata": {},
   "source": [
    "알파벳 소문자로 이루어진 N개의 단어가 들어오면 아래와 같은 조건에 따라 정렬하는 프로그램을 작성하시오.\n",
    "\n",
    "1.길이가 짧은 것부터\n",
    "\n",
    "2.길이가 같으면 사전 순으로\n",
    "\n",
    "입력:\n",
    "첫째 줄에 단어의 개수 N이 주어진다. (1 ≤ N ≤ 20,000) 둘째 줄부터 N개의 줄에 걸쳐 알파벳 소문자로 이루어진 단어가 한 줄에 하나씩 주어진다. 주어지는 문자열의 길이는 50을 넘지 않는다."
   ]
  },
  {
   "cell_type": "code",
   "execution_count": 8,
   "metadata": {},
   "outputs": [
    {
     "name": "stdout",
     "output_type": "stream",
     "text": [
      "a\n",
      "b\n"
     ]
    }
   ],
   "source": [
    "import sys\n",
    "a = int(input())#입력받을 단어의 갯수\n",
    "\n",
    "words = list()#단어를 저장하기 위한 리스트 생성\n",
    "\n",
    "\n",
    "for i in range(a):\n",
    "    word = input()#단어 입력\n",
    "\n",
    "    words.append([len(word),word])#위 조건에 맞게 정렬하기 위해서 2차원 배열로 [길이,단어]를 리스트에 저장\n",
    "\n",
    "words.sort()#정렬\n",
    "\n",
    "print(words[0][1])#인덱스 오류를 막기 위해서 미리 출력\n",
    "for i in range(1,a):\n",
    "    if  words[i-1][1] != words[i][1]:#여러번 입력됬을 경우 한번만 출력하게 해야 함.\n",
    "        print(words[i][1])"
   ]
  }
 ],
 "metadata": {
  "kernelspec": {
   "display_name": "Python 3",
   "language": "python",
   "name": "python3"
  },
  "language_info": {
   "codemirror_mode": {
    "name": "ipython",
    "version": 3
   },
   "file_extension": ".py",
   "mimetype": "text/x-python",
   "name": "python",
   "nbconvert_exporter": "python",
   "pygments_lexer": "ipython3",
   "version": "3.10.1"
  },
  "orig_nbformat": 4,
  "vscode": {
   "interpreter": {
    "hash": "df95319d8ce4e1d89f5365ae10992bc1f65da593082b1d264e8f529830ec2f02"
   }
  }
 },
 "nbformat": 4,
 "nbformat_minor": 2
}
