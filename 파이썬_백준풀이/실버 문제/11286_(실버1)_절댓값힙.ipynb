{
 "cells": [
  {
   "attachments": {},
   "cell_type": "markdown",
   "metadata": {},
   "source": [
    "절댓값 힙은 다음과 같은 연산을 지원하는 자료구조이다.\n",
    "\n",
    "배열에 정수 x (x ≠ 0)를 넣는다.\n",
    "배열에서 절댓값이 가장 작은 값을 출력하고, 그 값을 배열에서 제거한다. 절댓값이 가장 작은 값이 여러개일 때는, 가장 작은 수를 출력하고, 그 값을 배열에서 제거한다.\n",
    "프로그램은 처음에 비어있는 배열에서 시작하게 된다.\n",
    "\n",
    "입력:\n",
    "\n",
    "첫째 줄에 연산의 개수 N(1≤N≤100,000)이 주어진다. 다음 N개의 줄에는 연산에 대한 정보를 나타내는 정수 x가 주어진다. 만약 x가 0이 아니라면 배열에 x라는 값을 넣는(추가하는) 연산이고, x가 0이라면 배열에서 절댓값이 가장 작은 값을 출력하고 그 값을 배열에서 제거하는 경우이다. 입력되는 정수는 -231보다 크고, 231보다 작다."
   ]
  },
  {
   "cell_type": "code",
   "execution_count": 3,
   "metadata": {},
   "outputs": [
    {
     "name": "stdout",
     "output_type": "stream",
     "text": [
      "-1\n",
      "1\n",
      "0\n",
      "-1\n",
      "-1\n",
      "1\n",
      "1\n",
      "-2\n",
      "2\n",
      "0\n"
     ]
    }
   ],
   "source": [
    "import heapq\n",
    "from sys import stdin\n",
    "\n",
    "heap = []\n",
    "\n",
    "for i in range(int(stdin.readline())):\n",
    "\n",
    "    num = (int(stdin.readline()))\n",
    "\n",
    "    if(num == 0):\n",
    "\n",
    "        if(heap == []):\n",
    "            print(0)\n",
    "\n",
    "        else:\n",
    "            print(heapq.heappop(heap)[1])\n",
    "\n",
    "    else:\n",
    "\n",
    "        heapq.heappush(heap,(abs(num),num))        \n"
   ]
  }
 ],
 "metadata": {
  "kernelspec": {
   "display_name": "Python 3",
   "language": "python",
   "name": "python3"
  },
  "language_info": {
   "codemirror_mode": {
    "name": "ipython",
    "version": 3
   },
   "file_extension": ".py",
   "mimetype": "text/x-python",
   "name": "python",
   "nbconvert_exporter": "python",
   "pygments_lexer": "ipython3",
   "version": "3.10.1"
  },
  "orig_nbformat": 4
 },
 "nbformat": 4,
 "nbformat_minor": 2
}
