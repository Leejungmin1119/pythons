{
 "cells": [
  {
   "cell_type": "code",
   "execution_count": 3,
   "metadata": {},
   "outputs": [
    {
     "name": "stdout",
     "output_type": "stream",
     "text": [
      "4\n"
     ]
    }
   ],
   "source": [
    "\"\"\"\n",
    "수열 A가 주어졌을 때, 가장 긴 증가하는 부분 수열을 구하는 프로그램을 작성하시오.\n",
    "\n",
    "예를 들어, 수열 A = {10, 20, 10, 30, 20, 50} 인 경우에 가장 긴 증가하는 부분 수열은 A = {10, 20, 10, 30, 20, 50} 이고, 길이는 4이다.\n",
    "\n",
    "!! 해결책 참조 문제 !!\n",
    "\n",
    "문제점.\n",
    "\n",
    "1. dp에 대한 이해와 활용도 부족\n",
    "- dp는 중복된 연산을 또 하는 것을 방지하기 위해 연산한 값을 저장하여 중복된 값을 계산해야 할때가 올때\n",
    "저장되어 있는 값들을 이용하여 연산속도를 올리는 알고리즘 이다.\n",
    "\n",
    "2. 높은 난도의 알고리즘 \n",
    "-DP 알고리즘은 명확하게 큐나 스택, 덱 처럼 확실하게 딱 정해진 알고리즘이 아니다. 문제에 따라서 쓰이는 방식이 완전히 다르기 때문에 \n",
    "상대적으로 난이도가 높은 알고리즘이다. \n",
    "\n",
    "해결법.\n",
    "\n",
    "1. num 과 수열A 입력 \n",
    "\n",
    "2. 가장 긴 증가하는 수열의 갯수를 저장하는 리스트를 생성.\n",
    "- 생성할때 기본값은 1로 설정 그이유는 가장 긴 증가하는 수열의 최소값은 1이기 때문\n",
    "\n",
    "3. 2중 for문 생성후 i의 값 과 j의 값(j<i 이다.)이랑 비교후 만약 a[i]의 값이 더 크면 증가하는 수열을 만족하게 되니\n",
    "dp[j]+1 의 값을(0~j번 까지의 가장 긴 증가하는 수열의 갯수이다.) dp[i] 에 새로 저장한다.\n",
    "\n",
    "4. 반복문이 끝나고 나면 최종적으로 dp의 최댓값(가장 긴 증가하는 수열의 최댓값)을 출력한다.\n",
    "\"\"\"\n",
    "import sys\n",
    "\n",
    "#메인\n",
    "num = int(input())\n",
    "\n",
    "lists = list(map(int,sys.stdin.readline().split()))\n",
    "#가장 긴 증가하는 수열을 저장 하는 리스트 생성 최솟값 : 1\n",
    "ch = [1]*num\n",
    "\n",
    "#lists[0]~lists[i] 까지 비교하기 \n",
    "for i in range(num):\n",
    "    for j in range(i):\n",
    "\n",
    "        # 만약 lists[j] < lists[i] 이면 ch[j]의 수열 갯수 + 1(lists[i] 가 j보다 크므로) 한다.\n",
    "        if lists[i] > lists[j]:\n",
    "\n",
    "            # 조건이 맞다고 해도 현재값과 ch[j] 즉 ch[0] 부터 j까지 했던 값+1 중에 뭐가 더 증가 수열이 더 큰지 계산한다.\n",
    "            ch[i] = max(ch[j]+1,ch[i])\n",
    "\n",
    "print(max(ch))\n",
    "\n"
   ]
  }
 ],
 "metadata": {
  "kernelspec": {
   "display_name": "Python 3",
   "language": "python",
   "name": "python3"
  },
  "language_info": {
   "codemirror_mode": {
    "name": "ipython",
    "version": 3
   },
   "file_extension": ".py",
   "mimetype": "text/x-python",
   "name": "python",
   "nbconvert_exporter": "python",
   "pygments_lexer": "ipython3",
   "version": "3.10.1"
  }
 },
 "nbformat": 4,
 "nbformat_minor": 2
}
