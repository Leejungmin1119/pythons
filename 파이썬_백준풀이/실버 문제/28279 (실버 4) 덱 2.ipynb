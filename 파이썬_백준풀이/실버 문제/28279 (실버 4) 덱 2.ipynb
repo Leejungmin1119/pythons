{
 "cells": [
  {
   "cell_type": "code",
   "execution_count": 3,
   "metadata": {},
   "outputs": [
    {
     "name": "stdout",
     "output_type": "stream",
     "text": [
      "1\n",
      "8\n",
      "3\n",
      "8\n",
      "3\n",
      "5\n",
      "3\n"
     ]
    }
   ],
   "source": [
    "\"\"\"\n",
    "1 X: 정수 X를 덱의 앞에 넣는다. (1 ≤ X ≤ 100,000)\n",
    "2 X: 정수 X를 덱의 뒤에 넣는다. (1 ≤ X ≤ 100,000)\n",
    "3: 덱에 정수가 있다면 맨 앞의 정수를 빼고 출력한다. 없다면 -1을 대신 출력한다.\n",
    "4: 덱에 정수가 있다면 맨 뒤의 정수를 빼고 출력한다. 없다면 -1을 대신 출력한다.\n",
    "5: 덱에 들어있는 정수의 개수를 출력한다.\n",
    "6: 덱이 비어있으면 1, 아니면 0을 출력한다.\n",
    "7: 덱에 정수가 있다면 맨 앞의 정수를 출력한다. 없다면 -1을 대신 출력한다.\n",
    "8: 덱에 정수가 있다면 맨 뒤의 정수를 출력한다. 없다면 -1을 대신 출력한다.\n",
    "\n",
    "\"\"\"\n",
    "\n",
    "from collections import deque\n",
    "import sys\n",
    "\n",
    "num = int(sys.stdin.readline())\n",
    "deques = deque()\n",
    "for i in range(num):\n",
    "    ch = list(map(int,sys.stdin.readline().split()))\n",
    "\n",
    "    #1. 정수 x를 덱의 앞에 놓기\n",
    "    if ch[0] == 1:\n",
    "        deques.appendleft(ch[1])\n",
    "\n",
    "    #2. 정수 x를 덱의 뒤에 놓기\n",
    "    if ch[0] == 2:\n",
    "        deques.append(ch[1])\n",
    "    \n",
    "    #3. 덱에 정수가 있다면 맨 앞의 정수를 빼고 출력, 없다면 -1 출력\n",
    "    if ch[0] == 3:\n",
    "        if deques == deque():\n",
    "            print(-1)\n",
    "        else:\n",
    "            print(deques.popleft())\n",
    "\n",
    "    #4. 덱에 정수가 있다면 맨 뒤의 정수를 빼고 출력, 없다면 -1 출력\n",
    "    if ch[0] == 4:\n",
    "        if deques == deque():\n",
    "            print(-1)\n",
    "        else:\n",
    "            print(deques.pop())\n",
    "    \n",
    "    #5. 덱에 들어있는 정수의 갯수 출력\n",
    "    if ch[0] == 5:\n",
    "        print(len(deques))\n",
    "    \n",
    "    #6. 덱이 비어있으면 1 비어있지 않으면 0\n",
    "    if ch[0] == 6:\n",
    "        if deques == deque():\n",
    "            print(1)\n",
    "        else:\n",
    "            print(0)\n",
    "    \n",
    "    #7. 덱에 정수가 있다면 맨 앞의 정수를 출력 없다면 -1을 출력\n",
    "    if ch[0] == 7:\n",
    "        if deques == deque():\n",
    "            print(-1)\n",
    "        else:\n",
    "            print(deques[0])\n",
    "    \n",
    "    #8. 덱에 정수가 있다면 맨 뒤의 정수를 출력 없다면 -1을 출력\n",
    "    if ch[0] == 8:\n",
    "        if deques == deque():\n",
    "            print(-1)\n",
    "        else:\n",
    "            print(deques[-1])\n",
    "\n"
   ]
  }
 ],
 "metadata": {
  "kernelspec": {
   "display_name": "Python 3",
   "language": "python",
   "name": "python3"
  },
  "language_info": {
   "codemirror_mode": {
    "name": "ipython",
    "version": 3
   },
   "file_extension": ".py",
   "mimetype": "text/x-python",
   "name": "python",
   "nbconvert_exporter": "python",
   "pygments_lexer": "ipython3",
   "version": "3.10.1"
  }
 },
 "nbformat": 4,
 "nbformat_minor": 2
}
