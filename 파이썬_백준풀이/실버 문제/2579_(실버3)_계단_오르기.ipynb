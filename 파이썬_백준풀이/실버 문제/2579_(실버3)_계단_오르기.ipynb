{
 "cells": [
  {
   "cell_type": "code",
   "execution_count": 27,
   "metadata": {},
   "outputs": [
    {
     "name": "stdout",
     "output_type": "stream",
     "text": [
      "10\n"
     ]
    }
   ],
   "source": [
    "# https://www.acmicpc.net/problem/2579\n",
    "# 2579번 계단 오르기 (실버 3)\n",
    "\n",
    "\"\"\"\n",
    "\n",
    "계단은 한 번에 한 계단씩 또는 두 계단씩 오를 수 있다. 즉, 한 계단을 밟으면서 이어서 다음 계단이나, 다음 다음 계단으로 오를 수 있다.\n",
    "연속된 세 개의 계단을 모두 밟아서는 안 된다. 단, 시작점은 계단에 포함되지 않는다.\n",
    "마지막 도착 계단은 반드시 밟아야 한다.\n",
    "\n",
    "\"\"\"\n",
    "#메인\n",
    "num = int(input())\n",
    "lists = []\n",
    "#입력\n",
    "for i in range(num):\n",
    "\n",
    "    lists.append(int(input()))\n",
    "\n",
    "ch = [0]*num\n",
    "\n",
    "# 계단이 1개일 때랑 2일때는 그냥 입력\n",
    "if num > 2:\n",
    "\n",
    "    ch[0] = lists[0]\n",
    "    ch[1] = lists[1]+lists[0]\n",
    "\n",
    "    ch[2] = max(ch[0]+lists[2],lists[1]+lists[2])\n",
    "\n",
    "    # 차근차근 3부터 num 까지 i-1 인 계단의 최댓값 이 높을지 or (i-2) +lists[i]의 계단이 높을지 확인\n",
    "    for i in range(3,num):\n",
    "\n",
    "        ch[i] = max(ch[i-3]+lists[i-1]+lists[i],ch[i-2]+lists[i])\n",
    "    #출력\n",
    "    print(ch[-1])\n",
    "else:\n",
    "    print(sum(lists))\n"
   ]
  }
 ],
 "metadata": {
  "kernelspec": {
   "display_name": "Python 3",
   "language": "python",
   "name": "python3"
  },
  "language_info": {
   "codemirror_mode": {
    "name": "ipython",
    "version": 3
   },
   "file_extension": ".py",
   "mimetype": "text/x-python",
   "name": "python",
   "nbconvert_exporter": "python",
   "pygments_lexer": "ipython3",
   "version": "3.10.1"
  }
 },
 "nbformat": 4,
 "nbformat_minor": 2
}
