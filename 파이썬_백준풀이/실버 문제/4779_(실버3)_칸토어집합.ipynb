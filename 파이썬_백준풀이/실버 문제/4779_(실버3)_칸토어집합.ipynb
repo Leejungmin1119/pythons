{
 "cells": [
  {
   "cell_type": "code",
   "execution_count": 20,
   "metadata": {},
   "outputs": [
    {
     "name": "stdout",
     "output_type": "stream",
     "text": [
      "- -\n",
      "-\n",
      "- -   - -\n",
      "- -   - -         - -   - -\n",
      "- -   - -         - -   - -                           - -   - -         - -   - -\n",
      "- -   - -         - -   - -                           - -   - -         - -   - -                                                                                 - -   - -         - -   - -                           - -   - -         - -   - -\n",
      "- -\n",
      "-\n",
      "-\n",
      "-\n",
      "-\n",
      "-\n",
      "-\n",
      "-\n",
      "- -\n",
      "- -   - -\n",
      "- -   - -         - -   - -\n"
     ]
    }
   ],
   "source": [
    "#https://www.acmicpc.net/problem/4779\n",
    "#4779 칸토어 집합 (실버3)\n",
    "\"\"\"\n",
    "3**3 = 27개\n",
    "\n",
    "[0] ~ [8] / [9] ~ [17] / [18] ~ [26]\n",
    "[0] ~ [2] / [3] ~ [5] / [6] ~ [8]\n",
    "\n",
    "start + end = 8/3 = 2.6 = 3 \n",
    "\n",
    "start + end = 26/3 = 8.6 = 8\n",
    "\n",
    "start 부터 n-1의 3제곱까지 가기\n",
    "\"\"\"\n",
    "\n",
    "def setformat(lists,start,end,ch):\n",
    "    if start < end:\n",
    "        mid_start = start+(3**(ch-1)) #ex) = ch =2  = mids = [3]\n",
    "        mid_end = end-(3**(ch-1)) #ex) = mide = [5]\n",
    "\n",
    "        setformat(lists,start,mid_start-1,ch-1)\n",
    "        setformat(lists,mid_end+1,end,ch-1)\n",
    "        delete(lists,mid_start,mid_end)\n",
    "\n",
    "def delete(lists,start,end):\n",
    "    for i in range(start,end+1):\n",
    "        lists[i] = \" \"\n",
    "while True:\n",
    "    try:\n",
    "        num = int(input())\n",
    "\n",
    "        lists = [\"-\"] * 3**num\n",
    "\n",
    "        setformat(lists,0,len(lists)-1,num)\n",
    "\n",
    "        for i in lists:\n",
    "            print(i,end=\"\")\n",
    "        print()\n",
    "    except:\n",
    "        break"
   ]
  }
 ],
 "metadata": {
  "kernelspec": {
   "display_name": "Python 3",
   "language": "python",
   "name": "python3"
  },
  "language_info": {
   "codemirror_mode": {
    "name": "ipython",
    "version": 3
   },
   "file_extension": ".py",
   "mimetype": "text/x-python",
   "name": "python",
   "nbconvert_exporter": "python",
   "pygments_lexer": "ipython3",
   "version": "3.10.1"
  }
 },
 "nbformat": 4,
 "nbformat_minor": 2
}
