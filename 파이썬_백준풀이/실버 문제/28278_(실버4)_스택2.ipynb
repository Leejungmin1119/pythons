{
 "cells": [
  {
   "cell_type": "code",
   "execution_count": 3,
   "metadata": {},
   "outputs": [
    {
     "name": "stdout",
     "output_type": "stream",
     "text": [
      "-1\n",
      "-1\n",
      "-1\n",
      "3\n",
      "3\n"
     ]
    }
   ],
   "source": [
    "#https://www.acmicpc.net/problem/28278\n",
    "# 28278 스택2 (실버 4)\n",
    "\n",
    "\"\"\"\n",
    "\n",
    "1 X: 정수 X를 스택에 넣는다. (1 ≤ X ≤ 100,000)\n",
    "2: 스택에 정수가 있다면 맨 위의 정수를 빼고 출력한다. 없다면 -1을 대신 출력한다.\n",
    "3: 스택에 들어있는 정수의 개수를 출력한다.\n",
    "4: 스택이 비어있으면 1, 아니면 0을 출력한다.\n",
    "5: 스택에 정수가 있다면 맨 위의 정수를 출력한다. 없다면 -1을 대신 출력한다.\n",
    "\n",
    "\"\"\"\n",
    "\n",
    "from collections import deque\n",
    "import sys\n",
    "\n",
    "#메인\n",
    "num = int(sys.stdin.readline())\n",
    "deques = deque()\n",
    "\n",
    "for i in range(num):\n",
    "\n",
    "    ch = list(map(int,sys.stdin.readline().split()))\n",
    "\n",
    "    #1. 정수 x를 스택에 넣기\n",
    "    if ch[0] == 1:\n",
    "        deques.append(ch[1])\n",
    "    \n",
    "    #2. 스택에 정수가 있다면 맨 위의 정수를 뺴고 출력하기. 없다면 -1을 대신 출력\n",
    "    elif ch[0] == 2:\n",
    "        if deques == deque():\n",
    "            print(-1)\n",
    "        else:\n",
    "            print(deques.pop())\n",
    "    #3. 스택에 들어있는 정수의 갯수를 출력\n",
    "    elif ch[0] == 3:\n",
    "        print(len(deques))\n",
    "    \n",
    "    #4. 스택이 비어있으면 1, 아니면 0을 출력하기\n",
    "\n",
    "    elif ch[0] == 4:\n",
    "        if deques == deque():\n",
    "            print(1)\n",
    "        else:\n",
    "            print(0)\n",
    "    \n",
    "    #5 스택에 정수가 있다면 맨위에 정수 출력 없다면 -1 출력\n",
    "\n",
    "    if ch[0] == 5:\n",
    "        if deques == deque():\n",
    "            print(-1)\n",
    "        else:\n",
    "            print(deques[-1])\n",
    "        \n",
    "\n"
   ]
  }
 ],
 "metadata": {
  "kernelspec": {
   "display_name": "Python 3",
   "language": "python",
   "name": "python3"
  },
  "language_info": {
   "codemirror_mode": {
    "name": "ipython",
    "version": 3
   },
   "file_extension": ".py",
   "mimetype": "text/x-python",
   "name": "python",
   "nbconvert_exporter": "python",
   "pygments_lexer": "ipython3",
   "version": "3.10.1"
  }
 },
 "nbformat": 4,
 "nbformat_minor": 2
}
