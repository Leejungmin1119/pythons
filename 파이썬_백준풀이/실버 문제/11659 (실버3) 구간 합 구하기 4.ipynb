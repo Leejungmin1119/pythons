{
 "cells": [
  {
   "cell_type": "code",
   "execution_count": null,
   "metadata": {},
   "outputs": [
    {
     "name": "stdout",
     "output_type": "stream",
     "text": [
      "1\n"
     ]
    }
   ],
   "source": [
    "#https://www.acmicpc.net/problem/11659\n",
    "\n",
    "#메인함수\n",
    "import sys\n",
    "\n",
    "a,b = map(int,sys.stdin.readline().split())\n",
    "lists = list(map(int,sys.stdin.readline().split()))\n",
    "save_num = [0]\n",
    "\n",
    "sum = 0\n",
    "#1~n번째까지 합을 미리 다 구한다.\n",
    "for i in range(a):\n",
    "    sum+=lists[i]\n",
    "    save_num.append(sum)\n",
    "\n",
    "for i in range(b):\n",
    "    start,end = map(int,sys.stdin.readline().split())\n",
    "\n",
    "    # 3 ~ 5의 합을 구할려면 1~5의 배열합과 1~2까지의 배열 합을 빼면 된다.\n",
    "    print((save_num[end]-save_num[start-1]))\n",
    "\n"
   ]
  }
 ],
 "metadata": {
  "kernelspec": {
   "display_name": "Python 3",
   "language": "python",
   "name": "python3"
  },
  "language_info": {
   "codemirror_mode": {
    "name": "ipython",
    "version": 3
   },
   "file_extension": ".py",
   "mimetype": "text/x-python",
   "name": "python",
   "nbconvert_exporter": "python",
   "pygments_lexer": "ipython3",
   "version": "3.10.1"
  }
 },
 "nbformat": 4,
 "nbformat_minor": 2
}
