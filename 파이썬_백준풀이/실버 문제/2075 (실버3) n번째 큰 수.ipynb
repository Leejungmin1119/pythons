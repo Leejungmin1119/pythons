{
 "cells": [
  {
   "cell_type": "code",
   "execution_count": null,
   "metadata": {},
   "outputs": [
    {
     "name": "stdout",
     "output_type": "stream",
     "text": [
      "5\n"
     ]
    }
   ],
   "source": [
    "#https://www.acmicpc.net/problem/2075\n",
    "# 2075 n번쨰 큰 수 (실버 3)\n",
    "\n",
    "\"\"\"\n",
    "\n",
    "    12 7 9 15 5 자기를 제외한 n번째 변수보다 높아야 함\n",
    "    13 8 11 19 6\n",
    "    21 10 26 31 16 n-1번째로 낮아야함 or n-2번째로 낮아야 함\n",
    "    48 14 28 35 25 n-1번째로 낮아야함 or  n-2번째로 낮아야 함\n",
    "    52 20 32 41 49 n번째 변수보다 낮아야함 \n",
    "\n",
    "    \n",
    "    특징\n",
    "\n",
    "    1.\n",
    "    a[i][0] > a[i][1]\n",
    "\n",
    "    2.\n",
    "    n번째로 큰 수 = n의 크기\n",
    "\n",
    "    n번쨰 줄 n번째 로 큰 수 => 상대방 보다 다 작아야 함\n",
    "\n",
    "    n-1번째 줄 n번째로 큰 수 ->  \n",
    "\n",
    "\n",
    "    48 14 28 35 25\n",
    "    52 20 32 41 49\n",
    "\n",
    "    n-1 = 같은 줄 다이기고 n번째줄 1개만 이겨도 가능\n",
    "\"\"\"\n",
    "import heapq\n",
    "\n",
    "n = int(input())\n",
    "\n",
    "lists = []\n",
    "for i in range(n):\n",
    "    for i in map(int,input().split()):\n",
    "    \n",
    "        heapq.heappush(lists,i)\n",
    "\n",
    "        if len(lists) > n:\n",
    "            heapq.heappop(lists)\n",
    "\n",
    "print(lists[0])\n",
    "\n",
    "\n",
    "\n"
   ]
  }
 ],
 "metadata": {
  "kernelspec": {
   "display_name": "Python 3",
   "language": "python",
   "name": "python3"
  },
  "language_info": {
   "codemirror_mode": {
    "name": "ipython",
    "version": 3
   },
   "file_extension": ".py",
   "mimetype": "text/x-python",
   "name": "python",
   "nbconvert_exporter": "python",
   "pygments_lexer": "ipython3",
   "version": "3.10.1"
  }
 },
 "nbformat": 4,
 "nbformat_minor": 2
}
