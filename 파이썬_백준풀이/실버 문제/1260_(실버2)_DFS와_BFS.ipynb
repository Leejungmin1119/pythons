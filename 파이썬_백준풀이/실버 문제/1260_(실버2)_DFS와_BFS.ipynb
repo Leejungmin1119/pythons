{
 "cells": [
  {
   "cell_type": "code",
   "execution_count": 11,
   "metadata": {},
   "outputs": [
    {
     "name": "stdout",
     "output_type": "stream",
     "text": [
      "1000 999 \n",
      "1000 999 "
     ]
    }
   ],
   "source": [
    "#https://www.acmicpc.net/problem/1260\n",
    "# 1260 DFS와 BFS (실버 2)\n",
    "import sys\n",
    "from collections import deque\n",
    "sys.setrecursionlimit(10**6)\n",
    "\n",
    "#DFS 함수\n",
    "def DFS(start):\n",
    "    \n",
    "    ch_DFS.append(start)\n",
    "\n",
    "    for i in dic[start]:\n",
    "        if i not in ch_DFS:\n",
    "            DFS(i)\n",
    "#BFS 함수\n",
    "def BFS(start):\n",
    "\n",
    "    deques = deque([start])\n",
    "    node = set()\n",
    "\n",
    "    while deques:\n",
    "        ch = deques.popleft()\n",
    "        if ch not in node:\n",
    "\n",
    "            ch_BFS.append(ch)\n",
    "            node.add(ch)\n",
    "\n",
    "            for i in dic[ch]:\n",
    "                if i not in node:\n",
    "                    deques.append(i)\n",
    "\n",
    "#메인 함수\n",
    "dot,line,num = map(int,sys.stdin.readline().split())\n",
    "dic = {i:[0] for i in range(1,dot+1)}\n",
    "\n",
    "ch_DFS = []\n",
    "ch_BFS = []\n",
    "\n",
    "#간선 정보 입력\n",
    "for i in range(line):\n",
    "    line1,line2 = map(int,sys.stdin.readline().split())\n",
    "\n",
    "    dic[line1].append(line2)\n",
    "    dic[line2].append(line1)\n",
    "\n",
    "for i in dic:\n",
    "    dic[i].remove(0)\n",
    "    dic[i].sort()\n",
    "\n",
    "#함수 이동\n",
    "DFS(num)\n",
    "BFS(num)\n",
    "\n",
    "#출력\n",
    "for i in ch_DFS:\n",
    "    print(i,end=\" \")\n",
    "print()\n",
    "\n",
    "for i in ch_BFS:\n",
    "    print(i,end=\" \")    "
   ]
  }
 ],
 "metadata": {
  "kernelspec": {
   "display_name": "Python 3",
   "language": "python",
   "name": "python3"
  },
  "language_info": {
   "codemirror_mode": {
    "name": "ipython",
    "version": 3
   },
   "file_extension": ".py",
   "mimetype": "text/x-python",
   "name": "python",
   "nbconvert_exporter": "python",
   "pygments_lexer": "ipython3",
   "version": "3.10.1"
  }
 },
 "nbformat": 4,
 "nbformat_minor": 2
}
