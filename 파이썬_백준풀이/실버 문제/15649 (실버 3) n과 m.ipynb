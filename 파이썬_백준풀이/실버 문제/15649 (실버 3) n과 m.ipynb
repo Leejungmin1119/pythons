{
 "cells": [
  {
   "cell_type": "code",
   "execution_count": null,
   "metadata": {},
   "outputs": [
    {
     "name": "stdout",
     "output_type": "stream",
     "text": [
      "1 2\n",
      "1 3\n",
      "1 4\n",
      "2 1\n",
      "2 3\n",
      "2 4\n",
      "3 1\n",
      "3 2\n",
      "3 4\n",
      "4 1\n",
      "4 2\n",
      "4 3\n"
     ]
    }
   ],
   "source": [
    "#https://www.acmicpc.net/problem/15649\n",
    "# 15649 n 과 m (실버 3)\n",
    "\n",
    "\"\"\"\n",
    "백트래킹 알고리즘\n",
    "\n",
    "트리에 있는 노드를 조사하면서 만약 조건에 부합하지 않는다면 다시 되돌아가서(가지치기 기법) 찾는 알고리즘이다.\n",
    "\n",
    "기본적으로 트리를 탐색해야하기 때문에 DFS 와 BFS 를 사용하며 DFS가 깊이 우선 탐색 알고리즘이기에 백트래킹에선\n",
    "\n",
    "DFS가 좀 더 사용하기 편하다.\n",
    "\n",
    "활용:\n",
    "\n",
    "게임 퀘스트 조건 완료 후 다시 npc 한테 되돌아갈떄의 경로 \n",
    "\n",
    "이는 npc 한테서 퀘스트를 받고 사냥터에가서 사냥후 퀘스트가 완료한 시점(여기 있을 필요가 없어짐)에서 다시 되돌아가야 하기 때문에\n",
    "\n",
    "백트래킹 알고리즘이 사용이 된다.\n",
    "\n",
    "ㅡㅡㅡㅡㅡㅡㅡㅡㅡㅡㅡㅡㅡㅡㅡㅡㅡㅡㅡㅡㅡㅡㅡㅡㅡㅡㅡㅡㅡㅡㅡㅡㅡㅡㅡㅡㅡㅡㅡㅡㅡㅡㅡㅡㅡㅡㅡㅡㅡㅡㅡㅡㅡㅡㅡㅡㅡㅡㅡㅡㅡㅡㅡㅡㅡㅡ\n",
    "\n",
    "n 과 m\n",
    "\n",
    "1 부터 n 까지 중복없이 m개를 고른 수열\n",
    "\n",
    "여기서 조건은 중복없으 m개를 골라야 한다는 것이다.\n",
    "\n",
    "즉 n이 5이고 m이 4일때 \n",
    "\n",
    "{1,2,3,4} 는 되지만 {1,1,2,3} 은 1이 중복되었기 때문에 안된다는 것이다.\n",
    "\n",
    "1. DFS 함수 내에 조건를 만들어 조건에 부합하면 재귀함수를 실행\n",
    "- 만약 n이5 이고 m이 3 일때 \n",
    "DFS 에서 현재 {1} 이고 다음 수열의 숫자를 넣을떄 1은 넣지 않게 한다. \n",
    "\n",
    "2. 만약에 부합하지 않을때의 pass 활용\n",
    "\n",
    "3. 노드의 끝까지 들어가고 나서 list 에 저장하기\n",
    "\n",
    "\"\"\"\n",
    "\n",
    "def DFS(num,ch):\n",
    "    global value,number\n",
    "\n",
    "    # 1 부터 value 까지 for문을 돌려서 수열 찾기\n",
    "    if num <= number:\n",
    "        for i in range(1,value+1):\n",
    "            \n",
    "            # 만약 ch 배열에 들어가 있지 않으면 재귀 함수 실행\n",
    "            if i not in ch:\n",
    "\n",
    "                DFS(num+1,ch + [i])\n",
    "    else:\n",
    "        # 안쪽까지 탐색이 끝나면 출력\n",
    "        print(\" \".join(map(str,ch)))\n",
    "        \n",
    "        \n",
    "\n",
    "# 메인 함수\n",
    "value,number =map(int,input().split())\n",
    "lists = []\n",
    "\n",
    "DFS(1,[])"
   ]
  }
 ],
 "metadata": {
  "kernelspec": {
   "display_name": "Python 3",
   "language": "python",
   "name": "python3"
  },
  "language_info": {
   "codemirror_mode": {
    "name": "ipython",
    "version": 3
   },
   "file_extension": ".py",
   "mimetype": "text/x-python",
   "name": "python",
   "nbconvert_exporter": "python",
   "pygments_lexer": "ipython3",
   "version": "3.10.1"
  }
 },
 "nbformat": 4,
 "nbformat_minor": 2
}
