{
 "cells": [
  {
   "attachments": {},
   "cell_type": "markdown",
   "metadata": {},
   "source": [
    "도현이네 반 학생 N명의 이름과 국어, 영어, 수학 점수가 주어진다. 이때, 다음과 같은 조건으로 학생의 성적을 정렬하는 프로그램을 작성하시오.\n",
    "\n",
    "국어 점수가 감소하는 순서로\n",
    "국어 점수가 같으면 영어 점수가 증가하는 순서로\n",
    "국어 점수와 영어 점수가 같으면 수학 점수가 감소하는 순서로\n",
    "모든 점수가 같으면 이름이 사전 순으로 증가하는 순서로 (단, 아스키 코드에서 대문자는 소문자보다 작으므로 사전순으로 앞에 온다.)\n",
    "\n",
    "입력:\n",
    "\n",
    "첫째 줄에 도현이네 반의 학생의 수 N (1 ≤ N ≤ 100,000)이 주어진다. 둘째 줄부터 한 줄에 하나씩 각 학생의 이름, 국어, 영어, 수학 점수가 공백으로 구분해 주어진다. 점수는 1보다 크거나 같고, 100보다 작거나 같은 자연수이다. 이름은 알파벳 대소문자로 이루어진 문자열이고, 길이는 10자리를 넘지 않는다.\n"
   ]
  },
  {
   "cell_type": "code",
   "execution_count": 11,
   "metadata": {},
   "outputs": [
    {
     "name": "stdout",
     "output_type": "stream",
     "text": [
      "b\n",
      "g\n"
     ]
    }
   ],
   "source": [
    "import sys\n",
    "N = int(sys.stdin.readline())#수 입력\n",
    "\n",
    "lists = list()\n",
    "for i in range(N):#입력된 수 만큼 반복\n",
    "\n",
    "    #조건에 맞게 정렬\n",
    "    name,G,E,M = sys.stdin.readline().split()\n",
    "    G,E,M = 100-int(G),int(E),100-int(M)#100-()를 해줌으로서 국어,수학 부분은 내림차순으로따로 정렬할 수 있게 한다\n",
    "    lists.append([G,E,M,name])\n",
    "\n",
    "lists.sort()#정렬\n",
    "\n",
    "#출력\n",
    "for i in range(N):\n",
    "    print(lists[i][3])"
   ]
  }
 ],
 "metadata": {
  "kernelspec": {
   "display_name": "Python 3",
   "language": "python",
   "name": "python3"
  },
  "language_info": {
   "codemirror_mode": {
    "name": "ipython",
    "version": 3
   },
   "file_extension": ".py",
   "mimetype": "text/x-python",
   "name": "python",
   "nbconvert_exporter": "python",
   "pygments_lexer": "ipython3",
   "version": "3.10.1"
  },
  "orig_nbformat": 4,
  "vscode": {
   "interpreter": {
    "hash": "df95319d8ce4e1d89f5365ae10992bc1f65da593082b1d264e8f529830ec2f02"
   }
  }
 },
 "nbformat": 4,
 "nbformat_minor": 2
}
