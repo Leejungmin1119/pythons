{
 "cells": [
  {
   "cell_type": "code",
   "execution_count": 4,
   "metadata": {},
   "outputs": [
    {
     "name": "stdout",
     "output_type": "stream",
     "text": [
      "4\n"
     ]
    }
   ],
   "source": [
    "from collections import deque\n",
    "strings = list(input())\n",
    "ch = deque()\n",
    "state = True\n",
    "ans = 0\n",
    "\n",
    "for i in strings:\n",
    "    \n",
    "    if i == \"(\":\n",
    "        ch.append(i)\n",
    "        state = True\n",
    "\n",
    "    elif i == \")\":\n",
    "        if state == True:\n",
    "            ch.pop()\n",
    "            ans+=len(ch)\n",
    "            state = False\n",
    "        elif state == False:\n",
    "            ch.pop()\n",
    "            ans+=1\n",
    "\n",
    "print(ans)\n",
    "        \n"
   ]
  }
 ],
 "metadata": {
  "kernelspec": {
   "display_name": "Python 3",
   "language": "python",
   "name": "python3"
  },
  "language_info": {
   "codemirror_mode": {
    "name": "ipython",
    "version": 3
   },
   "file_extension": ".py",
   "mimetype": "text/x-python",
   "name": "python",
   "nbconvert_exporter": "python",
   "pygments_lexer": "ipython3",
   "version": "3.11.9"
  }
 },
 "nbformat": 4,
 "nbformat_minor": 2
}
