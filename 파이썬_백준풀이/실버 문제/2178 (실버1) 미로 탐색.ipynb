{
 "cells": [
  {
   "cell_type": "code",
   "execution_count": 22,
   "metadata": {},
   "outputs": [
    {
     "ename": "ValueError",
     "evalue": "not enough values to unpack (expected 2, got 0)",
     "output_type": "error",
     "traceback": [
      "\u001b[1;31m---------------------------------------------------------------------------\u001b[0m",
      "\u001b[1;31mValueError\u001b[0m                                Traceback (most recent call last)",
      "Cell \u001b[1;32mIn [22], line 54\u001b[0m\n\u001b[0;32m     50\u001b[0m \u001b[38;5;66;03m#메인 함수\u001b[39;00m\n\u001b[0;32m     51\u001b[0m \n\u001b[0;32m     52\u001b[0m \u001b[38;5;66;03m# index out 오류 방지 하기 위한 리스트 생성\u001b[39;00m\n\u001b[0;32m     53\u001b[0m ch_list \u001b[38;5;241m=\u001b[39m [[\u001b[38;5;241m0\u001b[39m,\u001b[38;5;241m1\u001b[39m],[\u001b[38;5;241m-\u001b[39m\u001b[38;5;241m1\u001b[39m,\u001b[38;5;241m0\u001b[39m],[\u001b[38;5;241m1\u001b[39m,\u001b[38;5;241m0\u001b[39m],[\u001b[38;5;241m0\u001b[39m,\u001b[38;5;241m-\u001b[39m\u001b[38;5;241m1\u001b[39m]]\n\u001b[1;32m---> 54\u001b[0m y,x \u001b[38;5;241m=\u001b[39m \u001b[38;5;28mmap\u001b[39m(\u001b[38;5;28mint\u001b[39m,\u001b[38;5;28minput\u001b[39m()\u001b[38;5;241m.\u001b[39msplit())\n\u001b[0;32m     56\u001b[0m lists \u001b[38;5;241m=\u001b[39m [\u001b[38;5;28mlist\u001b[39m(\u001b[38;5;28mmap\u001b[39m(\u001b[38;5;28mint\u001b[39m,\u001b[38;5;28minput\u001b[39m()\u001b[38;5;241m.\u001b[39mrstrip())) \u001b[38;5;28;01mfor\u001b[39;00m i \u001b[38;5;129;01min\u001b[39;00m \u001b[38;5;28mrange\u001b[39m(y)]\n\u001b[0;32m     58\u001b[0m \u001b[38;5;28mprint\u001b[39m(BFS())\n",
      "\u001b[1;31mValueError\u001b[0m: not enough values to unpack (expected 2, got 0)"
     ]
    }
   ],
   "source": [
    "#https://www.acmicpc.net/problem/2178\n",
    "# 2178 (실버 1) 미로탐색\n",
    "\n",
    "\"\"\"\n",
    "미로 탐색 문제 (BFS, 너비 탐색)\n",
    "\n",
    "* BFS로 정점들을 탐색할때 항상 각각 점들을 최단 경로로 모두 탐색하게 된다는 점을 이용하자. *\n",
    "\n",
    "1. 미로의 정보 입력\n",
    "\n",
    "2. BFS 알고리즘이용, 각 정점들을 탐색을 한다. \n",
    "\n",
    "3. BFS 알고리즘에서 최단경로로 다 한번씩 탐색할때 마다 거리를 +1 해준다. 탐색중 (n,m)의 정보가 입력이 되면 그 즉시 거리값을 return 하고 종료후 출력한다.\n",
    "\n",
    "\"\"\"\n",
    "\n",
    "import sys\n",
    "from collections import deque\n",
    "import copy \n",
    "def BFS():\n",
    "    global x,y\n",
    "    \n",
    "    distance =1\n",
    "    node,node1 = 1,0\n",
    "    deques = deque([(1,1)])\n",
    "    while deques:\n",
    "\n",
    "        a,b = deques.popleft()\n",
    "        # 간 곳은 0 체크 \n",
    "        lists[a-1][b-1] = 0\n",
    "\n",
    "        node -=1\n",
    "        for i in range(4):\n",
    "            ch_y,ch_x = a+ch_list[i][0],b + ch_list[i][1]\n",
    "\n",
    "\n",
    "            # 만약 다음 길이 내 목적지라면?\n",
    "            if ch_y == y and ch_x == x:\n",
    "                return distance + 1\n",
    "            #아닐 시 다음 내가 갈 길이 갈수 있는지 체크\n",
    "            if  0 < ch_x <= x and 0 < ch_y <= y and lists[ch_y-1][ch_x-1] != 0:\n",
    "                lists[ch_y-1][ch_x-1] = 0\n",
    "                node1+=1\n",
    "                # 바로 deques 에 저장 하지 않고 ch_distance에 저장하여 거리 확인\n",
    "                deques.append((ch_y,ch_x))\n",
    "        \n",
    "        # deques에 큐가 다 비으면 거리+1\n",
    "        if node == 0:\n",
    "            distance+=1\n",
    "            node = node1\n",
    "            node1 = 0\n",
    "\n",
    "\n",
    "#메인 함수\n",
    "\n",
    "# index out 오류 방지 하기 위한 리스트 생성\n",
    "ch_list = [[0,1],[-1,0],[1,0],[0,-1]]\n",
    "y,x = map(int,sys.stdin.readline().split())\n",
    "\n",
    "lists = [list(map(int,sys.stdin.readline().rstrip())) for i in range(y)]\n",
    "\n",
    "print(BFS())\n",
    "\n"
   ]
  }
 ],
 "metadata": {
  "kernelspec": {
   "display_name": "Python 3",
   "language": "python",
   "name": "python3"
  },
  "language_info": {
   "codemirror_mode": {
    "name": "ipython",
    "version": 3
   },
   "file_extension": ".py",
   "mimetype": "text/x-python",
   "name": "python",
   "nbconvert_exporter": "python",
   "pygments_lexer": "ipython3",
   "version": "3.10.1"
  }
 },
 "nbformat": 4,
 "nbformat_minor": 2
}
