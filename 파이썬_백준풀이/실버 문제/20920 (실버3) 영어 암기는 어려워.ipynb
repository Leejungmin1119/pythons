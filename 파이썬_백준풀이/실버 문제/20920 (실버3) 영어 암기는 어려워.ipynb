{
 "cells": [
  {
   "cell_type": "code",
   "execution_count": 39,
   "metadata": {},
   "outputs": [
    {
     "name": "stdout",
     "output_type": "stream",
     "text": [
      "swift\n",
      "mouse\n",
      "appearance\n",
      "attendance\n",
      "append\n",
      "wallet\n"
     ]
    }
   ],
   "source": [
    "import sys\n",
    "a,b = map(int,input().split())\n",
    "dic = dict()\n",
    "sort_list = []\n",
    "for i in range(a):\n",
    "    string = input().rstrip()\n",
    "\n",
    "    if len(string) >= b and string not in dic:\n",
    "        dic[string] = 1\n",
    "    elif len(string) >= b:\n",
    "        dic[string] += 1\n",
    "\n",
    "for i in dic:\n",
    "    sort_list.append([dic[i],len(i),i])\n",
    "\n",
    "\n",
    "sort_list = sorted(sort_list,key = lambda x : (-x[0],-x[1],x[2]))\n",
    "\n",
    "for i in sort_list:\n",
    "    print(i[2])\n",
    "\n"
   ]
  },
  {
   "cell_type": "code",
   "execution_count": null,
   "metadata": {},
   "outputs": [],
   "source": []
  },
  {
   "cell_type": "code",
   "execution_count": null,
   "metadata": {},
   "outputs": [],
   "source": []
  },
  {
   "cell_type": "code",
   "execution_count": null,
   "metadata": {},
   "outputs": [],
   "source": []
  }
 ],
 "metadata": {
  "kernelspec": {
   "display_name": "Python 3",
   "language": "python",
   "name": "python3"
  },
  "language_info": {
   "codemirror_mode": {
    "name": "ipython",
    "version": 3
   },
   "file_extension": ".py",
   "mimetype": "text/x-python",
   "name": "python",
   "nbconvert_exporter": "python",
   "pygments_lexer": "ipython3",
   "version": "3.10.1"
  }
 },
 "nbformat": 4,
 "nbformat_minor": 2
}
