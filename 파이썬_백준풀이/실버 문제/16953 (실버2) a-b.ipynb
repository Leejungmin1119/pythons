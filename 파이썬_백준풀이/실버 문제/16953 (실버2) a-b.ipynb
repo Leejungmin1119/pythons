{
 "cells": [
  {
   "cell_type": "code",
   "execution_count": 26,
   "metadata": {},
   "outputs": [
    {
     "name": "stdout",
     "output_type": "stream",
     "text": [
      "-1\n"
     ]
    }
   ],
   "source": [
    "#https://www.acmicpc.net/problem/16953\n",
    "\n",
    "from collections import deque\n",
    "def BFS(start,end):\n",
    "    \n",
    "    sets = set()\n",
    "    lists = deque([[start,1]])\n",
    "\n",
    "    while lists:\n",
    "        ch = lists.popleft()\n",
    "        if ch[0] == end:\n",
    "            print(ch[1])\n",
    "            return \n",
    "        elif ch[0] < end:\n",
    "            \n",
    "            if ch[0] in sets:\n",
    "                continue\n",
    "            \n",
    "            sets.add(ch[0])\n",
    "            if ch[0]*2 not in sets:\n",
    "                lists.append([ch[0]*2,ch[1]+1])\n",
    "            if (ch[0]*10)+1 not in sets:\n",
    "                lists.append([(ch[0]*10)+1,ch[1]+1])\n",
    "    print(-1)\n",
    "a,b = map(int,input().split())\n",
    "BFS(a,b)"
   ]
  }
 ],
 "metadata": {
  "kernelspec": {
   "display_name": "Python 3",
   "language": "python",
   "name": "python3"
  },
  "language_info": {
   "codemirror_mode": {
    "name": "ipython",
    "version": 3
   },
   "file_extension": ".py",
   "mimetype": "text/x-python",
   "name": "python",
   "nbconvert_exporter": "python",
   "pygments_lexer": "ipython3",
   "version": "3.11.9"
  }
 },
 "nbformat": 4,
 "nbformat_minor": 2
}
