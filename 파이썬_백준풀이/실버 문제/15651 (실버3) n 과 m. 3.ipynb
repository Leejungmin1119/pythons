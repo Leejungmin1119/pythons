{
 "cells": [
  {
   "cell_type": "code",
   "execution_count": 4,
   "metadata": {},
   "outputs": [
    {
     "name": "stdout",
     "output_type": "stream",
     "text": [
      "1 1 1\n",
      "1 1 2\n",
      "1 1 3\n",
      "1 2 1\n",
      "1 2 2\n",
      "1 2 3\n",
      "1 3 1\n",
      "1 3 2\n",
      "1 3 3\n",
      "2 1 1\n",
      "2 1 2\n",
      "2 1 3\n",
      "2 2 1\n",
      "2 2 2\n",
      "2 2 3\n",
      "2 3 1\n",
      "2 3 2\n",
      "2 3 3\n",
      "3 1 1\n",
      "3 1 2\n",
      "3 1 3\n",
      "3 2 1\n",
      "3 2 2\n",
      "3 2 3\n",
      "3 3 1\n",
      "3 3 2\n",
      "3 3 3\n"
     ]
    }
   ],
   "source": [
    "#https://www.acmicpc.net/problem/15651\n",
    "# 15651 n과 m 3 (실버 3)\n",
    "def DFS(num,ch):\n",
    "    global value,number\n",
    "\n",
    "    # 1 부터 value 까지 for문을 돌려서 수열 찾기\n",
    "    if num <= number:\n",
    "        for i in range(1,value+1):\n",
    "            \n",
    "            DFS(num+1,ch + [i])\n",
    "    else:\n",
    "        # 안쪽까지 탐색이 끝나면 출력\n",
    "        print(\" \".join(map(str,ch)))\n",
    "        \n",
    "        \n",
    "\n",
    "# 메인 함수\n",
    "value,number =map(int,input().split())\n",
    "lists = []\n",
    "\n",
    "DFS(1,[])"
   ]
  }
 ],
 "metadata": {
  "kernelspec": {
   "display_name": "Python 3",
   "language": "python",
   "name": "python3"
  },
  "language_info": {
   "codemirror_mode": {
    "name": "ipython",
    "version": 3
   },
   "file_extension": ".py",
   "mimetype": "text/x-python",
   "name": "python",
   "nbconvert_exporter": "python",
   "pygments_lexer": "ipython3",
   "version": "3.10.1"
  }
 },
 "nbformat": 4,
 "nbformat_minor": 2
}
