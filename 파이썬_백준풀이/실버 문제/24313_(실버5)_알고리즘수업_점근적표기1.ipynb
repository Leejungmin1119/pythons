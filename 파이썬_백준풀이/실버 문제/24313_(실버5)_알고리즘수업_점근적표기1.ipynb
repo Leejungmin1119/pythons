{
 "cells": [
  {
   "cell_type": "code",
   "execution_count": null,
   "metadata": {},
   "outputs": [
    {
     "name": "stdout",
     "output_type": "stream",
     "text": [
      "0\n"
     ]
    }
   ],
   "source": [
    "#https://www.acmicpc.net/problem/24313\n",
    "#알고리즘 수업-점근적 표기1(실버 5)\n",
    "\n",
    "\"\"\"\n",
    "조건\n",
    "1.f(n) = a1n + a0 ,  f(n) ≤ c * g(n)\n",
    "\n",
    "2. g(n) = n\n",
    "\n",
    "3. a1n ≤ c\n",
    "\n",
    "\"\"\"\n",
    "\n",
    "a_1,a_0 = map(int,input().split())\n",
    "\n",
    "C = int(input())\n",
    "\n",
    "n= int(input())\n",
    "\n",
    "if (a_1*n + a_0)<= (C*n) and a_1 <= C:\n",
    "    print(1)\n",
    "else:\n",
    "    print(0)    \n",
    "\n",
    "\n"
   ]
  }
 ],
 "metadata": {
  "kernelspec": {
   "display_name": "Python 3",
   "language": "python",
   "name": "python3"
  },
  "language_info": {
   "codemirror_mode": {
    "name": "ipython",
    "version": 3
   },
   "file_extension": ".py",
   "mimetype": "text/x-python",
   "name": "python",
   "nbconvert_exporter": "python",
   "pygments_lexer": "ipython3",
   "version": "3.10.1"
  }
 },
 "nbformat": 4,
 "nbformat_minor": 2
}
