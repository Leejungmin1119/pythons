{
 "cells": [
  {
   "cell_type": "code",
   "execution_count": null,
   "metadata": {},
   "outputs": [
    {
     "name": "stdout",
     "output_type": "stream",
     "text": [
      "2\n"
     ]
    }
   ],
   "source": [
    "\n",
    "\n",
    "# 메인함수\n",
    "num = int(input())\n",
    "length = int(input())\n",
    "string = input()\n",
    "\n",
    "count,index,ch = 0,0,1\n",
    "# 함수 n의 문자열 구현\n",
    "\n",
    "while (index+2) < length:\n",
    "\n",
    "    # 현 비교할 문자열이 n1 이랑 같은지 확인  \n",
    "    if string[index:index+3] == \"IOI\":\n",
    "\n",
    "        #n이랑 같으면?\n",
    "        if ch >= num:\n",
    "            count+=1\n",
    "\n",
    "        #위치 2칸 이동하기\n",
    "        index+=2\n",
    "        ch+=1\n",
    "    else:\n",
    "        index+=1\n",
    "        ch = 1\n",
    "\n",
    "print(count)"
   ]
  }
 ],
 "metadata": {
  "kernelspec": {
   "display_name": "Python 3",
   "language": "python",
   "name": "python3"
  },
  "language_info": {
   "codemirror_mode": {
    "name": "ipython",
    "version": 3
   },
   "file_extension": ".py",
   "mimetype": "text/x-python",
   "name": "python",
   "nbconvert_exporter": "python",
   "pygments_lexer": "ipython3",
   "version": "3.10.1"
  }
 },
 "nbformat": 4,
 "nbformat_minor": 2
}
