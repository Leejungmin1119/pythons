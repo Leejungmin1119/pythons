{
 "cells": [
  {
   "cell_type": "code",
   "execution_count": null,
   "metadata": {},
   "outputs": [
    {
     "name": "stdout",
     "output_type": "stream",
     "text": [
      "1\n",
      "0\n",
      "2\n",
      "0\n",
      "0\n"
     ]
    }
   ],
   "source": [
    "#https://www.acmicpc.net/problem/24444\n",
    "# 24444번 알고리즘 수업 너비 우선탐색1 (실버 2)\n",
    "\"\"\"\n",
    "BFS 알고리즘\n",
    "\n",
    "- 가장 내가 찾을려던 정점으로 부터 가장 가까운 거리의 있는 정점부터 탐색하는 알고리즘\n",
    "\n",
    "1. 큐를 만들고 거기다가 정점을 넣는다 (선입선출 방식 활용)\n",
    "\n",
    "2. 가장 먼저 넣은 정점을 큐에서 뺀 다음에 갈 수 있는 정점을 확인하여 가장 가까운 정점 찾기\n",
    "\n",
    "- 만약 내가 갈려고 하는 정점이 이미 간 곳인지를 확인해야 한다. \n",
    "\n",
    "3. 만약 간 곳이라면 pass하고 아니면 set()형에 자료를 저장 후 큐에 자료를 추가한다\n",
    "\n",
    "4. 큐에 자료가 안남을때 까지 반복하고 다 끝나면 순서를 출력한다.\n",
    "\"\"\"\n",
    "\n",
    "import sys\n",
    "from collections import deque\n",
    "sys.setrecursionlimit(10**6)\n",
    "def BFS(start):\n",
    "    global count\n",
    "    # 큐 선언\n",
    "    queue = deque([start])\n",
    "\n",
    "    node = set()\n",
    "    while queue:\n",
    "        ch = queue.popleft()\n",
    "        #[n,n] 방지\n",
    "        if ch not in node:\n",
    "            node.add(ch)\n",
    "            #순서 정보 저장\n",
    "            ch_count[ch-1] = count\n",
    "            count+=1\n",
    "\n",
    "            # 내가 갈려도 곳이 이미 방문한 곳인지 확인\n",
    "            for i in dic[ch]:\n",
    "                #만약 방문안한 곳이라면 deque에 추가\n",
    "                if i not in node:    \n",
    "                    queue.append(i)\n",
    "\n",
    "count = 1\n",
    "dot,line,num = map(int,sys.stdin.readline().split())\n",
    "\n",
    "ch_count = [0]*dot\n",
    "# dictionory 선언\n",
    "dic = {i:[0] for i in range(1,dot+1)}\n",
    "\n",
    "\n",
    "for i in range(line):\n",
    "    line1,line2 = map(int,sys.stdin.readline().split())\n",
    "# 입력 후 바로 값 바로 추가\n",
    "    dic[line1].append(line2)\n",
    "    dic[line2].append(line1)\n",
    "\n",
    "\n",
    "for i in dic:\n",
    "    #정렬\n",
    "    dic[i].remove(0)\n",
    "    dic[i].sort(reverse= True)\n",
    "\n",
    "#실헹\n",
    "BFS(num)\n",
    "\n",
    "for i in ch_count:\n",
    "    print(i)"
   ]
  }
 ],
 "metadata": {
  "kernelspec": {
   "display_name": "Python 3",
   "language": "python",
   "name": "python3"
  },
  "language_info": {
   "codemirror_mode": {
    "name": "ipython",
    "version": 3
   },
   "file_extension": ".py",
   "mimetype": "text/x-python",
   "name": "python",
   "nbconvert_exporter": "python",
   "pygments_lexer": "ipython3",
   "version": "3.10.1"
  }
 },
 "nbformat": 4,
 "nbformat_minor": 2
}
