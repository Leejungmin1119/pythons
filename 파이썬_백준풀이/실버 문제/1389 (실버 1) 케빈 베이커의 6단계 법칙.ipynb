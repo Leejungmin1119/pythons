{
 "cells": [
  {
   "cell_type": "code",
   "execution_count": null,
   "metadata": {},
   "outputs": [
    {
     "name": "stdout",
     "output_type": "stream",
     "text": [
      "2\n"
     ]
    }
   ],
   "source": [
    "#https://www.acmicpc.net/problem/1389\n",
    "\n",
    "\"\"\"\n",
    "\n",
    "+ 워셜 알고리즘(Floyd - Warshall Algorithm)\n",
    "\n",
    "시작 지점이 한개가 아닌 여러개일떄 시간 복잡도를 최적화 할 수 있는 알고리즘 DP 알고리즘 이기도 하다.\n",
    "\n",
    "삼중 for문을 돌려서 지금 현재 값이 i를 경우하여 해당 값으로 가는 것 보다 큰지 아닌지를 비교하면서 돌려주어 찾으면 된다.\n",
    "\n",
    "\"\"\"\n",
    "# 메인함수\n",
    "user,node = map(int,input().split())\n",
    "\n",
    "result = int(1e9)\n",
    "# int 최댓값\n",
    "INF = int(1e9)\n",
    "# 각 노드의 초기 거리 설정하기\n",
    "value_user = [[INF] * user for i in range(user)]\n",
    "\n",
    "for i in range(node):\n",
    "    # 각 노드의 정보를 입력하기\n",
    "    nodes = list(map(int,input().split()))\n",
    "    \n",
    "    # 노드를 입력받은 정보를 value_user에 저장\n",
    "    value_user[nodes[0]-1][nodes[1]-1] = 1\n",
    "    value_user[nodes[1]-1][nodes[0]-1] = 1\n",
    "\n",
    "for j in range(user):\n",
    "    # 자기 노드에서 자기노드로 가는 건 최단거리가 0임.\n",
    "    value_user[j][j] = 0\n",
    "\n",
    "# 삼중 for문 실행, 시간복잡도는 O(n^3) 이므로 매우 큼. \n",
    "for i in range(user):\n",
    "    for j in range(user):\n",
    "        for k in range(user):\n",
    "            \n",
    "            #플로이드 워셜 알고리즘 활용 \n",
    "            value_user[j][k] = min(value_user[j][k],value_user[j][i] + value_user[i][k])\n",
    "\n",
    "\n",
    "for i in range(user):\n",
    "    # 베이컨 거리의 최솟값 찾기\n",
    "    a = sum(value_user[i])\n",
    "    if result > a:\n",
    "        result = a\n",
    "        ch = i\n",
    "\n",
    "# 출력\n",
    "print(ch+1)"
   ]
  }
 ],
 "metadata": {
  "kernelspec": {
   "display_name": "Python 3",
   "language": "python",
   "name": "python3"
  },
  "language_info": {
   "codemirror_mode": {
    "name": "ipython",
    "version": 3
   },
   "file_extension": ".py",
   "mimetype": "text/x-python",
   "name": "python",
   "nbconvert_exporter": "python",
   "pygments_lexer": "ipython3",
   "version": "3.10.1"
  }
 },
 "nbformat": 4,
 "nbformat_minor": 2
}
