{
 "cells": [
  {
   "cell_type": "code",
   "execution_count": 13,
   "metadata": {},
   "outputs": [
    {
     "name": "stdout",
     "output_type": "stream",
     "text": [
      "3\n",
      "2\n",
      "5\n",
      "5\n"
     ]
    }
   ],
   "source": [
    "#https://www.acmicpc.net/problem/2667\n",
    "# 2667 단지 번호 붙이기 (실버 1)\n",
    "\n",
    "\"\"\"\n",
    "\n",
    "1. 집 정보를 입력 받기\n",
    "2. 제일 처음 start부분을 찾지 못했을때에는 find 함수를이용해서 start부분의 위치 찾기\n",
    "3. DFS 함수 실행,count로 재귀를 이용할 때 마다 +1\n",
    "4. for문과 if문을 이용하여 조건문 실행하고 갈수 있는 방향과 갈수 없는 방향을 구분하여 재귀 실행 (*)\n",
    "5. 재귀가 끝나면 다시 반복문를 실행하여 다음 집의 start 위치를 찾기, 이때 이전 start 위치 값이 지정되어 있어야 하고 \n",
    "6. 돌릴때 이전 집 탐색한 부분은 가지 말아야 한다.\n",
    "7. 모든 재귀가 끝나면 돌면서 얻은 정보를 print 한다.  \n",
    "\n",
    "\n",
    "010\n",
    "111 = 갈 수있는 방향은 총 4개 / [0][1] , [1][0] , [1][1] , [1][2], [2][1]\n",
    "010\n",
    "\"\"\"\n",
    "import sys\n",
    "sys.setrecursionlimit(10**6)\n",
    "#재귀 함수(DFS)\n",
    "def find_home(start):\n",
    "    global num,count_num\n",
    "\n",
    "    ch_lists[start[0]][start[1]] = 0\n",
    "\n",
    "    count[count_num]+=1\n",
    "\n",
    "    index = [[start[0],start[1]-1],[start[0],start[1]+1],[start[0]-1,start[1]],[start[0]+1,start[1]]]\n",
    "\n",
    "    for i in range(4):\n",
    "        if ch_lists[index[i][0]][index[i][1]] == 1:\n",
    "            find_home([index[i][0],index[i][1]])\n",
    "\n",
    "    # start[0] , start[][0], start[num-1], start[][num-1]  \n",
    "\n",
    "#메인\n",
    "lists,count = [],[]\n",
    "\n",
    "count_num = 0\n",
    "#입력\n",
    "num = int(input())\n",
    "\n",
    "for i in range(num):\n",
    "    lists.append(list(map(int,input())))\n",
    "\n",
    "ch_lists = [[0]*(num+2) for i in range(num+2)]\n",
    "\n",
    "for i in range(num):\n",
    "\n",
    "    ch_lists[1+i][1:num+1] = lists[i][:]\n",
    "\n",
    "for i in range(1,num+1):\n",
    "    for j in range(1,num+1):\n",
    "\n",
    "        if ch_lists[i][j] == 1 :\n",
    "            count.append(0)\n",
    "            find_home([i,j])\n",
    "            count_num+=1\n",
    "#출력\n",
    "count.sort()            \n",
    "print(len(count))\n",
    "\n",
    "for i in range(len(count)):\n",
    "    print(count[i])\n"
   ]
  }
 ],
 "metadata": {
  "kernelspec": {
   "display_name": "Python 3",
   "language": "python",
   "name": "python3"
  },
  "language_info": {
   "codemirror_mode": {
    "name": "ipython",
    "version": 3
   },
   "file_extension": ".py",
   "mimetype": "text/x-python",
   "name": "python",
   "nbconvert_exporter": "python",
   "pygments_lexer": "ipython3",
   "version": "3.10.1"
  }
 },
 "nbformat": 4,
 "nbformat_minor": 2
}
