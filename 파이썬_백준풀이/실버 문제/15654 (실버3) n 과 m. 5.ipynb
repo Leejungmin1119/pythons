{
 "cells": [
  {
   "cell_type": "code",
   "execution_count": null,
   "metadata": {},
   "outputs": [],
   "source": [
    "def DFS(num,ch):\n",
    "\n",
    "    global value,number\n",
    "    if num > number:\n",
    "        print(\" \".join(map(str,ch)))\n",
    "        return 0\n",
    "    else:\n",
    "        \n",
    "        for j in lists:\n",
    "\n",
    "            \n",
    "            if j not in ch:\n",
    "\n",
    "                DFS(num+1,ch+[j])\n",
    "\n",
    "# 메인 함수\n",
    "value,number =map(int,input().split())\n",
    "lists = list(map(int,input().split()))\n",
    "\n",
    "lists.sort()\n",
    "\n",
    "DFS(1,[])"
   ]
  }
 ],
 "metadata": {
  "language_info": {
   "name": "python"
  }
 },
 "nbformat": 4,
 "nbformat_minor": 2
}
