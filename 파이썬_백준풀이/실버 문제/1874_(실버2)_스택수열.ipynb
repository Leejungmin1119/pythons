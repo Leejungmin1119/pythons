{
 "cells": [
  {
   "cell_type": "code",
   "execution_count": 11,
   "metadata": {},
   "outputs": [
    {
     "name": "stdout",
     "output_type": "stream",
     "text": [
      "NO\n"
     ]
    }
   ],
   "source": [
    "from collections import deque \n",
    "\n",
    "#입력 및 선언\n",
    "number = int(input())#스택 갯수\n",
    "\n",
    "lists = []\n",
    "stack,stack_pm = deque(),deque()\n",
    "check = 0\n",
    "#반복,조건문\n",
    "for i in range(number):\n",
    "\n",
    "    lists.append(int(input()))#스택 입력\n",
    "\n",
    "for i in range(1,number+1):\n",
    "\n",
    "    stack.append(i)#스택 추가\n",
    "    stack_pm.append('+')#+기록\n",
    "\n",
    "    while(lists[check] == stack[-1] ):#만약 비교할 수랑 같다면?\n",
    "\n",
    "        stack.pop()#스택 제거\n",
    "        stack_pm.append('-')#기록\n",
    "        check+=1#비교할 인덱스 위치 +1\n",
    "\n",
    "        if(stack == deque()):\n",
    "            break\n",
    "\n",
    "if(stack == deque()):\n",
    "\n",
    "    for a in range(len(stack_pm)):\n",
    "        print(stack_pm[a])\n",
    "\n",
    "else:\n",
    "\n",
    "    print(\"NO\")"
   ]
  }
 ],
 "metadata": {
  "kernelspec": {
   "display_name": "Python 3",
   "language": "python",
   "name": "python3"
  },
  "language_info": {
   "codemirror_mode": {
    "name": "ipython",
    "version": 3
   },
   "file_extension": ".py",
   "mimetype": "text/x-python",
   "name": "python",
   "nbconvert_exporter": "python",
   "pygments_lexer": "ipython3",
   "version": "3.10.1"
  },
  "orig_nbformat": 4
 },
 "nbformat": 4,
 "nbformat_minor": 2
}
