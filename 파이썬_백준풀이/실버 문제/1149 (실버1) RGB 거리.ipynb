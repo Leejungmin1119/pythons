{
 "cells": [
  {
   "cell_type": "code",
   "execution_count": 14,
   "metadata": {},
   "outputs": [
    {
     "name": "stdout",
     "output_type": "stream",
     "text": [
      "102\n"
     ]
    }
   ],
   "source": [
    "#https://www.acmicpc.net/problem/1149\n",
    "# 1149 RGB 거리 (실버 1)\n",
    "\n",
    "\"\"\"\n",
    "1번 집의 색은 2번 집의 색과 같지 않아야 한다.\n",
    "N번 집의 색은 N-1번 집의 색과 같지 않아야 한다.\n",
    "i(2 ≤ i ≤ N-1)번 집의 색은 i-1번, i+1번 집의 색과 같지 않아야 한다.\n",
    "\n",
    "\n",
    "dp[0]\n",
    "\"\"\"\n",
    "num = int(input())\n",
    "\n",
    "lists = []\n",
    "#memorial 생성\n",
    "dp = [[0]*3 for i in range(num)]\n",
    "\n",
    "for i in range(num):\n",
    "    lists.append(list(map(int,input().split())))\n",
    "#dp[0] 지정 R G B 의 각 최솟값 저장\n",
    "dp[0][0] = lists[0][0]\n",
    "dp[0][1] = lists[0][1]\n",
    "dp[0][2] = lists[0][2]\n",
    "\n",
    "#반복문을 돌려서 dp[i-1][1] + lists[1] ... 이런식으로 각 색깔의 최솟값을 얻어낸다.\n",
    "for i in range(1,num):\n",
    "\n",
    "    dp[i][0] = min((dp[i-1][1]+lists[i][0]),(dp[i-1][2]+lists[i][0]))\n",
    "    dp[i][1] = min((dp[i-1][0]+lists[i][1]),(dp[i-1][2]+lists[i][1]))\n",
    "    dp[i][2] = min((dp[i-1][0]+lists[i][2]),(dp[i-1][1]+lists[i][2]))\n",
    "\n",
    "print(min(dp[num-1][0],dp[num-1][1],dp[num-1][2]))"
   ]
  }
 ],
 "metadata": {
  "kernelspec": {
   "display_name": "Python 3",
   "language": "python",
   "name": "python3"
  },
  "language_info": {
   "codemirror_mode": {
    "name": "ipython",
    "version": 3
   },
   "file_extension": ".py",
   "mimetype": "text/x-python",
   "name": "python",
   "nbconvert_exporter": "python",
   "pygments_lexer": "ipython3",
   "version": "3.10.1"
  }
 },
 "nbformat": 4,
 "nbformat_minor": 2
}
