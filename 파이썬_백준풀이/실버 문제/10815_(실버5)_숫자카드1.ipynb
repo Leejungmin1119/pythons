{
 "cells": [
  {
   "attachments": {},
   "cell_type": "markdown",
   "metadata": {},
   "source": [
    "숫자 카드는 정수 하나가 적혀져 있는 카드이다. 상근이는 숫자 카드 N개를 가지고 있다. 정수 M개가 주어졌을 때, 이 수가 적혀있는 숫자 카드를 상근이가 가지고 있는지 아닌지를 구하는 프로그램을 작성하시오.\n",
    "\n",
    "입력:\n",
    "\n",
    "첫째 줄에 상근이가 가지고 있는 숫자 카드의 개수 N(1 ≤ N ≤ 500,000)이 주어진다. 둘째 줄에는 숫자 카드에 적혀있는 정수가 주어진다. 숫자 카드에 적혀있는 수는 -10,000,000보다 크거나 같고, 10,000,000보다 작거나 같다. 두 숫자 카드에 같은 수가 적혀있는 경우는 없다.\n",
    "\n",
    "셋째 줄에는 M(1 ≤ M ≤ 500,000)이 주어진다. 넷째 줄에는 상근이가 가지고 있는 숫자 카드인지 아닌지를 구해야 할 M개의 정수가 주어지며, 이 수는 공백으로 구분되어져 있다. 이 수도 -10,000,000보다 크거나 같고, 10,000,000보다 작거나 같다"
   ]
  },
  {
   "cell_type": "code",
   "execution_count": 2,
   "metadata": {},
   "outputs": [
    {
     "name": "stdout",
     "output_type": "stream",
     "text": [
      "1 0 0 1 1 0 0 1 "
     ]
    }
   ],
   "source": [
    "import sys\n",
    "\n",
    "def find_funtion(low,high,target):\n",
    "\n",
    "    while low <= high:\n",
    "        mid = int((low+high)/2)#중앙값\n",
    "\n",
    "        if lists[mid] == target:#찾을시\n",
    "\n",
    "            print(1,end =\" \")\n",
    "            return 0\n",
    "\n",
    "        elif lists[mid] > target:#중앙값이 찾으려고 하는 수보다 높을 경우\n",
    "            high = mid-1\n",
    "        elif lists[mid] < target:#중앙값이 찾으려고 하는 수보다 낮을 경우\n",
    "            low = mid+1\n",
    "\n",
    "    print(0,end =\" \")            \n",
    "\n",
    "#수와 찾을 수들을 각각의 리스트에 저장\n",
    "number = int(sys.stdin.readline())\n",
    "\n",
    "lists = list(map(int,sys.stdin.readline().split()))\n",
    "\n",
    "find_number = int(sys.stdin.readline())\n",
    "\n",
    "find_lists = list(map(int,sys.stdin.readline().split()))\n",
    "\n",
    "lists.sort()#정렬\n",
    "\n",
    "for i in range(find_number):\n",
    "\n",
    "    find_funtion(0,number-1,find_lists[i])\n",
    "\n",
    "   \n",
    "\n",
    "\n",
    "\n",
    "\n",
    "\n"
   ]
  }
 ],
 "metadata": {
  "kernelspec": {
   "display_name": "Python 3",
   "language": "python",
   "name": "python3"
  },
  "language_info": {
   "codemirror_mode": {
    "name": "ipython",
    "version": 3
   },
   "file_extension": ".py",
   "mimetype": "text/x-python",
   "name": "python",
   "nbconvert_exporter": "python",
   "pygments_lexer": "ipython3",
   "version": "3.10.1"
  },
  "orig_nbformat": 4,
  "vscode": {
   "interpreter": {
    "hash": "df95319d8ce4e1d89f5365ae10992bc1f65da593082b1d264e8f529830ec2f02"
   }
  }
 },
 "nbformat": 4,
 "nbformat_minor": 2
}
