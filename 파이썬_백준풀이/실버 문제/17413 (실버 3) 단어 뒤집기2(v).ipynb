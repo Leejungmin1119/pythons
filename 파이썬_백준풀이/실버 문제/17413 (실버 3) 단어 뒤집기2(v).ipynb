{
 "cells": [
  {
   "cell_type": "code",
   "execution_count": null,
   "metadata": {},
   "outputs": [
    {
     "name": "stdout",
     "output_type": "stream",
     "text": [
      "<   space   >ecaps ecaps ecaps<    spa   c e>\n"
     ]
    }
   ],
   "source": [
    "\"\"\"\n",
    "\"\"\"\n",
    "S = input()\n",
    "lists = []\n",
    "ans = \"\"\n",
    "ch = False\n",
    "for i in range(len(S)):\n",
    "    \n",
    "    # 태그\n",
    "    if S[i] == '<':\n",
    "        \n",
    "        # 스택이 있는 값 - > 태그 밖에 있던 변수들\n",
    "        for j in range(len(lists)):\n",
    "            ans+=lists.pop()\n",
    "        ch = True\n",
    "        \n",
    "    lists.append(S[i])\n",
    "    \n",
    "    #태그(닫는부분)\n",
    "    if S[i] == '>':\n",
    "        # 지금 스택에 저장되어 있는 값들은 현재 태그 안에 있는 값임임\n",
    "        for j in range(len(lists)):\n",
    "            ans+=lists.pop(0)\n",
    "        ch = False\n",
    "     # 태그 바같이면서 공백이면 바로 뒤집기기       \n",
    "    elif S[i] == \" \" and ch == False:\n",
    "        for j in range(len(lists)):\n",
    "            if j == 0:\n",
    "                lists.pop()\n",
    "            else:\n",
    "                ans+=lists.pop()\n",
    "        ans+=\" \"\n",
    "\n",
    "\n",
    "if lists != []:\n",
    "    for j in range(len(lists)):\n",
    "        ans+=lists.pop()\n",
    "\n",
    "print(ans)"
   ]
  }
 ],
 "metadata": {
  "kernelspec": {
   "display_name": "Python 3",
   "language": "python",
   "name": "python3"
  },
  "language_info": {
   "codemirror_mode": {
    "name": "ipython",
    "version": 3
   },
   "file_extension": ".py",
   "mimetype": "text/x-python",
   "name": "python",
   "nbconvert_exporter": "python",
   "pygments_lexer": "ipython3",
   "version": "3.11.9"
  }
 },
 "nbformat": 4,
 "nbformat_minor": 2
}
