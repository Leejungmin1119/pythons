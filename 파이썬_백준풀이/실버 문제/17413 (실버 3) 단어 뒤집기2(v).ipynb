{
 "cells": [
  {
   "cell_type": "code",
   "execution_count": null,
   "metadata": {},
   "outputs": [
    {
     "name": "stdout",
     "output_type": "stream",
     "text": [
      "<open>esolc<gat>\n"
     ]
    }
   ],
   "source": [
    "\"\"\"\n",
    "\n",
    "1. 단어를 뒤집어야 함 구분은 공백으로\n",
    "- 공백 파악 필요\n",
    "\n",
    "2. 태그 '<' '>' 사이에 있는 문자들은 뒤집으면 안됨\n",
    "- 태그 파악하는 기능 구현 필요\n",
    "\n",
    "[]\n",
    "\n",
    "<open>tag<aaa>\n",
    "\"\"\"\n",
    "S = input()\n",
    "lists = list(S)\n",
    "index_s = 0\n",
    "index_ch= 0 \n",
    "while 1:\n",
    "    \n",
    "    # 먼져 태그의 위치부터 파악한다.\n",
    "    while S.find(\"<\",index_s) != -1:\n",
    "        index_s = S.find(\">\",index_s+1)\n",
    "        if index_s == len(S)-1:\n",
    "            \n",
    "            if lists[index_s+1] == '<':\n",
    "                index_s = S.find(\">\",index_s+1)\n",
    "            else:\n",
    "                lists[]\n",
    "                \n",
    "        break\n",
    "    \n",
    "    #이어서 공백의 위치를 파악한다.\n",
    "    if S.find(\" \",index_s) != -1:\n",
    "        index_ch = S.find(\" \",index_s)\n",
    "        lists[index_s:index_ch] = lists[index_s:index_ch][::-1]\n",
    "        \n",
    "        index_s = index_ch+1\n",
    "    # 그냥 단어만 존재\n",
    "    elif S.find(\" \",index_s) == -1:\n",
    "        lists[index_s:len(S)] = lists[index_s:len(S)][::-1]\n",
    "        break\n",
    "    else:\n",
    "        break\n",
    "    \n",
    "print(''.join(lists))"
   ]
  }
 ],
 "metadata": {
  "kernelspec": {
   "display_name": "Python 3",
   "language": "python",
   "name": "python3"
  },
  "language_info": {
   "codemirror_mode": {
    "name": "ipython",
    "version": 3
   },
   "file_extension": ".py",
   "mimetype": "text/x-python",
   "name": "python",
   "nbconvert_exporter": "python",
   "pygments_lexer": "ipython3",
   "version": "3.11.9"
  }
 },
 "nbformat": 4,
 "nbformat_minor": 2
}
