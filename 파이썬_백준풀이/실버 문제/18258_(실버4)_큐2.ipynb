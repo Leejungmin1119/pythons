{
 "cells": [
  {
   "cell_type": "code",
   "execution_count": 5,
   "metadata": {},
   "outputs": [
    {
     "name": "stdout",
     "output_type": "stream",
     "text": [
      "1\n",
      "2\n",
      "2\n",
      "0\n",
      "1\n",
      "2\n",
      "-1\n",
      "0\n",
      "1\n",
      "-1\n",
      "0\n",
      "3\n"
     ]
    }
   ],
   "source": [
    "#https://www.acmicpc.net/problem/28279\n",
    "# 18258 큐 2 (실버 4)\n",
    "\n",
    "\"\"\"\n",
    "push X: 정수 X를 큐에 넣는 연산이다.\n",
    "pop: 큐에서 가장 앞에 있는 정수를 빼고, 그 수를 출력한다. 만약 큐에 들어있는 정수가 없는 경우에는 -1을 출력한다.\n",
    "size: 큐에 들어있는 정수의 개수를 출력한다.\n",
    "empty: 큐가 비어있으면 1, 아니면 0을 출력한다.\n",
    "front: 큐의 가장 앞에 있는 정수를 출력한다. 만약 큐에 들어있는 정수가 없는 경우에는 -1을 출력한다.\n",
    "back: 큐의 가장 뒤에 있는 정수를 출력한다. 만약 큐에 들어있는 정수가 없는 경우에는 -1을 출력한다.\n",
    "\n",
    "\"\"\"\n",
    "import sys\n",
    "from collections import deque\n",
    "\n",
    "num = int(sys.stdin.readline())\n",
    "deques = deque()\n",
    "for i in range(num):\n",
    "    \n",
    "    ch = list(sys.stdin.readline().split())\n",
    "\n",
    "    #1. 정수 x를 큐에 넣기\n",
    "    if ch[0] == \"push\":\n",
    "        deques.append(int(ch[1]))\n",
    "    #2. 큐에서 가장 앞에 있는 수를 빼고 출력 큐가 비어있으면 -1 출력\n",
    "    if ch[0] == \"pop\":\n",
    "        if deques == deque():\n",
    "            print(-1)\n",
    "        else:\n",
    "            print(deques.popleft())\n",
    "    \n",
    "    #3. 큐에 들어있는 정수의 갯수를 출력\n",
    "    if ch[0] == \"size\":\n",
    "        print(len(deques))\n",
    "\n",
    "    #4. 큐가 비어있으면 1, 아니면 0을 출력하기\n",
    "    if ch[0] == \"empty\":\n",
    "        if deques == deque():\n",
    "            print(1)\n",
    "        else:\n",
    "            print(0)\n",
    "    \n",
    "    #5.큐에 가장 앞에 있는 정수 출력하기, 만약 큐가 비어있으면 -1 출력\n",
    "    if ch[0] == \"front\":\n",
    "        if deques == deque():\n",
    "            print(-1)\n",
    "        else:\n",
    "            print(deques[0])\n",
    "    \n",
    "    #6.큐에 가장 뒤에 있는 정수 출력하기, 만약 큐가 비어있으면 -1 출력\n",
    "    if ch[0] == \"back\":\n",
    "        if deques == deque():\n",
    "            print(-1)\n",
    "        else:\n",
    "            print(deques[-1])"
   ]
  }
 ],
 "metadata": {
  "kernelspec": {
   "display_name": "Python 3",
   "language": "python",
   "name": "python3"
  },
  "language_info": {
   "codemirror_mode": {
    "name": "ipython",
    "version": 3
   },
   "file_extension": ".py",
   "mimetype": "text/x-python",
   "name": "python",
   "nbconvert_exporter": "python",
   "pygments_lexer": "ipython3",
   "version": "3.10.1"
  }
 },
 "nbformat": 4,
 "nbformat_minor": 2
}
