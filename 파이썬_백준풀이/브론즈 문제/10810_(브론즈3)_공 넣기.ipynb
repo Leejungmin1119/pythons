{
 "cells": [
  {
   "cell_type": "code",
   "execution_count": 9,
   "metadata": {},
   "outputs": [
    {
     "name": "stdout",
     "output_type": "stream",
     "text": [
      "1 2 1 1 0 "
     ]
    }
   ],
   "source": [
    "#https://www.acmicpc.net/problem/10810\n",
    "#백준 10810번 공넣기(브론즈 3)  \n",
    "\n",
    "basket_number,loopcount = map(int,input().split())\n",
    "\n",
    "lists =[]\n",
    "for i in range(basket_number):\n",
    "    lists.append(0)\n",
    "\n",
    "for i in range(loopcount):\n",
    "\n",
    "    min_num,max_num,ball_num = map(int,input().split())\n",
    "\n",
    "    for j in range(min_num-1,max_num):\n",
    "        lists[j] = ball_num\n",
    "\n",
    "for i in range(len(lists)):\n",
    "    print(lists[i],end = \" \")\n"
   ]
  }
 ],
 "metadata": {
  "kernelspec": {
   "display_name": "Python 3",
   "language": "python",
   "name": "python3"
  },
  "language_info": {
   "codemirror_mode": {
    "name": "ipython",
    "version": 3
   },
   "file_extension": ".py",
   "mimetype": "text/x-python",
   "name": "python",
   "nbconvert_exporter": "python",
   "pygments_lexer": "ipython3",
   "version": "3.10.1"
  }
 },
 "nbformat": 4,
 "nbformat_minor": 2
}
