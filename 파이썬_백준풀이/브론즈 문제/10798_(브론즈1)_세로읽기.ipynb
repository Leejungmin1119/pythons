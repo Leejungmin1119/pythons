{
 "cells": [
  {
   "cell_type": "code",
   "execution_count": 13,
   "metadata": {},
   "outputs": [
    {
     "name": "stdout",
     "output_type": "stream",
     "text": [
      "Aa0aPAf985Bz1EhCz2W3D1gkD6x"
     ]
    }
   ],
   "source": [
    "#https://www.acmicpc.net/problem/10798\n",
    "# 10798 세로읽기 (브론즈 1)\n",
    "\n",
    "lists = []\n",
    "\n",
    "for i in range(5):\n",
    "    lists.append(list(input()))\n",
    "# lists[j][i]\n",
    "for i in range(15):\n",
    "    for j in range(5):\n",
    "\n",
    "        if len(lists[j]) > i:\n",
    "            print(lists[j][i],end=\"\")\n",
    "\n",
    "\n",
    "    \n",
    "        \n",
    "            \n"
   ]
  }
 ],
 "metadata": {
  "kernelspec": {
   "display_name": "Python 3",
   "language": "python",
   "name": "python3"
  },
  "language_info": {
   "codemirror_mode": {
    "name": "ipython",
    "version": 3
   },
   "file_extension": ".py",
   "mimetype": "text/x-python",
   "name": "python",
   "nbconvert_exporter": "python",
   "pygments_lexer": "ipython3",
   "version": "3.10.1"
  }
 },
 "nbformat": 4,
 "nbformat_minor": 2
}
