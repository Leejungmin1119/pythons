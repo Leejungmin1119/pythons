{
 "cells": [
  {
   "cell_type": "code",
   "execution_count": 6,
   "metadata": {},
   "outputs": [
    {
     "name": "stdout",
     "output_type": "stream",
     "text": [
      "None\n"
     ]
    }
   ],
   "source": [
    "#https://www.acmicpc.net/problem/27433\n",
    "#27433 팩토리얼 2 (브론즈 5)\n",
    "#0 1 2 3 4 5 6 7 8 9 10\n",
    "\n",
    "def pactorial(value,result):\n",
    "    if value != 1:\n",
    "        result = result * value\n",
    "        pactorial(value-1,result)\n",
    "    else:\n",
    "        return result\n",
    "    \n",
    "    \n",
    "a = int(input())\n",
    "if a == 0:\n",
    "    print(0)\n",
    "else:\n",
    "\n",
    "    print(pactorial(a,1))\n"
   ]
  }
 ],
 "metadata": {
  "kernelspec": {
   "display_name": "Python 3",
   "language": "python",
   "name": "python3"
  },
  "language_info": {
   "codemirror_mode": {
    "name": "ipython",
    "version": 3
   },
   "file_extension": ".py",
   "mimetype": "text/x-python",
   "name": "python",
   "nbconvert_exporter": "python",
   "pygments_lexer": "ipython3",
   "version": "3.10.1"
  }
 },
 "nbformat": 4,
 "nbformat_minor": 2
}
