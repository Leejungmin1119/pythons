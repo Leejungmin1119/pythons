{
 "cells": [
  {
   "cell_type": "code",
   "execution_count": 15,
   "metadata": {},
   "outputs": [
    {
     "name": "stdout",
     "output_type": "stream",
     "text": [
      "1\n",
      "4\n",
      "1\n",
      "2\n"
     ]
    }
   ],
   "source": [
    "#https://www.acmicpc.net/problem/11005\n",
    "# 11005 진법 변환 2 (브론즈 1)\n",
    "from collections import deque\n",
    "ch = \"0123456789ABCDEFGHIJKLMNOPQRSTUVWXYZ\"\n",
    "lists = deque()\n",
    "num,s = map(int,input().split())\n",
    "\n",
    "while num != 0 :\n",
    "\n",
    "    lists.appendleft(num%s)\n",
    "\n",
    "    num = int(num/s)\n",
    "\n",
    "for i in lists:\n",
    "\n",
    "    print(ch[i],end=\"\")"
   ]
  }
 ],
 "metadata": {
  "kernelspec": {
   "display_name": "Python 3",
   "language": "python",
   "name": "python3"
  },
  "language_info": {
   "codemirror_mode": {
    "name": "ipython",
    "version": 3
   },
   "file_extension": ".py",
   "mimetype": "text/x-python",
   "name": "python",
   "nbconvert_exporter": "python",
   "pygments_lexer": "ipython3",
   "version": "3.10.1"
  }
 },
 "nbformat": 4,
 "nbformat_minor": 2
}
