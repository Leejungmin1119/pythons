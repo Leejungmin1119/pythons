{
 "cells": [
  {
   "attachments": {},
   "cell_type": "markdown",
   "metadata": {},
   "source": [
    "연두는 프로그래밍 대회에 나갈 팀 이름을 정하려고 한다. 미신을 믿는 연두는 이환이에게 공식을 하나 받아왔고, 이 공식을 이용해 우승할 확률이 가장 높은 팀 이름을 찾으려고 한다.\n",
    "\n",
    "이환이가 만든 공식은 사용하려면 먼저 다음 4가지 변수의 값을 계산해야 한다.\n",
    "\n",
    "L = 연두의 이름과 팀 이름에서 등장하는 L의 개수\n",
    "\n",
    "O = 연두의 이름과 팀 이름에서 등장하는 O의 개수\n",
    "\n",
    "V = 연두의 이름과 팀 이름에서 등장하는 V의 개수\n",
    "\n",
    "E = 연두의 이름과 팀 이름에서 등장하는 E의 개수\n",
    "\n",
    "그 다음, 위에서 구한 변수를 다음 식에 입력하면 팀 이름의 우승할 확률을 구할 수 있다.\n",
    "\n",
    "((L+O) × (L+V) × (L+E) × (O+V) × (O+E) × (V+E)) mod 100\n",
    "\n",
    "연두의 영어 이름과 팀 이름 후보 N개가 주어졌을 때, 우승할 확률이 가장 높은 팀 이름을 구해보자. 확률이 가장 높은 팀이 여러가지인 경우 사전 순으로 가장 앞서는 팀 이름이 우승할 확률이 가장 높은 것이다.\n",
    "\n",
    "입력\n",
    "\n",
    "첫째 줄에 연두의 영어 이름이 주어진다. 둘째 줄에는 팀 이름 후보의 개수 N이 주어진다. 셋째 줄부터 N개의 줄에 팀 이름이 한 줄에 하나씩 주어진다.\n",
    "\n",
    "연두의 영어 이름과 팀 이름은 길이는 1보다 크거나 같고, 20보다 작거나 같으며, 알파벳 대문자로만 이루어져 있다. N은 50보다 작거나 같은 자연수이다."
   ]
  },
  {
   "cell_type": "code",
   "execution_count": 1,
   "metadata": {},
   "outputs": [],
   "source": [
    "from sys import stdin \n",
    "\n",
    "my_lists = list()\n",
    "\n",
    "my_name =stdin.readline()\n",
    "\n",
    "my_L = my_name.count(\"L\")\n",
    "my_O = my_name.count(\"O\")\n",
    "my_V = my_name.count(\"V\")\n",
    "my_E = my_name.count(\"E\")\n",
    "\n",
    "number = int(stdin.readline())\n",
    "\n",
    "for i in range(number):\n",
    "\n",
    "    i = stdin.readline()\n",
    "\n",
    "    L = (i.count(\"L\")+my_L)\n",
    "    O = (i.count(\"O\")+my_O)\n",
    "    V = (i.count(\"V\")+my_V)\n",
    "    E = (i.count(\"E\")+my_E)\n",
    "\n",
    "    my_lists.append([(((L+O) * (L+V) * (L+E) * (O+V) * (O+E) * (V+E))%100),i])\n",
    "\n",
    "my_lists.sort(key = lambda x:(-x[0],x[1]))\n",
    "\n",
    "print(my_lists[0][1])\n",
    "\n",
    "\"\"\"\"\"\"\n"
   ]
  }
 ],
 "metadata": {
  "kernelspec": {
   "display_name": "Python 3",
   "language": "python",
   "name": "python3"
  },
  "language_info": {
   "codemirror_mode": {
    "name": "ipython",
    "version": 3
   },
   "file_extension": ".py",
   "mimetype": "text/x-python",
   "name": "python",
   "nbconvert_exporter": "python",
   "pygments_lexer": "ipython3",
   "version": "3.10.1"
  },
  "orig_nbformat": 4
 },
 "nbformat": 4,
 "nbformat_minor": 2
}
