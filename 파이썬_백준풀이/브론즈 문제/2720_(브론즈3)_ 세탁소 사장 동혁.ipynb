{
 "cells": [
  {
   "cell_type": "code",
   "execution_count": 2,
   "metadata": {},
   "outputs": [
    {
     "name": "stdout",
     "output_type": "stream",
     "text": [
      "4 2 0 4\n",
      "1 0 0 0\n",
      "7 1 1 4\n"
     ]
    }
   ],
   "source": [
    "#https://www.acmicpc.net/problem/2720\n",
    "# 2720 세탁소 사장 동혁 (브론즈 3)\n",
    "\n",
    "t = int(input())\n",
    "\n",
    "for i in range(t):\n",
    "    money = int(input())\n",
    "    a,b,c,d =0,0,0,0\n",
    "    while money >=25:\n",
    "        money -=25\n",
    "        a+=1\n",
    "    while money >=10:\n",
    "        money -=10\n",
    "        b+=1\n",
    "    while money >=5:\n",
    "        money -=5\n",
    "        c+=1\n",
    "    while money >=1:\n",
    "        money -=1\n",
    "        d+=1\n",
    "    \n",
    "    print(a,b,c,d,sep=\" \")"
   ]
  }
 ],
 "metadata": {
  "kernelspec": {
   "display_name": "Python 3",
   "language": "python",
   "name": "python3"
  },
  "language_info": {
   "codemirror_mode": {
    "name": "ipython",
    "version": 3
   },
   "file_extension": ".py",
   "mimetype": "text/x-python",
   "name": "python",
   "nbconvert_exporter": "python",
   "pygments_lexer": "ipython3",
   "version": "3.10.1"
  }
 },
 "nbformat": 4,
 "nbformat_minor": 2
}
