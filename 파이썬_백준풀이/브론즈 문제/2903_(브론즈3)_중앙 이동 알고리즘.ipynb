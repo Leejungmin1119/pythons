{
 "cells": [
  {
   "cell_type": "code",
   "execution_count": 3,
   "metadata": {},
   "outputs": [
    {
     "name": "stdout",
     "output_type": "stream",
     "text": [
      "1089\n"
     ]
    }
   ],
   "source": [
    "#https://www.acmicpc.net/problem/2903\n",
    "# 2903 중앙 이동 알고리즘\n",
    "\n",
    "\"\"\"\n",
    "0 = 4\n",
    "1 = (2+1)**2\n",
    "2 = (3+2)**2\n",
    "a = (a+(a-1))**2\n",
    "\n",
    "\"\"\"\n",
    "\n",
    "num = int(input())\n",
    "ch = 2\n",
    "\n",
    "for i in range(num):\n",
    "    ch = (ch*2)-1\n",
    "\n",
    "print(ch**2)"
   ]
  }
 ],
 "metadata": {
  "kernelspec": {
   "display_name": "Python 3",
   "language": "python",
   "name": "python3"
  },
  "language_info": {
   "codemirror_mode": {
    "name": "ipython",
    "version": 3
   },
   "file_extension": ".py",
   "mimetype": "text/x-python",
   "name": "python",
   "nbconvert_exporter": "python",
   "pygments_lexer": "ipython3",
   "version": "3.10.1"
  }
 },
 "nbformat": 4,
 "nbformat_minor": 2
}
