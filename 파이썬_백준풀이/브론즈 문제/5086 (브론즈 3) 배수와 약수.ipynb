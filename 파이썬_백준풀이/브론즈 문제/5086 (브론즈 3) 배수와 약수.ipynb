{
 "cells": [
  {
   "cell_type": "code",
   "execution_count": 5,
   "metadata": {},
   "outputs": [
    {
     "name": "stdout",
     "output_type": "stream",
     "text": [
      "factor\n"
     ]
    }
   ],
   "source": [
    "#https://www.acmicpc.net/problem/5086\n",
    "# 5086 배수와 약수 (브론즈 3)\n",
    "\n",
    "\"\"\"\n",
    "첫 번째 숫자가 두 번째 숫자의 약수이다.\n",
    "첫 번째 숫자가 두 번째 숫자의 배수이다.\n",
    "첫 번째 숫자가 두 번째 숫자의 약수와 배수 모두 아니다.\n",
    "\n",
    "\"\"\"\n",
    "\n",
    "while 1:\n",
    "    a,b = map(int,input().split())\n",
    "\n",
    "    if a == 0 and b == 0:\n",
    "        break\n",
    "    if b%a == 0:\n",
    "        print(\"factor\")\n",
    "    elif a%b == 0:\n",
    "        print(\"multiple\")\n",
    "    else:\n",
    "        print(\"neither\")"
   ]
  }
 ],
 "metadata": {
  "kernelspec": {
   "display_name": "Python 3",
   "language": "python",
   "name": "python3"
  },
  "language_info": {
   "codemirror_mode": {
    "name": "ipython",
    "version": 3
   },
   "file_extension": ".py",
   "mimetype": "text/x-python",
   "name": "python",
   "nbconvert_exporter": "python",
   "pygments_lexer": "ipython3",
   "version": "3.10.1"
  }
 },
 "nbformat": 4,
 "nbformat_minor": 2
}
