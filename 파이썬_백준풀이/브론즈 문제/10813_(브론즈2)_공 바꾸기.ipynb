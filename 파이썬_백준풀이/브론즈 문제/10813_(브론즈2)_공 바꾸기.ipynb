{
 "cells": [
  {
   "cell_type": "code",
   "execution_count": 13,
   "metadata": {},
   "outputs": [
    {
     "name": "stdout",
     "output_type": "stream",
     "text": [
      "3 1 4 2 5 "
     ]
    }
   ],
   "source": [
    "#https://www.acmicpc.net/problem/10813\n",
    "# 백준 알고리즘 공 바꾸기(브론즈 2)\n",
    "\n",
    "basket_mount,loop = map(int,input().split())\n",
    "\n",
    "lists = [i+1 for i in range(basket_mount)]\n",
    "for i in range(loop):\n",
    "    num1,num2 = map(int,input().split())\n",
    "\n",
    "    lists[num1-1],lists[num2-1] = lists[num2-1],lists[num1-1]\n",
    "\n",
    "for i in range(basket_mount):\n",
    "    print(lists[i], end =\" \")"
   ]
  }
 ],
 "metadata": {
  "kernelspec": {
   "display_name": "Python 3",
   "language": "python",
   "name": "python3"
  },
  "language_info": {
   "codemirror_mode": {
    "name": "ipython",
    "version": 3
   },
   "file_extension": ".py",
   "mimetype": "text/x-python",
   "name": "python",
   "nbconvert_exporter": "python",
   "pygments_lexer": "ipython3",
   "version": "3.10.1"
  }
 },
 "nbformat": 4,
 "nbformat_minor": 2
}
