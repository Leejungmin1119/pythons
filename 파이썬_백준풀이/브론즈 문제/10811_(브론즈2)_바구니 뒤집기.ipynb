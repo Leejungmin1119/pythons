{
 "cells": [
  {
   "cell_type": "code",
   "execution_count": null,
   "metadata": {},
   "outputs": [
    {
     "name": "stdout",
     "output_type": "stream",
     "text": [
      "3 4 1 2 5 "
     ]
    }
   ],
   "source": [
    "#https://www.acmicpc.net/problem/10811\n",
    "#10811 바구니 뒤집기(브론즈2)\n",
    "a,b = map(int,input().split())\n",
    "\n",
    "# 바구니 생성\n",
    "lists = [i for i in range(1,a+1)]\n",
    "\n",
    "for i in range(b):\n",
    "\n",
    "    num1, num2 = map(int,input().split())\n",
    "\n",
    "# 역순뒤집기\n",
    "# 범위가 1~4(4개) or 1~5(5개) 이면 2번이니 돌리는 횟수는(num1 -num2)/2(소수점 제외)  \n",
    "    for j in range(0,int((num2-num1+1)/2)):\n",
    "        # 체인지\n",
    "        lists[num1-1+j],lists[num2-1-j] = lists[num2-1-j],lists[num1-1+j]\n",
    "\n",
    "\n",
    "#출력\n",
    "for i in range(a):\n",
    "\n",
    "    print(lists[i],end= \" \")\n",
    "\n",
    "\n",
    "\n",
    "\n",
    "\n",
    "\n"
   ]
  }
 ],
 "metadata": {
  "kernelspec": {
   "display_name": "Python 3",
   "language": "python",
   "name": "python3"
  },
  "language_info": {
   "codemirror_mode": {
    "name": "ipython",
    "version": 3
   },
   "file_extension": ".py",
   "mimetype": "text/x-python",
   "name": "python",
   "nbconvert_exporter": "python",
   "pygments_lexer": "ipython3",
   "version": "3.10.1"
  }
 },
 "nbformat": 4,
 "nbformat_minor": 2
}
