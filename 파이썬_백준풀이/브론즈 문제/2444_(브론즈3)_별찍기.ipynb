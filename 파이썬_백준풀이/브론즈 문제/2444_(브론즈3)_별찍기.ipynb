{
 "cells": [
  {
   "cell_type": "code",
   "execution_count": 14,
   "metadata": {},
   "outputs": [
    {
     "name": "stdout",
     "output_type": "stream",
     "text": [
      "*\n"
     ]
    }
   ],
   "source": [
    "\"\"\"\n",
    "    * 0+1 4\n",
    "   *** 2+1 3\n",
    "  ***** 4+1 2\n",
    " ******* 6+1 1\n",
    "********* =8+1 5 0 \n",
    " ******* 6+1\n",
    "  ***** 4+1\n",
    "   *** 2+1\n",
    "    * 0+1\n",
    "\n",
    "    \n",
    "\"\"\"\n",
    "\n",
    "num = int(input())\n",
    "\n",
    "for i in range(0,num):\n",
    "\n",
    "    for j in range(num-1-i):\n",
    "        print(\" \",end=\"\")\n",
    "    for j in range((i*2)+1):\n",
    "        print(\"*\",end= \"\")\n",
    "    print()\n",
    "\n",
    "for i in range(1,num):\n",
    "    for j in range(i):\n",
    "        print(\" \",end=\"\")\n",
    "\n",
    "    for j in range((num-i-1)*2+1):\n",
    "        print(\"*\",end= \"\")\n",
    "\n",
    "    print()"
   ]
  }
 ],
 "metadata": {
  "kernelspec": {
   "display_name": "Python 3",
   "language": "python",
   "name": "python3"
  },
  "language_info": {
   "codemirror_mode": {
    "name": "ipython",
    "version": 3
   },
   "file_extension": ".py",
   "mimetype": "text/x-python",
   "name": "python",
   "nbconvert_exporter": "python",
   "pygments_lexer": "ipython3",
   "version": "3.10.1"
  }
 },
 "nbformat": 4,
 "nbformat_minor": 2
}
