{
 "cells": [
  {
   "attachments": {},
   "cell_type": "markdown",
   "metadata": {},
   "source": [
    "다솜이는 은진이의 옆집에 새로 이사왔다. 다솜이는 자기 방 번호를 예쁜 플라스틱 숫자로 문에 붙이려고 한다.\n",
    "\n",
    "다솜이의 옆집에서는 플라스틱 숫자를 한 세트로 판다. 한 세트에는 0번부터 9번까지 숫자가 하나씩 들어있다. 다솜이의 방 번호가 주어졌을 때, 필요한 세트의 개수의 최솟값을 출력하시오. (6은 9를 뒤집어서 이용할 수 있고, 9는 6을 뒤집어서 이용할 수 있다.)"
   ]
  },
  {
   "cell_type": "code",
   "execution_count": 59,
   "metadata": {},
   "outputs": [
    {
     "name": "stdout",
     "output_type": "stream",
     "text": [
      "3\n"
     ]
    }
   ],
   "source": [
    "\"\"\"\n",
    "1.숫자를 입력받기\n",
    "\n",
    "2.입력받은 숫자를 for문을 돌려가면서 1~9까지 갯수를 검사 6은 예외로 값에 /2 해서 저장\n",
    "\n",
    "3.2에서 나온 빈도수중 가장 많은 빈도수를 골라 그 수를 출력\n",
    "\"\"\"\n",
    "import math\n",
    "\n",
    "number = input()\n",
    "index = list()\n",
    "\n",
    "for i in range(0,10):#0~9까지 for문 실행\n",
    "\n",
    "    index.append(number.count(str(i)))#0~9까지 의 들어있는 숫자의 갯수를 세린 후 리스트에 저장한다\n",
    "\n",
    "if index[6] != 0 or index[9] != 0:#6 과 9는 뒤집을 수 있으니 서로 합친후 /2 해준다.\n",
    "\n",
    "    index[6] = math.ceil((index[6]+index[9])/2)#반올림\n",
    "    index[9] = 0\n",
    "\n",
    "index.sort()#정렬을 통해 가장 세트의 최솟값을 구한다.\n",
    "print(index[9])"
   ]
  }
 ],
 "metadata": {
  "kernelspec": {
   "display_name": "Python 3",
   "language": "python",
   "name": "python3"
  },
  "language_info": {
   "codemirror_mode": {
    "name": "ipython",
    "version": 3
   },
   "file_extension": ".py",
   "mimetype": "text/x-python",
   "name": "python",
   "nbconvert_exporter": "python",
   "pygments_lexer": "ipython3",
   "version": "3.10.1 (tags/v3.10.1:2cd268a, Dec  6 2021, 19:10:37) [MSC v.1929 64 bit (AMD64)]"
  },
  "orig_nbformat": 4,
  "vscode": {
   "interpreter": {
    "hash": "df95319d8ce4e1d89f5365ae10992bc1f65da593082b1d264e8f529830ec2f02"
   }
  }
 },
 "nbformat": 4,
 "nbformat_minor": 2
}
