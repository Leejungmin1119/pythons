{
 "cells": [
  {
   "attachments": {},
   "cell_type": "markdown",
   "metadata": {},
   "source": [
    "2차원 세계에 블록이 쌓여있다. 비가 오면 블록 사이에 빗물이 고인다.\n",
    "\n",
    "\n",
    "\n",
    "비는 충분히 많이 온다. 고이는 빗물의 총량은 얼마일까?\n",
    "\n",
    "입력:\n",
    "\n",
    "첫 번째 줄에는 2차원 세계의 세로 길이 H과 2차원 세계의 가로 길이 W가 주어진다. (1 ≤ H, W ≤ 500)\n",
    "\n",
    "두 번째 줄에는 블록이 쌓인 높이를 의미하는 0이상 H이하의 정수가 2차원 세계의 맨 왼쪽 위치부터 차례대로 W개 주어진다.\n",
    "\n",
    "따라서 블록 내부의 빈 공간이 생길 수 없다. 또 2차원 세계의 바닥은 항상 막혀있다고 가정하여도 좋다."
   ]
  },
  {
   "cell_type": "code",
   "execution_count": 34,
   "metadata": {},
   "outputs": [
    {
     "ename": "KeyboardInterrupt",
     "evalue": "",
     "output_type": "error",
     "traceback": [
      "\u001b[1;31m---------------------------------------------------------------------------\u001b[0m",
      "\u001b[1;31mKeyboardInterrupt\u001b[0m                         Traceback (most recent call last)",
      "\u001b[1;32mc:\\Users\\USER\\OneDrive\\바탕 화면\\python\\pythons\\파이썬_백준풀이\\14719_(골드5)_빗물.ipynb 셀 2\u001b[0m in \u001b[0;36m7\n\u001b[0;32m      <a href='vscode-notebook-cell:/c%3A/Users/USER/OneDrive/%EB%B0%94%ED%83%95%20%ED%99%94%EB%A9%B4/python/pythons/%ED%8C%8C%EC%9D%B4%EC%8D%AC_%EB%B0%B1%EC%A4%80%ED%92%80%EC%9D%B4/14719_%28%EA%B3%A8%EB%93%9C5%29_%EB%B9%97%EB%AC%BC.ipynb#W2sZmlsZQ%3D%3D?line=4'>5</a>\u001b[0m \u001b[39mfor\u001b[39;00m i \u001b[39min\u001b[39;00m \u001b[39mrange\u001b[39m(\u001b[39m1\u001b[39m, w \u001b[39m-\u001b[39m \u001b[39m1\u001b[39m):\n\u001b[0;32m      <a href='vscode-notebook-cell:/c%3A/Users/USER/OneDrive/%EB%B0%94%ED%83%95%20%ED%99%94%EB%A9%B4/python/pythons/%ED%8C%8C%EC%9D%B4%EC%8D%AC_%EB%B0%B1%EC%A4%80%ED%92%80%EC%9D%B4/14719_%28%EA%B3%A8%EB%93%9C5%29_%EB%B9%97%EB%AC%BC.ipynb#W2sZmlsZQ%3D%3D?line=5'>6</a>\u001b[0m     left_max \u001b[39m=\u001b[39m \u001b[39mmax\u001b[39m(world[:i])\n\u001b[1;32m----> <a href='vscode-notebook-cell:/c%3A/Users/USER/OneDrive/%EB%B0%94%ED%83%95%20%ED%99%94%EB%A9%B4/python/pythons/%ED%8C%8C%EC%9D%B4%EC%8D%AC_%EB%B0%B1%EC%A4%80%ED%92%80%EC%9D%B4/14719_%28%EA%B3%A8%EB%93%9C5%29_%EB%B9%97%EB%AC%BC.ipynb#W2sZmlsZQ%3D%3D?line=6'>7</a>\u001b[0m     right_max \u001b[39m=\u001b[39m \u001b[39mmax\u001b[39;49m(world[i\u001b[39m+\u001b[39m\u001b[39m1\u001b[39m:])\n\u001b[0;32m      <a href='vscode-notebook-cell:/c%3A/Users/USER/OneDrive/%EB%B0%94%ED%83%95%20%ED%99%94%EB%A9%B4/python/pythons/%ED%8C%8C%EC%9D%B4%EC%8D%AC_%EB%B0%B1%EC%A4%80%ED%92%80%EC%9D%B4/14719_%28%EA%B3%A8%EB%93%9C5%29_%EB%B9%97%EB%AC%BC.ipynb#W2sZmlsZQ%3D%3D?line=8'>9</a>\u001b[0m     compare \u001b[39m=\u001b[39m \u001b[39mmin\u001b[39m(left_max, right_max)\n\u001b[0;32m     <a href='vscode-notebook-cell:/c%3A/Users/USER/OneDrive/%EB%B0%94%ED%83%95%20%ED%99%94%EB%A9%B4/python/pythons/%ED%8C%8C%EC%9D%B4%EC%8D%AC_%EB%B0%B1%EC%A4%80%ED%92%80%EC%9D%B4/14719_%28%EA%B3%A8%EB%93%9C5%29_%EB%B9%97%EB%AC%BC.ipynb#W2sZmlsZQ%3D%3D?line=10'>11</a>\u001b[0m     \u001b[39mif\u001b[39;00m world[i] \u001b[39m<\u001b[39m compare:\n",
      "\u001b[1;32mc:\\Users\\USER\\OneDrive\\바탕 화면\\python\\pythons\\파이썬_백준풀이\\14719_(골드5)_빗물.ipynb 셀 2\u001b[0m in \u001b[0;36m7\n\u001b[0;32m      <a href='vscode-notebook-cell:/c%3A/Users/USER/OneDrive/%EB%B0%94%ED%83%95%20%ED%99%94%EB%A9%B4/python/pythons/%ED%8C%8C%EC%9D%B4%EC%8D%AC_%EB%B0%B1%EC%A4%80%ED%92%80%EC%9D%B4/14719_%28%EA%B3%A8%EB%93%9C5%29_%EB%B9%97%EB%AC%BC.ipynb#W2sZmlsZQ%3D%3D?line=4'>5</a>\u001b[0m \u001b[39mfor\u001b[39;00m i \u001b[39min\u001b[39;00m \u001b[39mrange\u001b[39m(\u001b[39m1\u001b[39m, w \u001b[39m-\u001b[39m \u001b[39m1\u001b[39m):\n\u001b[0;32m      <a href='vscode-notebook-cell:/c%3A/Users/USER/OneDrive/%EB%B0%94%ED%83%95%20%ED%99%94%EB%A9%B4/python/pythons/%ED%8C%8C%EC%9D%B4%EC%8D%AC_%EB%B0%B1%EC%A4%80%ED%92%80%EC%9D%B4/14719_%28%EA%B3%A8%EB%93%9C5%29_%EB%B9%97%EB%AC%BC.ipynb#W2sZmlsZQ%3D%3D?line=5'>6</a>\u001b[0m     left_max \u001b[39m=\u001b[39m \u001b[39mmax\u001b[39m(world[:i])\n\u001b[1;32m----> <a href='vscode-notebook-cell:/c%3A/Users/USER/OneDrive/%EB%B0%94%ED%83%95%20%ED%99%94%EB%A9%B4/python/pythons/%ED%8C%8C%EC%9D%B4%EC%8D%AC_%EB%B0%B1%EC%A4%80%ED%92%80%EC%9D%B4/14719_%28%EA%B3%A8%EB%93%9C5%29_%EB%B9%97%EB%AC%BC.ipynb#W2sZmlsZQ%3D%3D?line=6'>7</a>\u001b[0m     right_max \u001b[39m=\u001b[39m \u001b[39mmax\u001b[39;49m(world[i\u001b[39m+\u001b[39m\u001b[39m1\u001b[39m:])\n\u001b[0;32m      <a href='vscode-notebook-cell:/c%3A/Users/USER/OneDrive/%EB%B0%94%ED%83%95%20%ED%99%94%EB%A9%B4/python/pythons/%ED%8C%8C%EC%9D%B4%EC%8D%AC_%EB%B0%B1%EC%A4%80%ED%92%80%EC%9D%B4/14719_%28%EA%B3%A8%EB%93%9C5%29_%EB%B9%97%EB%AC%BC.ipynb#W2sZmlsZQ%3D%3D?line=8'>9</a>\u001b[0m     compare \u001b[39m=\u001b[39m \u001b[39mmin\u001b[39m(left_max, right_max)\n\u001b[0;32m     <a href='vscode-notebook-cell:/c%3A/Users/USER/OneDrive/%EB%B0%94%ED%83%95%20%ED%99%94%EB%A9%B4/python/pythons/%ED%8C%8C%EC%9D%B4%EC%8D%AC_%EB%B0%B1%EC%A4%80%ED%92%80%EC%9D%B4/14719_%28%EA%B3%A8%EB%93%9C5%29_%EB%B9%97%EB%AC%BC.ipynb#W2sZmlsZQ%3D%3D?line=10'>11</a>\u001b[0m     \u001b[39mif\u001b[39;00m world[i] \u001b[39m<\u001b[39m compare:\n",
      "File \u001b[1;32m_pydevd_bundle/pydevd_cython.pyx:1443\u001b[0m, in \u001b[0;36m_pydevd_bundle.pydevd_cython.SafeCallWrapper.__call__\u001b[1;34m()\u001b[0m\n",
      "File \u001b[1;32m_pydevd_bundle/pydevd_cython.pyx:700\u001b[0m, in \u001b[0;36m_pydevd_bundle.pydevd_cython.PyDBFrame.trace_dispatch\u001b[1;34m()\u001b[0m\n",
      "File \u001b[1;32m_pydevd_bundle/pydevd_cython.pyx:1368\u001b[0m, in \u001b[0;36m_pydevd_bundle.pydevd_cython.PyDBFrame.trace_dispatch\u001b[1;34m()\u001b[0m\n",
      "File \u001b[1;32m_pydevd_bundle/pydevd_cython.pyx:1330\u001b[0m, in \u001b[0;36m_pydevd_bundle.pydevd_cython.PyDBFrame.trace_dispatch\u001b[1;34m()\u001b[0m\n",
      "File \u001b[1;32m_pydevd_bundle/pydevd_cython.pyx:311\u001b[0m, in \u001b[0;36m_pydevd_bundle.pydevd_cython.PyDBFrame.do_wait_suspend\u001b[1;34m()\u001b[0m\n",
      "File \u001b[1;32m~\\AppData\\Roaming\\Python\\Python310\\site-packages\\debugpy\\_vendored\\pydevd\\pydevd.py:2062\u001b[0m, in \u001b[0;36mPyDB.do_wait_suspend\u001b[1;34m(self, thread, frame, event, arg, exception_type)\u001b[0m\n\u001b[0;32m   2059\u001b[0m             from_this_thread\u001b[39m.\u001b[39mappend(frame_custom_thread_id)\n\u001b[0;32m   2061\u001b[0m     \u001b[39mwith\u001b[39;00m \u001b[39mself\u001b[39m\u001b[39m.\u001b[39m_threads_suspended_single_notification\u001b[39m.\u001b[39mnotify_thread_suspended(thread_id, stop_reason):\n\u001b[1;32m-> 2062\u001b[0m         keep_suspended \u001b[39m=\u001b[39m \u001b[39mself\u001b[39;49m\u001b[39m.\u001b[39;49m_do_wait_suspend(thread, frame, event, arg, suspend_type, from_this_thread, frames_tracker)\n\u001b[0;32m   2064\u001b[0m frames_list \u001b[39m=\u001b[39m \u001b[39mNone\u001b[39;00m\n\u001b[0;32m   2066\u001b[0m \u001b[39mif\u001b[39;00m keep_suspended:\n\u001b[0;32m   2067\u001b[0m     \u001b[39m# This means that we should pause again after a set next statement.\u001b[39;00m\n",
      "File \u001b[1;32m~\\AppData\\Roaming\\Python\\Python310\\site-packages\\debugpy\\_vendored\\pydevd\\pydevd.py:2098\u001b[0m, in \u001b[0;36mPyDB._do_wait_suspend\u001b[1;34m(self, thread, frame, event, arg, suspend_type, from_this_thread, frames_tracker)\u001b[0m\n\u001b[0;32m   2095\u001b[0m         \u001b[39mself\u001b[39m\u001b[39m.\u001b[39m_call_input_hook()\n\u001b[0;32m   2097\u001b[0m     \u001b[39mself\u001b[39m\u001b[39m.\u001b[39mprocess_internal_commands()\n\u001b[1;32m-> 2098\u001b[0m     time\u001b[39m.\u001b[39;49msleep(\u001b[39m0.01\u001b[39;49m)\n\u001b[0;32m   2100\u001b[0m \u001b[39mself\u001b[39m\u001b[39m.\u001b[39mcancel_async_evaluation(get_current_thread_id(thread), \u001b[39mstr\u001b[39m(\u001b[39mid\u001b[39m(frame)))\n\u001b[0;32m   2102\u001b[0m \u001b[39m# process any stepping instructions\u001b[39;00m\n",
      "\u001b[1;31mKeyboardInterrupt\u001b[0m: "
     ]
    }
   ],
   "source": [
    "def find_water(start,end,t):\n",
    "\n",
    "    global water,check,check_index,real_water\n",
    "    \n",
    "    for i in range(start,end,t):                                                                              \n",
    "\n",
    "        if(check > lenght_deep[i]):#다른 땅과 비교해서 낮으면 파인 땅으로 간주한다.\n",
    "                                                            \n",
    "            water += (check - lenght_deep[i])\n",
    "\n",
    "        elif(check <= lenght_deep[i]):#만약 높다면 그 땅을 기준점으로 잡는다.\n",
    "            \n",
    "            real_water +=water\n",
    "\n",
    "            check = lenght_deep[i]\n",
    "            check_index = i\n",
    "\n",
    "            water = 0\n",
    "\n",
    "#입력\n",
    "\n",
    "lenght,horizontal =map(int,input().split())\n",
    "\n",
    "lenght_deep = list(map(int,input().split()))\n",
    "\n",
    "#반복문 실행\n",
    "\n",
    "check = lenght_deep[0]\n",
    "water,real_water = 0,0\n",
    "types = 1 \n",
    "\n",
    "find_water(1,horizontal,types)\n",
    " \n",
    "check = lenght_deep[-1]#초기화\n",
    "water,types = 0,-1\n",
    "\n",
    "#4 1 1 2 와 유사한 방식을 막기 위해 방향을 바꿔서 실행한다.\n",
    "find_water(horizontal-1,check_index-1,-1)#반대쪽 ~ 기준점\n",
    "\n",
    "print(real_water)\n",
    "\n",
    "\n"
   ]
  }
 ],
 "metadata": {
  "kernelspec": {
   "display_name": "Python 3",
   "language": "python",
   "name": "python3"
  },
  "language_info": {
   "codemirror_mode": {
    "name": "ipython",
    "version": 3
   },
   "file_extension": ".py",
   "mimetype": "text/x-python",
   "name": "python",
   "nbconvert_exporter": "python",
   "pygments_lexer": "ipython3",
   "version": "3.10.1"
  },
  "orig_nbformat": 4
 },
 "nbformat": 4,
 "nbformat_minor": 2
}
