{
 "cells": [
  {
   "attachments": {},
   "cell_type": "markdown",
   "metadata": {},
   "source": [
    "수를 처리하는 것은 통계학에서 상당히 중요한 일이다. 통계학에서 N개의 수를 대표하는 기본 통계값에는 다음과 같은 것들이 있다. 단, N은 홀수라고 가정하자.\n",
    "\n",
    "1.산술평균 : N개의 수들의 합을 N으로 나눈 값\n",
    "2.중앙값 : N개의 수들을 증가하는 순서로 나열했을 경우 그 중앙에 위치하는 값\n",
    "3.최빈값 : N개의 수들 중 가장 많이 나타나는 값\n",
    "4.범위 : N개의 수들 중 최댓값과 최솟값의 차이\n",
    "\n",
    "N개의 수가 주어졌을 때, 네 가지 기본 통계값을 구하는 프로그램을 작성하시오."
   ]
  },
  {
   "cell_type": "code",
   "execution_count": 5,
   "metadata": {},
   "outputs": [
    {
     "name": "stdout",
     "output_type": "stream",
     "text": [
      "0\n",
      "0\n",
      "0\n",
      "1\n"
     ]
    }
   ],
   "source": [
    "import statistics as lists\n",
    "import sys\n",
    "\n",
    "\n",
    "\n",
    "count = int(sys.stdin.readline())#얼마나 수를 입력받는지 적는다.\n",
    "result =0#리스트의 총합\n",
    "list_number = list()\n",
    "\n",
    "for i in range(count):\n",
    "\n",
    "    list_number.append(int(sys.stdin.readline()))#수를 입력받음\n",
    "    \n",
    "    result = result +list_number[i]\n",
    "\n",
    "list_number.sort()#정렬함수\n",
    "\n",
    "ranges  = abs(list_number[0]-list_number[count-1])\n",
    "print(int(round(result/count)))#1.산술평균 출력\n",
    "\n",
    "print(list_number[int(count/2)])#2.중앙값 출력\n",
    "\n",
    "\n",
    "\n",
    "\n",
    "most = lists.mode(list_number)#최빈값\n",
    "counts = list_number.count(most)\n",
    "\n",
    "#최빈값의 숫자를 제거를 하여 같은 빈도를 가진 숫자들이 있는지 찾는다.\n",
    "\n",
    "if count > 1:\n",
    "    list_number.remove(most)\n",
    "    if list_number.count(int(lists.mode(list_number))) == counts:\n",
    "        most = lists.mode(list_number)\n",
    "\n",
    "print(most)#3 최빈값 출력  \n",
    "\n",
    "print(ranges)#4범위 출력\n",
    "\n",
    "\n",
    "\n",
    "\n",
    "\n",
    "\n",
    "\n",
    "\n",
    "\n"
   ]
  }
 ],
 "metadata": {
  "kernelspec": {
   "display_name": "Python 3",
   "language": "python",
   "name": "python3"
  },
  "language_info": {
   "codemirror_mode": {
    "name": "ipython",
    "version": 3
   },
   "file_extension": ".py",
   "mimetype": "text/x-python",
   "name": "python",
   "nbconvert_exporter": "python",
   "pygments_lexer": "ipython3",
   "version": "3.10.1 (tags/v3.10.1:2cd268a, Dec  6 2021, 19:10:37) [MSC v.1929 64 bit (AMD64)]"
  },
  "orig_nbformat": 4,
  "vscode": {
   "interpreter": {
    "hash": "df95319d8ce4e1d89f5365ae10992bc1f65da593082b1d264e8f529830ec2f02"
   }
  }
 },
 "nbformat": 4,
 "nbformat_minor": 2
}
