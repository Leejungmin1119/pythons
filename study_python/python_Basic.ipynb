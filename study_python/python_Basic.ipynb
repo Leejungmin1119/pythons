{
 "cells": [
  {
   "cell_type": "code",
   "execution_count": 20,
   "metadata": {},
   "outputs": [
    {
     "name": "stdout",
     "output_type": "stream",
     "text": [
      "HELLO WORLD!\n",
      "이정민\n",
      "박종찬\n",
      "0\n",
      "10\n",
      "2\n",
      "-1\n",
      "2\n"
     ]
    }
   ],
   "source": [
    "\n",
    "\n",
    "py = \"Hello World!\"\n",
    "print(py.upper())\n",
    "\n",
    "#replace : 바꾸고 싶은 문장을 찾아 다른 문장으로 바궈준다.\n",
    "name = \"이정민\"\n",
    "\n",
    "print(name)#이정민\n",
    "print(name.replace(\"이정민\",\"박종찬\"))#박종찬\n",
    "\n",
    "#index : 원하는 문자나 단어의 위치를 알려준다. 만약 찾고자 하는 문장이 없을시 에러발생\n",
    "#find : 원하는 문자나 단어의 위치를 알려준다. 만약 찾고자 하는 문장이 없을시 -1출력\n",
    "\n",
    "python = \"abcdefg - abcdefg\"\n",
    "\n",
    "index = python.index(\"a\")#0번째 자리\n",
    "print(index)\n",
    "index = python.index(\"a\",index+1)#10번째 자리\n",
    "print(index)\n",
    "\n",
    "print(python.find(\"c\"))#2번째 자리\n",
    "print(python.find(\"h\"))#해당 문자가 없음 -1 출력\n",
    "\n",
    "#count : 해당 문자열에 찾고자 하는 문자나 단어의 갯수가 몇개있는지 알려준다.\n",
    "\n",
    "print(python.count(\"a\"))#찾고자 하는 단어는 총 2개\n",
    "\n"
   ]
  },
  {
   "attachments": {},
   "cell_type": "markdown",
   "metadata": {},
   "source": [
    "문자열 관련 함수\n"
   ]
  },
  {
   "cell_type": "code",
   "execution_count": 21,
   "metadata": {},
   "outputs": [
    {
     "name": "stdout",
     "output_type": "stream",
     "text": [
      "저의 나이는 20입니다!\n",
      "오늘은 12월 29일이예염\n",
      "재미있는 파이썬 생활\n",
      "지금 시각은 6시 34분\n",
      "파이썬 코딩 무료 코딩\n"
     ]
    }
   ],
   "source": [
    "\n",
    "\n",
    "age = 20\n",
    "\n",
    "print(\"저의 나이는 %d입니다!\"% age)#ex) 뒤에 %적고 변수등 적어 나타낸다.\n",
    "print(\"오늘은 %s월 %s일이예염\" % (\"12\",29))\n",
    "\n",
    "#2.\n",
    "\n",
    "print(\"재미있는 {} 생활\".format(\"파이썬\"))\n",
    "print(\"지금 시각은 {1}시 {0}분\".format(34,6))\n",
    "print(\"{a} 코딩 무료 {b}\".format(a = \"파이썬\",b = \"코딩\"))\n",
    "\n"
   ]
  },
  {
   "attachments": {},
   "cell_type": "markdown",
   "metadata": {},
   "source": [
    "문자열 포맷"
   ]
  },
  {
   "cell_type": "code",
   "execution_count": 22,
   "metadata": {},
   "outputs": [
    {
     "name": "stdout",
     "output_type": "stream",
     "text": [
      "여기에도 \\n가 있네\n"
     ]
    }
   ],
   "source": [
    "\n",
    "#\\ : \\n과 \"\"과 같은 특수 기호를 문자열로 표기\n",
    "print('''여기에도 \\\\n가 있네''')"
   ]
  },
  {
   "attachments": {},
   "cell_type": "markdown",
   "metadata": {},
   "source": [
    "탈출 문자"
   ]
  },
  {
   "cell_type": "code",
   "execution_count": 23,
   "metadata": {},
   "outputs": [
    {
     "name": "stdout",
     "output_type": "stream",
     "text": [
      "[10, 20, 30]\n",
      "2\n",
      "[10, 20, 30, 40]\n",
      "30\n",
      "[10, 20, 40]\n",
      "[4, 5, 10, 20, 23]\n",
      "[23, 20, 10, 5, 4]\n",
      "[]\n",
      "[10, 23, 4, 5, 20, 10, 20, 40]\n"
     ]
    }
   ],
   "source": [
    "\n",
    "subway =[10,20,30]\n",
    "print(subway)#[10,20,30]\n",
    "\n",
    "print(subway.index(30))#2번째에 있음.\n",
    "\n",
    "#30 뒤에 새로운 숫자 넣기\n",
    "\n",
    "subway.insert(3,40)#40이라는 숫자를 3번째 자리에 넣음\n",
    "print(subway)#[10,20,30,40]\n",
    "\n",
    "# 숫자 뻬기\n",
    "\n",
    "print(subway.pop(2))#30 제거\n",
    "print(subway)#[10,20,40]\n",
    "\n",
    "#정렬\n",
    "\n",
    "my_list = [10,23,4,5,20]\n",
    "\n",
    "my_list.sort()#정렬함수\n",
    "\n",
    "print(my_list)#[4,5,10,20,23]\n",
    "\n",
    "my_list.reverse()#정렬함수(내림차수 정렬)\n",
    "\n",
    "print(my_list)#[23,20,10,5,4]\n",
    "\n",
    "#리스트 지우기\n",
    "\n",
    "my_list.clear()#제거\n",
    "\n",
    "print(my_list)#[]\n",
    "\n",
    "#리스트 확장\n",
    "my_list = [10,23,4,5,20]\n",
    "my_list.extend(subway)#확장\n",
    "\n",
    "print(my_list)"
   ]
  },
  {
   "attachments": {},
   "cell_type": "markdown",
   "metadata": {},
   "source": [
    "리스트"
   ]
  },
  {
   "cell_type": "code",
   "execution_count": 24,
   "metadata": {},
   "outputs": [
    {
     "name": "stdout",
     "output_type": "stream",
     "text": [
      "이정민\n",
      "이정민\n",
      "None\n",
      "True\n",
      "False\n",
      "장성욱\n",
      "유재림\n",
      "유준현\n",
      "{3: '이정민', 100: '박종찬', 2: '황세영'}\n",
      "dict_keys([3, 100, 2])\n",
      "dict_values(['이정민', '박종찬', '황세영'])\n",
      "dict_items([(3, '이정민'), (100, '박종찬'), (2, '황세영')])\n",
      "{}\n"
     ]
    }
   ],
   "source": [
    "cabinet = {3:\"이정민\",100:\"박종찬\"}#사전을 이용할 시 {}이용\n",
    "\n",
    "print(cabinet[3])#출력 시 키값 적기\n",
    "\n",
    "#get을 이용하여 키값에 해당하는 문자를 불러오기 가능\n",
    "\n",
    "print(cabinet.get(3))#이정민\n",
    "#print(cabinet.get[5])#error발생 단,대괄호가 아닌 소괄호로 묶어서 나타내면 NONE이 출력된다.\n",
    "\n",
    "print(cabinet.get(5))#NONE\n",
    "\n",
    "print(3 in cabinet)#True\n",
    "\n",
    "print(15 in cabinet)#false\n",
    "\n",
    "print(cabinet.get(5,\"장성욱\"))#키값이 5인 \"장성욱\"이라는 이름이 출력된다.\n",
    "\n",
    "#키값을 문자열로 지정해도 된다.\n",
    "\n",
    "str_cabinet ={\"A-100\":\"유재림\",\"B-100\":\"김승현\"}\n",
    "print(str_cabinet[\"A-100\"]) #유재림\n",
    "\n",
    "#사전에 추가하기 \n",
    "\n",
    "cabinet[1] = \"유준현\"\n",
    "cabinet[2] = \"황세영\"\n",
    "\n",
    "print(cabinet[1])\n",
    "\n",
    "#사전에 있는거 제거\n",
    "\n",
    "del cabinet[1]\n",
    "\n",
    "print(cabinet)\n",
    "\n",
    "#키값들만 출력하기\n",
    "\n",
    "print(cabinet.keys())\n",
    "\n",
    "#값만 출력하기\n",
    "\n",
    "print(cabinet.values())\n",
    "\n",
    "#키랑 값을 쌍으로 출력하기\n",
    "print(cabinet.items())\n",
    "\n",
    "#사전없애기\n",
    "\n",
    "cabinet.clear()\n",
    "print(cabinet)"
   ]
  },
  {
   "attachments": {},
   "cell_type": "markdown",
   "metadata": {},
   "source": [
    "사전"
   ]
  },
  {
   "cell_type": "code",
   "execution_count": 26,
   "metadata": {},
   "outputs": [
    {
     "name": "stdout",
     "output_type": "stream",
     "text": [
      "1 2 3\n"
     ]
    }
   ],
   "source": [
    "menu = (\"돈까스\",\"치즈까스\") #튜플생성\n",
    "\n",
    "#동시 선언\n",
    "\n",
    "(a,b,c) = 1,2,3\n",
    "\n",
    "print(a,b,c)\n",
    "\n"
   ]
  },
  {
   "attachments": {},
   "cell_type": "markdown",
   "metadata": {},
   "source": [
    "튜플"
   ]
  },
  {
   "cell_type": "code",
   "execution_count": 43,
   "metadata": {},
   "outputs": [
    {
     "name": "stdout",
     "output_type": "stream",
     "text": [
      "{1, 2, 3}\n",
      "{'미스포츈', '사미라'}\n",
      "{'미스포츈', '사미라'}\n",
      "{'미스포츈', '아펠리오스', '벨베스', '사미라', '바루스', '아우렐리온 솔'}\n",
      "{'미스포츈', '아펠리오스', '벨베스', '사미라', '바루스', '아우렐리온 솔'}\n",
      "{'아펠리오스', '바루스'}\n",
      "{'아펠리오스', '바루스'}\n",
      "{'미스포츈', '벨베스', '사미라', '소라카', '아우렐리온 솔'}\n",
      "{'미스포츈', '벨베스', '사미라', '소라카'}\n"
     ]
    }
   ],
   "source": [
    "#집합\n",
    "\n",
    "my_set = {1,2,3,3,3}\n",
    "\n",
    "#집합은 중복을 허용하지 않는다.\n",
    "print(my_set)#{1,2,3}\n",
    "\n",
    "#이런 식으로도 집합을 정의 할 수 있다.\n",
    "\n",
    "legue_of_legende = set([\"미스포츈\",\"바루스\",\"사미라\",\"아펠리오스\"])\n",
    "teamfight_tactics = {\"미스포츈\",\"사미라\",\"벨베스\",\"아우렐리온 솔\"}\n",
    "\n",
    "#교집합\n",
    "\n",
    "print(format(legue_of_legende & teamfight_tactics))#{'미스포츈','사미라'}\n",
    "print(legue_of_legende.intersection(teamfight_tactics))#{'미스포츈','사미라'}\n",
    "\n",
    "#합집합\n",
    "\n",
    "print(legue_of_legende | teamfight_tactics)#{미스포츈,아펠리오스,벨베스,사미라,바루스,아우렐리온 솔}\n",
    "print(legue_of_legende.union(teamfight_tactics))\n",
    "\n",
    "#차집합\n",
    "\n",
    "print(legue_of_legende - teamfight_tactics)#{아펠리오스,사미라}\n",
    "print(legue_of_legende.difference(teamfight_tactics))\n",
    "\n",
    "#집합 추가시키기\n",
    "\n",
    "teamfight_tactics.add(\"소라카\")#{미스포츈,사미라,소라카,아우렐리온 솔}\n",
    "print(teamfight_tactics)\n",
    "\n",
    "teamfight_tactics.remove(\"아우렐리온 솔\")#{미스포츈,사미라,소라카}\n",
    "print(teamfight_tactics)\n",
    "\n",
    "\n",
    "\n",
    "\n",
    "\n"
   ]
  },
  {
   "attachments": {},
   "cell_type": "markdown",
   "metadata": {},
   "source": [
    "세트"
   ]
  },
  {
   "cell_type": "code",
   "execution_count": 48,
   "metadata": {},
   "outputs": [
    {
     "name": "stdout",
     "output_type": "stream",
     "text": [
      "{'물', '커피', '핫초코'} <class 'set'>\n",
      "['물', '커피', '핫초코'] <class 'list'>\n",
      "('물', '커피', '핫초코') <class 'tuple'>\n",
      "{'물', '커피', '핫초코'} <class 'set'>\n"
     ]
    }
   ],
   "source": [
    "menu = {\"물\",\"커피\",\"핫초코\"}#집합\n",
    "\n",
    "print(menu,type(menu))\n",
    "\n",
    "menu = list(menu)#리스트로 변경\n",
    "print(menu,type(menu))\n",
    "\n",
    "menu = tuple(menu)#튜플로 변경\n",
    "print(menu,type(menu))\n",
    "\n",
    "menu = set(menu)#집합으로 변경\n",
    "print(menu,type(menu))\n"
   ]
  },
  {
   "attachments": {},
   "cell_type": "markdown",
   "metadata": {},
   "source": [
    "자료구조의 변경"
   ]
  },
  {
   "cell_type": "code",
   "execution_count": 64,
   "metadata": {},
   "outputs": [
    {
     "name": "stdout",
     "output_type": "stream",
     "text": [
      "평년\n",
      "정답보다 3일 멀어요..\n"
     ]
    }
   ],
   "source": [
    "\n",
    "\n",
    "a = int(input())\n",
    "if (a%4 == 0 and a%100 != 0) or (a%400 == 0):#if문 생성 괄호를 적용하지 않아도 됨\n",
    "    print(\"윤년\")\n",
    "elif a<0 : #0이하면 -1 출력 ,else if의 줄인말\n",
    "    print(\"-1\") \n",
    "else:\n",
    "    print(\"평년\")\n",
    "\n",
    "today = str(input(\"오늘의 날짜를 맞춰주세요 : \"))\n",
    "\n",
    "if today == \"22\" : \n",
    "    print(\"정답입니다!\")\n",
    "else :\n",
    "    print(\"정답보다 {}일 멀어요..\".format(abs(22-int(today))))"
   ]
  },
  {
   "attachments": {},
   "cell_type": "markdown",
   "metadata": {},
   "source": [
    "if문"
   ]
  },
  {
   "cell_type": "code",
   "execution_count": null,
   "metadata": {},
   "outputs": [],
   "source": [
    "for wait in [1,2,3,4,5]:#1부터 5까지\n",
    "    print(\"현재 남은 대기번호는 {} 입니다!\".format(wait))#1~5까지 대기번호 출력\n",
    "\n",
    "for a in range(1,6):\n",
    "    print(\"현재 남은 대기번호는 {} 입니다!\".format(wait))#이전과 동일\n",
    "\n",
    "for check in my_list:\n",
    "    print(\"리스트 값 {}\".format(check))\n",
    "\n",
    "\n"
   ]
  },
  {
   "attachments": {},
   "cell_type": "markdown",
   "metadata": {},
   "source": [
    "for문"
   ]
  },
  {
   "cell_type": "code",
   "execution_count": 75,
   "metadata": {},
   "outputs": [
    {
     "name": "stdout",
     "output_type": "stream",
     "text": [
      "array 값 : 3\n",
      "array 값 : 2\n",
      "array 값 : 1\n",
      "작업 끝!\n"
     ]
    }
   ],
   "source": [
    "array = int(input())\n",
    "while array>=1:\n",
    "    print(\"array 값 : {}\".format(array))\n",
    "    array-=1\n",
    "print(\"작업 끝!\")\n",
    "\n",
    "#whlie 1 : 또는 while True : 를 넣으면 무한이 된다.\n",
    "\n"
   ]
  },
  {
   "attachments": {},
   "cell_type": "markdown",
   "metadata": {},
   "source": [
    "while문"
   ]
  },
  {
   "cell_type": "code",
   "execution_count": 81,
   "metadata": {},
   "outputs": [
    {
     "name": "stdout",
     "output_type": "stream",
     "text": [
      "[101, 102, 103, 104, 105]\n",
      "[7, 3, 4]\n"
     ]
    }
   ],
   "source": [
    "my_value = [1,2,3,4,5]#리스트 생성\n",
    "my_value = [i+100 for i in my_value]#리스트 값에 100을 더함\n",
    "print(my_value)#[101,102,103,104,105]\n",
    "\n",
    "student = [\"아무튼 학생임\",\"학생1\",\"마동석이\"]\n",
    "student = [len(i) for i in student]#문장의 길이로 변경\n",
    "print(student)#[7,3,4]"
   ]
  },
  {
   "attachments": {},
   "cell_type": "markdown",
   "metadata": {},
   "source": [
    "한줄 for 문"
   ]
  }
 ],
 "metadata": {
  "kernelspec": {
   "display_name": "Python 3",
   "language": "python",
   "name": "python3"
  },
  "language_info": {
   "codemirror_mode": {
    "name": "ipython",
    "version": 3
   },
   "file_extension": ".py",
   "mimetype": "text/x-python",
   "name": "python",
   "nbconvert_exporter": "python",
   "pygments_lexer": "ipython3",
   "version": "3.10.1 (tags/v3.10.1:2cd268a, Dec  6 2021, 19:10:37) [MSC v.1929 64 bit (AMD64)]"
  },
  "orig_nbformat": 4,
  "vscode": {
   "interpreter": {
    "hash": "df95319d8ce4e1d89f5365ae10992bc1f65da593082b1d264e8f529830ec2f02"
   }
  }
 },
 "nbformat": 4,
 "nbformat_minor": 2
}
