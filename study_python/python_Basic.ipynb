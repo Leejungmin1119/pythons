{
 "cells": [
  {
   "cell_type": "code",
   "execution_count": 20,
   "metadata": {},
   "outputs": [
    {
     "name": "stdout",
     "output_type": "stream",
     "text": [
      "HELLO WORLD!\n",
      "이정민\n",
      "박종찬\n",
      "0\n",
      "10\n",
      "2\n",
      "-1\n",
      "2\n"
     ]
    }
   ],
   "source": [
    "\n",
    "\n",
    "py = \"Hello World!\"\n",
    "print(py.upper())\n",
    "\n",
    "#replace : 바꾸고 싶은 문장을 찾아 다른 문장으로 바궈준다.\n",
    "name = \"이정민\"\n",
    "\n",
    "print(name)#이정민\n",
    "print(name.replace(\"이정민\",\"박종찬\"))#박종찬\n",
    "\n",
    "#index : 원하는 문자나 단어의 위치를 알려준다. 만약 찾고자 하는 문장이 없을시 에러발생\n",
    "#find : 원하는 문자나 단어의 위치를 알려준다. 만약 찾고자 하는 문장이 없을시 -1출력\n",
    "\n",
    "python = \"abcdefg - abcdefg\"\n",
    "\n",
    "index = python.index(\"a\")#0번째 자리\n",
    "print(index)\n",
    "index = python.index(\"a\",index+1)#10번째 자리\n",
    "print(index)\n",
    "\n",
    "print(python.find(\"c\"))#2번째 자리\n",
    "print(python.find(\"h\"))#해당 문자가 없음 -1 출력\n",
    "\n",
    "#count : 해당 문자열에 찾고자 하는 문자나 단어의 갯수가 몇개있는지 알려준다.\n",
    "\n",
    "print(python.count(\"a\"))#찾고자 하는 단어는 총 2개\n",
    "\n"
   ]
  },
  {
   "attachments": {},
   "cell_type": "markdown",
   "metadata": {},
   "source": [
    "문자열 관련 함수\n"
   ]
  },
  {
   "cell_type": "code",
   "execution_count": 21,
   "metadata": {},
   "outputs": [
    {
     "name": "stdout",
     "output_type": "stream",
     "text": [
      "저의 나이는 20입니다!\n",
      "오늘은 12월 29일이예염\n",
      "재미있는 파이썬 생활\n",
      "지금 시각은 6시 34분\n",
      "파이썬 코딩 무료 코딩\n"
     ]
    }
   ],
   "source": [
    "\n",
    "\n",
    "age = 20\n",
    "\n",
    "print(\"저의 나이는 %d입니다!\"% age)#ex) 뒤에 %적고 변수등 적어 나타낸다.\n",
    "print(\"오늘은 %s월 %s일이예염\" % (\"12\",29))\n",
    "\n",
    "#2.\n",
    "\n",
    "print(\"재미있는 {} 생활\".format(\"파이썬\"))\n",
    "print(\"지금 시각은 {1}시 {0}분\".format(34,6))\n",
    "print(\"{a} 코딩 무료 {b}\".format(a = \"파이썬\",b = \"코딩\"))\n",
    "\n"
   ]
  },
  {
   "attachments": {},
   "cell_type": "markdown",
   "metadata": {},
   "source": [
    "문자열 포맷"
   ]
  },
  {
   "cell_type": "code",
   "execution_count": 22,
   "metadata": {},
   "outputs": [
    {
     "name": "stdout",
     "output_type": "stream",
     "text": [
      "여기에도 \\n가 있네\n"
     ]
    }
   ],
   "source": [
    "\n",
    "#\\ : \\n과 \"\"과 같은 특수 기호를 문자열로 표기\n",
    "print('''여기에도 \\\\n가 있네''')"
   ]
  },
  {
   "attachments": {},
   "cell_type": "markdown",
   "metadata": {},
   "source": [
    "탈출 문자"
   ]
  },
  {
   "cell_type": "code",
   "execution_count": 23,
   "metadata": {},
   "outputs": [
    {
     "name": "stdout",
     "output_type": "stream",
     "text": [
      "[10, 20, 30]\n",
      "2\n",
      "[10, 20, 30, 40]\n",
      "30\n",
      "[10, 20, 40]\n",
      "[4, 5, 10, 20, 23]\n",
      "[23, 20, 10, 5, 4]\n",
      "[]\n",
      "[10, 23, 4, 5, 20, 10, 20, 40]\n"
     ]
    }
   ],
   "source": [
    "\n",
    "subway =[10,20,30]\n",
    "print(subway)#[10,20,30]\n",
    "\n",
    "print(subway.index(30))#2번째에 있음.\n",
    "\n",
    "#30 뒤에 새로운 숫자 넣기\n",
    "\n",
    "subway.insert(3,40)#40이라는 숫자를 3번째 자리에 넣음\n",
    "print(subway)#[10,20,30,40]\n",
    "\n",
    "# 숫자 뻬기\n",
    "\n",
    "print(subway.pop(2))#30 제거\n",
    "print(subway)#[10,20,40]\n",
    "\n",
    "#정렬\n",
    "\n",
    "my_list = [10,23,4,5,20]\n",
    "\n",
    "my_list.sort()#정렬함수\n",
    "\n",
    "print(my_list)#[4,5,10,20,23]\n",
    "\n",
    "my_list.reverse()#정렬함수(내림차수 정렬)\n",
    "\n",
    "print(my_list)#[23,20,10,5,4]\n",
    "\n",
    "#리스트 지우기\n",
    "\n",
    "my_list.clear()#제거\n",
    "\n",
    "print(my_list)#[]\n",
    "\n",
    "#리스트 확장\n",
    "my_list = [10,23,4,5,20]\n",
    "my_list.extend(subway)#확장\n",
    "\n",
    "print(my_list)"
   ]
  },
  {
   "attachments": {},
   "cell_type": "markdown",
   "metadata": {},
   "source": [
    "리스트"
   ]
  },
  {
   "cell_type": "code",
   "execution_count": 24,
   "metadata": {},
   "outputs": [
    {
     "name": "stdout",
     "output_type": "stream",
     "text": [
      "이정민\n",
      "이정민\n",
      "None\n",
      "True\n",
      "False\n",
      "장성욱\n",
      "유재림\n",
      "유준현\n",
      "{3: '이정민', 100: '박종찬', 2: '황세영'}\n",
      "dict_keys([3, 100, 2])\n",
      "dict_values(['이정민', '박종찬', '황세영'])\n",
      "dict_items([(3, '이정민'), (100, '박종찬'), (2, '황세영')])\n",
      "{}\n"
     ]
    }
   ],
   "source": [
    "cabinet = {3:\"이정민\",100:\"박종찬\"}#사전을 이용할 시 {}이용\n",
    "\n",
    "print(cabinet[3])#출력 시 키값 적기\n",
    "\n",
    "#get을 이용하여 키값에 해당하는 문자를 불러오기 가능\n",
    "\n",
    "print(cabinet.get(3))#이정민\n",
    "#print(cabinet.get[5])#error발생 단,대괄호가 아닌 소괄호로 묶어서 나타내면 NONE이 출력된다.\n",
    "\n",
    "print(cabinet.get(5))#NONE\n",
    "\n",
    "print(3 in cabinet)#True\n",
    "\n",
    "print(15 in cabinet)#false\n",
    "\n",
    "print(cabinet.get(5,\"장성욱\"))#키값이 5인 \"장성욱\"이라는 이름이 출력된다.\n",
    "\n",
    "#키값을 문자열로 지정해도 된다.\n",
    "\n",
    "str_cabinet ={\"A-100\":\"유재림\",\"B-100\":\"김승현\"}\n",
    "print(str_cabinet[\"A-100\"]) #유재림\n",
    "\n",
    "#사전에 추가하기 \n",
    "\n",
    "cabinet[1] = \"유준현\"\n",
    "cabinet[2] = \"황세영\"\n",
    "\n",
    "print(cabinet[1])\n",
    "\n",
    "#사전에 있는거 제거\n",
    "\n",
    "del cabinet[1]\n",
    "\n",
    "print(cabinet)\n",
    "\n",
    "#키값들만 출력하기\n",
    "\n",
    "print(cabinet.keys())\n",
    "\n",
    "#값만 출력하기\n",
    "\n",
    "print(cabinet.values())\n",
    "\n",
    "#키랑 값을 쌍으로 출력하기\n",
    "print(cabinet.items())\n",
    "\n",
    "#사전없애기\n",
    "\n",
    "cabinet.clear()\n",
    "print(cabinet)"
   ]
  },
  {
   "attachments": {},
   "cell_type": "markdown",
   "metadata": {},
   "source": [
    "사전"
   ]
  },
  {
   "cell_type": "code",
   "execution_count": 26,
   "metadata": {},
   "outputs": [
    {
     "name": "stdout",
     "output_type": "stream",
     "text": [
      "1 2 3\n"
     ]
    }
   ],
   "source": [
    "menu = (\"돈까스\",\"치즈까스\") #튜플생성\n",
    "\n",
    "#동시 선언\n",
    "\n",
    "(a,b,c) = 1,2,3\n",
    "\n",
    "print(a,b,c)\n",
    "\n"
   ]
  },
  {
   "attachments": {},
   "cell_type": "markdown",
   "metadata": {},
   "source": [
    "튜플"
   ]
  },
  {
   "cell_type": "code",
   "execution_count": 43,
   "metadata": {},
   "outputs": [
    {
     "name": "stdout",
     "output_type": "stream",
     "text": [
      "{1, 2, 3}\n",
      "{'미스포츈', '사미라'}\n",
      "{'미스포츈', '사미라'}\n",
      "{'미스포츈', '아펠리오스', '벨베스', '사미라', '바루스', '아우렐리온 솔'}\n",
      "{'미스포츈', '아펠리오스', '벨베스', '사미라', '바루스', '아우렐리온 솔'}\n",
      "{'아펠리오스', '바루스'}\n",
      "{'아펠리오스', '바루스'}\n",
      "{'미스포츈', '벨베스', '사미라', '소라카', '아우렐리온 솔'}\n",
      "{'미스포츈', '벨베스', '사미라', '소라카'}\n"
     ]
    }
   ],
   "source": [
    "#집합\n",
    "\n",
    "my_set = {1,2,3,3,3}\n",
    "\n",
    "#집합은 중복을 허용하지 않는다.\n",
    "print(my_set)#{1,2,3}\n",
    "\n",
    "#이런 식으로도 집합을 정의 할 수 있다.\n",
    "\n",
    "legue_of_legende = set([\"미스포츈\",\"바루스\",\"사미라\",\"아펠리오스\"])\n",
    "teamfight_tactics = {\"미스포츈\",\"사미라\",\"벨베스\",\"아우렐리온 솔\"}\n",
    "\n",
    "#교집합\n",
    "\n",
    "print(format(legue_of_legende & teamfight_tactics))#{'미스포츈','사미라'}\n",
    "print(legue_of_legende.intersection(teamfight_tactics))#{'미스포츈','사미라'}\n",
    "\n",
    "#합집합\n",
    "\n",
    "print(legue_of_legende | teamfight_tactics)#{미스포츈,아펠리오스,벨베스,사미라,바루스,아우렐리온 솔}\n",
    "print(legue_of_legende.union(teamfight_tactics))\n",
    "\n",
    "#차집합\n",
    "\n",
    "print(legue_of_legende - teamfight_tactics)#{아펠리오스,사미라}\n",
    "print(legue_of_legende.difference(teamfight_tactics))\n",
    "\n",
    "#집합 추가시키기\n",
    "\n",
    "teamfight_tactics.add(\"소라카\")#{미스포츈,사미라,소라카,아우렐리온 솔}\n",
    "print(teamfight_tactics)\n",
    "\n",
    "teamfight_tactics.remove(\"아우렐리온 솔\")#{미스포츈,사미라,소라카}\n",
    "print(teamfight_tactics)\n",
    "\n",
    "\n",
    "\n",
    "\n",
    "\n"
   ]
  },
  {
   "attachments": {},
   "cell_type": "markdown",
   "metadata": {},
   "source": [
    "세트"
   ]
  },
  {
   "cell_type": "code",
   "execution_count": 48,
   "metadata": {},
   "outputs": [
    {
     "name": "stdout",
     "output_type": "stream",
     "text": [
      "{'물', '커피', '핫초코'} <class 'set'>\n",
      "['물', '커피', '핫초코'] <class 'list'>\n",
      "('물', '커피', '핫초코') <class 'tuple'>\n",
      "{'물', '커피', '핫초코'} <class 'set'>\n"
     ]
    }
   ],
   "source": [
    "menu = {\"물\",\"커피\",\"핫초코\"}#집합\n",
    "\n",
    "print(menu,type(menu))\n",
    "\n",
    "menu = list(menu)#리스트로 변경\n",
    "print(menu,type(menu))\n",
    "\n",
    "menu = tuple(menu)#튜플로 변경\n",
    "print(menu,type(menu))\n",
    "\n",
    "menu = set(menu)#집합으로 변경\n",
    "print(menu,type(menu))\n"
   ]
  },
  {
   "attachments": {},
   "cell_type": "markdown",
   "metadata": {},
   "source": [
    "자료구조의 변경"
   ]
  },
  {
   "cell_type": "code",
   "execution_count": 64,
   "metadata": {},
   "outputs": [
    {
     "name": "stdout",
     "output_type": "stream",
     "text": [
      "평년\n",
      "정답보다 3일 멀어요..\n"
     ]
    }
   ],
   "source": [
    "\n",
    "\n",
    "a = int(input())\n",
    "if (a%4 == 0 and a%100 != 0) or (a%400 == 0):#if문 생성 괄호를 적용하지 않아도 됨\n",
    "    print(\"윤년\")\n",
    "elif a<0 : #0이하면 -1 출력 ,else if의 줄인말\n",
    "    print(\"-1\") \n",
    "else:\n",
    "    print(\"평년\")\n",
    "\n",
    "today = str(input(\"오늘의 날짜를 맞춰주세요 : \"))\n",
    "\n",
    "if today == \"22\" : \n",
    "    print(\"정답입니다!\")\n",
    "else :\n",
    "    print(\"정답보다 {}일 멀어요..\".format(abs(22-int(today))))"
   ]
  },
  {
   "attachments": {},
   "cell_type": "markdown",
   "metadata": {},
   "source": [
    "if문"
   ]
  },
  {
   "cell_type": "code",
   "execution_count": null,
   "metadata": {},
   "outputs": [],
   "source": [
    "for wait in [1,2,3,4,5]:#1부터 5까지\n",
    "    print(\"현재 남은 대기번호는 {} 입니다!\".format(wait))#1~5까지 대기번호 출력\n",
    "\n",
    "for a in range(1,6):\n",
    "    print(\"현재 남은 대기번호는 {} 입니다!\".format(wait))#이전과 동일\n",
    "\n",
    "for check in my_list:\n",
    "    print(\"리스트 값 {}\".format(check))\n",
    "\n",
    "\n"
   ]
  },
  {
   "attachments": {},
   "cell_type": "markdown",
   "metadata": {},
   "source": [
    "for문"
   ]
  },
  {
   "cell_type": "code",
   "execution_count": 75,
   "metadata": {},
   "outputs": [
    {
     "name": "stdout",
     "output_type": "stream",
     "text": [
      "array 값 : 3\n",
      "array 값 : 2\n",
      "array 값 : 1\n",
      "작업 끝!\n"
     ]
    }
   ],
   "source": [
    "array = int(input())\n",
    "while array>=1:\n",
    "    print(\"array 값 : {}\".format(array))\n",
    "    array-=1\n",
    "print(\"작업 끝!\")\n",
    "\n",
    "#whlie 1 : 또는 while True : 를 넣으면 무한이 된다.\n",
    "\n"
   ]
  },
  {
   "attachments": {},
   "cell_type": "markdown",
   "metadata": {},
   "source": [
    "while문"
   ]
  },
  {
   "cell_type": "code",
   "execution_count": 1,
   "metadata": {},
   "outputs": [
    {
     "name": "stdout",
     "output_type": "stream",
     "text": [
      "[101, 102, 103, 104, 105]\n",
      "[7, 3, 4]\n",
      "['STUDENT', 'APPLE', 'MAPLE']\n"
     ]
    }
   ],
   "source": [
    "my_value = [1,2,3,4,5]#리스트 생성\n",
    "my_value = [i+100 for i in my_value]#리스트 값에 100을 더함\n",
    "print(my_value)#[101,102,103,104,105]\n",
    "\n",
    "student = [\"아무튼 학생임\",\"학생1\",\"마동석이\"]\n",
    "student = [len(i) for i in student]#문장의 길이로 변경\n",
    "print(student)#[7,3,4]\n",
    "\n",
    "student = [\"student\",\"apple\",\"maple\"]\n",
    "\n",
    "student = [i.upper() for i in student]\n",
    "\n",
    "print(student)"
   ]
  },
  {
   "attachments": {},
   "cell_type": "markdown",
   "metadata": {},
   "source": [
    "한줄 for 문"
   ]
  },
  {
   "cell_type": "code",
   "execution_count": 8,
   "metadata": {},
   "outputs": [
    {
     "name": "stdout",
     "output_type": "stream",
     "text": [
      "['a', 'v', 'c', 'a', 'v', 'c', 'a', 'v', 'c', 'd']\n"
     ]
    }
   ],
   "source": [
    "def strings(check): #함수를 만든다. 앞에 def 를 써야한다.\n",
    "    while check>=1:\n",
    "        a = str(input())\n",
    "        string.extend(a)\n",
    "        check-=1\n",
    "        \n",
    "\n",
    "\n",
    "\n",
    "string = []\n",
    "check = int(input(\"리스트에 넣을 갯수를 적어주세요 : \"))\n",
    "strings(check)\n",
    "print(string)     "
   ]
  },
  {
   "attachments": {},
   "cell_type": "markdown",
   "metadata": {},
   "source": [
    "함수"
   ]
  },
  {
   "cell_type": "code",
   "execution_count": 9,
   "metadata": {},
   "outputs": [
    {
     "name": "stdout",
     "output_type": "stream",
     "text": [
      "아쌀라말리이쿰 30 LOL\n"
     ]
    }
   ],
   "source": [
    "def profile(name,age,game):\n",
    "    print(name,age,game)\n",
    "\n",
    "profile(age = 30, name = \"아쌀라말리이쿰\",game = \"LOL\")#순서가 뒤죽박죽이라도 가능하다.    "
   ]
  },
  {
   "attachments": {},
   "cell_type": "markdown",
   "metadata": {},
   "source": [
    "키워드값"
   ]
  },
  {
   "cell_type": "code",
   "execution_count": 3,
   "metadata": {},
   "outputs": [
    {
     "name": "stdout",
     "output_type": "stream",
     "text": [
      "1더하기 1은 2 10 곱하기 3은 30 따이!\n",
      "이름 : 홍길동 나이 : 30  C C# JAVA python \n",
      "이름 : 이정민 나이 : 21  C C# python \n"
     ]
    }
   ],
   "source": [
    "print(\"1더하기 1은 {0} 10 곱하기 3은 {1}\".format(2,30), end =\" \")#end =\" \"를 통하여 다음문장에 줄바꿈이 일어나지 않음\n",
    "print(\"따이!\")\n",
    "\n",
    "def my_ppt(name,age,*language) :#가변 인자 선언 내가 놓고 싶은 양만큼 놓을 수 있다. \n",
    "    print(\"이름 : {} 나이 : {} \".format(name,age),end=\" \")\n",
    "    for lang in language:\n",
    "        print(lang,end=\" \")\n",
    "    print()    \n",
    "\n",
    "my_ppt(\"홍길동\",30,\"C\",\"C#\",\"JAVA\",\"python\")\n",
    "my_ppt(\"이정민\",21,\"C\",\"C#\",\"python\")\n",
    "\n",
    "\n"
   ]
  },
  {
   "attachments": {},
   "cell_type": "markdown",
   "metadata": {},
   "source": [
    "가변인자"
   ]
  },
  {
   "cell_type": "code",
   "execution_count": 12,
   "metadata": {},
   "outputs": [
    {
     "name": "stdout",
     "output_type": "stream",
     "text": [
      "남은 총의 갯수 : 7\n"
     ]
    }
   ],
   "source": [
    "def solder(solsers):\n",
    "    global gun #전역인 gun을 불러옴.\n",
    "    gun = gun - solsers\n",
    "    \n",
    "\n",
    "gun = 10\n",
    "solsers = int(input(\"군인의 인원수 : \"))\n",
    "solder(solsers)\n",
    "print(\"남은 총의 갯수 : {}\".format(gun))\n",
    "\n"
   ]
  },
  {
   "cell_type": "code",
   "execution_count": 16,
   "metadata": {},
   "outputs": [
    {
     "name": "stdout",
     "output_type": "stream",
     "text": [
      "플레이어 1 vs 플레이어 2\n",
      "아령하세ㅔㅔㅔ요~? ?check\n",
      "python java <ipykernel.iostream.OutStream object at 0x00000211418E4D90>\n",
      "python java <ipykernel.iostream.OutStream object at 0x00000211418E4EB0>\n",
      "수학 0\n",
      "수학      :   0\n",
      "영어 50\n",
      "영어      :  50\n",
      "과학 30\n",
      "과학      :  30\n",
      "당첨번호 : 001\n",
      "당첨번호 : 002\n",
      "당첨번호 : 003\n",
      "당첨번호 : 004\n",
      "당첨번호 : 005\n",
      "당첨번호 : 006\n",
      "당첨번호 : 007\n",
      "당첨번호 : 008\n",
      "당첨번호 : 009\n",
      "당첨번호 : 010\n",
      "당첨번호 : 011\n",
      "당첨번호 : 012\n",
      "당첨번호 : 013\n"
     ]
    }
   ],
   "source": [
    "import sys\n",
    "import random \n",
    "print(\"플레이어 1 \",\" 플레이어 2\",sep=\"vs\")#sep = ,를 \"\" 안의 내용으로 바꿈\n",
    "print(\"아령하세ㅔㅔㅔ요~? \", end =\"?\")#end 따음표 안에 문장을 넣으면 끝부분에 그문장이 추가\n",
    "print(\"check\")\n",
    "\n",
    "print(\"python\",\"java\",sys.stdout)#표준 출력\n",
    "print(\"python\",\"java\",sys.stderr)#표준 에러\n",
    "\n",
    "#출력 포멧\n",
    "\n",
    "scores = {\"수학\":0,\"영어\" : 50,\"과학\" : 30}\n",
    "\n",
    "for subject,score in scores.items():# 키 와 키 값이 순서대로 들어감\n",
    "    print(subject,score)#출력\n",
    "\n",
    "    #ljust = 왼쪽으로 정렬 , rjust = 오른쪽으로 정렬\n",
    "    print(subject.ljust(8),str(score).rjust(4),sep = \":\")\n",
    "\n",
    "for num in range(1,random.randrange(20)):\n",
    "\n",
    "    #zfill n만큼 0을 추가 후 오른쪽 정렬\n",
    "    print(\"당첨번호 :\",str(num).zfill(3))#001~020사이의 숫자들이 출력\n"
   ]
  }
 ],
 "metadata": {
  "kernelspec": {
   "display_name": "Python 3",
   "language": "python",
   "name": "python3"
  },
  "language_info": {
   "codemirror_mode": {
    "name": "ipython",
    "version": 3
   },
   "file_extension": ".py",
   "mimetype": "text/x-python",
   "name": "python",
   "nbconvert_exporter": "python",
   "pygments_lexer": "ipython3",
   "version": "3.10.1"
  },
  "orig_nbformat": 4,
  "vscode": {
   "interpreter": {
    "hash": "df95319d8ce4e1d89f5365ae10992bc1f65da593082b1d264e8f529830ec2f02"
   }
  }
 },
 "nbformat": 4,
 "nbformat_minor": 2
}
