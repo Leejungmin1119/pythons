{
 "cells": [
  {
   "cell_type": "code",
   "execution_count": 1,
   "metadata": {},
   "outputs": [
    {
     "name": "stdout",
     "output_type": "stream",
     "text": [
      "HELLO WORLD!\n",
      "이정민\n",
      "박종찬\n",
      "0\n",
      "10\n",
      "2\n",
      "-1\n",
      "2\n"
     ]
    }
   ],
   "source": [
    "\n",
    "\n",
    "py = \"Hello World!\"\n",
    "print(py.upper())\n",
    "\n",
    "#replace : 바꾸고 싶은 문장을 찾아 다른 문장으로 바궈준다.\n",
    "name = \"이정민\"\n",
    "\n",
    "print(name)#이정민\n",
    "print(name.replace(\"이정민\",\"박종찬\"))#박종찬\n",
    "\n",
    "#index : 원하는 문자나 단어의 위치를 알려준다. 만약 찾고자 하는 문장이 없을시 에러발생\n",
    "#find : 원하는 문자나 단어의 위치를 알려준다. 만약 찾고자 하는 문장이 없을시 -1출력\n",
    "\n",
    "python = \"abcdefg - abcdefg\"\n",
    "\n",
    "index = python.index(\"a\")#0번째 자리\n",
    "print(index)\n",
    "index = python.index(\"a\",index+1)#10번째 자리\n",
    "print(index)\n",
    "\n",
    "print(python.find(\"c\"))#2번째 자리\n",
    "print(python.find(\"h\"))#해당 문자가 없음 -1 출력\n",
    "\n",
    "#count : 해당 문자열에 찾고자 하는 문자나 단어의 갯수가 몇개있는지 알려준다.\n",
    "\n",
    "print(python.count(\"a\"))#찾고자 하는 단어는 총 2개\n",
    "\n",
    "\n"
   ]
  },
  {
   "attachments": {},
   "cell_type": "markdown",
   "metadata": {},
   "source": [
    "문자열 관련 함수\n"
   ]
  },
  {
   "cell_type": "code",
   "execution_count": 21,
   "metadata": {},
   "outputs": [
    {
     "name": "stdout",
     "output_type": "stream",
     "text": [
      "저의 나이는 20입니다!\n",
      "오늘은 12월 29일이예염\n",
      "재미있는 파이썬 생활\n",
      "지금 시각은 6시 34분\n",
      "파이썬 코딩 무료 코딩\n"
     ]
    }
   ],
   "source": [
    "\n",
    "\n",
    "age = 20\n",
    "\n",
    "print(\"저의 나이는 %d입니다!\"% age)#ex) 뒤에 %적고 변수등 적어 나타낸다.\n",
    "print(\"오늘은 %s월 %s일이예염\" % (\"12\",29))\n",
    "\n",
    "#2.\n",
    "\n",
    "print(\"재미있는 {} 생활\".format(\"파이썬\"))\n",
    "print(\"지금 시각은 {1}시 {0}분\".format(34,6))\n",
    "print(\"{a} 코딩 무료 {b}\".format(a = \"파이썬\",b = \"코딩\"))\n",
    "\n"
   ]
  },
  {
   "attachments": {},
   "cell_type": "markdown",
   "metadata": {},
   "source": [
    "문자열 포맷"
   ]
  },
  {
   "cell_type": "code",
   "execution_count": 22,
   "metadata": {},
   "outputs": [
    {
     "name": "stdout",
     "output_type": "stream",
     "text": [
      "여기에도 \\n가 있네\n"
     ]
    }
   ],
   "source": [
    "\n",
    "#\\ : \\n과 \"\"과 같은 특수 기호를 문자열로 표기\n",
    "print('''여기에도 \\\\n가 있네''')"
   ]
  },
  {
   "attachments": {},
   "cell_type": "markdown",
   "metadata": {},
   "source": [
    "탈출 문자"
   ]
  },
  {
   "cell_type": "code",
   "execution_count": 1,
   "metadata": {},
   "outputs": [
    {
     "name": "stdout",
     "output_type": "stream",
     "text": [
      "[10, 20, 30]\n",
      "2\n",
      "[10, 20, 30, 40]\n",
      "30\n",
      "[10, 20, 40]\n",
      "[4, 5, 10, 20, 23]\n",
      "[23, 20, 10, 5, 4]\n",
      "[]\n",
      "[10, 23, 4, 5, 20, 10, 20, 40]\n"
     ]
    },
    {
     "ename": "NameError",
     "evalue": "name 'ren' is not defined",
     "output_type": "error",
     "traceback": [
      "\u001b[1;31m---------------------------------------------------------------------------\u001b[0m",
      "\u001b[1;31mNameError\u001b[0m                                 Traceback (most recent call last)",
      "Cell \u001b[1;32mIn [1], line 40\u001b[0m\n\u001b[0;32m     36\u001b[0m my_list\u001b[39m.\u001b[39mextend(subway)\u001b[39m#확장\u001b[39;00m\n\u001b[0;32m     38\u001b[0m \u001b[39mprint\u001b[39m(my_list)\n\u001b[1;32m---> 40\u001b[0m \u001b[39mprint\u001b[39m(ren(my_list))\n",
      "\u001b[1;31mNameError\u001b[0m: name 'ren' is not defined"
     ]
    }
   ],
   "source": [
    "\n",
    "subway =[10,20,30]\n",
    "print(subway)#[10,20,30]\n",
    "\n",
    "print(subway.index(30))#2번째에 있음.\n",
    "\n",
    "#30 뒤에 새로운 숫자 넣기\n",
    "\n",
    "subway.insert(3,40)#40이라는 숫자를 3번째 자리에 넣음\n",
    "print(subway)#[10,20,30,40]\n",
    "\n",
    "# 숫자 뻬기\n",
    "\n",
    "print(subway.pop(2))#30 제거\n",
    "print(subway)#[10,20,40]\n",
    "\n",
    "#정렬\n",
    "\n",
    "my_list = [10,23,4,5,20]\n",
    "\n",
    "my_list.sort()#정렬함수\n",
    "\n",
    "print(my_list)#[4,5,10,20,23]\n",
    "\n",
    "my_list.reverse()#정렬함수(내림차수 정렬)\n",
    "\n",
    "print(my_list)#[23,20,10,5,4]\n",
    "\n",
    "#리스트 지우기\n",
    "\n",
    "my_list.clear()#제거\n",
    "\n",
    "print(my_list)#[]\n",
    "\n",
    "#리스트 확장\n",
    "my_list = [10,23,4,5,20]\n",
    "my_list.extend(subway)#확장\n",
    "\n",
    "print(my_list)\n",
    "\n",
    "\n"
   ]
  },
  {
   "attachments": {},
   "cell_type": "markdown",
   "metadata": {},
   "source": [
    "리스트"
   ]
  },
  {
   "cell_type": "code",
   "execution_count": 24,
   "metadata": {},
   "outputs": [
    {
     "name": "stdout",
     "output_type": "stream",
     "text": [
      "이정민\n",
      "이정민\n",
      "None\n",
      "True\n",
      "False\n",
      "장성욱\n",
      "유재림\n",
      "유준현\n",
      "{3: '이정민', 100: '박종찬', 2: '황세영'}\n",
      "dict_keys([3, 100, 2])\n",
      "dict_values(['이정민', '박종찬', '황세영'])\n",
      "dict_items([(3, '이정민'), (100, '박종찬'), (2, '황세영')])\n",
      "{}\n"
     ]
    }
   ],
   "source": [
    "cabinet = {3:\"이정민\",100:\"박종찬\"}#사전을 이용할 시 {}이용\n",
    "\n",
    "print(cabinet[3])#출력 시 키값 적기\n",
    "\n",
    "#get을 이용하여 키값에 해당하는 문자를 불러오기 가능\n",
    "\n",
    "print(cabinet.get(3))#이정민\n",
    "#print(cabinet.get[5])#error발생 단,대괄호가 아닌 소괄호로 묶어서 나타내면 NONE이 출력된다.\n",
    "\n",
    "print(cabinet.get(5))#NONE\n",
    "\n",
    "print(3 in cabinet)#True\n",
    "\n",
    "print(15 in cabinet)#false\n",
    "\n",
    "print(cabinet.get(5,\"장성욱\"))#키값이 5인 \"장성욱\"이라는 이름이 출력된다.\n",
    "\n",
    "#키값을 문자열로 지정해도 된다.\n",
    "\n",
    "str_cabinet ={\"A-100\":\"유재림\",\"B-100\":\"김승현\"}\n",
    "print(str_cabinet[\"A-100\"]) #유재림\n",
    "\n",
    "#사전에 추가하기 \n",
    "\n",
    "cabinet[1] = \"유준현\"\n",
    "cabinet[2] = \"황세영\"\n",
    "\n",
    "print(cabinet[1])\n",
    "\n",
    "#사전에 있는거 제거\n",
    "\n",
    "del cabinet[1]\n",
    "\n",
    "print(cabinet)\n",
    "\n",
    "#키값들만 출력하기\n",
    "\n",
    "print(cabinet.keys())\n",
    "\n",
    "#값만 출력하기\n",
    "\n",
    "print(cabinet.values())\n",
    "\n",
    "#키랑 값을 쌍으로 출력하기\n",
    "print(cabinet.items())\n",
    "\n",
    "#사전없애기\n",
    "\n",
    "cabinet.clear()\n",
    "print(cabinet)"
   ]
  },
  {
   "attachments": {},
   "cell_type": "markdown",
   "metadata": {},
   "source": [
    "사전"
   ]
  },
  {
   "cell_type": "code",
   "execution_count": 26,
   "metadata": {},
   "outputs": [
    {
     "name": "stdout",
     "output_type": "stream",
     "text": [
      "1 2 3\n"
     ]
    }
   ],
   "source": [
    "menu = (\"돈까스\",\"치즈까스\") #튜플생성\n",
    "\n",
    "#동시 선언\n",
    "\n",
    "(a,b,c) = 1,2,3\n",
    "\n",
    "print(a,b,c)"
   ]
  },
  {
   "attachments": {},
   "cell_type": "markdown",
   "metadata": {},
   "source": [
    "튜플"
   ]
  },
  {
   "cell_type": "code",
   "execution_count": 43,
   "metadata": {},
   "outputs": [
    {
     "name": "stdout",
     "output_type": "stream",
     "text": [
      "{1, 2, 3}\n",
      "{'미스포츈', '사미라'}\n",
      "{'미스포츈', '사미라'}\n",
      "{'미스포츈', '아펠리오스', '벨베스', '사미라', '바루스', '아우렐리온 솔'}\n",
      "{'미스포츈', '아펠리오스', '벨베스', '사미라', '바루스', '아우렐리온 솔'}\n",
      "{'아펠리오스', '바루스'}\n",
      "{'아펠리오스', '바루스'}\n",
      "{'미스포츈', '벨베스', '사미라', '소라카', '아우렐리온 솔'}\n",
      "{'미스포츈', '벨베스', '사미라', '소라카'}\n"
     ]
    }
   ],
   "source": [
    "#집합\n",
    "\n",
    "my_set = {1,2,3,3,3}\n",
    "\n",
    "#집합은 중복을 허용하지 않는다.\n",
    "print(my_set)#{1,2,3}\n",
    "\n",
    "#이런 식으로도 집합을 정의 할 수 있다.\n",
    "\n",
    "legue_of_legende = set([\"미스포츈\",\"바루스\",\"사미라\",\"아펠리오스\"])\n",
    "teamfight_tactics = {\"미스포츈\",\"사미라\",\"벨베스\",\"아우렐리온 솔\"}\n",
    "\n",
    "#교집합\n",
    "\n",
    "print(format(legue_of_legende & teamfight_tactics))#{'미스포츈','사미라'}\n",
    "print(legue_of_legende.intersection(teamfight_tactics))#{'미스포츈','사미라'}\n",
    "\n",
    "#합집합\n",
    "\n",
    "print(legue_of_legende | teamfight_tactics)#{미스포츈,아펠리오스,벨베스,사미라,바루스,아우렐리온 솔}\n",
    "print(legue_of_legende.union(teamfight_tactics))\n",
    "\n",
    "#차집합\n",
    "\n",
    "print(legue_of_legende - teamfight_tactics)#{아펠리오스,바루스}\n",
    "print(legue_of_legende.difference(teamfight_tactics))\n",
    "\n",
    "#집합 추가시키기\n",
    "\n",
    "teamfight_tactics.add(\"소라카\")#{미스포츈,사미라,소라카,아우렐리온 솔}\n",
    "print(teamfight_tactics)\n",
    "\n",
    "teamfight_tactics.remove(\"아우렐리온 솔\")#{미스포츈,사미라,소라카}\n",
    "print(teamfight_tactics)\n",
    "\n",
    "\n",
    "\n",
    "\n",
    "\n"
   ]
  },
  {
   "attachments": {},
   "cell_type": "markdown",
   "metadata": {},
   "source": [
    "세트"
   ]
  },
  {
   "cell_type": "code",
   "execution_count": 48,
   "metadata": {},
   "outputs": [
    {
     "name": "stdout",
     "output_type": "stream",
     "text": [
      "{'물', '커피', '핫초코'} <class 'set'>\n",
      "['물', '커피', '핫초코'] <class 'list'>\n",
      "('물', '커피', '핫초코') <class 'tuple'>\n",
      "{'물', '커피', '핫초코'} <class 'set'>\n"
     ]
    }
   ],
   "source": [
    "menu = {\"물\",\"커피\",\"핫초코\"}#집합\n",
    "\n",
    "print(menu,type(menu))\n",
    "\n",
    "menu = list(menu)#리스트로 변경\n",
    "print(menu,type(menu))\n",
    "\n",
    "menu = tuple(menu)#튜플로 변경\n",
    "print(menu,type(menu))\n",
    "\n",
    "menu = set(menu)#집합으로 변경\n",
    "print(menu,type(menu))\n"
   ]
  },
  {
   "attachments": {},
   "cell_type": "markdown",
   "metadata": {},
   "source": [
    "자료구조의 변경"
   ]
  },
  {
   "cell_type": "code",
   "execution_count": 64,
   "metadata": {},
   "outputs": [
    {
     "name": "stdout",
     "output_type": "stream",
     "text": [
      "평년\n",
      "정답보다 3일 멀어요..\n"
     ]
    }
   ],
   "source": [
    "\n",
    "\n",
    "a = int(input())\n",
    "if (a%4 == 0 and a%100 != 0) or (a%400 == 0):#if문 생성 괄호를 적용하지 않아도 됨\n",
    "    print(\"윤년\")\n",
    "elif a<0 : #0이하면 -1 출력 ,else if의 줄인말\n",
    "    print(\"-1\") \n",
    "else:\n",
    "    print(\"평년\")\n",
    "\n",
    "today = str(input(\"오늘의 날짜를 맞춰주세요 : \"))\n",
    "\n",
    "if today == \"22\" : \n",
    "    print(\"정답입니다!\")\n",
    "else :\n",
    "    print(\"정답보다 {}일 멀어요..\".format(abs(22-int(today))))"
   ]
  },
  {
   "attachments": {},
   "cell_type": "markdown",
   "metadata": {},
   "source": [
    "if문"
   ]
  },
  {
   "cell_type": "code",
   "execution_count": null,
   "metadata": {},
   "outputs": [],
   "source": [
    "for wait in [1,2,3,4,5]:#1부터 5까지\n",
    "    print(\"현재 남은 대기번호는 {} 입니다!\".format(wait))#1~5까지 대기번호 출력\n",
    "\n",
    "for a in range(1,6):\n",
    "    print(\"현재 남은 대기번호는 {} 입니다!\".format(wait))#이전과 동일\n",
    "\n",
    "for check in my_list:\n",
    "    print(\"리스트 값 {}\".format(check))\n",
    "\n",
    "\n"
   ]
  },
  {
   "attachments": {},
   "cell_type": "markdown",
   "metadata": {},
   "source": [
    "for문"
   ]
  },
  {
   "cell_type": "code",
   "execution_count": 75,
   "metadata": {},
   "outputs": [
    {
     "name": "stdout",
     "output_type": "stream",
     "text": [
      "array 값 : 3\n",
      "array 값 : 2\n",
      "array 값 : 1\n",
      "작업 끝!\n"
     ]
    }
   ],
   "source": [
    "array = int(input())\n",
    "while array>=1:\n",
    "    print(\"array 값 : {}\".format(array))\n",
    "    array-=1\n",
    "print(\"작업 끝!\")\n",
    "\n",
    "#whlie 1 : 또는 while True : 를 넣으면 무한이 된다.\n",
    "\n"
   ]
  },
  {
   "attachments": {},
   "cell_type": "markdown",
   "metadata": {},
   "source": [
    "while문"
   ]
  },
  {
   "cell_type": "code",
   "execution_count": 1,
   "metadata": {},
   "outputs": [
    {
     "name": "stdout",
     "output_type": "stream",
     "text": [
      "[101, 102, 103, 104, 105]\n",
      "[7, 3, 4]\n",
      "['STUDENT', 'APPLE', 'MAPLE']\n"
     ]
    }
   ],
   "source": [
    "my_value = [1,2,3,4,5]#리스트 생성\n",
    "my_value = [i+100 for i in my_value]#리스트 값에 100을 더함\n",
    "print(my_value)#[101,102,103,104,105]\n",
    "\n",
    "student = [\"아무튼 학생임\",\"학생1\",\"마동석이\"]\n",
    "student = [len(i) for i in student]#문장의 길이로 변경\n",
    "print(student)#[7,3,4]\n",
    "\n",
    "student = [\"student\",\"apple\",\"maple\"]\n",
    "\n",
    "student = [i.upper() for i in student]\n",
    "\n",
    "print(student)"
   ]
  },
  {
   "attachments": {},
   "cell_type": "markdown",
   "metadata": {},
   "source": [
    "한줄 for 문"
   ]
  },
  {
   "cell_type": "code",
   "execution_count": 8,
   "metadata": {},
   "outputs": [
    {
     "name": "stdout",
     "output_type": "stream",
     "text": [
      "['a', 'v', 'c', 'a', 'v', 'c', 'a', 'v', 'c', 'd']\n"
     ]
    }
   ],
   "source": [
    "def strings(check): #함수를 만든다. 앞에 def 를 써야한다.\n",
    "    while check>=1:\n",
    "        a = str(input())\n",
    "        string.extend(a)\n",
    "        check-=1\n",
    "        \n",
    "\n",
    "\n",
    "\n",
    "string = []\n",
    "check = int(input(\"리스트에 넣을 갯수를 적어주세요 : \"))\n",
    "strings(check)\n",
    "print(string)     "
   ]
  },
  {
   "attachments": {},
   "cell_type": "markdown",
   "metadata": {},
   "source": [
    "함수"
   ]
  },
  {
   "cell_type": "code",
   "execution_count": 9,
   "metadata": {},
   "outputs": [
    {
     "name": "stdout",
     "output_type": "stream",
     "text": [
      "아쌀라말리이쿰 30 LOL\n"
     ]
    }
   ],
   "source": [
    "def profile(name,age,game):\n",
    "    print(name,age,game)\n",
    "\n",
    "profile(age = 30, name = \"아쌀라말리이쿰\",game = \"LOL\")#순서가 뒤죽박죽이라도 가능하다.    "
   ]
  },
  {
   "attachments": {},
   "cell_type": "markdown",
   "metadata": {},
   "source": [
    "키워드값"
   ]
  },
  {
   "cell_type": "code",
   "execution_count": 3,
   "metadata": {},
   "outputs": [
    {
     "name": "stdout",
     "output_type": "stream",
     "text": [
      "1더하기 1은 2 10 곱하기 3은 30 따이!\n",
      "이름 : 홍길동 나이 : 30  C C# JAVA python \n",
      "이름 : 이정민 나이 : 21  C C# python \n"
     ]
    }
   ],
   "source": [
    "print(\"1더하기 1은 {0} 10 곱하기 3은 {1}\".format(2,30), end =\" \")#end =\" \"를 통하여 다음문장에 줄바꿈이 일어나지 않음\n",
    "print(\"따이!\")\n",
    "\n",
    "def my_ppt(name,age,*language) :#가변 인자 선언 내가 놓고 싶은 양만큼 놓을 수 있다. \n",
    "    print(\"이름 : {} 나이 : {} \".format(name,age),end=\" \")\n",
    "    for lang in language:\n",
    "        print(lang,end=\" \")\n",
    "    print()    \n",
    "\n",
    "my_ppt(\"홍길동\",30,\"C\",\"C#\",\"JAVA\",\"python\")\n",
    "my_ppt(\"이정민\",21,\"C\",\"C#\",\"python\")\n",
    "\n",
    "\n"
   ]
  },
  {
   "attachments": {},
   "cell_type": "markdown",
   "metadata": {},
   "source": [
    "가변인자"
   ]
  },
  {
   "cell_type": "code",
   "execution_count": 12,
   "metadata": {},
   "outputs": [
    {
     "name": "stdout",
     "output_type": "stream",
     "text": [
      "남은 총의 갯수 : 7\n"
     ]
    }
   ],
   "source": [
    "def solder(solsers):\n",
    "    global gun #전역인 gun을 불러옴.\n",
    "    gun = gun - solsers\n",
    "    \n",
    "\n",
    "gun = 10\n",
    "solsers = int(input(\"군인의 인원수 : \"))\n",
    "solder(solsers)\n",
    "print(\"남은 총의 갯수 : {}\".format(gun))\n",
    "\n"
   ]
  },
  {
   "cell_type": "code",
   "execution_count": 16,
   "metadata": {},
   "outputs": [
    {
     "name": "stdout",
     "output_type": "stream",
     "text": [
      "플레이어 1 vs 플레이어 2\n",
      "아령하세ㅔㅔㅔ요~? ?check\n",
      "python java <ipykernel.iostream.OutStream object at 0x00000211418E4D90>\n",
      "python java <ipykernel.iostream.OutStream object at 0x00000211418E4EB0>\n",
      "수학 0\n",
      "수학      :   0\n",
      "영어 50\n",
      "영어      :  50\n",
      "과학 30\n",
      "과학      :  30\n",
      "당첨번호 : 001\n",
      "당첨번호 : 002\n",
      "당첨번호 : 003\n",
      "당첨번호 : 004\n",
      "당첨번호 : 005\n",
      "당첨번호 : 006\n",
      "당첨번호 : 007\n",
      "당첨번호 : 008\n",
      "당첨번호 : 009\n",
      "당첨번호 : 010\n",
      "당첨번호 : 011\n",
      "당첨번호 : 012\n",
      "당첨번호 : 013\n"
     ]
    }
   ],
   "source": [
    "import sys\n",
    "import random \n",
    "print(\"플레이어 1 \",\" 플레이어 2\",sep=\"vs\")#sep = ,를 \"\" 안의 내용으로 바꿈\n",
    "print(\"아령하세ㅔㅔㅔ요~? \", end =\"?\")#end 따음표 안에 문장을 넣으면 끝부분에 그문장이 추가\n",
    "print(\"check\")\n",
    "\n",
    "print(\"python\",\"java\",sys.stdout)#표준 출력\n",
    "print(\"python\",\"java\",sys.stderr)#표준 에러\n",
    "\n",
    "#출력 포멧\n",
    "\n",
    "scores = {\"수학\":0,\"영어\" : 50,\"과학\" : 30}\n",
    "\n",
    "for subject,score in scores.items():# 키 와 키 값이 순서대로 들어감\n",
    "    print(subject,score)#출력\n",
    "\n",
    "    #ljust = 왼쪽으로 정렬 , rjust = 오른쪽으로 정렬\n",
    "    print(subject.ljust(8),str(score).rjust(4),sep = \":\")\n",
    "\n",
    "for num in range(1,random.randrange(20)):\n",
    "\n",
    "    #zfill n만큼 0을 추가 후 오른쪽 정렬\n",
    "    print(\"당첨번호 :\",str(num).zfill(3))#001~020사이의 숫자들이 출력\n"
   ]
  },
  {
   "attachments": {},
   "cell_type": "markdown",
   "metadata": {},
   "source": [
    "표쥰입출력"
   ]
  },
  {
   "cell_type": "code",
   "execution_count": 13,
   "metadata": {},
   "outputs": [
    {
     "name": "stdout",
     "output_type": "stream",
     "text": [
      "500       \n",
      "      +500\n",
      "      -500\n",
      "_______500\n",
      "100,000,000,000\n",
      "+100,000,000,000\n",
      "+100,000,000,000^^^^^^^^^^^^^^\n",
      "1.666667\n",
      "1.67\n"
     ]
    }
   ],
   "source": [
    "print(\"{0: <10}\".format(500))#오른쪽 정렬 후 빈자리는 공백출력\n",
    "\n",
    "print(\"{0: >+10}\".format(500))# +: 양수 , -:음수\n",
    "\n",
    "print(\"{0: >+10}\".format(-500))#출력값이 음수면 앞에 조건과 상관없이 음수 출력\n",
    "\n",
    "print(\"{0:_>10}\".format(500))#빈자리 언더바 출력\n",
    "\n",
    "print(\"{0:,}\".format(100000000000))#3번째 자리만다 콤마 출력\n",
    "\n",
    "print(\"{0:+,}\".format(100000000000))#+양수\n",
    "\n",
    "print(\"{0:^<+30,}\".format(100000000000))#활용 ver\n",
    "\n",
    "print(\"{0:f}\".format(5/3))#소수점 출력\n",
    "\n",
    "print(\"{0:.2f}\".format(5/3))#소수점 자리수 조절\n"
   ]
  },
  {
   "attachments": {},
   "cell_type": "markdown",
   "metadata": {},
   "source": [
    "다양한 출력 포멧\n"
   ]
  },
  {
   "cell_type": "code",
   "execution_count": 13,
   "metadata": {},
   "outputs": [
    {
     "ename": "UnicodeDecodeError",
     "evalue": "'cp949' codec can't decode byte 0xec in position 8: illegal multibyte sequence",
     "output_type": "error",
     "traceback": [
      "\u001b[1;31m---------------------------------------------------------------------------\u001b[0m",
      "\u001b[1;31mUnicodeDecodeError\u001b[0m                        Traceback (most recent call last)",
      "Cell \u001b[1;32mIn [15], line 32\u001b[0m\n\u001b[0;32m      1\u001b[0m \u001b[38;5;124;03m\"\"\"\u001b[39;00m\n\u001b[0;32m      2\u001b[0m \u001b[38;5;124;03mscore_file = open(\"score.txt\",\"w\",encoding=\"utf8\")#w =쓰기 모드 , encodeing을 하지않으면 글이 이상해질 수 았음\u001b[39;00m\n\u001b[0;32m      3\u001b[0m \u001b[38;5;124;03mprint(\"수학 : 50\",  file=score_file)#\"score_file\"이라는 곳에다가 아래의 문장을 입력\u001b[39;00m\n\u001b[1;32m   (...)\u001b[0m\n\u001b[0;32m     26\u001b[0m \n\u001b[0;32m     27\u001b[0m \u001b[38;5;124;03m\"\"\"\u001b[39;00m\n\u001b[0;32m     30\u001b[0m f \u001b[38;5;241m=\u001b[39m \u001b[38;5;28mopen\u001b[39m(\u001b[38;5;124m\"\u001b[39m\u001b[38;5;124m복습이요.txt\u001b[39m\u001b[38;5;124m\"\u001b[39m,\u001b[38;5;124m\"\u001b[39m\u001b[38;5;124mr\u001b[39m\u001b[38;5;124m\"\u001b[39m)\n\u001b[1;32m---> 32\u001b[0m line \u001b[38;5;241m=\u001b[39m \u001b[43mf\u001b[49m\u001b[38;5;241;43m.\u001b[39;49m\u001b[43mreadline\u001b[49m\u001b[43m(\u001b[49m\u001b[43m)\u001b[49m\n\u001b[0;32m     33\u001b[0m \u001b[38;5;28mprint\u001b[39m(line)\n\u001b[0;32m     34\u001b[0m f\u001b[38;5;241m.\u001b[39mclose()\n",
      "\u001b[1;31mUnicodeDecodeError\u001b[0m: 'cp949' codec can't decode byte 0xec in position 8: illegal multibyte sequence"
     ]
    }
   ],
   "source": [
    "\"\"\"\n",
    "score_file = open(\"score.txt\",\"w\",encoding=\"utf8\")#w =쓰기 모드 , encodeing을 하지않으면 글이 이상해질 수 았음\n",
    "print(\"수학 : 50\",  file=score_file)#\"score_file\"이라는 곳에다가 아래의 문장을 입력\n",
    "print(\"국어 : 60\",  file=score_file)\n",
    "print(\"영어 : 70\",  file=score_file)\n",
    "print(\"과학 : 80\",  file=score_file)\n",
    "score_file.close()\n",
    "\n",
    "score_file = open(\"score.txt\",\"a\",encoding=\"utf8\")#이어쓰기 모드\n",
    "\n",
    "score_file.write(\"\\n총점수 : 260\")\n",
    "score_file.write(\"\\n평균 :{}\".format(270/4))\n",
    "score_file.close()\n",
    "\n",
    "\n",
    "\n",
    "score_file = open(\"score.txt\",\"r\",encoding=\"utf8\")#읽기 모드\n",
    "\n",
    "while True:\n",
    "    line = score_file.readline()#한줄씩 불러옴\n",
    "    if not line:#만약 불러올 줄이 없으면 break\n",
    "        break\n",
    "    print(line,end=\"\")\n",
    "score_file.close()    \n",
    "     \n",
    "\n",
    "\"\"\""
   ]
  },
  {
   "attachments": {},
   "cell_type": "markdown",
   "metadata": {},
   "source": [
    "파일입출력"
   ]
  },
  {
   "cell_type": "code",
   "execution_count": null,
   "metadata": {},
   "outputs": [],
   "source": []
  },
  {
   "cell_type": "code",
   "execution_count": 24,
   "metadata": {},
   "outputs": [
    {
     "name": "stdout",
     "output_type": "stream",
     "text": [
      "{'이름': '이정민', '나이': '21', '취미': ['게임', '코딩', '방송시청']}\n"
     ]
    }
   ],
   "source": [
    "import pickle\n",
    "\"\"\"\n",
    "\n",
    "profile_file = open(\"profile.pickle\",\"wb\")#pickle에서는 따로 encoding을 할 필요가 없음\n",
    "profile = {\"이름\":\"이정민\",\"나이\":\"21\",\"취미\":[\"게임\",\"코딩\",\"방송시청\"]}\n",
    "\n",
    "pickle.dump(profile,profile_file)#profile에 있는 정보를 해당파일에 저장\n",
    "profile_file.close()\n",
    "\n",
    "profile_file = open(\"profile.pickle\",\"rb\")#읽기모드\n",
    "\n",
    "line = pickle.load(profile_file)#해당파일에 있는 정보를 이변수에 불러옴\n",
    "\n",
    "print(line)\n",
    "\n",
    "profile_file.close()\n",
    "\"\"\""
   ]
  },
  {
   "attachments": {},
   "cell_type": "markdown",
   "metadata": {},
   "source": [
    "pickle"
   ]
  },
  {
   "cell_type": "code",
   "execution_count": 38,
   "metadata": {},
   "outputs": [
    {
     "name": "stdout",
     "output_type": "stream",
     "text": [
      "코딩은 저에게 있어서 최고의 단백질이죠.\n"
     ]
    }
   ],
   "source": [
    "import pickle\n",
    "\"\"\"\n",
    "with open(\"profile.pickle\",\"rb\") as score_file:#with문으로 파일을 좀더 짧고 간단하게 이용할 수 있다\n",
    "    print(pickle.load(score_file))\n",
    "\n",
    "with open(\"study.txt\",\"w\",encoding=\"utf8\") as study_file:\n",
    "    study_file.write(\"코딩은 저에게 있어서 최고의 단백질이죠.\")\n",
    "\"\"\"\n",
    "with open(\"study.txt\",\"r\",encoding=\"utf8\") as study_file:\n",
    "    print(study_file.read())\n",
    "\n",
    "\n"
   ]
  },
  {
   "attachments": {},
   "cell_type": "markdown",
   "metadata": {},
   "source": [
    "with"
   ]
  },
  {
   "cell_type": "code",
   "execution_count": 45,
   "metadata": {},
   "outputs": [],
   "source": [
    "for a in range(1,51):#1주차부터50주차 까지 생성후 다음과 같은 글을 적는다.\n",
    "    with open(\"{}주차.txt\".format(str(a)),\"w\",encoding= \"utf8\") as readmit_file:\n",
    "        print(\"-{}주차 주간 보고-\".format(a),file=readmit_file)\n",
    "        print(\"부서:\",file=readmit_file)\n",
    "        print(\"이름:\",file=readmit_file)\n",
    "        print(\"업무요약:\",file=readmit_file)\n",
    "\n",
    "\n",
    "\n"
   ]
  },
  {
   "cell_type": "code",
   "execution_count": 1,
   "metadata": {},
   "outputs": [],
   "source": [
    "import sys\n",
    "\n",
    "a = sys.stdin.readline()\n",
    "print(a)"
   ]
  },
  {
   "attachments": {},
   "cell_type": "markdown",
   "metadata": {},
   "source": [
    "파일 문제"
   ]
  },
  {
   "cell_type": "code",
   "execution_count": null,
   "metadata": {},
   "outputs": [
    {
     "name": "stdout",
     "output_type": "stream",
     "text": [
      "롤토체스 게임이 시작되었습니다.\n",
      "\n",
      "잭스 유닛을 배치했습니다.\n",
      "체력 : 1350 , 공격력 : 62\n",
      "\n"
     ]
    },
    {
     "ename": "AttributeError",
     "evalue": "'unit_manacost' object has no attribute 'name'",
     "output_type": "error",
     "traceback": [
      "\u001b[1;31m---------------------------------------------------------------------------\u001b[0m",
      "\u001b[1;31mAttributeError\u001b[0m                            Traceback (most recent call last)",
      "Cell \u001b[1;32mIn [18], line 58\u001b[0m\n\u001b[0;32m     55\u001b[0m unit2 \u001b[38;5;241m=\u001b[39munit_manacost(\u001b[38;5;124m\"\u001b[39m\u001b[38;5;124m블리츠크랭크\u001b[39m\u001b[38;5;124m\"\u001b[39m,\u001b[38;5;241m1230\u001b[39m,\u001b[38;5;241m21\u001b[39m,\u001b[38;5;241m40\u001b[39m,\u001b[38;5;241m100\u001b[39m)\n\u001b[0;32m     56\u001b[0m unit3 \u001b[38;5;241m=\u001b[39munit(\u001b[38;5;124m\"\u001b[39m\u001b[38;5;124m잭스\u001b[39m\u001b[38;5;124m\"\u001b[39m,\u001b[38;5;241m1350\u001b[39m,\u001b[38;5;241m62\u001b[39m)\n\u001b[1;32m---> 58\u001b[0m \u001b[43munit1\u001b[49m\u001b[38;5;241;43m.\u001b[39;49m\u001b[43mattack\u001b[49m\u001b[43m(\u001b[49m\u001b[43m)\u001b[49m\n\u001b[0;32m     59\u001b[0m unit1\u001b[38;5;241m.\u001b[39mattack()\n\u001b[0;32m     60\u001b[0m unit3\u001b[38;5;241m.\u001b[39mattack()\n",
      "Cell \u001b[1;32mIn [18], line 35\u001b[0m, in \u001b[0;36munit_manacost.attack\u001b[1;34m(self)\u001b[0m\n\u001b[0;32m     33\u001b[0m \u001b[38;5;28;01mdef\u001b[39;00m \u001b[38;5;21mattack\u001b[39m(\u001b[38;5;28mself\u001b[39m):\n\u001b[1;32m---> 35\u001b[0m     \u001b[43munit\u001b[49m\u001b[38;5;241;43m.\u001b[39;49m\u001b[43mattack\u001b[49m\u001b[43m(\u001b[49m\u001b[38;5;28;43mself\u001b[39;49m\u001b[43m)\u001b[49m\u001b[38;5;66;03m#이것도 상속\u001b[39;00m\n\u001b[0;32m     36\u001b[0m     \u001b[38;5;28mself\u001b[39m\u001b[38;5;241m.\u001b[39mstartmana \u001b[38;5;241m+\u001b[39m\u001b[38;5;241m=\u001b[39m \u001b[38;5;241m10\u001b[39m\n\u001b[0;32m     38\u001b[0m     \u001b[38;5;28;01mif\u001b[39;00m(\u001b[38;5;28mself\u001b[39m\u001b[38;5;241m.\u001b[39mstartmana \u001b[38;5;241m>\u001b[39m\u001b[38;5;241m=\u001b[39m \u001b[38;5;28mself\u001b[39m\u001b[38;5;241m.\u001b[39msummana):\n",
      "Cell \u001b[1;32mIn [18], line 20\u001b[0m, in \u001b[0;36munit.attack\u001b[1;34m(self)\u001b[0m\n\u001b[0;32m     19\u001b[0m \u001b[38;5;28;01mdef\u001b[39;00m \u001b[38;5;21mattack\u001b[39m(\u001b[38;5;28mself\u001b[39m):\n\u001b[1;32m---> 20\u001b[0m     \u001b[38;5;28mprint\u001b[39m(\u001b[38;5;124m\"\u001b[39m\u001b[38;5;132;01m{0}\u001b[39;00m\u001b[38;5;124m의 공격! : 상대방이 \u001b[39m\u001b[38;5;132;01m{1}\u001b[39;00m\u001b[38;5;124m의 대미지를 받았습니다.\u001b[39m\u001b[38;5;124m\"\u001b[39m\u001b[38;5;241m.\u001b[39mformat(\u001b[38;5;28;43mself\u001b[39;49m\u001b[38;5;241;43m.\u001b[39;49m\u001b[43mname\u001b[49m,\u001b[38;5;28mself\u001b[39m\u001b[38;5;241m.\u001b[39mdamage))\n",
      "\u001b[1;31mAttributeError\u001b[0m: 'unit_manacost' object has no attribute 'name'"
     ]
    }
   ],
   "source": [
    "#롤토체스\n",
    "\n",
    "#클래스 : c언어로 따지면 구조체같은 느낌으로 보면 됨.\n",
    "#__init__ : 생성자 이 함수를 통하여 객체가 만들어 지며, 객체를 만들기 위해서는 __init__의 조건과 동일하게 해야 실행이 된다.\n",
    "# 객체 : __init__를 이용하여 만든 변수\n",
    "\n",
    "#기본스탯\n",
    "\n",
    "\n",
    "class unit:\n",
    "    def __init__(self,name,hp,damage):\n",
    "        self.name = name\n",
    "        self.hp = hp\n",
    "        self.damage = damage\n",
    "\n",
    "        print(\"{} 유닛을 배치했습니다.\".format(name))\n",
    "        print(\"체력 : {} , 공격력 : {}\\n\".format(hp,damage))\n",
    "\n",
    "    #공격()\n",
    "    def attack(self):\n",
    "        print(\"{0}의 공격! : 상대방이 {1}의 대미지를 받았습니다.\".format(self.name,self.damage))\n",
    "\n",
    "\n",
    "\n",
    "class unit_manacost(unit):\n",
    "\n",
    "    def __init__(self,name,hp,damage,startmana,summana):\n",
    "        #상속 : 부모 클래스(unit)에게서 물러받는 것 다른 클래스랑 겹친 것이 많을 경우에 사용하기 좋다.\n",
    "\n",
    "        unit.__init__(self,name,hp,damage)#상속\n",
    "        self.startmana = startmana\n",
    "        self.summana = summana\n",
    "\n",
    "    def attack(self):\n",
    "        \n",
    "        unit.attack(self)#이것도 상속\n",
    "        self.startmana += 10\n",
    "\n",
    "        if(self.startmana >= self.summana):\n",
    "            print(\"{0}의 스킬 발동! : 상대방이 {1}의 대미지를 추가로 받았습니다.\\n\"\\\n",
    "                .format(self.name,self.damage*2)) \n",
    "            \n",
    "\n",
    "#------------------------------------------------------------------------\n",
    "\n",
    "#게임시작\n",
    "print(\"롤토체스 게임이 시작되었습니다.\\n\")\n",
    "\n",
    "#유닛배치\n",
    "unit1 =unit_manacost(\"루시안\",720,35,20,40)\n",
    "unit2 =unit_manacost(\"블리츠크랭크\",1230,21,40,100)\n",
    "unit3 =unit(\"잭스\",1350,62)\n",
    "\n",
    "unit1.attack()\n",
    "unit1.attack()\n",
    "unit3.attack()\n",
    "\n"
   ]
  },
  {
   "attachments": {},
   "cell_type": "markdown",
   "metadata": {},
   "source": [
    "클래스,__init__,상속"
   ]
  },
  {
   "cell_type": "code",
   "execution_count": 24,
   "metadata": {},
   "outputs": [],
   "source": [
    "class apartment:\n",
    "    def __init__(self,money):\n",
    "        \n",
    "        self.money = int(money)\n",
    "\n",
    "    def buy(self):\n",
    "\n",
    "        pass#넘어가기\n",
    "        print(\"돈을 소비하여 아파트를 구매!\\n\")\n",
    "\n",
    "\n",
    "people1 = apartment(input())\n",
    "\n",
    "people1.buy()\n",
    "\n",
    "\n"
   ]
  },
  {
   "attachments": {},
   "cell_type": "markdown",
   "metadata": {},
   "source": [
    "pass"
   ]
  },
  {
   "cell_type": "code",
   "execution_count": 17,
   "metadata": {},
   "outputs": [
    {
     "name": "stdout",
     "output_type": "stream",
     "text": [
      "계산기 실행중~\n",
      "1111111111111111111111111111111111111111111111111111111111111111111111111111111111111111111111111111111111111111111111111111111111111111 / 1111111111111111111111111111111111111111111111111111111111111111111111111111111111111111111111111111111111111111111111111111 = 1000000000000.0 입니다!\n"
     ]
    }
   ],
   "source": [
    "print(\"계산기 실행중~\")\n",
    "\n",
    "#try ~ except 실행후 발생하는 에러를 다음과 같이 오류메세지를 직접 바꿔서 출력가능\n",
    "#try 안에서 발생하는 문제만 가능하다.\n",
    "\n",
    "\n",
    "try:\n",
    "    number1,number2 = map(int,(input(\"나눌 두 수를 입력해주세요. : \").split()))\n",
    "    \n",
    "    print(\"{0} / {1} = {2} 입니다!\".format(number1,number2,number1/number2))\n",
    "\n",
    "except ValueError:#오류 종류를 적어도 되고 모르면 안적어도 된다 \n",
    "    print(\"값이 잘못됬는데? 다시 확인좀\")    \n",
    "\n",
    "except ZeroDivisionError:\n",
    "    print(\"0을 나눈다는게 말이 되니?\")\n",
    "\n",
    "except:\n",
    "    print(\"이 오류는 나도 몰루?\")"
   ]
  },
  {
   "attachments": {},
   "cell_type": "markdown",
   "metadata": {},
   "source": [
    "try~except\n"
   ]
  },
  {
   "cell_type": "code",
   "execution_count": 3,
   "metadata": {},
   "outputs": [
    {
     "name": "stdout",
     "output_type": "stream",
     "text": [
      "1\n",
      "!\n",
      "w\n"
     ]
    }
   ],
   "source": [
    "a = [3,1,2,3,4,1,1,2]\n",
    "\n",
    "row = min(a)#리스트에 있는 n개의 갯수를 바교하여 최솟값을 찾는다.\n",
    "\n",
    "print(row)\n",
    "\n",
    "print(min(\"hello_world!\"))#문자열 또한 가능하다.(사전순으로)\n",
    "\n",
    "print(max(\"hello_world!\"))#맥스는 최댓값을 찾는다.\n",
    "\n",
    "b = [3,1,2,\"아\",\"이\",\"고\"]\n",
    "\n",
    "#print(min(\"b\"))#타입이 다르면 비교불가.\n",
    "\n"
   ]
  },
  {
   "attachments": {},
   "cell_type": "markdown",
   "metadata": {},
   "source": [
    "min,max 함수"
   ]
  },
  {
   "cell_type": "code",
   "execution_count": 23,
   "metadata": {},
   "outputs": [
    {
     "name": "stdout",
     "output_type": "stream",
     "text": [
      "4\n",
      "2\n",
      "__main__\n"
     ]
    }
   ],
   "source": [
    "#모듈\n",
    "def add(a,b):\n",
    "    return print(a+b)\n",
    "\n",
    "def sub(a,b):\n",
    "    return print(a-b)\n",
    "\n",
    "a,b = map(int,input().split())\n",
    "add(3,1)\n",
    "sub(3,1)\n",
    "\n",
    "print(__name__)"
   ]
  },
  {
   "cell_type": "markdown",
   "metadata": {},
   "source": [
    "모듈\n"
   ]
  },
  {
   "cell_type": "code",
   "execution_count": 30,
   "metadata": {},
   "outputs": [
    {
     "name": "stdout",
     "output_type": "stream",
     "text": [
      "re.compile('[a-z]+')\n",
      "None\n",
      "(0, 6)\n",
      "<re.Match object; span=(2, 5), match='pay'>\n",
      "['last', 'dance']\n"
     ]
    }
   ],
   "source": [
    "import re\n",
    "\n",
    "#정규 표현식에서는 메타표현식이라는 것을 사용\n",
    "\n",
    "#? 메타표현식?  :원래 그 문자가 가진 뜻이 아닌 다른 특별한 의미를 가진 문자를 말함\n",
    "\n",
    "# 문자 클래스 []\n",
    "\n",
    "\"\"\"\n",
    "[] = [] 사이의 문자들과 매치\n",
    "\n",
    "ex) [abc] 일때 before  = 정규식과 일치하는 문자 'b'가 있으므로 매치가 됨\n",
    "\n",
    "    dude 는 a~c 중 매치되는 문자가 없으므로 매치가 안됨\n",
    "\"\"\"\n",
    "\n",
    "#dot(.) : 줄바꿈\\n 을 제외한 모든 문자랑 매치\n",
    "# \n",
    "# ex ) a.b  = a와 b 사이에 있는 문자를 줄바꿈을 제외한 모든 문자을 매치 해본다.\n",
    "\n",
    "#반복 *, + 는  해당 문자가 몇번 반복되는지\n",
    "\n",
    "#반복{m,n} 해당 문자가 최소 m번 최대 n번 반복되는 지\n",
    "\n",
    "\n",
    "#----------------------------------------------------------------------------------\n",
    "\n",
    "# match 문자열이 정규식가 매치가 되는 지 확인\n",
    "\n",
    "#정규식 세우기\n",
    "p = re.compile(\"[a-z]+\")# a-z까지 몇번 반복되는 지\n",
    "r = p.match(\"python\")#문자열\n",
    "\n",
    "print(p)\n",
    "\n",
    "z = p.match(\"3 pay\")#처음 부터 문자열 이랑 매치하는데 만약 조건에 부합하지 않으면 끝난다.\n",
    "print(z)\n",
    "\n",
    "#match 객체의 메서드 \n",
    "\"\"\"\n",
    "- group  매치된 문자열 리턴\n",
    "- start  매치된 문자열 첫글자 리턴\n",
    "- end    매치된 문자열의 끝부분 리턴\n",
    "- span   튜플 리턴\n",
    "\"\"\"\n",
    "print(r.span())\n",
    "\n",
    "z = p.search(\"3 pay\")# 매치와 다르게 서치는 처음이 안되더라도 뒤에 되면 작동이 됨\n",
    "print(z)\n",
    "\n",
    "\n",
    "find = p.findall(\"last dance\") # findall은 매치되는 것을 리스트로 변환시킨다.\n",
    "print(find)\n",
    "\n",
    "#"
   ]
  },
  {
   "cell_type": "markdown",
   "metadata": {},
   "source": [
    "정규표현식"
   ]
  },
  {
   "cell_type": "code",
   "execution_count": 31,
   "metadata": {},
   "outputs": [
    {
     "name": "stdout",
     "output_type": "stream",
     "text": [
      "<re.Match object; span=(0, 3), match='a\\nz'>\n"
     ]
    }
   ],
   "source": [
    "#2.\n",
    "\n",
    "# 컴파일 옵션\n",
    "\n",
    "\n",
    "\"\"\"\n",
    "dotall() = dot이 줄바꿈 문자를 포함하여 매치함 \n",
    "ignorecase(i) = 대소문자 관계없이 매치\n",
    "multiline(m) = 여려줄과 매치\n",
    "verbose() =verbose 모드로 전환\n",
    "\"\"\"\n",
    "#줄바꿈 문자를 포함하여 매치\n",
    "p  = re.compile(\"a.z\",re.DOTALL) # 따른 컴파일 옵션도 다 똑같음\n",
    "\n",
    "ch = p.match(\"a\\nz\")\n",
    "\n",
    "print(ch)\n"
   ]
  },
  {
   "cell_type": "markdown",
   "metadata": {},
   "source": [
    "컴파일 옵션"
   ]
  },
  {
   "cell_type": "code",
   "execution_count": 3,
   "metadata": {},
   "outputs": [
    {
     "name": "stdout",
     "output_type": "stream",
     "text": [
      "1\n",
      "2\n",
      "3\n"
     ]
    }
   ],
   "source": [
    "def DFS(num, ch):\n",
    "    global value, number\n",
    "\n",
    "    # 1부터 number까지 for문을 돌려서 수열 찾기\n",
    "    if num > number:  # base case: 수열이 완성되면 출력\n",
    "        print(\" \".join(map(str, ch)))\n",
    "        return\n",
    "\n",
    "    for i in range(1, value + 1):\n",
    "        if i not in ch:  # 중복 확인\n",
    "            DFS(num + 1, ch + [i])  # 새로운 리스트 생성 (백트래킹 자동 처리)\n",
    "\n",
    "# 메인 함수\n",
    "value, number = map(int, input().split())\n",
    "DFS(1, [])\n"
   ]
  }
 ],
 "metadata": {
  "kernelspec": {
   "display_name": "Python 3",
   "language": "python",
   "name": "python3"
  },
  "language_info": {
   "codemirror_mode": {
    "name": "ipython",
    "version": 3
   },
   "file_extension": ".py",
   "mimetype": "text/x-python",
   "name": "python",
   "nbconvert_exporter": "python",
   "pygments_lexer": "ipython3",
   "version": "3.10.1"
  },
  "orig_nbformat": 4,
  "vscode": {
   "interpreter": {
    "hash": "df95319d8ce4e1d89f5365ae10992bc1f65da593082b1d264e8f529830ec2f02"
   }
  }
 },
 "nbformat": 4,
 "nbformat_minor": 2
}
