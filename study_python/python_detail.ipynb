{
 "cells": [
  {
   "cell_type": "code",
   "execution_count": 13,
   "metadata": {},
   "outputs": [
    {
     "name": "stdout",
     "output_type": "stream",
     "text": [
      "2\n",
      "2 3\n"
     ]
    }
   ],
   "source": [
    "\"\"\"\n",
    "약점 1. 언패킹\n",
    "\"\"\"\n",
    "# 문제점 1\n",
    "from collections import deque\n",
    "\n",
    "p = [2, 3]  # 초기 좌표\n",
    "deques = deque((p))  # 잘못된 코드!\n",
    "\n",
    "ans = deques.popleft()# popleft를 하면 요소 한개가 빠짐 각각으로 들어갔으니 2만빠져나가게 됨\n",
    "print(ans)\n",
    "\n",
    "# 왜?\n",
    "\"\"\"\n",
    "위와 같은 코드를 실행하게 되면 deque([2,3]) 이 나오게 되는데\n",
    "\n",
    "이는 리스트 [2,3]이 한개의 요소로 보지 않고 개별로 쪼개져서 넣어진 상태이다.\n",
    "\n",
    "왜 tuple 기능중 하나가 2개이상의 요소들을 하나로 묶는 거지않나?\n",
    "\n",
    "맞긴하다 하지만 위에 코드에 있는 deque()의 특성때문인데\n",
    "\n",
    "deque()는 반복가능한(iterable) 객체를 받아 그 내부 원소들을 하나씩 받는 구조이다.\n",
    "\n",
    "하.나.씩 즉 위처럼 하나씩 받기 떄문에 deque((p))를 선언시 ()의 기능은 정상적으로 하나\n",
    "\n",
    "deque() 의 기능에 의해 이 (p)가 풀어져서 각 개별로 쪼개져 들어가게 된 것이다.\n",
    "\n",
    "\"\"\"\n",
    "\n",
    "#해결법\n",
    "\n",
    "P = [2,3] # 초기좌표\n",
    "\n",
    "deques = deque([p]) # 이렇게 되면 [2,3] 이 하나의 요소로 취급\n",
    "\n",
    "y,x = deques.popleft()\n",
    "\n",
    "print(y,x)\n"
   ]
  },
  {
   "cell_type": "code",
   "execution_count": null,
   "metadata": {},
   "outputs": [],
   "source": [
    "\"\"\"\n",
    "약점 2. 문자열 상쇄\n",
    "\"\"\""
   ]
  }
 ],
 "metadata": {
  "kernelspec": {
   "display_name": "Python 3",
   "language": "python",
   "name": "python3"
  },
  "language_info": {
   "codemirror_mode": {
    "name": "ipython",
    "version": 3
   },
   "file_extension": ".py",
   "mimetype": "text/x-python",
   "name": "python",
   "nbconvert_exporter": "python",
   "pygments_lexer": "ipython3",
   "version": "3.10.1"
  }
 },
 "nbformat": 4,
 "nbformat_minor": 2
}
