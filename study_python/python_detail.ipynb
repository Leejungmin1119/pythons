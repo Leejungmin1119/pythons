{
 "cells": [
  {
   "cell_type": "code",
   "execution_count": null,
   "metadata": {},
   "outputs": [],
   "source": [
    "\"\"\"분리 집합 알고리즘\n",
    "\n",
    "서로 다른 집합을 효율적으로 다루기 위한 알고리즘을 뜻한다. \n",
    "\n",
    "-주로 그래프와 연결된 컨포넌트을 찾을때 사용된다.\n",
    "\n",
    "* 컨포넌트 : 재사용이 가능한 각각의 독립된 모듈\n",
    "\n",
    "\n",
    "연산 방식\n",
    "\n",
    "Find 연산: 특정 원소가 속한 집합을 찾음.(찾기)\n",
    "Union 연산: 두 개의 집합을 하나의 집합으로 합침.(합치기)\n",
    "Path Compression : Find를 빨리 하기 위해서 트리의 깊이를 줄이는 기법(경로 압축)\n",
    "\n",
    "\"\"\"\n",
    "\n",
    "# 예제 문제 : 두 원소가 같은 집합에 속하는지 확인하는 문제\n",
    "\n",
    "import sys\n",
    "# find 연산\n",
    "def find(x):\n",
    "    if parent[x] != x:# 부모노드인지 아닌지 확인한다. (부모노드 = index 위치값과 그 값이 같다 , 아니면 index 위치 값이 자기자신의 부모노드를 가리킨다.)\n",
    "        parent[x] = find(parent[x])  # 경로 압축\n",
    "    return parent[x]# return\n",
    "\n",
    "# Union 연산  \n",
    "def union(a, b):\n",
    "    # find 연산을 이용하여 부모노드를 찾는다.\n",
    "    rootA = find(a)\n",
    "    rootB = find(b)\n",
    "    # 만약 찾은 부모노드가 다르다면 크기가 큰 트리에다가 크기가 작은 노드를 붙인다. (index 위치값이 같아짐)\n",
    "    if rootA != rootB:\n",
    "        parent[rootB] = rootA  # 작은 트리를 큰 트리에 붙이기\n",
    "\n",
    "# 입력 처리\n",
    "n, m = map(int, sys.stdin.readline().split())\n",
    "parent = [i for i in range(n + 1)]\n",
    "\n",
    "\n",
    "for _ in range(m):\n",
    "    op, a, b = map(int, sys.stdin.readline().split())\n",
    "    \n",
    "    # index 위치값이 같은지 확인하기\n",
    "    if op == 0:\n",
    "        union(a, b)\n",
    "    elif op == 1:\n",
    "        print(\"YES\" if find(a) == find(b) else \"NO\")\n",
    "    \n",
    "\n",
    "    "
   ]
  }
 ],
 "metadata": {
  "kernelspec": {
   "display_name": "Python 3",
   "language": "python",
   "name": "python3"
  },
  "language_info": {
   "codemirror_mode": {
    "name": "ipython",
    "version": 3
   },
   "file_extension": ".py",
   "mimetype": "text/x-python",
   "name": "python",
   "nbconvert_exporter": "python",
   "pygments_lexer": "ipython3",
   "version": "3.11.9"
  }
 },
 "nbformat": 4,
 "nbformat_minor": 2
}
